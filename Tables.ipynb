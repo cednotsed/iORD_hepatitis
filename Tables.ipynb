{
 "cells": [
  {
   "cell_type": "code",
   "execution_count": 1,
   "id": "17f3f70e",
   "metadata": {
    "scrolled": true
   },
   "outputs": [
    {
     "name": "stderr",
     "output_type": "stream",
     "text": [
      "Loading required package: tidyverse\n",
      "\n",
      "── \u001b[1mAttaching core tidyverse packages\u001b[22m ──────────────────────────────────────────────────────────────────────────────────────── tidyverse 2.0.0 ──\n",
      "\u001b[32m✔\u001b[39m \u001b[34mdplyr    \u001b[39m 1.1.3     \u001b[32m✔\u001b[39m \u001b[34mreadr    \u001b[39m 2.1.4\n",
      "\u001b[32m✔\u001b[39m \u001b[34mforcats  \u001b[39m 1.0.0     \u001b[32m✔\u001b[39m \u001b[34mstringr  \u001b[39m 1.5.0\n",
      "\u001b[32m✔\u001b[39m \u001b[34mggplot2  \u001b[39m 3.4.4     \u001b[32m✔\u001b[39m \u001b[34mtibble   \u001b[39m 3.2.1\n",
      "\u001b[32m✔\u001b[39m \u001b[34mlubridate\u001b[39m 1.9.3     \u001b[32m✔\u001b[39m \u001b[34mtidyr    \u001b[39m 1.3.0\n",
      "\u001b[32m✔\u001b[39m \u001b[34mpurrr    \u001b[39m 1.0.2     \n",
      "── \u001b[1mConflicts\u001b[22m ────────────────────────────────────────────────────────────────────────────────────────────────────────── tidyverse_conflicts() ──\n",
      "\u001b[31m✖\u001b[39m \u001b[34mdplyr\u001b[39m::\u001b[32mfilter()\u001b[39m masks \u001b[34mstats\u001b[39m::filter()\n",
      "\u001b[31m✖\u001b[39m \u001b[34mdplyr\u001b[39m::\u001b[32mlag()\u001b[39m    masks \u001b[34mstats\u001b[39m::lag()\n",
      "\u001b[36mℹ\u001b[39m Use the conflicted package (\u001b[3m\u001b[34m<http://conflicted.r-lib.org/>\u001b[39m\u001b[23m) to force all conflicts to become errors\n",
      "Loading required package: data.table\n",
      "\n",
      "\n",
      "Attaching package: ‘data.table’\n",
      "\n",
      "\n",
      "The following objects are masked from ‘package:lubridate’:\n",
      "\n",
      "    hour, isoweek, mday, minute, month, quarter, second, wday, week,\n",
      "    yday, year\n",
      "\n",
      "\n",
      "The following objects are masked from ‘package:dplyr’:\n",
      "\n",
      "    between, first, last\n",
      "\n",
      "\n",
      "The following object is masked from ‘package:purrr’:\n",
      "\n",
      "    transpose\n",
      "\n",
      "\n",
      "Loading required package: foreach\n",
      "\n",
      "\n",
      "Attaching package: ‘foreach’\n",
      "\n",
      "\n",
      "The following objects are masked from ‘package:purrr’:\n",
      "\n",
      "    accumulate, when\n",
      "\n",
      "\n",
      "Loading required package: doParallel\n",
      "\n",
      "Loading required package: iterators\n",
      "\n",
      "Loading required package: parallel\n",
      "\n",
      "Loading required package: funtimes\n",
      "\n",
      "Loading required package: tidyquant\n",
      "\n",
      "Loading required package: PerformanceAnalytics\n",
      "\n",
      "Loading required package: xts\n",
      "\n",
      "Loading required package: zoo\n",
      "\n",
      "\n",
      "Attaching package: ‘zoo’\n",
      "\n",
      "\n",
      "The following objects are masked from ‘package:base’:\n",
      "\n",
      "    as.Date, as.Date.numeric\n",
      "\n",
      "\n",
      "\n",
      "######################### Warning from 'xts' package ##########################\n",
      "#                                                                             #\n",
      "# The dplyr lag() function breaks how base R's lag() function is supposed to  #\n",
      "# work, which breaks lag(my_xts). Calls to lag(my_xts) that you type or       #\n",
      "# source() into this session won't work correctly.                            #\n",
      "#                                                                             #\n",
      "# Use stats::lag() to make sure you're not using dplyr::lag(), or you can add #\n",
      "# conflictRules('dplyr', exclude = 'lag') to your .Rprofile to stop           #\n",
      "# dplyr from breaking base R's lag() function.                                #\n",
      "#                                                                             #\n",
      "# Code in packages is not affected. It's protected by R's namespace mechanism #\n",
      "# Set `options(xts.warn_dplyr_breaks_lag = FALSE)` to suppress this warning.  #\n",
      "#                                                                             #\n",
      "###############################################################################\n",
      "\n",
      "\n",
      "Attaching package: ‘xts’\n",
      "\n",
      "\n",
      "The following objects are masked from ‘package:data.table’:\n",
      "\n",
      "    first, last\n",
      "\n",
      "\n",
      "The following objects are masked from ‘package:dplyr’:\n",
      "\n",
      "    first, last\n",
      "\n",
      "\n",
      "\n",
      "Attaching package: ‘PerformanceAnalytics’\n",
      "\n",
      "\n",
      "The following object is masked from ‘package:graphics’:\n",
      "\n",
      "    legend\n",
      "\n",
      "\n",
      "Loading required package: quantmod\n",
      "\n",
      "Loading required package: TTR\n",
      "\n",
      "Registered S3 method overwritten by 'quantmod':\n",
      "  method            from\n",
      "  as.zoo.data.frame zoo \n",
      "\n"
     ]
    }
   ],
   "source": [
    "rm(list = ls())\n",
    "setwd(\"/mnt/c/git_repos/iORD_hepatitis/\")\n",
    "require(tidyverse)\n",
    "require(data.table)\n",
    "require(lubridate)\n",
    "require(foreach)\n",
    "require(doParallel)\n",
    "require(funtimes)\n",
    "require(tidyquant)"
   ]
  },
  {
   "cell_type": "markdown",
   "id": "4785dc90",
   "metadata": {},
   "source": [
    "### Load data"
   ]
  },
  {
   "cell_type": "code",
   "execution_count": 2,
   "id": "0b5a0c70",
   "metadata": {},
   "outputs": [
    {
     "name": "stderr",
     "output_type": "stream",
     "text": [
      "\u001b[1m\u001b[22mJoining with `by = join_by(ClusterID, AttendanceStartDate)`\n",
      "Warning message in left_join(., age_df):\n",
      "“\u001b[1m\u001b[22mDetected an unexpected many-to-many relationship between `x` and `y`.\n",
      "\u001b[36mℹ\u001b[39m Row 42 of `x` matches multiple rows in `y`.\n",
      "\u001b[36mℹ\u001b[39m Row 170136 of `y` matches multiple rows in `x`.\n",
      "\u001b[36mℹ\u001b[39m If a many-to-many relationship is expected, set `relationship = \"many-to-many\"` to silence this warning.”\n",
      "Warning message:\n",
      "“\u001b[1m\u001b[22mThere was 1 warning in `mutate()`.\n",
      "\u001b[1m\u001b[22m\u001b[36mℹ\u001b[39m In argument: `ULN = as.numeric(ULN)`.\n",
      "Caused by warning:\n",
      "\u001b[33m!\u001b[39m NAs introduced by coercion”\n",
      "Warning message:\n",
      "“\u001b[1m\u001b[22mThere was 1 warning in `mutate()`.\n",
      "\u001b[1m\u001b[22m\u001b[36mℹ\u001b[39m In argument: `Value = as.numeric(Value)`.\n",
      "Caused by warning:\n",
      "\u001b[33m!\u001b[39m NAs introduced by coercion”\n",
      "\u001b[1m\u001b[22mJoining with `by = join_by(ClusterID, SpellID)`\n",
      "Warning message in left_join(., fread(\"data/IORD_ASHep-UE_34_20230120_InpatientSpells.csv\")):\n",
      "“\u001b[1m\u001b[22mDetected an unexpected many-to-many relationship between `x` and `y`.\n",
      "\u001b[36mℹ\u001b[39m Row 148 of `x` matches multiple rows in `y`.\n",
      "\u001b[36mℹ\u001b[39m Row 131747 of `y` matches multiple rows in `x`.\n",
      "\u001b[36mℹ\u001b[39m If a many-to-many relationship is expected, set `relationship = \"many-to-many\"` to silence this warning.”\n",
      "\u001b[1m\u001b[22mJoining with `by = join_by(ClusterID, AttendanceStartDate)`\n",
      "Warning message in left_join(., age_df):\n",
      "“\u001b[1m\u001b[22mDetected an unexpected many-to-many relationship between `x` and `y`.\n",
      "\u001b[36mℹ\u001b[39m Row 171 of `x` matches multiple rows in `y`.\n",
      "\u001b[36mℹ\u001b[39m Row 125173 of `y` matches multiple rows in `x`.\n",
      "\u001b[36mℹ\u001b[39m If a many-to-many relationship is expected, set `relationship = \"many-to-many\"` to silence this warning.”\n"
     ]
    }
   ],
   "source": [
    "df <- fread(\"data/IORD_ASHep-UE_34_20230120_LIMS.csv\") %>%\n",
    "    mutate(AttendanceStartDate = as.Date(AttendanceStartDate),\n",
    "           CollectionDateTime = as.Date(CollectionDateTime)) %>%\n",
    "    filter(AttendanceStartDate < as.Date(\"2023-01-01\"))\n",
    "\n",
    "age_df <- fread(\"data/IORD_ASHep-UE_34_20230120_Attendances.csv\") %>%\n",
    "    filter(AttendanceStartDate < as.Date(\"2023-01-01\")) %>%\n",
    "    mutate(AttendanceStartDate = as.Date(AttendanceStartDate),\n",
    "           AttendanceEndDate = as.Date(AttendanceEndDate),\n",
    "           LinkedBirthmonth = as.Date(LinkedBirthmonth)) %>%\n",
    "    mutate(AttendanceMonth = cut(AttendanceStartDate, breaks = \"month\"),\n",
    "           AttendanceTwoMonth = cut(AttendanceStartDate, breaks = \"2 months\")) %>%\n",
    "    mutate(AttendanceMonth = as.Date(AttendanceMonth),\n",
    "           AttendanceTwoMonth = as.Date(AttendanceTwoMonth)) %>%\n",
    "    mutate(age_upon_presentation = time_length(AttendanceStartDate -\n",
    "                                               LinkedBirthmonth, \"year\")) %>%\n",
    "    mutate(age_upon_presentation = floor(age_upon_presentation)) %>% \n",
    "    mutate(age_group = case_when(age_upon_presentation < 7 ~ \"<7\",\n",
    "                                 age_upon_presentation >= 6 & age_upon_presentation <= 15 ~ \"7-15\",\n",
    "                                 age_upon_presentation >= 16 ~ \">15\")) %>%\n",
    "    arrange(AttendanceStartDate)\n",
    "\n",
    "month_df <- df %>%\n",
    "    mutate(CollectionMonth = cut(CollectionDateTime, breaks = \"month\")) %>%\n",
    "    mutate(CollectionTwoMonths = cut(CollectionDateTime, breaks = \"2 months\")) %>%\n",
    "    mutate(CollectionMonth = as.Date(CollectionMonth),\n",
    "           CollectionTwoMonths = as.Date(CollectionTwoMonths)) %>%\n",
    "    left_join(age_df) %>%\n",
    "    arrange(AttendanceStartDate)\n",
    "\n",
    "admission_df <- fread(\"data/IORD_ASHep-UE_34_20230120_InpatientSpells.csv\") %>%\n",
    "    filter(AttendanceStartDate < as.Date(\"2023-01-01\")) %>%\n",
    "    mutate(AttendanceStartDate = as.Date(AttendanceStartDate))\n",
    "\n",
    "test_df <- fread(\"data/IORD_ASHep-UE_34_20230120_LIMS.csv\") %>%\n",
    "    mutate(CollectionDateTime = as.Date(CollectionDateTime),\n",
    "           AttendanceStartDate = as.Date(AttendanceStartDate)) %>%\n",
    "    filter(AttendanceStartDate < as.Date(\"2023-01-01\"))\n",
    "\n",
    "test_parsed <- test_df %>%\n",
    "    distinct(ClusterID, AttendanceStartDate, TestName, .keep_all = T) %>%\n",
    "    separate(RefRange, into = c(\"LLN\", \"ULN\"), sep = \"-\") %>%\n",
    "    mutate(ULN = as.numeric(ULN)) %>%\n",
    "    select(-CollectionDateTime, -ReceiveDateTime) %>%\n",
    "    mutate(Value = as.numeric(Value)) %>%\n",
    "    mutate(Value = ifelse(is.na(Value), 0, Value)) %>%\n",
    "    mutate(value_class = case_when(Value <= ULN ~ \"Normal <= ULN\",\n",
    "                                 Value > ULN & Value <= 2 * ULN ~ \"Mild (1-2x ULN)\",\n",
    "                                 Value > 2 * ULN & Value <= 5 * ULN  ~ \"Moderate (2-5x ULN)\",\n",
    "                                 Value > 5 * ULN ~ \"Severe (>5x ULN)\")) %>%\n",
    "    mutate(value_class = factor(value_class, c(\"Normal <= ULN\", \n",
    "                                               \"Mild (1-2x ULN)\", \n",
    "                                               \"Moderate (2-5x ULN)\",\n",
    "                                               \"Severe (>5x ULN)\"))) \n",
    "\n",
    "diag_df <- fread(\"data/IORD_ASHep-UE_34_20230120_DiagnosisCodes.csv\") %>%\n",
    "    left_join(fread(\"data/IORD_ASHep-UE_34_20230120_InpatientSpells.csv\")) %>%\n",
    "    mutate(AttendanceStartDate = as.Date(AttendanceStartDate)) %>%\n",
    "    left_join(age_df) %>%\n",
    "    mutate(age_upon_presentation = floor(age_upon_presentation)) %>% \n",
    "    mutate(age_group = case_when(age_upon_presentation < 7 ~ \"<7\",\n",
    "                                 age_upon_presentation >= 6 & age_upon_presentation <= 15 ~ \"7-15\",\n",
    "                                 age_upon_presentation >= 16 ~ \">15\")) %>%\n",
    "    mutate(AttendanceMonth = cut(AttendanceStartDate, breaks = \"month\"),\n",
    "           AttendanceTwoMonth = cut(AttendanceStartDate, breaks = \"2 months\")) %>%\n",
    "    mutate(AttendanceMonth = as.Date(AttendanceMonth),\n",
    "           AttendanceTwoMonth = as.Date(AttendanceTwoMonth)) %>%\n",
    "    arrange(AttendanceMonth) %>%\n",
    "    distinct(ClusterID, AttendanceStartDate, DiagCode)"
   ]
  },
  {
   "cell_type": "markdown",
   "id": "6cd1dbec",
   "metadata": {},
   "source": [
    "### Dataset range"
   ]
  },
  {
   "cell_type": "code",
   "execution_count": 3,
   "id": "eac4cb5f",
   "metadata": {},
   "outputs": [
    {
     "data": {
      "text/html": [
       "903433"
      ],
      "text/latex": [
       "903433"
      ],
      "text/markdown": [
       "903433"
      ],
      "text/plain": [
       "[1] 903433"
      ]
     },
     "metadata": {},
     "output_type": "display_data"
    },
    {
     "data": {
      "text/html": [
       "<table class=\"dataframe\">\n",
       "<caption>A tibble: 4 × 2</caption>\n",
       "<thead>\n",
       "\t<tr><th scope=col>LinkedSex</th><th scope=col>n</th></tr>\n",
       "\t<tr><th scope=col>&lt;chr&gt;</th><th scope=col>&lt;int&gt;</th></tr>\n",
       "</thead>\n",
       "<tbody>\n",
       "\t<tr><td>F</td><td>461632</td></tr>\n",
       "\t<tr><td>I</td><td>    16</td></tr>\n",
       "\t<tr><td>M</td><td>441780</td></tr>\n",
       "\t<tr><td>U</td><td>     5</td></tr>\n",
       "</tbody>\n",
       "</table>\n"
      ],
      "text/latex": [
       "A tibble: 4 × 2\n",
       "\\begin{tabular}{ll}\n",
       " LinkedSex & n\\\\\n",
       " <chr> & <int>\\\\\n",
       "\\hline\n",
       "\t F & 461632\\\\\n",
       "\t I &     16\\\\\n",
       "\t M & 441780\\\\\n",
       "\t U &      5\\\\\n",
       "\\end{tabular}\n"
      ],
      "text/markdown": [
       "\n",
       "A tibble: 4 × 2\n",
       "\n",
       "| LinkedSex &lt;chr&gt; | n &lt;int&gt; |\n",
       "|---|---|\n",
       "| F | 461632 |\n",
       "| I |     16 |\n",
       "| M | 441780 |\n",
       "| U |      5 |\n",
       "\n"
      ],
      "text/plain": [
       "  LinkedSex n     \n",
       "1 F         461632\n",
       "2 I             16\n",
       "3 M         441780\n",
       "4 U              5"
      ]
     },
     "metadata": {},
     "output_type": "display_data"
    },
    {
     "name": "stderr",
     "output_type": "stream",
     "text": [
      "\u001b[1m\u001b[22m`summarise()` has grouped output by 'LinkedSex'. You can override using the `.groups` argument.\n",
      "\u001b[1m\u001b[22mJoining with `by = join_by(age_group)`\n"
     ]
    },
    {
     "data": {
      "text/html": [
       "<table class=\"dataframe\">\n",
       "<caption>A grouped_df: 9 × 5</caption>\n",
       "<thead>\n",
       "\t<tr><th scope=col>LinkedSex</th><th scope=col>age_group</th><th scope=col>n</th><th scope=col>n_total</th><th scope=col>prop</th></tr>\n",
       "\t<tr><th scope=col>&lt;chr&gt;</th><th scope=col>&lt;chr&gt;</th><th scope=col>&lt;int&gt;</th><th scope=col>&lt;int&gt;</th><th scope=col>&lt;dbl&gt;</th></tr>\n",
       "</thead>\n",
       "<tbody>\n",
       "\t<tr><td>F</td><td>7-15</td><td> 39498</td><td> 86217</td><td>45.81</td></tr>\n",
       "\t<tr><td>F</td><td><span style=white-space:pre-wrap>&lt;7  </span></td><td> 30446</td><td> 70962</td><td>42.90</td></tr>\n",
       "\t<tr><td>F</td><td>&gt;15 </td><td>391688</td><td>746254</td><td>52.49</td></tr>\n",
       "\t<tr><td>I</td><td>7-15</td><td>     4</td><td> 86217</td><td> 0.00</td></tr>\n",
       "\t<tr><td>I</td><td>&gt;15 </td><td><span style=white-space:pre-wrap>    12</span></td><td>746254</td><td> 0.00</td></tr>\n",
       "\t<tr><td>M</td><td>7-15</td><td> 46715</td><td> 86217</td><td>54.18</td></tr>\n",
       "\t<tr><td>M</td><td><span style=white-space:pre-wrap>&lt;7  </span></td><td> 40516</td><td> 70962</td><td>57.10</td></tr>\n",
       "\t<tr><td>M</td><td>&gt;15 </td><td>354549</td><td>746254</td><td>47.51</td></tr>\n",
       "\t<tr><td>U</td><td>&gt;15 </td><td><span style=white-space:pre-wrap>     5</span></td><td>746254</td><td> 0.00</td></tr>\n",
       "</tbody>\n",
       "</table>\n"
      ],
      "text/latex": [
       "A grouped\\_df: 9 × 5\n",
       "\\begin{tabular}{lllll}\n",
       " LinkedSex & age\\_group & n & n\\_total & prop\\\\\n",
       " <chr> & <chr> & <int> & <int> & <dbl>\\\\\n",
       "\\hline\n",
       "\t F & 7-15 &  39498 &  86217 & 45.81\\\\\n",
       "\t F & <7   &  30446 &  70962 & 42.90\\\\\n",
       "\t F & >15  & 391688 & 746254 & 52.49\\\\\n",
       "\t I & 7-15 &      4 &  86217 &  0.00\\\\\n",
       "\t I & >15  &     12 & 746254 &  0.00\\\\\n",
       "\t M & 7-15 &  46715 &  86217 & 54.18\\\\\n",
       "\t M & <7   &  40516 &  70962 & 57.10\\\\\n",
       "\t M & >15  & 354549 & 746254 & 47.51\\\\\n",
       "\t U & >15  &      5 & 746254 &  0.00\\\\\n",
       "\\end{tabular}\n"
      ],
      "text/markdown": [
       "\n",
       "A grouped_df: 9 × 5\n",
       "\n",
       "| LinkedSex &lt;chr&gt; | age_group &lt;chr&gt; | n &lt;int&gt; | n_total &lt;int&gt; | prop &lt;dbl&gt; |\n",
       "|---|---|---|---|---|\n",
       "| F | 7-15 |  39498 |  86217 | 45.81 |\n",
       "| F | &lt;7   |  30446 |  70962 | 42.90 |\n",
       "| F | &gt;15  | 391688 | 746254 | 52.49 |\n",
       "| I | 7-15 |      4 |  86217 |  0.00 |\n",
       "| I | &gt;15  |     12 | 746254 |  0.00 |\n",
       "| M | 7-15 |  46715 |  86217 | 54.18 |\n",
       "| M | &lt;7   |  40516 |  70962 | 57.10 |\n",
       "| M | &gt;15  | 354549 | 746254 | 47.51 |\n",
       "| U | &gt;15  |      5 | 746254 |  0.00 |\n",
       "\n"
      ],
      "text/plain": [
       "  LinkedSex age_group n      n_total prop \n",
       "1 F         7-15       39498  86217  45.81\n",
       "2 F         <7         30446  70962  42.90\n",
       "3 F         >15       391688 746254  52.49\n",
       "4 I         7-15           4  86217   0.00\n",
       "5 I         >15           12 746254   0.00\n",
       "6 M         7-15       46715  86217  54.18\n",
       "7 M         <7         40516  70962  57.10\n",
       "8 M         >15       354549 746254  47.51\n",
       "9 U         >15            5 746254   0.00"
      ]
     },
     "metadata": {},
     "output_type": "display_data"
    },
    {
     "data": {
      "text/html": [
       "<table class=\"dataframe\">\n",
       "<caption>A data.frame: 1 × 3</caption>\n",
       "<thead>\n",
       "\t<tr><th scope=col>median</th><th scope=col>low_IQR</th><th scope=col>high_IQR</th></tr>\n",
       "\t<tr><th scope=col>&lt;dbl&gt;</th><th scope=col>&lt;dbl&gt;</th><th scope=col>&lt;dbl&gt;</th></tr>\n",
       "</thead>\n",
       "<tbody>\n",
       "\t<tr><td>44</td><td>22</td><td>69</td></tr>\n",
       "</tbody>\n",
       "</table>\n"
      ],
      "text/latex": [
       "A data.frame: 1 × 3\n",
       "\\begin{tabular}{lll}\n",
       " median & low\\_IQR & high\\_IQR\\\\\n",
       " <dbl> & <dbl> & <dbl>\\\\\n",
       "\\hline\n",
       "\t 44 & 22 & 69\\\\\n",
       "\\end{tabular}\n"
      ],
      "text/markdown": [
       "\n",
       "A data.frame: 1 × 3\n",
       "\n",
       "| median &lt;dbl&gt; | low_IQR &lt;dbl&gt; | high_IQR &lt;dbl&gt; |\n",
       "|---|---|---|\n",
       "| 44 | 22 | 69 |\n",
       "\n"
      ],
      "text/plain": [
       "  median low_IQR high_IQR\n",
       "1 44     22      69      "
      ]
     },
     "metadata": {},
     "output_type": "display_data"
    },
    {
     "data": {
      "text/html": [
       "<table class=\"dataframe\">\n",
       "<caption>A tibble: 3 × 4</caption>\n",
       "<thead>\n",
       "\t<tr><th scope=col>age_group</th><th scope=col>median</th><th scope=col>low_IQR</th><th scope=col>high_IQR</th></tr>\n",
       "\t<tr><th scope=col>&lt;chr&gt;</th><th scope=col>&lt;dbl&gt;</th><th scope=col>&lt;dbl&gt;</th><th scope=col>&lt;dbl&gt;</th></tr>\n",
       "</thead>\n",
       "<tbody>\n",
       "\t<tr><td>7-15</td><td>11</td><td> 9</td><td>13</td></tr>\n",
       "\t<tr><td><span style=white-space:pre-wrap>&lt;7  </span></td><td> 3</td><td> 2</td><td> 5</td></tr>\n",
       "\t<tr><td>&gt;15 </td><td>53</td><td>32</td><td>74</td></tr>\n",
       "</tbody>\n",
       "</table>\n"
      ],
      "text/latex": [
       "A tibble: 3 × 4\n",
       "\\begin{tabular}{llll}\n",
       " age\\_group & median & low\\_IQR & high\\_IQR\\\\\n",
       " <chr> & <dbl> & <dbl> & <dbl>\\\\\n",
       "\\hline\n",
       "\t 7-15 & 11 &  9 & 13\\\\\n",
       "\t <7   &  3 &  2 &  5\\\\\n",
       "\t >15  & 53 & 32 & 74\\\\\n",
       "\\end{tabular}\n"
      ],
      "text/markdown": [
       "\n",
       "A tibble: 3 × 4\n",
       "\n",
       "| age_group &lt;chr&gt; | median &lt;dbl&gt; | low_IQR &lt;dbl&gt; | high_IQR &lt;dbl&gt; |\n",
       "|---|---|---|---|\n",
       "| 7-15 | 11 |  9 | 13 |\n",
       "| &lt;7   |  3 |  2 |  5 |\n",
       "| &gt;15  | 53 | 32 | 74 |\n",
       "\n"
      ],
      "text/plain": [
       "  age_group median low_IQR high_IQR\n",
       "1 7-15      11      9      13      \n",
       "2 <7         3      2       5      \n",
       "3 >15       53     32      74      "
      ]
     },
     "metadata": {},
     "output_type": "display_data"
    },
    {
     "name": "stderr",
     "output_type": "stream",
     "text": [
      "Warning message:\n",
      "“\u001b[1m\u001b[22mThere was 1 warning in `mutate()`.\n",
      "\u001b[1m\u001b[22m\u001b[36mℹ\u001b[39m In argument: `IMDScore = as.numeric(IMDScore)`.\n",
      "Caused by warning:\n",
      "\u001b[33m!\u001b[39m NAs introduced by coercion”\n"
     ]
    },
    {
     "data": {
      "text/html": [
       "<table class=\"dataframe\">\n",
       "<caption>A tibble: 3 × 5</caption>\n",
       "<thead>\n",
       "\t<tr><th scope=col>age_group</th><th scope=col>median_IMD2</th><th scope=col>median_IMD4</th><th scope=col>median_IMD6</th><th scope=col>median_IMD8</th></tr>\n",
       "\t<tr><th scope=col>&lt;chr&gt;</th><th scope=col>&lt;dbl&gt;</th><th scope=col>&lt;dbl&gt;</th><th scope=col>&lt;dbl&gt;</th><th scope=col>&lt;dbl&gt;</th></tr>\n",
       "</thead>\n",
       "<tbody>\n",
       "\t<tr><td>7-15</td><td>5.792</td><td>8.982</td><td>13.215</td><td>20.4810</td></tr>\n",
       "\t<tr><td><span style=white-space:pre-wrap>&lt;7  </span></td><td>5.904</td><td>9.156</td><td>13.619</td><td>21.4902</td></tr>\n",
       "\t<tr><td>&gt;15 </td><td>6.061</td><td>9.193</td><td>13.444</td><td>20.2410</td></tr>\n",
       "</tbody>\n",
       "</table>\n"
      ],
      "text/latex": [
       "A tibble: 3 × 5\n",
       "\\begin{tabular}{lllll}\n",
       " age\\_group & median\\_IMD2 & median\\_IMD4 & median\\_IMD6 & median\\_IMD8\\\\\n",
       " <chr> & <dbl> & <dbl> & <dbl> & <dbl>\\\\\n",
       "\\hline\n",
       "\t 7-15 & 5.792 & 8.982 & 13.215 & 20.4810\\\\\n",
       "\t <7   & 5.904 & 9.156 & 13.619 & 21.4902\\\\\n",
       "\t >15  & 6.061 & 9.193 & 13.444 & 20.2410\\\\\n",
       "\\end{tabular}\n"
      ],
      "text/markdown": [
       "\n",
       "A tibble: 3 × 5\n",
       "\n",
       "| age_group &lt;chr&gt; | median_IMD2 &lt;dbl&gt; | median_IMD4 &lt;dbl&gt; | median_IMD6 &lt;dbl&gt; | median_IMD8 &lt;dbl&gt; |\n",
       "|---|---|---|---|---|\n",
       "| 7-15 | 5.792 | 8.982 | 13.215 | 20.4810 |\n",
       "| &lt;7   | 5.904 | 9.156 | 13.619 | 21.4902 |\n",
       "| &gt;15  | 6.061 | 9.193 | 13.444 | 20.2410 |\n",
       "\n"
      ],
      "text/plain": [
       "  age_group median_IMD2 median_IMD4 median_IMD6 median_IMD8\n",
       "1 7-15      5.792       8.982       13.215      20.4810    \n",
       "2 <7        5.904       9.156       13.619      21.4902    \n",
       "3 >15       6.061       9.193       13.444      20.2410    "
      ]
     },
     "metadata": {},
     "output_type": "display_data"
    },
    {
     "data": {
      "text/html": [
       "<table class=\"dataframe\">\n",
       "<caption>A tibble: 1 × 1</caption>\n",
       "<thead>\n",
       "\t<tr><th scope=col>median_admit</th></tr>\n",
       "\t<tr><th scope=col>&lt;dbl&gt;</th></tr>\n",
       "</thead>\n",
       "<tbody>\n",
       "\t<tr><td>11023</td></tr>\n",
       "</tbody>\n",
       "</table>\n"
      ],
      "text/latex": [
       "A tibble: 1 × 1\n",
       "\\begin{tabular}{l}\n",
       " median\\_admit\\\\\n",
       " <dbl>\\\\\n",
       "\\hline\n",
       "\t 11023\\\\\n",
       "\\end{tabular}\n"
      ],
      "text/markdown": [
       "\n",
       "A tibble: 1 × 1\n",
       "\n",
       "| median_admit &lt;dbl&gt; |\n",
       "|---|\n",
       "| 11023 |\n",
       "\n"
      ],
      "text/plain": [
       "  median_admit\n",
       "1 11023       "
      ]
     },
     "metadata": {},
     "output_type": "display_data"
    }
   ],
   "source": [
    "total_number <- age_df %>%\n",
    "    distinct(ClusterID, AttendanceStartDate) %>%\n",
    "    nrow()\n",
    "\n",
    "total_number\n",
    "\n",
    "# Sex breakdown\n",
    "count_df <- age_df %>%\n",
    "    distinct(ClusterID, AttendanceStartDate, .keep_all = T) %>%\n",
    "    group_by(age_group) %>%\n",
    "    summarise(n_total = n())\n",
    "\n",
    "age_df %>%\n",
    "    distinct(ClusterID, AttendanceStartDate, LinkedSex) %>%\n",
    "    group_by(LinkedSex) %>%\n",
    "    summarise(n = n())\n",
    "\n",
    "age_df %>%\n",
    "    distinct(ClusterID, AttendanceStartDate, LinkedSex, .keep_all = T) %>%\n",
    "    group_by(LinkedSex, age_group) %>%\n",
    "    summarise(n = n()) %>%\n",
    "    left_join(count_df) %>%\n",
    "    mutate(prop = round(n / n_total * 100, 2))\n",
    "\n",
    "# Age summary stats\n",
    "age_df %>%\n",
    "    distinct(ClusterID, AttendanceStartDate, age_upon_presentation) %>%\n",
    "    summarise(median = median(age_upon_presentation),\n",
    "              low_IQR = quantile(age_upon_presentation, prob = c(0.25)),\n",
    "              high_IQR = quantile(age_upon_presentation, prob = c(0.75)))\n",
    "\n",
    "age_df %>%\n",
    "    distinct(ClusterID, AttendanceStartDate, .keep_all = T) %>%\n",
    "    group_by(age_group) %>%\n",
    "    summarise(median = median(age_upon_presentation),\n",
    "              low_IQR = quantile(age_upon_presentation, prob = c(0.25)),\n",
    "              high_IQR = quantile(age_upon_presentation, prob = c(0.75)))\n",
    "\n",
    "# Ethnicity \n",
    "# age_df %>%\n",
    "#     distinct(ClusterID, AttendanceStartDate, .keep_all = T) %>%\n",
    "#     group_by(EthnicGroupCode) %>%\n",
    "#     summarise(n = n())\n",
    "\n",
    "# IMD score\n",
    "age_df %>%\n",
    "    distinct(ClusterID, AttendanceStartDate, .keep_all = T) %>%\n",
    "    mutate(IMDScore = as.numeric(IMDScore)) %>%\n",
    "    filter(!is.na(IMDScore)) %>%\n",
    "    group_by(age_group) %>%\n",
    "    summarise(median_IMD2 = quantile(IMDScore, prob = c(0.2)),\n",
    "             median_IMD4 = quantile(IMDScore, prob = c(0.4)),\n",
    "             median_IMD6 = quantile(IMDScore, prob = c(0.6)),\n",
    "             median_IMD8 = quantile(IMDScore, prob = c(0.8)))\n",
    "\n",
    "# Attendance per month\n",
    "age_df %>%\n",
    "    distinct(ClusterID, AttendanceStartDate, .keep_all = T) %>%\n",
    "    group_by(AttendanceMonth) %>%\n",
    "    summarise(n_admit = n()) %>%\n",
    "    summarise(median_admit = median(n_admit))"
   ]
  },
  {
   "cell_type": "code",
   "execution_count": 4,
   "id": "344a16f6",
   "metadata": {},
   "outputs": [
    {
     "data": {
      "text/html": [
       "<table class=\"dataframe\">\n",
       "<caption>A tibble: 3 × 3</caption>\n",
       "<thead>\n",
       "\t<tr><th scope=col>age_group</th><th scope=col>n</th><th scope=col>n/sum(n)</th></tr>\n",
       "\t<tr><th scope=col>&lt;chr&gt;</th><th scope=col>&lt;int&gt;</th><th scope=col>&lt;dbl&gt;</th></tr>\n",
       "</thead>\n",
       "<tbody>\n",
       "\t<tr><td>7-15</td><td> 86217</td><td>0.09543264</td></tr>\n",
       "\t<tr><td><span style=white-space:pre-wrap>&lt;7  </span></td><td> 70962</td><td>0.07854705</td></tr>\n",
       "\t<tr><td>&gt;15 </td><td>746254</td><td>0.82602030</td></tr>\n",
       "</tbody>\n",
       "</table>\n"
      ],
      "text/latex": [
       "A tibble: 3 × 3\n",
       "\\begin{tabular}{lll}\n",
       " age\\_group & n & n/sum(n)\\\\\n",
       " <chr> & <int> & <dbl>\\\\\n",
       "\\hline\n",
       "\t 7-15 &  86217 & 0.09543264\\\\\n",
       "\t <7   &  70962 & 0.07854705\\\\\n",
       "\t >15  & 746254 & 0.82602030\\\\\n",
       "\\end{tabular}\n"
      ],
      "text/markdown": [
       "\n",
       "A tibble: 3 × 3\n",
       "\n",
       "| age_group &lt;chr&gt; | n &lt;int&gt; | n/sum(n) &lt;dbl&gt; |\n",
       "|---|---|---|\n",
       "| 7-15 |  86217 | 0.09543264 |\n",
       "| &lt;7   |  70962 | 0.07854705 |\n",
       "| &gt;15  | 746254 | 0.82602030 |\n",
       "\n"
      ],
      "text/plain": [
       "  age_group n      n/sum(n)  \n",
       "1 7-15       86217 0.09543264\n",
       "2 <7         70962 0.07854705\n",
       "3 >15       746254 0.82602030"
      ]
     },
     "metadata": {},
     "output_type": "display_data"
    }
   ],
   "source": [
    "age_df %>%\n",
    "    distinct(ClusterID, AttendanceStartDate, .keep_all = T) %>%\n",
    "    group_by(age_group) %>%\n",
    "    summarise(n = n()) %>% \n",
    "    mutate(n / sum(n))"
   ]
  },
  {
   "cell_type": "markdown",
   "id": "0e84ad50",
   "metadata": {},
   "source": [
    "### Admissions"
   ]
  },
  {
   "cell_type": "code",
   "execution_count": 6,
   "id": "d4852c19",
   "metadata": {},
   "outputs": [
    {
     "name": "stderr",
     "output_type": "stream",
     "text": [
      "\u001b[1m\u001b[22mJoining with `by = join_by(ClusterID, AttendanceStartDate)`\n",
      "Warning message in left_join(., admission_df):\n",
      "“\u001b[1m\u001b[22mDetected an unexpected many-to-many relationship between `x` and `y`.\n",
      "\u001b[36mℹ\u001b[39m Row 18 of `x` matches multiple rows in `y`.\n",
      "\u001b[36mℹ\u001b[39m Row 140318 of `y` matches multiple rows in `x`.\n",
      "\u001b[36mℹ\u001b[39m If a many-to-many relationship is expected, set `relationship = \"many-to-many\"` to silence this warning.”\n"
     ]
    },
    {
     "data": {
      "text/html": [
       "<table class=\"dataframe\">\n",
       "<caption>A tibble: 3 × 4</caption>\n",
       "<thead>\n",
       "\t<tr><th scope=col>age_group</th><th scope=col>median_duration</th><th scope=col>duration_low</th><th scope=col>duration_high</th></tr>\n",
       "\t<tr><th scope=col>&lt;chr&gt;</th><th scope=col>&lt;drtn&gt;</th><th scope=col>&lt;drtn&gt;</th><th scope=col>&lt;drtn&gt;</th></tr>\n",
       "</thead>\n",
       "<tbody>\n",
       "\t<tr><td>7-15</td><td>1 days</td><td>1 days</td><td>2 days</td></tr>\n",
       "\t<tr><td><span style=white-space:pre-wrap>&lt;7  </span></td><td>1 days</td><td>0 days</td><td>2 days</td></tr>\n",
       "\t<tr><td>&gt;15 </td><td>2 days</td><td>1 days</td><td>7 days</td></tr>\n",
       "</tbody>\n",
       "</table>\n"
      ],
      "text/latex": [
       "A tibble: 3 × 4\n",
       "\\begin{tabular}{llll}\n",
       " age\\_group & median\\_duration & duration\\_low & duration\\_high\\\\\n",
       " <chr> & <drtn> & <drtn> & <drtn>\\\\\n",
       "\\hline\n",
       "\t 7-15 & 1 days & 1 days & 2 days\\\\\n",
       "\t <7   & 1 days & 0 days & 2 days\\\\\n",
       "\t >15  & 2 days & 1 days & 7 days\\\\\n",
       "\\end{tabular}\n"
      ],
      "text/markdown": [
       "\n",
       "A tibble: 3 × 4\n",
       "\n",
       "| age_group &lt;chr&gt; | median_duration &lt;drtn&gt; | duration_low &lt;drtn&gt; | duration_high &lt;drtn&gt; |\n",
       "|---|---|---|---|\n",
       "| 7-15 | 1 days | 1 days | 2 days |\n",
       "| &lt;7   | 1 days | 0 days | 2 days |\n",
       "| &gt;15  | 2 days | 1 days | 7 days |\n",
       "\n"
      ],
      "text/plain": [
       "  age_group median_duration duration_low duration_high\n",
       "1 7-15      1 days          1 days       2 days       \n",
       "2 <7        1 days          0 days       2 days       \n",
       "3 >15       2 days          1 days       7 days       "
      ]
     },
     "metadata": {},
     "output_type": "display_data"
    },
    {
     "data": {
      "text/html": [
       "<table class=\"dataframe\">\n",
       "<caption>A tibble: 3 × 4</caption>\n",
       "<thead>\n",
       "\t<tr><th scope=col>age_group</th><th scope=col>admit_rate</th><th scope=col>icu_rate</th><th scope=col>death_rate</th></tr>\n",
       "\t<tr><th scope=col>&lt;chr&gt;</th><th scope=col>&lt;dbl&gt;</th><th scope=col>&lt;dbl&gt;</th><th scope=col>&lt;dbl&gt;</th></tr>\n",
       "</thead>\n",
       "<tbody>\n",
       "\t<tr><td>7-15</td><td>13.2</td><td>0.3</td><td>0.01</td></tr>\n",
       "\t<tr><td><span style=white-space:pre-wrap>&lt;7  </span></td><td>17.0</td><td>0.4</td><td>0.01</td></tr>\n",
       "\t<tr><td>&gt;15 </td><td>34.3</td><td>1.5</td><td>0.41</td></tr>\n",
       "</tbody>\n",
       "</table>\n"
      ],
      "text/latex": [
       "A tibble: 3 × 4\n",
       "\\begin{tabular}{llll}\n",
       " age\\_group & admit\\_rate & icu\\_rate & death\\_rate\\\\\n",
       " <chr> & <dbl> & <dbl> & <dbl>\\\\\n",
       "\\hline\n",
       "\t 7-15 & 13.2 & 0.3 & 0.01\\\\\n",
       "\t <7   & 17.0 & 0.4 & 0.01\\\\\n",
       "\t >15  & 34.3 & 1.5 & 0.41\\\\\n",
       "\\end{tabular}\n"
      ],
      "text/markdown": [
       "\n",
       "A tibble: 3 × 4\n",
       "\n",
       "| age_group &lt;chr&gt; | admit_rate &lt;dbl&gt; | icu_rate &lt;dbl&gt; | death_rate &lt;dbl&gt; |\n",
       "|---|---|---|---|\n",
       "| 7-15 | 13.2 | 0.3 | 0.01 |\n",
       "| &lt;7   | 17.0 | 0.4 | 0.01 |\n",
       "| &gt;15  | 34.3 | 1.5 | 0.41 |\n",
       "\n"
      ],
      "text/plain": [
       "  age_group admit_rate icu_rate death_rate\n",
       "1 7-15      13.2       0.3      0.01      \n",
       "2 <7        17.0       0.4      0.01      \n",
       "3 >15       34.3       1.5      0.41      "
      ]
     },
     "metadata": {},
     "output_type": "display_data"
    },
    {
     "data": {
      "text/html": [
       "<table class=\"dataframe\">\n",
       "<caption>A data.frame: 1 × 3</caption>\n",
       "<thead>\n",
       "\t<tr><th scope=col>admit_rate</th><th scope=col>icu_rate</th><th scope=col>death_rate</th></tr>\n",
       "\t<tr><th scope=col>&lt;dbl&gt;</th><th scope=col>&lt;dbl&gt;</th><th scope=col>&lt;dbl&gt;</th></tr>\n",
       "</thead>\n",
       "<tbody>\n",
       "\t<tr><td>30.9</td><td>1.3</td><td>0.34</td></tr>\n",
       "</tbody>\n",
       "</table>\n"
      ],
      "text/latex": [
       "A data.frame: 1 × 3\n",
       "\\begin{tabular}{lll}\n",
       " admit\\_rate & icu\\_rate & death\\_rate\\\\\n",
       " <dbl> & <dbl> & <dbl>\\\\\n",
       "\\hline\n",
       "\t 30.9 & 1.3 & 0.34\\\\\n",
       "\\end{tabular}\n"
      ],
      "text/markdown": [
       "\n",
       "A data.frame: 1 × 3\n",
       "\n",
       "| admit_rate &lt;dbl&gt; | icu_rate &lt;dbl&gt; | death_rate &lt;dbl&gt; |\n",
       "|---|---|---|\n",
       "| 30.9 | 1.3 | 0.34 |\n",
       "\n"
      ],
      "text/plain": [
       "  admit_rate icu_rate death_rate\n",
       "1 30.9       1.3      0.34      "
      ]
     },
     "metadata": {},
     "output_type": "display_data"
    }
   ],
   "source": [
    "admit_attendance_df <- age_df %>%\n",
    "    left_join(admission_df) %>%\n",
    "    distinct(ClusterID, AttendanceStartDate, .keep_all = T) %>%\n",
    "    mutate(LinkedDeathdate = ifelse(LinkedDeathdate == \"NULL\", \"2030-01-14 14:00:08.433\", LinkedDeathdate),\n",
    "           duration = as.Date(DischargeDate) - as.Date(AdmissionDate)) %>%\n",
    "    mutate(AttendanceEndDate = ifelse(is.na(AttendanceEndDate), as.Date(DischargeDate), as.Date(AttendanceEndDate))) %>%\n",
    "    mutate(LinkedDeathdate = as.Date(LinkedDeathdate)) %>%\n",
    "    mutate(is_admitted = ifelse(is.na(AdmissionDate), F, T),\n",
    "           is_icu = ifelse(SpellIncludesCriticalCareAdmission == 1, T, F),\n",
    "           is_death = ifelse(LinkedDeathdate >= AttendanceStartDate &\n",
    "                             LinkedDeathdate <= AttendanceEndDate, T, F))\n",
    "#     mutate(is_icu = ifelse(is.na(is_icu), F, T))\n",
    "\n",
    "# Admission duration\n",
    "admit_attendance_df %>%\n",
    "    filter(!is.na(AdmissionDate),\n",
    "           DischargeDate != \"NULL\") %>%\n",
    "    group_by(age_group) %>%\n",
    "    summarise(median_duration = median(duration),\n",
    "              duration_low = quantile(duration, probs = c(0.25)),\n",
    "              duration_high = quantile(duration, probs = c(0.75)))\n",
    "# Admission, ICU, death rate by age\n",
    "admit_attendance_df %>%\n",
    "    group_by(age_group) %>%\n",
    "    summarise(admit_rate = round(sum(is_admitted, na.rm = T) / n() * 100, 1),\n",
    "              icu_rate = round(sum(is_icu, na.rm = T) / n() * 100, 1),\n",
    "              death_rate = round(sum(is_death, na.rm = T) / n() * 100, 2))\n",
    "# Overall Admission, ICU, death rate\n",
    "admit_attendance_df %>%\n",
    "    summarise(admit_rate = round(sum(is_admitted, na.rm = T) / n() * 100, 1),\n",
    "              icu_rate = round(sum(is_icu, na.rm = T) / n() * 100, 1),\n",
    "              death_rate = round(sum(is_death, na.rm = T) / n() * 100, 2))"
   ]
  },
  {
   "cell_type": "markdown",
   "id": "d90a79bd",
   "metadata": {},
   "source": [
    "### Biomarker tests"
   ]
  },
  {
   "cell_type": "code",
   "execution_count": 7,
   "id": "a7bfb4e8",
   "metadata": {},
   "outputs": [
    {
     "name": "stderr",
     "output_type": "stream",
     "text": [
      "\u001b[1m\u001b[22mJoining with `by = join_by(ClusterID, AttendanceStartDate)`\n"
     ]
    }
   ],
   "source": [
    "test_names <- c(\"ALT\", \"AST\", \"ALK.PHOSPHATASE\", \"BILIRUBIN\", \"ALBUMIN\", \"GGT\",\n",
    "               \"CRP\", \"WHITE CELLS\")\n",
    "tests <- admit_attendance_df %>%\n",
    "    right_join(test_parsed) %>%\n",
    "    filter(TestName %in% test_names)"
   ]
  },
  {
   "cell_type": "code",
   "execution_count": 8,
   "id": "50c95ec4",
   "metadata": {},
   "outputs": [
    {
     "name": "stderr",
     "output_type": "stream",
     "text": [
      "\u001b[1m\u001b[22mJoining with `by = join_by(ClusterID, AttendanceStartDate)`\n",
      "\u001b[1m\u001b[22m`summarise()` has grouped output by 'ClusterID'. You can override using the `.groups` argument.\n"
     ]
    },
    {
     "data": {
      "text/html": [
       "<table class=\"dataframe\">\n",
       "<caption>A tibble: 1 × 1</caption>\n",
       "<thead>\n",
       "\t<tr><th scope=col>sum(n_tests &gt; 0)/nrow(test_summary)</th></tr>\n",
       "\t<tr><th scope=col>&lt;dbl&gt;</th></tr>\n",
       "</thead>\n",
       "<tbody>\n",
       "\t<tr><td>0.5880912</td></tr>\n",
       "</tbody>\n",
       "</table>\n"
      ],
      "text/latex": [
       "A tibble: 1 × 1\n",
       "\\begin{tabular}{l}\n",
       " sum(n\\_tests > 0)/nrow(test\\_summary)\\\\\n",
       " <dbl>\\\\\n",
       "\\hline\n",
       "\t 0.5880912\\\\\n",
       "\\end{tabular}\n"
      ],
      "text/markdown": [
       "\n",
       "A tibble: 1 × 1\n",
       "\n",
       "| sum(n_tests &gt; 0)/nrow(test_summary) &lt;dbl&gt; |\n",
       "|---|\n",
       "| 0.5880912 |\n",
       "\n"
      ],
      "text/plain": [
       "  sum(n_tests > 0)/nrow(test_summary)\n",
       "1 0.5880912                          "
      ]
     },
     "metadata": {},
     "output_type": "display_data"
    },
    {
     "data": {
      "text/html": [
       "<table class=\"dataframe\">\n",
       "<caption>A tibble: 1 × 1</caption>\n",
       "<thead>\n",
       "\t<tr><th scope=col>sum(n_ALT &gt; 0)/n_pat_with_tests</th></tr>\n",
       "\t<tr><th scope=col>&lt;dbl&gt;</th></tr>\n",
       "</thead>\n",
       "<tbody>\n",
       "\t<tr><td>0.9034954</td></tr>\n",
       "</tbody>\n",
       "</table>\n"
      ],
      "text/latex": [
       "A tibble: 1 × 1\n",
       "\\begin{tabular}{l}\n",
       " sum(n\\_ALT > 0)/n\\_pat\\_with\\_tests\\\\\n",
       " <dbl>\\\\\n",
       "\\hline\n",
       "\t 0.9034954\\\\\n",
       "\\end{tabular}\n"
      ],
      "text/markdown": [
       "\n",
       "A tibble: 1 × 1\n",
       "\n",
       "| sum(n_ALT &gt; 0)/n_pat_with_tests &lt;dbl&gt; |\n",
       "|---|\n",
       "| 0.9034954 |\n",
       "\n"
      ],
      "text/plain": [
       "  sum(n_ALT > 0)/n_pat_with_tests\n",
       "1 0.9034954                      "
      ]
     },
     "metadata": {},
     "output_type": "display_data"
    },
    {
     "data": {
      "text/html": [
       "<table class=\"dataframe\">\n",
       "<caption>A tibble: 1 × 1</caption>\n",
       "<thead>\n",
       "\t<tr><th scope=col>sum(n_AST &gt; 0)/n_pat_with_tests</th></tr>\n",
       "\t<tr><th scope=col>&lt;dbl&gt;</th></tr>\n",
       "</thead>\n",
       "<tbody>\n",
       "\t<tr><td>0.0117504</td></tr>\n",
       "</tbody>\n",
       "</table>\n"
      ],
      "text/latex": [
       "A tibble: 1 × 1\n",
       "\\begin{tabular}{l}\n",
       " sum(n\\_AST > 0)/n\\_pat\\_with\\_tests\\\\\n",
       " <dbl>\\\\\n",
       "\\hline\n",
       "\t 0.0117504\\\\\n",
       "\\end{tabular}\n"
      ],
      "text/markdown": [
       "\n",
       "A tibble: 1 × 1\n",
       "\n",
       "| sum(n_AST &gt; 0)/n_pat_with_tests &lt;dbl&gt; |\n",
       "|---|\n",
       "| 0.0117504 |\n",
       "\n"
      ],
      "text/plain": [
       "  sum(n_AST > 0)/n_pat_with_tests\n",
       "1 0.0117504                      "
      ]
     },
     "metadata": {},
     "output_type": "display_data"
    }
   ],
   "source": [
    "test_summary <- admit_attendance_df %>%\n",
    "    left_join(test_parsed) %>%\n",
    "    group_by(ClusterID, AttendanceStartDate) %>%\n",
    "    summarise(n_tests = n_distinct(TestName, na.rm = T),\n",
    "              n_ALT = sum(TestName == \"ALT\", na.rm = T),\n",
    "              n_AST = sum(TestName == \"AST\", na.rm = T)) %>%\n",
    "    ungroup()\n",
    "\n",
    "# Prop. of patients tested\n",
    "test_summary %>%\n",
    "    summarise(sum(n_tests > 0) / nrow(test_summary))\n",
    "\n",
    "n_pat_with_tests <- deframe(test_summary %>%\n",
    "    summarise(sum(n_tests > 0)))\n",
    "\n",
    "# Prop. with ALT test\n",
    "test_summary %>%\n",
    "    summarise(sum(n_ALT > 0) / n_pat_with_tests)\n",
    "\n",
    "# Prop. with AST test\n",
    "test_summary %>%\n",
    "    summarise(sum(n_AST > 0) / n_pat_with_tests)"
   ]
  },
  {
   "cell_type": "code",
   "execution_count": 10,
   "id": "cfa7a964",
   "metadata": {},
   "outputs": [
    {
     "data": {
      "text/html": [
       "<table class=\"dataframe\">\n",
       "<caption>A data.table: 15 × 3</caption>\n",
       "<thead>\n",
       "\t<tr><th scope=col>TestName</th><th scope=col>RefRange</th><th scope=col>Units</th></tr>\n",
       "\t<tr><th scope=col>&lt;chr&gt;</th><th scope=col>&lt;chr&gt;</th><th scope=col>&lt;chr&gt;</th></tr>\n",
       "</thead>\n",
       "<tbody>\n",
       "\t<tr><td>ALBUMIN        </td><td>32-50   </td><td>g/L    </td></tr>\n",
       "\t<tr><td>CRP            </td><td>0-5     </td><td>mg/L   </td></tr>\n",
       "\t<tr><td>EOSINOPHILS    </td><td>0.0-0.5 </td><td>x10*9/L</td></tr>\n",
       "\t<tr><td>WHITE CELLS    </td><td>4.0-11.0</td><td>x10*9/L</td></tr>\n",
       "\t<tr><td>PLATELETS      </td><td>150-400 </td><td>x10*9/L</td></tr>\n",
       "\t<tr><td>ALK.PHOSPHATASE</td><td>30-130  </td><td>IU/L   </td></tr>\n",
       "\t<tr><td>ALT            </td><td>10-45   </td><td>IU/L   </td></tr>\n",
       "\t<tr><td>MONOCYTES      </td><td>0.2-1.0 </td><td>x10*9/L</td></tr>\n",
       "\t<tr><td>NEUTROPHILS    </td><td>2.0-7.0 </td><td>x10*9/L</td></tr>\n",
       "\t<tr><td>BILIRUBIN      </td><td>0-21    </td><td>umol/L </td></tr>\n",
       "\t<tr><td>BASOPHILS      </td><td>0.0-0.1 </td><td>x10*9/L</td></tr>\n",
       "\t<tr><td>LYMPHOCYTES    </td><td>1.0-4.0 </td><td>x10*9/L</td></tr>\n",
       "\t<tr><td>AST            </td><td>15-42   </td><td>IU/L   </td></tr>\n",
       "\t<tr><td>GGT            </td><td>15-40   </td><td>IU/L   </td></tr>\n",
       "\t<tr><td>BILIRUBIN      </td><td>?-?     </td><td>NULL   </td></tr>\n",
       "</tbody>\n",
       "</table>\n"
      ],
      "text/latex": [
       "A data.table: 15 × 3\n",
       "\\begin{tabular}{lll}\n",
       " TestName & RefRange & Units\\\\\n",
       " <chr> & <chr> & <chr>\\\\\n",
       "\\hline\n",
       "\t ALBUMIN         & 32-50    & g/L    \\\\\n",
       "\t CRP             & 0-5      & mg/L   \\\\\n",
       "\t EOSINOPHILS     & 0.0-0.5  & x10*9/L\\\\\n",
       "\t WHITE CELLS     & 4.0-11.0 & x10*9/L\\\\\n",
       "\t PLATELETS       & 150-400  & x10*9/L\\\\\n",
       "\t ALK.PHOSPHATASE & 30-130   & IU/L   \\\\\n",
       "\t ALT             & 10-45    & IU/L   \\\\\n",
       "\t MONOCYTES       & 0.2-1.0  & x10*9/L\\\\\n",
       "\t NEUTROPHILS     & 2.0-7.0  & x10*9/L\\\\\n",
       "\t BILIRUBIN       & 0-21     & umol/L \\\\\n",
       "\t BASOPHILS       & 0.0-0.1  & x10*9/L\\\\\n",
       "\t LYMPHOCYTES     & 1.0-4.0  & x10*9/L\\\\\n",
       "\t AST             & 15-42    & IU/L   \\\\\n",
       "\t GGT             & 15-40    & IU/L   \\\\\n",
       "\t BILIRUBIN       & ?-?      & NULL   \\\\\n",
       "\\end{tabular}\n"
      ],
      "text/markdown": [
       "\n",
       "A data.table: 15 × 3\n",
       "\n",
       "| TestName &lt;chr&gt; | RefRange &lt;chr&gt; | Units &lt;chr&gt; |\n",
       "|---|---|---|\n",
       "| ALBUMIN         | 32-50    | g/L     |\n",
       "| CRP             | 0-5      | mg/L    |\n",
       "| EOSINOPHILS     | 0.0-0.5  | x10*9/L |\n",
       "| WHITE CELLS     | 4.0-11.0 | x10*9/L |\n",
       "| PLATELETS       | 150-400  | x10*9/L |\n",
       "| ALK.PHOSPHATASE | 30-130   | IU/L    |\n",
       "| ALT             | 10-45    | IU/L    |\n",
       "| MONOCYTES       | 0.2-1.0  | x10*9/L |\n",
       "| NEUTROPHILS     | 2.0-7.0  | x10*9/L |\n",
       "| BILIRUBIN       | 0-21     | umol/L  |\n",
       "| BASOPHILS       | 0.0-0.1  | x10*9/L |\n",
       "| LYMPHOCYTES     | 1.0-4.0  | x10*9/L |\n",
       "| AST             | 15-42    | IU/L    |\n",
       "| GGT             | 15-40    | IU/L    |\n",
       "| BILIRUBIN       | ?-?      | NULL    |\n",
       "\n"
      ],
      "text/plain": [
       "   TestName        RefRange Units  \n",
       "1  ALBUMIN         32-50    g/L    \n",
       "2  CRP             0-5      mg/L   \n",
       "3  EOSINOPHILS     0.0-0.5  x10*9/L\n",
       "4  WHITE CELLS     4.0-11.0 x10*9/L\n",
       "5  PLATELETS       150-400  x10*9/L\n",
       "6  ALK.PHOSPHATASE 30-130   IU/L   \n",
       "7  ALT             10-45    IU/L   \n",
       "8  MONOCYTES       0.2-1.0  x10*9/L\n",
       "9  NEUTROPHILS     2.0-7.0  x10*9/L\n",
       "10 BILIRUBIN       0-21     umol/L \n",
       "11 BASOPHILS       0.0-0.1  x10*9/L\n",
       "12 LYMPHOCYTES     1.0-4.0  x10*9/L\n",
       "13 AST             15-42    IU/L   \n",
       "14 GGT             15-40    IU/L   \n",
       "15 BILIRUBIN       ?-?      NULL   "
      ]
     },
     "metadata": {},
     "output_type": "display_data"
    }
   ],
   "source": [
    "test_df %>% distinct(TestName, RefRange, Units)"
   ]
  },
  {
   "cell_type": "code",
   "execution_count": 9,
   "id": "9c074a2d",
   "metadata": {},
   "outputs": [
    {
     "name": "stdout",
     "output_type": "stream",
     "text": [
      "[1] \"ALT\"\n",
      "\u001b[90m# A tibble: 3 × 4\u001b[39m\n",
      "  age_group median_test test_low test_high\n",
      "  \u001b[3m\u001b[90m<fct>\u001b[39m\u001b[23m           \u001b[3m\u001b[90m<dbl>\u001b[39m\u001b[23m    \u001b[3m\u001b[90m<dbl>\u001b[39m\u001b[23m     \u001b[3m\u001b[90m<dbl>\u001b[39m\u001b[23m\n",
      "\u001b[90m1\u001b[39m <7                 15       12        21\n",
      "\u001b[90m2\u001b[39m 7-15               14       11        20\n",
      "\u001b[90m3\u001b[39m >15                19       13        30\n",
      "[1] \"AST\"\n",
      "\u001b[90m# A tibble: 3 × 4\u001b[39m\n",
      "  age_group median_test test_low test_high\n",
      "  \u001b[3m\u001b[90m<fct>\u001b[39m\u001b[23m           \u001b[3m\u001b[90m<dbl>\u001b[39m\u001b[23m    \u001b[3m\u001b[90m<dbl>\u001b[39m\u001b[23m     \u001b[3m\u001b[90m<dbl>\u001b[39m\u001b[23m\n",
      "\u001b[90m1\u001b[39m <7                 41       31      144.\n",
      "\u001b[90m2\u001b[39m 7-15               33       21      119 \n",
      "\u001b[90m3\u001b[39m >15                41       22      110.\n",
      "[1] \"ALK.PHOSPHATASE\"\n",
      "\u001b[90m# A tibble: 3 × 4\u001b[39m\n",
      "  age_group median_test test_low test_high\n",
      "  \u001b[3m\u001b[90m<fct>\u001b[39m\u001b[23m           \u001b[3m\u001b[90m<dbl>\u001b[39m\u001b[23m    \u001b[3m\u001b[90m<dbl>\u001b[39m\u001b[23m     \u001b[3m\u001b[90m<dbl>\u001b[39m\u001b[23m\n",
      "\u001b[90m1\u001b[39m <7                195      160       237\n",
      "\u001b[90m2\u001b[39m 7-15              181      115       247\n",
      "\u001b[90m3\u001b[39m >15                79       64       101\n",
      "[1] \"BILIRUBIN\"\n",
      "\u001b[90m# A tibble: 3 × 4\u001b[39m\n",
      "  age_group median_test test_low test_high\n",
      "  \u001b[3m\u001b[90m<fct>\u001b[39m\u001b[23m           \u001b[3m\u001b[90m<dbl>\u001b[39m\u001b[23m    \u001b[3m\u001b[90m<dbl>\u001b[39m\u001b[23m     \u001b[3m\u001b[90m<dbl>\u001b[39m\u001b[23m\n",
      "\u001b[90m1\u001b[39m <7                  5        3         7\n",
      "\u001b[90m2\u001b[39m 7-15                7        5        11\n",
      "\u001b[90m3\u001b[39m >15                 9        6        14\n",
      "[1] \"ALBUMIN\"\n",
      "\u001b[90m# A tibble: 3 × 4\u001b[39m\n",
      "  age_group median_test test_low test_high\n",
      "  \u001b[3m\u001b[90m<fct>\u001b[39m\u001b[23m           \u001b[3m\u001b[90m<dbl>\u001b[39m\u001b[23m    \u001b[3m\u001b[90m<dbl>\u001b[39m\u001b[23m     \u001b[3m\u001b[90m<dbl>\u001b[39m\u001b[23m\n",
      "\u001b[90m1\u001b[39m <7                 38       35        40\n",
      "\u001b[90m2\u001b[39m 7-15               40       38        43\n",
      "\u001b[90m3\u001b[39m >15                37       33        40\n",
      "[1] \"GGT\"\n",
      "\u001b[90m# A tibble: 3 × 4\u001b[39m\n",
      "  age_group median_test test_low test_high\n",
      "  \u001b[3m\u001b[90m<fct>\u001b[39m\u001b[23m           \u001b[3m\u001b[90m<dbl>\u001b[39m\u001b[23m    \u001b[3m\u001b[90m<dbl>\u001b[39m\u001b[23m     \u001b[3m\u001b[90m<dbl>\u001b[39m\u001b[23m\n",
      "\u001b[90m1\u001b[39m <7                 17       10     104. \n",
      "\u001b[90m2\u001b[39m 7-15               20       13      61.8\n",
      "\u001b[90m3\u001b[39m >15                85       31     280  \n",
      "[1] \"CRP\"\n",
      "\u001b[90m# A tibble: 3 × 4\u001b[39m\n",
      "  age_group median_test test_low test_high\n",
      "  \u001b[3m\u001b[90m<fct>\u001b[39m\u001b[23m           \u001b[3m\u001b[90m<dbl>\u001b[39m\u001b[23m    \u001b[3m\u001b[90m<dbl>\u001b[39m\u001b[23m     \u001b[3m\u001b[90m<dbl>\u001b[39m\u001b[23m\n",
      "\u001b[90m1\u001b[39m <7               10        1.3      42.3\n",
      "\u001b[90m2\u001b[39m 7-15              2.5      0.4      20.5\n",
      "\u001b[90m3\u001b[39m >15               8.6      2.1      43.4\n",
      "[1] \"WHITE CELLS\"\n",
      "\u001b[90m# A tibble: 3 × 4\u001b[39m\n",
      "  age_group median_test test_low test_high\n",
      "  \u001b[3m\u001b[90m<fct>\u001b[39m\u001b[23m           \u001b[3m\u001b[90m<dbl>\u001b[39m\u001b[23m    \u001b[3m\u001b[90m<dbl>\u001b[39m\u001b[23m     \u001b[3m\u001b[90m<dbl>\u001b[39m\u001b[23m\n",
      "\u001b[90m1\u001b[39m <7              10.0      7.51      13.8\n",
      "\u001b[90m2\u001b[39m 7-15             8.53     6.58      11.5\n",
      "\u001b[90m3\u001b[39m >15              8.87     6.9       11.6\n"
     ]
    }
   ],
   "source": [
    "for (test in test_names) {\n",
    "    stat_temp <- tests %>%\n",
    "        mutate(age_group = factor(age_group, c(\"<7\", \"7-15\", \">15\"))) %>%\n",
    "        filter(TestName == test) %>%\n",
    "        group_by(age_group) %>%\n",
    "        summarise(median_test = median(Value),\n",
    "                  test_low = quantile(Value, probs = c(0.25)),\n",
    "                  test_high = quantile(Value, probs = c(0.75)))\n",
    "    print(test)\n",
    "    print(stat_temp)\n",
    "}"
   ]
  },
  {
   "cell_type": "code",
   "execution_count": 11,
   "id": "e87b515a",
   "metadata": {},
   "outputs": [
    {
     "ename": "ERROR",
     "evalue": "\u001b[1m\u001b[33mError\u001b[39m in `filter()`:\u001b[22m\n\u001b[1m\u001b[22m\u001b[36mℹ\u001b[39m In argument: `adeno_pos`.\n\u001b[1mCaused by error:\u001b[22m\n\u001b[33m!\u001b[39m object 'adeno_pos' not found\n",
     "output_type": "error",
     "traceback": [
      "\u001b[1m\u001b[33mError\u001b[39m in `filter()`:\u001b[22m\n\u001b[1m\u001b[22m\u001b[36mℹ\u001b[39m In argument: `adeno_pos`.\n\u001b[1mCaused by error:\u001b[22m\n\u001b[33m!\u001b[39m object 'adeno_pos' not found\nTraceback:\n",
      "1. tests %>% filter(adeno_pos) %>% mutate(age_group = factor(age_group, \n .     c(\"<7\", \"7-15\", \">15\"))) %>% filter(TestName == test) %>% \n .     group_by(age_group) %>% summarise(median_test = median(Value), \n .     test_low = quantile(Value, probs = c(0.25)), test_high = quantile(Value, \n .         probs = c(0.75)))",
      "2. summarise(., median_test = median(Value), test_low = quantile(Value, \n .     probs = c(0.25)), test_high = quantile(Value, probs = c(0.75)))",
      "3. group_by(., age_group)",
      "4. filter(., TestName == test)",
      "5. mutate(., age_group = factor(age_group, c(\"<7\", \"7-15\", \">15\")))",
      "6. filter(., adeno_pos)",
      "7. filter.data.frame(., adeno_pos)",
      "8. filter_rows(.data, dots, by)",
      "9. filter_eval(dots, mask = mask, error_call = error_call, user_env = user_env)",
      "10. withCallingHandlers(mask$eval_all_filter(dots, env_filter), error = dplyr_error_handler(dots = dots, \n  .     mask = mask, bullets = filter_bullets, error_call = error_call), \n  .     warning = function(cnd) {\n  .         local_error_context(dots, i, mask)\n  .         warning_handler(cnd)\n  .     }, `dplyr:::signal_filter_one_column_matrix` = function(e) {\n  .         warn_filter_one_column_matrix(env = error_call, user_env = user_env)\n  .     }, `dplyr:::signal_filter_across` = function(e) {\n  .         warn_filter_across(env = error_call, user_env = user_env)\n  .     }, `dplyr:::signal_filter_data_frame` = function(e) {\n  .         warn_filter_data_frame(env = error_call, user_env = user_env)\n  .     })",
      "11. mask$eval_all_filter(dots, env_filter)",
      "12. eval()",
      "13. .handleSimpleError(function (cnd) \n  . {\n  .     local_error_context(dots, i = frame[[i_sym]], mask = mask)\n  .     if (inherits(cnd, \"dplyr:::internal_error\")) {\n  .         parent <- error_cnd(message = bullets(cnd))\n  .     }\n  .     else {\n  .         parent <- cnd\n  .     }\n  .     message <- c(cnd_bullet_header(action), i = if (has_active_group_context(mask)) cnd_bullet_cur_group_label())\n  .     abort(message, class = error_class, parent = parent, call = error_call)\n  . }, \"object 'adeno_pos' not found\", base::quote(NULL))",
      "14. h(simpleError(msg, call))",
      "15. abort(message, class = error_class, parent = parent, call = error_call)",
      "16. signal_abort(cnd, .file)"
     ]
    }
   ],
   "source": [
    "for (test in test_names) {\n",
    "    stat_temp <- tests %>%\n",
    "        filter(adeno_pos) %>%\n",
    "        mutate(age_group = factor(age_group, c(\"<7\", \"7-15\", \">15\"))) %>%\n",
    "        filter(TestName == test) %>%\n",
    "        group_by(age_group) %>%\n",
    "        summarise(median_test = median(Value),\n",
    "                  test_low = quantile(Value, probs = c(0.25)),\n",
    "                  test_high = quantile(Value, probs = c(0.75)))\n",
    "    print(test)\n",
    "    print(stat_temp)\n",
    "}"
   ]
  },
  {
   "cell_type": "markdown",
   "id": "e4b506ce",
   "metadata": {},
   "source": [
    "### Diagnostic codes"
   ]
  },
  {
   "cell_type": "code",
   "execution_count": null,
   "id": "cba67666",
   "metadata": {},
   "outputs": [],
   "source": [
    "age_df %>%\n",
    "    filter(ClusterID == 2561819)"
   ]
  },
  {
   "cell_type": "code",
   "execution_count": null,
   "id": "ea789822",
   "metadata": {},
   "outputs": [],
   "source": [
    "total_count <- deframe(diag_df %>% \n",
    "                       distinct(ClusterID, AttendanceStartDate) %>%\n",
    "                       nrow())\n",
    "diag_df %>%\n",
    "    left_join(age_df) %>%\n",
    "    filter(!is.na(age_group)) %>%\n",
    "    mutate(age_group = factor(age_group, c(\"<7\", \"7-15\", \">15\"))) %>%\n",
    "    group_by(DiagCode, age_group) %>%\n",
    "    summarise(n = n()) \n"
   ]
  }
 ],
 "metadata": {
  "kernelspec": {
   "display_name": "R",
   "language": "R",
   "name": "ir"
  },
  "language_info": {
   "codemirror_mode": "r",
   "file_extension": ".r",
   "mimetype": "text/x-r-source",
   "name": "R",
   "pygments_lexer": "r",
   "version": "4.3.2"
  }
 },
 "nbformat": 4,
 "nbformat_minor": 5
}
