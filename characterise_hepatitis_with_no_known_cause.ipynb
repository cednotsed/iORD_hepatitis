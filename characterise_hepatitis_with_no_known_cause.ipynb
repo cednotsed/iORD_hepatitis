{
 "cells": [
  {
   "cell_type": "code",
   "execution_count": 1,
   "id": "17f3f70e",
   "metadata": {
    "scrolled": true
   },
   "outputs": [
    {
     "name": "stderr",
     "output_type": "stream",
     "text": [
      "Loading required package: tidyverse\n",
      "Registered S3 methods overwritten by 'ggplot2':\n",
      "  method         from \n",
      "  [.quosures     rlang\n",
      "  c.quosures     rlang\n",
      "  print.quosures rlang\n",
      "Registered S3 method overwritten by 'rvest':\n",
      "  method            from\n",
      "  read_xml.response xml2\n",
      "── Attaching packages ─────────────────────────────────────── tidyverse 1.2.1 ──\n",
      "✔ ggplot2 3.1.1       ✔ purrr   0.3.2  \n",
      "✔ tibble  2.1.1       ✔ dplyr   0.8.0.1\n",
      "✔ tidyr   0.8.3       ✔ stringr 1.4.0  \n",
      "✔ readr   1.3.1       ✔ forcats 0.4.0  \n",
      "── Conflicts ────────────────────────────────────────── tidyverse_conflicts() ──\n",
      "✖ dplyr::filter() masks stats::filter()\n",
      "✖ dplyr::lag()    masks stats::lag()\n",
      "Loading required package: data.table\n",
      "\n",
      "Attaching package: ‘data.table’\n",
      "\n",
      "The following objects are masked from ‘package:dplyr’:\n",
      "\n",
      "    between, first, last\n",
      "\n",
      "The following object is masked from ‘package:purrr’:\n",
      "\n",
      "    transpose\n",
      "\n",
      "Loading required package: lubridate\n",
      "\n",
      "Attaching package: ‘lubridate’\n",
      "\n",
      "The following objects are masked from ‘package:data.table’:\n",
      "\n",
      "    hour, isoweek, mday, minute, month, quarter, second, wday, week,\n",
      "    yday, year\n",
      "\n",
      "The following object is masked from ‘package:base’:\n",
      "\n",
      "    date\n",
      "\n",
      "Loading required package: foreach\n",
      "\n",
      "Attaching package: ‘foreach’\n",
      "\n",
      "The following objects are masked from ‘package:purrr’:\n",
      "\n",
      "    accumulate, when\n",
      "\n",
      "Loading required package: doParallel\n",
      "Warning message in library(package, lib.loc = lib.loc, character.only = TRUE, logical.return = TRUE, :\n",
      "“there is no package called ‘doParallel’”Loading required package: randomcoloR\n",
      "Warning message in library(package, lib.loc = lib.loc, character.only = TRUE, logical.return = TRUE, :\n",
      "“there is no package called ‘randomcoloR’”Loading required package: ggpubr\n",
      "Warning message in library(package, lib.loc = lib.loc, character.only = TRUE, logical.return = TRUE, :\n",
      "“there is no package called ‘ggpubr’”"
     ]
    }
   ],
   "source": [
    "# rm(list = ls())\n",
    "setwd(\"/mnt/c/git_repos/iORD_hepatitis/\")\n",
    "require(tidyverse)\n",
    "require(data.table)\n",
    "require(lubridate)\n",
    "require(foreach)\n",
    "require(doParallel)\n",
    "require(randomcoloR)\n",
    "require(ggpubr)\n"
   ]
  },
  {
   "cell_type": "markdown",
   "id": "4785dc90",
   "metadata": {},
   "source": [
    "### Load data"
   ]
  },
  {
   "cell_type": "code",
   "execution_count": 2,
   "id": "0b5a0c70",
   "metadata": {
    "scrolled": false
   },
   "outputs": [
    {
     "name": "stderr",
     "output_type": "stream",
     "text": [
      "Joining, by = c(\"ClusterID\", \"AttendanceStartDate\")\n",
      "Warning message:\n",
      "“NAs introduced by coercion”Warning message:\n",
      "“NAs introduced by coercion”Joining, by = c(\"ClusterID\", \"SpellID\")\n",
      "Joining, by = c(\"ClusterID\", \"AttendanceStartDate\")\n"
     ]
    }
   ],
   "source": [
    "age_df <- fread(\"data/IORD_ASHep-UE_34_20230120_Attendances.csv\") %>%\n",
    "    mutate(AttendanceStartDate = as.Date(AttendanceStartDate),\n",
    "           AttendanceEndDate = as.Date(AttendanceEndDate),\n",
    "           LinkedBirthmonth = as.Date(LinkedBirthmonth)) %>%\n",
    "    mutate(age_upon_presentation = time_length(AttendanceStartDate -\n",
    "                                               LinkedBirthmonth, \"year\")) %>%\n",
    "    mutate(age_upon_presentation = floor(age_upon_presentation)) %>% \n",
    "    mutate(age_group = case_when(age_upon_presentation < 7 ~ \"<7\",\n",
    "                                 age_upon_presentation >= 6 & age_upon_presentation <= 15 ~ \"7-15\",\n",
    "                                 age_upon_presentation >= 16 ~ \">15\")) %>%\n",
    "    filter(AttendanceStartDate < as.Date(\"2023-01-01\")) %>%\n",
    "    arrange(AttendanceStartDate)\n",
    "\n",
    "micro_df <- fread(\"data/IORD_ASHep-UE_34_20230120_Microbiology.csv\") %>%\n",
    "    mutate(AttendanceStartDate = as.Date(AttendanceStartDate)) %>%\n",
    "    left_join(age_df) %>%\n",
    "    mutate(AttendanceMonth = cut(AttendanceStartDate, breaks = \"month\"),\n",
    "           AttendanceTwoMonth = cut(AttendanceStartDate, breaks = \"2 months\")) %>%\n",
    "    mutate(AttendanceStartDate = as.Date(AttendanceStartDate),\n",
    "           AttendanceMonth = as.Date(AttendanceMonth),\n",
    "           AttendanceTwoMonth = as.Date(AttendanceTwoMonth)) %>%\n",
    "    filter(AttendanceMonth < as.Date(\"2023-01-01\")) %>%\n",
    "    rename(MicroTestName = TestName) %>%\n",
    "    # Parse records\n",
    "    mutate(BugName = ifelse(BatTestCode == \"QADN\" & ResultFull == \"DETECTED\", \"Adenovirus\", BugName)) %>%\n",
    "    mutate(BugName = ifelse(grepl(\"Adenovirus\", BugName, ignore.case = T), \"Adenovirus\", BugName)) %>%\n",
    "    mutate(BugName = ifelse(BatTestCode %in% c('CV2G', 'CV2G2', 'CV2P', 'CV2Q', 'CV2V', 'RCV2Q', 'RCV2V') &\n",
    "                            !grepl(\"not detected| |NONE|indeterminate\", ResultFull, ignore.case = T),\n",
    "                            \"SARS-CoV-2\", BugName)) %>%\n",
    "    mutate(BugName = ifelse(grepl(\"SARS Coronavirus-2\", BugName, ignore.case = T), \"SARS-CoV-2\", BugName)) %>%\n",
    "    mutate(BugName = ifelse(grepl(\"Staphy\", BugName, ignore.case = T), \"Staphylococcus\", BugName)) %>%\n",
    "    mutate(BugName = ifelse(grepl(\"Strep\", BugName, ignore.case = T), \"Streptococcus\", BugName)) %>%\n",
    "    mutate(BugName = ifelse(grepl(\"Candida\", BugName, ignore.case = T), \"Candida\", BugName)) %>%\n",
    "    mutate(BugName = ifelse(grepl(\"influenza a|influenza b|flu a|flu b\", BugName, ignore.case = T), \"Influenza\", BugName)) %>%\n",
    "    mutate(BugName = ifelse(grepl(\"Escherichia|E. coli\", BugName, ignore.case = T), \"Escherichia\", BugName)) %>%\n",
    "    mutate(BugName = ifelse(grepl(\"Enterococcus\", BugName, ignore.case = T), \"Enterococcus\", BugName)) %>%\n",
    "    mutate(BugName = ifelse(grepl(\"Klebsiella\", BugName, ignore.case = T), \"Klebsiella\", BugName)) %>%\n",
    "    mutate(BugName = ifelse(grepl(\"Acinetobacter\", BugName, ignore.case = T), \"Acinetobacter\", BugName)) %>%\n",
    "    mutate(BugName = ifelse(grepl(\"Bacillus\", BugName, ignore.case = T), \"Bacillus\", BugName)) %>%\n",
    "    mutate(BugName = ifelse(grepl(\"HAEMOPHILUS\", BugName, ignore.case = T), \"Haemophilus\", BugName)) %>%\n",
    "    mutate(BugName = ifelse(grepl(\"Parvimonas\", BugName, ignore.case = T), \"Parvimonas\", BugName)) %>%\n",
    "    mutate(BugName = ifelse(grepl(\"Burkholderia\", BugName, ignore.case = T), \"Burkholderia\", BugName)) %>%\n",
    "    mutate(BugName = ifelse(grepl(\"Micrococcus\", BugName, ignore.case = T), \"Micrococcus\", BugName)) %>%\n",
    "    mutate(BugName = ifelse(grepl(\"Proteus\", BugName, ignore.case = T), \"Proteus\", BugName)) %>%\n",
    "    mutate(BugName = ifelse(grepl(\"Lactococcus\", BugName, ignore.case = T), \"Lactococcus\", BugName)) %>%\n",
    "    mutate(BugName = ifelse(grepl(\"Rothia\", BugName, ignore.case = T), \"Rothia\", BugName)) %>%\n",
    "    mutate(BugName = ifelse(grepl(\"Salmonella\", BugName, ignore.case = T), \"Salmonella\", BugName)) %>%\n",
    "    mutate(BugName = ifelse(grepl(\"Actinomyces\", BugName, ignore.case = T), \"Actinomyces\", BugName)) %>%\n",
    "    mutate(BugName = ifelse(grepl(\"ANAEROCOCCUS\", BugName, ignore.case = T), \"Anaerococcus \", BugName)) %>%\n",
    "    mutate(BugName = ifelse(grepl(\"Pseudomonas\", BugName, ignore.case = T), \"Pseudomonas\", BugName)) %>%\n",
    "    mutate(BugName = ifelse(grepl(\"Corynebacterium\", BugName, ignore.case = T), \"Corynebacterium\", BugName)) %>%\n",
    "    mutate(BugName = ifelse(grepl(\"Yersinia\", BugName, ignore.case = T), \"Yersinia\", BugName)) %>%\n",
    "    mutate(BugName = ifelse(grepl(\"ASPERGILLUS\", BugName, ignore.case = T), \"Aspergillus\", BugName)) %>%\n",
    "    mutate(BugName = ifelse(grepl(\"TURICELLA\", BugName, ignore.case = T), \"Turicella\", BugName)) %>%\n",
    "    mutate(BugName = ifelse(grepl(\"serratia\", BugName, ignore.case = T), \"Serratia\", BugName)) %>%\n",
    "    mutate(BugName = ifelse(grepl(\"moraxella\", BugName, ignore.case = T), \"Moraxella\", BugName)) %>%\n",
    "    mutate(BugName = ifelse(grepl(\"bacteroides\", BugName, ignore.case = T), \"Bacteroides\", BugName)) %>%\n",
    "    mutate(BugName = ifelse(grepl(\"shigella\", BugName, ignore.case = T), \"Shigella\", BugName)) %>%\n",
    "    mutate(BugName = ifelse(grepl(\"enterobacter\", BugName, ignore.case = T), \"Enterobacter\", BugName)) %>%\n",
    "    mutate(BugName = ifelse(grepl(\"GORDONIA\", BugName, ignore.case = T), \"Gordonia\", BugName)) %>%\n",
    "    mutate(BugName = ifelse(grepl(\"rhinovirus|enterovirus\", BugName, ignore.case = T), \"Rhinovirus/Enterovirus\", BugName)) %>%\n",
    "    mutate(BugName = ifelse(grepl(\"aerococcus\", BugName, ignore.case = T), \"Aerococcus\", BugName)) %>%\n",
    "    mutate(BugName = ifelse(grepl(\"aeromonas\", BugName, ignore.case = T), \"Aeromonas\", BugName)) %>%\n",
    "    mutate(BugName = ifelse(grepl(\"Raoultella\", BugName, ignore.case = T), \"Raoultella\", BugName)) %>%\n",
    "    mutate(BugName = ifelse(grepl(\"Brevibacterium\", BugName, ignore.case = T), \"Brevibacterium\", BugName)) %>%\n",
    "    mutate(BugName = ifelse(grepl(\"Prevotella\", BugName, ignore.case = T), \"Prevotella\", BugName)) %>%\n",
    "    mutate(BugName = ifelse(grepl(\"Trichophyton\", BugName, ignore.case = T), \"Trichophyton\", BugName)) %>%\n",
    "    mutate(BugName = ifelse(grepl(\"Parainfluenzavirus|parainfluenza virus\", BugName, ignore.case = T), \"Parainfluenzavirus\", BugName)) %>%\n",
    "    mutate(BugName = ifelse(grepl(\"Clostridium\", BugName, ignore.case = T), \"Clostridium\", BugName)) %>%\n",
    "    mutate(BugName = ifelse(grepl(\"Neisseria\", BugName, ignore.case = T), \"Neisseria\", BugName)) %>%\n",
    "    mutate(BugName = ifelse(grepl(\"Fusobacterium\", BugName, ignore.case = T), \"Fusobacterium\", BugName)) %>%\n",
    "    mutate(BugName = ifelse(grepl(\"Atopobium\", BugName, ignore.case = T), \"Atopobium\", BugName)) %>%\n",
    "    mutate(BugName = ifelse(grepl(\"Aggregatibacter\", BugName, ignore.case = T), \"Aggregatibacter\", BugName)) %>%\n",
    "    mutate(BugName = ifelse(grepl(\"Sphingobacterium\", BugName, ignore.case = T), \"Sphingobacterium\", BugName)) %>%\n",
    "    mutate(BugName = ifelse(grepl(\"Bradyrhizobium\", BugName, ignore.case = T), \"Bradyrhizobium\", BugName)) %>%\n",
    "    mutate(BugName = ifelse(grepl(\"Ruminococcus\", BugName, ignore.case = T), \"Ruminococcus\", BugName)) %>%\n",
    "    mutate(BugName = ifelse(grepl(\"Alcaligenes\", BugName, ignore.case = T), \"Alcaligenes\", BugName)) %>%\n",
    "    mutate(BugName = ifelse(grepl(\"Paracoccus\", BugName, ignore.case = T), \"Paracoccus\", BugName)) %>%\n",
    "    mutate(BugName = ifelse(grepl(\"HAEMATOBACTER\", BugName, ignore.case = T), \"Haematobacter\", BugName)) %>%\n",
    "    mutate(BugName = ifelse(grepl(\"Microbacterium\", BugName, ignore.case = T), \"Microbacterium\", BugName)) %>%\n",
    "    mutate(BugName = ifelse(grepl(\"Mycobacterium\", BugName, ignore.case = T), \"Mycobacterium\", BugName)) %>%\n",
    "    mutate(BugName = ifelse(grepl(\"Citrobacter\", BugName, ignore.case = T), \"Citrobacter\", BugName)) %>%\n",
    "    mutate(BugName = ifelse(grepl(\"Propionibacterium\", BugName, ignore.case = T), \"Cutibacterium\", BugName)) %>%\n",
    "    mutate(BugName = ifelse(grepl(\"Respiratory Syncytial Virus\", BugName, ignore.case = T), \"RSV\", BugName)) %>%\n",
    "    mutate(BugName = ifelse(grepl(\"Herpes|varicella\", BugName, ignore.case = T), \"Herpesvirus\", BugName)) %>%\n",
    "    mutate(BugName = ifelse(grepl(\"ACHROMOBACTER\", BugName, ignore.case = T), \"Achromobacter\", BugName)) %>%\n",
    "    mutate(BugName = ifelse(grepl(\"Kocuria\", BugName, ignore.case = T), \"Kocuria\", BugName)) %>%\n",
    "    mutate(BugName = ifelse(grepl(\"Roseomonas\", BugName, ignore.case = T), \"Roseomonas\", BugName)) %>%\n",
    "    mutate(BugName = ifelse(grepl(\"Morganella\", BugName, ignore.case = T), \"Morganella\", BugName)) %>%\n",
    "    mutate(BugName = ifelse(grepl(\"Listeria\", BugName, ignore.case = T), \"Listeria\", BugName)) %>%\n",
    "    mutate(BugName = ifelse(grepl(\"Chlamydia\", BugName, ignore.case = T), \"Cutibacterium\", BugName)) %>%\n",
    "    mutate(BugName = ifelse(grepl(\"Stenotrophomonas\", BugName, ignore.case = T), \"Stenotrophomonas\", BugName)) %>%\n",
    "    mutate(BugName = ifelse(grepl(\"Sphingomonas\", BugName, ignore.case = T), \"Sphingomonas\", BugName)) %>%\n",
    "    mutate(BugName = ifelse(grepl(\"VEILLONELLA\", BugName, ignore.case = T), \"Veillonella\", BugName)) %>%\n",
    "    mutate(BugName = ifelse(grepl(\"Finegoldia\", BugName, ignore.case = T), \"Finegoldia\", BugName)) %>%\n",
    "    mutate(BugName = ifelse(grepl(\"Pasteurella\", BugName, ignore.case = T), \"Pasteurella\", BugName)) %>%\n",
    "    mutate(BugName = ifelse(grepl(\"Campylobacter\", BugName, ignore.case = T), \"Campylobacter\", BugName)) %>%\n",
    "    mutate(BugName = ifelse(grepl(\"Rhizobium\", BugName, ignore.case = T), \"Rhizobium\", BugName)) %>%\n",
    "    mutate(BugName = ifelse(grepl(\"PEPTONIPHILUS\", BugName, ignore.case = T), \"Peptoniphilus\", BugName)) %>%\n",
    "    mutate(BugName = ifelse(grepl(\"Brevundimonas\", BugName, ignore.case = T), \"Brevundimonas\", BugName)) %>%\n",
    "    mutate(BugName = ifelse(grepl(\"GEMELLA\", BugName, ignore.case = T), \"Gemella\", BugName)) %>%\n",
    "    mutate(BugName = ifelse(grepl(\"cocci|colonies|aerobic|anaerobic|anaerobes|gram positive|gram negative|Fungal\", BugName, ignore.case = T), \"ambiguous\", BugName))\n",
    "\n",
    "test_df <- fread(\"data/IORD_ASHep-UE_34_20230120_LIMS.csv\") %>%\n",
    "    mutate(CollectionDateTime = as.Date(CollectionDateTime),\n",
    "           AttendanceStartDate = as.Date(AttendanceStartDate)) %>%\n",
    "    filter(AttendanceStartDate < as.Date(\"2023-01-01\"))\n",
    "\n",
    "test_parsed <- test_df %>%\n",
    "    distinct(ClusterID, AttendanceStartDate, TestName, .keep_all = T) %>%\n",
    "    separate(RefRange, into = c(\"LLN\", \"ULN\"), sep = \"-\") %>%\n",
    "    mutate(ULN = as.numeric(ULN)) %>%\n",
    "    select(-CollectionDateTime, -ReceiveDateTime) %>%\n",
    "    mutate(Value = as.numeric(Value)) %>%\n",
    "    mutate(Value = ifelse(is.na(Value), 0, Value)) %>%\n",
    "    mutate(value_class = case_when(Value <= ULN ~ \"Normal <= ULN\",\n",
    "                                 Value > ULN & Value <= 2 * ULN ~ \"Mild (1-2x ULN)\",\n",
    "                                 Value > 2 * ULN & Value <= 5 * ULN  ~ \"Moderate (2-5x ULN)\",\n",
    "                                 Value > 5 * ULN ~ \"Severe (>5x ULN)\")) %>%\n",
    "    mutate(value_class = factor(value_class, c(\"Normal <= ULN\", \n",
    "                                               \"Mild (1-2x ULN)\", \n",
    "                                               \"Moderate (2-5x ULN)\",\n",
    "                                               \"Severe (>5x ULN)\"))) \n",
    "\n",
    "diag_df <- fread(\"data/IORD_ASHep-UE_34_20230120_DiagnosisCodes.csv\") %>%\n",
    "    left_join(fread(\"data/IORD_ASHep-UE_34_20230120_InpatientSpells.csv\")) %>%\n",
    "    mutate(AttendanceStartDate = as.Date(AttendanceStartDate)) %>%\n",
    "    left_join(age_df) %>%\n",
    "    mutate(age_upon_presentation = floor(age_upon_presentation)) %>% \n",
    "    mutate(age_group = case_when(age_upon_presentation < 7 ~ \"<7\",\n",
    "                                 age_upon_presentation >= 6 & age_upon_presentation <= 15 ~ \"7-15\",\n",
    "                                 age_upon_presentation >= 16 ~ \">15\")) %>%\n",
    "    mutate(AttendanceMonth = cut(AttendanceStartDate, breaks = \"month\"),\n",
    "           AttendanceTwoMonth = cut(AttendanceStartDate, breaks = \"2 months\")) %>%\n",
    "    mutate(AttendanceMonth = as.Date(AttendanceMonth),\n",
    "           AttendanceTwoMonth = as.Date(AttendanceTwoMonth)) %>%\n",
    "    arrange(AttendanceMonth) %>%\n",
    "    filter(AttendanceStartDate < as.Date(\"2023-01-01\"))\n",
    "\n",
    "spell_df <- fread(\"data/IORD_ASHep-UE_34_20230120_InpatientSpells.csv\") %>%\n",
    "    mutate(AttendanceStartDate = as.Date(AttendanceStartDate)) %>%\n",
    "    filter(AttendanceStartDate < as.Date(\"2023-01-01\"))\n",
    "\n",
    "vital_df <- fread(\"data/IORD_ASHep-UE_34_20230120_VitalSigns.csv\") %>%\n",
    "    distinct(ClusterID, AttendanceStartDate, EventName, .keep_all = T) %>%\n",
    "    mutate(AttendanceStartDate = as.Date(AttendanceStartDate)) %>%\n",
    "    filter(AttendanceStartDate < as.Date(\"2023-01-01\"))\n",
    "\n",
    "# all_months <- cut(seq(as.Date(\"2016-03-01\"), as.Date(\"2022-12-01\"), by = \"1 month\"), breaks = \"1 month\")\n",
    "# all_months_df <- tibble(AttendanceMonth = rep(as.Date(all_months),3),\n",
    "#                         age_group = c(rep(\"<7\", length(all_months)),\n",
    "#                                       rep(\"7-15\", length(all_months)),\n",
    "#                                       rep(\">15\", length(all_months))))"
   ]
  },
  {
   "cell_type": "code",
   "execution_count": 3,
   "id": "241ff2e3",
   "metadata": {},
   "outputs": [],
   "source": [
    "micro_df2 <- fread(\"data/IORD_ASHep-UE_34_20230120_Microbiology.csv\")"
   ]
  },
  {
   "cell_type": "code",
   "execution_count": 4,
   "id": "c097865c",
   "metadata": {},
   "outputs": [
    {
     "data": {
      "image/png": "[encoded data removed]",
      "text/plain": [
       "plot without title"
      ]
     },
     "metadata": {},
     "output_type": "display_data"
    }
   ],
   "source": [
    "micro_df %>%\n",
    "    filter(BatTestCode %in% c('CV2G', 'CV2G2', 'CV2P', 'CV2Q', 'CV2V', 'RCV2Q', 'RCV2V')) %>%\n",
    "    distinct(ClusterID, AttendanceStartDate, .keep_all = T) %>%\n",
    "    group_by(AttendanceMonth) %>%\n",
    "    summarise(n = n()) %>%\n",
    "    ggplot(aes(x = AttendanceMonth, y = n)) +\n",
    "    geom_point() +\n",
    "    geom_line() +\n",
    "    scale_x_date(date_labels=\"%b-%y\", date_breaks  = \"3 month\") +\n",
    "    labs(x = \"Attendance Month\", y =  \"No. of COVID test results\")\n",
    "\n"
   ]
  },
  {
   "cell_type": "code",
   "execution_count": 5,
   "id": "eca845ca",
   "metadata": {},
   "outputs": [
    {
     "data": {
      "text/html": [
       "<table>\n",
       "<thead><tr><th scope=col>SpecimenFull</th><th scope=col>ResultFull</th></tr></thead>\n",
       "<tbody>\n",
       "\t<tr><td><span style=white-space:pre-wrap>NOSE &amp; THROAT SWAB                 </span>                                                                                                                                                                                                                                               </td><td><span style=white-space:pre-wrap>Adenovirus DETECTED(by BIOFIRE) RHINOVIRUS/ENTEROVIRUS DETECTED (by BIOFIRE) This specimen has been tested using PCR which detects Adenovirus, Coronavirus 229E, Coronavirus HKU1, Coronavirus NL63, Coronavirus OC43, Human Metapneumovirus, Human Rhinovirus / Enterovirus,         </span></td></tr>\n",
       "\t<tr><td><span style=white-space:pre-wrap>NOSE &amp; THROAT SWAB                 </span>                                                                                                                                                                                                                                               </td><td><span style=white-space:pre-wrap>Adenovirus DETECTEDHUMAN RHINOVIRUS/ENTEROVIRUS DETECTED (by BIOFIRE) This specimen has been tested using PCR which detects Adenovirus, Coronavirus 229E, Coronavirus HKU1, Coronavirus NL63, Coronavirus OC43, Human Metapneumovirus, Human Rhinovirus / Enterovirus, Influe         </span></td></tr>\n",
       "\t<tr><td><span style=white-space:pre-wrap>NOSE &amp; THROAT SWAB                 </span>                                                                                                                                                                                                                                               </td><td><span style=white-space:pre-wrap>Adenovirus DETECTED(by BIOFIRE) This specimen has been tested using PCR which detects Adenovirus, Coronavirus 229E, Coronavirus HKU1, Coronavirus NL63, Coronavirus OC43, Human Metapneumovirus, Human Rhinovirus / Enterovirus, Influenza A, Influenza B, Middle East Respir         </span></td></tr>\n",
       "\t<tr><td>THROAT SWABTHROAT SWAB                                                                                                                                                                                                                                                                </td><td>Influenza B virus DETECTEDAdenovirus DETECTED This specimen has been tested for Influenza A, A (H1/N1), B, Rhinovirus, Coronaviruses, Parainfluenza's 1/2/3 and 4, Adenovirus, Metapneumovirus, Respiratory Syncytial virus, Enterovirus, Parechovirus, Bocavirus and Mycoplasma pne  </td></tr>\n",
       "\t<tr><td>BRONCHO-ALVEOLAR LAVAGE                                                                                                                                                                                                                                                               </td><td>No microorganisms detectedby PCR (by BIOFIRE) This specimen has been tested using PCR which detects Adenovirus, Coronavirus 229E, Coronavirus HKU1, Coronavirus NL63, Coronavirus OC43, Human Metapneumovirus, Human Rhinovirus / Enterovirus, Influenza A, Influenza B, Middle East  </td></tr>\n",
       "\t<tr><td>NASOPHARYNGEAL ASPIRATE;Nostril R                                                                                                                                                                                                                                                     </td><td>Adenovirus DETECTED(by BIOFIRE) RHINOVIRUS/ENTEROVIRUS DETECTED (by BIOFIRE) Influenza A virus DETECTED (by BIOFIRE) This specimen has been tested using PCR which detects Adenovirus, Coronavirus 229E, Coronavirus HKU1, Coronavirus NL63, Coronavirus OC43, Human Metapneu         </td></tr>\n",
       "\t<tr><td>THROAT SWABTHROAT SWAB                                                                                                                                                                                                                                                                </td><td>Adenovirus DETECTEDby PCR (by BIOFIRE) This specimen has been tested using PCR which detects Adenovirus, Coronavirus 229E, Coronavirus HKU1, Coronavirus NL63, Coronavirus OC43, Human Metapneumovirus, Human Rhinovirus / Enterovirus, Influenza A, Influenza B, Middle East         </td></tr>\n",
       "\t<tr><td>EYE SWAB                                                                                                                                                                                                                                                                              </td><td>Adenovirus DETECTEDby EliTech InGenius ELITe assay This specimen has been tested using PCR which detects Adeno,Herpes Simplex and Varicella Zoster viruses and Chlamydia trachomatis. This assay has been verified by the laboratory and is awaiting accreditation under ISO1         </td></tr>\n",
       "\t<tr><td>BRONCHO-ALVEOLAR LAVAGERIGHT ;LOWER                                                                                                                                                                                                                                                   </td><td>Adenovirus DETECTEDThis specimen has been tested for Influenza A, A (H1/N1), B, Rhinovirus, Coronaviruses, Parainfluenza's 1/2/3 and 4, Adenovirus, Metapneumovirus, Respiratory Syncytial virus, Enterovirus, Parechovirus, Bocavirus and Mycoplasma pneumoniae.                     </td></tr>\n",
       "\t<tr><td><span style=white-space:pre-wrap>NOSE &amp; THROAT SWAB                 </span>                                                                                                                                                                                                       </td><td>HUMAN RHINOVIRUS/ENTEROVIRUSDETECTED (by BIOFIRE) Adenovirus DETECTED (by BIOFIRE) This specimen has been tested using PCR which detects Adenovirus, Coronavirus 229E, Coronavirus HKU1, Coronavirus NL63, Coronavirus OC43, Human Metapneumovirus, Human Rhinovirus / Enterovirus, In</td></tr>\n",
       "\t<tr><td><span style=white-space:pre-wrap>NOSE &amp; THROAT SWAB                 </span>                                                                                                                                                                                                                                               </td><td><span style=white-space:pre-wrap>Adenovirus DETECTED(by BIOFIRE) PARAINFLUENZA VIRUS type 1 DETECTED (by BIOFIRE) This specimen has been tested using PCR which detects Adenovirus, Coronavirus 229E, Coronavirus HKU1, Coronavirus NL63, Coronavirus OC43, Human Metapneumovirus, Human Rhinovirus / Enterovi         </span></td></tr>\n",
       "\t<tr><td>THROAT SWABTHROAT SWAB                                                                                                                                                                                                                                                                </td><td>Adenovirus DETECTEDThis specimen has been tested using PCR which detects Adeno,Herpes Simplex and Varicella Zoster viruses and Chlamydia trachomatis.                                                                                                                                 </td></tr>\n",
       "\t<tr><td>EYE SWAB                                                                                                                                                                                                                                                                              </td><td>ADENOVIRUSIndeterminate by EliTech InGenius This specimen has been tested using PCR which detects Adeno,Herpes Simplex and Varicella Zoster viruses and Chlamydia trachomatis. This assay has been verified by the laboratory and is awaiting accreditation under IS                  </td></tr>\n",
       "\t<tr><td>NASOPHARYNGEAL ASPIRATE                                                                                                                                                                                                                                                               </td><td>HUMAN RHINOVIRUS/ENTEROVIRUSDETECTED (by BIOFIRE) Adenovirus DETECTED (by BIOFIRE) This specimen has been tested using PCR which detects Adenovirus, Coronavirus 229E, Coronavirus HKU1, Coronavirus NL63, Coronavirus OC43, Human Metapneumovirus, Human Rhinovirus / Enterovirus, In</td></tr>\n",
       "\t<tr><td>NASO PHARYNGEAL ASPIRATE                                                                                                                                                                                                                                                              </td><td>Rhinovirus DETECTEDAdenovirus DETECTED This specimen has been tested for Influenza A, A (H1/N1), B, Rhinovirus, Coronaviruses, Parainfluenza's 1/2/3 and 4, Adenovirus, Metapneumovirus, Respiratory Syncytial virus, Enterovirus, Parechovirus, Bocavirus and Mycoplasma pne         </td></tr>\n",
       "\t<tr><td>CONJUNCTIVAL SWAB, LEFT                                                                                                                                                                                                                                                               </td><td>Adenovirus DETECTEDThis sample has undergone a dilution step to obtain this result. This specimen has been tested using PCR which detects Adeno,Herpes Simplex and Varicella Zoster viruses and Chlamydia trachomatis.                                                                </td></tr>\n",
       "\t<tr><td>CONJUNCTIVAL SWAB, RIGHT                                                                                                                                                                                                                                                              </td><td>Adenovirus DETECTEDThis sample has undergone a dilution step to obtain this result. This specimen has been tested using PCR which detects Adeno,Herpes Simplex and Varicella Zoster viruses and Chlamydia trachomatis.                                                                </td></tr>\n",
       "\t<tr><td>NASO PHARYNGEAL ASPIRATE                                                                                                                                                                                                                                                              </td><td>Metapneumovirus DETECTEDAdenovirus DETECTED This specimen has been tested for Influenza A, A (H1/N1), B, Rhinovirus, Coronaviruses, Parainfluenza's 1/2/3 and 4, Adenovirus, Metapneumovirus, Respiratory Syncytial virus, Enterovirus, Parechovirus, Bocavirus and Mycoplasma pne    </td></tr>\n",
       "\t<tr><td>THROAT SWAB                                                                                                                                                                                                                                                                           </td><td>Adenovirus DETECTEDMetapneumovirus DETECTED (by BIOFIRE) This specimen has been tested using PCR which detects Adenovirus, Coronavirus 229E, Coronavirus HKU1, Coronavirus NL63, Coronavirus OC43, Human Metapneumovirus, Human Rhinovirus / Enterovirus, Influenza A, Influe         </td></tr>\n",
       "\t<tr><td>EYE SWABCONJUNCTIVAL SWAB, RIGHT                                                                                                                                                                                                                                                      </td><td>Adenovirus DETECTEDby EliTech InGenius This specimen has been tested using PCR which detects Adeno,Herpes Simplex and Varicella Zoster viruses and Chlamydia trachomatis. This assay has been verified by the laboratory and is awaiting accreditation under ISO15189 2012.           </td></tr>\n",
       "\t<tr><td><span style=white-space:pre-wrap>NOSE &amp; THROAT SWAB                 </span>                                                                                                                                                                                                                                               </td><td><span style=white-space:pre-wrap>Influenza A virus DETECTEDAdenovirus DETECTED (by BIOFIRE) This specimen has been tested using PCR which detects Adenovirus, Coronavirus 229E, Coronavirus HKU1, Coronavirus NL63, Coronavirus OC43, Human Metapneumovirus, Human Rhinovirus / Enterovirus, Influenza A, Influenza B  </span></td></tr>\n",
       "\t<tr><td>NASOPHARYNGEAL ASPIRATE                                                                                                                                                                                                                                                               </td><td>Adenovirus DETECTED(by BIOFIRE) This specimen has been tested using PCR which detects Adenovirus, Coronavirus 229E, Coronavirus HKU1, Coronavirus NL63, Coronavirus OC43, Human Metapneumovirus, Human Rhinovirus / Enterovirus, Influenza A, Influenza B, Middle East Respir         </td></tr>\n",
       "\t<tr><td>THROAT SWABTHROAT SWAB                                                                                                                                                                                                                                                                </td><td>Adenovirus DETECTED(by BIOFIRE) This specimen has been tested using PCR which detects Adenovirus, Coronavirus 229E, Coronavirus HKU1, Coronavirus NL63, Coronavirus OC43, Human Metapneumovirus, Human Rhinovirus / Enterovirus, Influenza A, Influenza B, Middle East Respir         </td></tr>\n",
       "\t<tr><td>NULL                                                                                                                                                                                                                                                                                  </td><td>DETECTED                                                                                                                                                                                                                                                                              </td></tr>\n",
       "\t<tr><td>THROAT SWABTHROAT SWAB                                                                                                                                                                                                                                                                </td><td>Adenovirus DETECTED(by BIOFIRE) Coronavirus NL63 DETECTED (by BIOFIRE) This specimen has been tested using PCR which detects Adenovirus, Coronavirus 229E, Coronavirus HKU1, Coronavirus NL63, Coronavirus OC43, Human Metapneumovirus, Human Rhinovirus / Enterovirus, Influ         </td></tr>\n",
       "\t<tr><td>NASOPHARYNGEAL ASPIRATE                                                                                                                                                                                                                                                               </td><td>Adenovirus DETECTED(by BIOFIRE) RHINOVIRUS/ENTEROVIRUS DETECTED (by BIOFIRE) This specimen has been tested using PCR which detects Adenovirus, Coronavirus 229E, Coronavirus HKU1, Coronavirus NL63, Coronavirus OC43, Human Metapneumovirus, Human Rhinovirus / Enterovirus,         </td></tr>\n",
       "\t<tr><td><span style=white-space:pre-wrap>NOSE &amp; THROAT SWAB                 </span>                                                                                                                                                                                                                                               </td><td><span style=white-space:pre-wrap>Adenovirus DETECTED(by BIOFIRE) HUMAN RHINOVIRUS/ENTEROVIRUS DETECTED (by BIOFIRE) This specimen has been tested using PCR which detects Adenovirus, Coronavirus 229E, Coronavirus HKU1, Coronavirus NL63, Coronavirus OC43, Human Metapneumovirus, Human Rhinovirus / Entero         </span></td></tr>\n",
       "\t<tr><td>NASOPHARYNGEAL ASPIRATETHROAT SWAB                                                                                                                                                                                                                                                    </td><td>Adenovirus DETECTED(by BIOFIRE) Metapneumovirus DETECTED (by BIOFIRE) HUMAN RHINOVIRUS/ENTEROVIRUS DETECTED (by BIOFIRE) PARAINFLUENZA VIRUS type 3 DETECTED (by BIOFIRE) This specimen has been tested using PCR which detects Adenovirus, Coronavirus 229E, Coronavirus HKU         </td></tr>\n",
       "\t<tr><td>THROAT SWAB                                                                                                                                                                                                                                                                           </td><td>Influenza B virus DETECTEDAdenovirus DETECTED This specimen has been tested for Influenza A, A (H1/N1), B, Rhinovirus, Coronaviruses, Parainfluenza's 1/2/3 and 4, Adenovirus, Metapneumovirus, Respiratory Syncytial virus, Enterovirus, Parechovirus, Bocavirus and Mycoplasma pne  </td></tr>\n",
       "\t<tr><td>THROAT SWAB                                                                                                                                                                                                                                                                           </td><td>Adenovirus DETECTEDby PCR (by BIOFIRE) This specimen has been tested using PCR which detects Adenovirus, Coronavirus 229E, Coronavirus HKU1, Coronavirus NL63, Coronavirus OC43, Human Metapneumovirus, Human Rhinovirus / Enterovirus, Influenza A, Influenza B, Middle East         </td></tr>\n",
       "\t<tr><td>...</td><td>...</td></tr>\n",
       "\t<tr><td>NASO PHARYNGEAL ASPIRATE;Nasopharynx                                                                                                                                                                                                                                                </td><td>Rhinovirus DETECTEDCoronavirus 229E DETECTED Metapneumovirus DETECTED Respiratory Syncytial Virus DETECTED Adenovirus DETECTED This specimen has been tested for Influenza A, A (H1/N1), B, Rhinovirus, Coronaviruses, Parainfluenza's 1/2/3 and 4, Adenovirus, Metapneumovir       </td></tr>\n",
       "\t<tr><td>NOSE SWAB                                                                                                                                                                                                                                                                           </td><td>Adenovirus DETECTED(by BIOFIRE) HUMAN RHINOVIRUS/ENTEROVIRUS DETECTED (by BIOFIRE) This specimen has been tested using PCR which detects Adenovirus, Coronavirus 229E, Coronavirus HKU1, Coronavirus NL63, Coronavirus OC43, Human Metapneumovirus, Human Rhinovirus / Entero       </td></tr>\n",
       "\t<tr><td>THROAT SWABTHROAT SWAB                                                                                                                                                                                                                                                              </td><td>Adenovirus DETECTEDby PCR (by BIOFIRE) Respiratory Syncytial Virus DETECTED by PCR (by BIOFIRE) This specimen has been tested using PCR which detects Adenovirus, Coronavirus 229E, Coronavirus HKU1, Coronavirus NL63, Coronavirus OC43, Human Metapneumovirus, Human Rhinov       </td></tr>\n",
       "\t<tr><td>THROAT SWAB                                                                                                                                                                                                                                                                         </td><td>Adenovirus DETECTED(by BIOFIRE) MYCOPLASMA PNEUMONIAE DETECTED (by BIOFIRE) This specimen has been tested using PCR which detects Adenovirus, Coronavirus 229E, Coronavirus HKU1, Coronavirus NL63, Coronavirus OC43, Human Metapneumovirus, Human Rhinovirus / Enterovirus,        </td></tr>\n",
       "\t<tr><td>THROAT SWABTHROAT SWAB                                                                                                                                                                                                                                                              </td><td>Adenovirus DETECTED by PCRHUMAN RHINOVIRUS/ENTEROVIRUS DETECTED by PCR This specimen has been tested using PCR which detects Adenovirus, Coronavirus 229E, Coronavirus HKU1, Coronavirus NL63, Coronavirus OC43, Human Metapneumovirus, Human Rhinovirus / Enterovirus, Influenza A,</td></tr>\n",
       "\t<tr><td>EYE SWABEYE,(LEFT) SWAB                                                                                                                                                                                                                                                             </td><td>Varicella Zoster Virus DETECTEDAdenovirus DETECTED This specimen has been tested using PCR which detects Adeno,Herpes Simplex and Varicella Zoster viruses and Chlamydia trachomatis.                                                                                               </td></tr>\n",
       "\t<tr><td>THROAT SWABTHROAT SWAB                                                                                                                                                                                                                                                              </td><td>Adenovirus DETECTED(by BIOFIRE) HUMAN RHINOVIRUS/ENTEROVIRUS DETECTED (by BIOFIRE) This specimen has been tested using PCR which detects Adenovirus, Coronavirus 229E, Coronavirus HKU1, Coronavirus NL63, Coronavirus OC43, Human Metapneumovirus, Human Rhinovirus / Entero       </td></tr>\n",
       "\t<tr><td>THROAT SWABTHROAT SWAB                                                                                                                                                                                                                                                              </td><td>Adenovirus DETECTED by PCR(by BIOFIRE) This specimen has been tested using PCR which detects Adenovirus, Coronavirus 229E, Coronavirus HKU1, Coronavirus NL63, Coronavirus OC43, Human Metapneumovirus, Human Rhinovirus / Enterovirus, Influenza A, Influenza B, Middle East Respir</td></tr>\n",
       "\t<tr><td>VESICLE FLUID;Abdomen                                                                                                                                                                                                                                                               </td><td>Varicella Zoster Virus DETECTEDAdenovirus DETECTED This specimen has been tested using PCR which detects Adeno,Herpes Simplex and Varicella Zoster viruses and Chlamydia trachomatis. This sample has undergone a dilution step to obtain this result.                              </td></tr>\n",
       "\t<tr><td>BRONCHO-ALVEOLAR LAVAGE                                                                                                                                                                                                                                                             </td><td>Adenovirus DETECTED(by BIOFIRE) This specimen has been tested using PCR which detects Adenovirus, Coronavirus 229E, Coronavirus HKU1, Coronavirus NL63, Coronavirus OC43, Human Metapneumovirus, Human Rhinovirus / Enterovirus, Influenza A, Influenza B, Middle East Respir       </td></tr>\n",
       "\t<tr><td>NASO PHARYNGEAL ASPIRATE;Nasopharynx                                                                                                                                                                                                                                                </td><td>Human Bocavirus DETECTEDAdenovirus DETECTED This specimen has been tested for Influenza A, A (H1/N1), B, Rhinovirus, Coronaviruses, Parainfluenza's 1/2/3 and 4, Adenovirus, Metapneumovirus, Respiratory Syncytial virus, Enterovirus, Parechovirus, Bocavirus and Mycoplasma pne  </td></tr>\n",
       "\t<tr><td>SWABEYE,(RIGHT) SWAB                                                                                                                                                                                                                                                                </td><td>Adenovirus DETECTEDby EliTech InGenius This specimen has been tested using PCR which detects Adeno,Herpes Simplex and Varicella Zoster viruses and Chlamydia trachomatis. This assay has been verified by the laboratory and is awaiting accreditation under ISO15189 2012.         </td></tr>\n",
       "\t<tr><td><span style=white-space:pre-wrap>NOSE &amp; THROAT SWAB                   </span>                                                                                                                                                                                                                                           </td><td><span style=white-space:pre-wrap>Adenovirus DETECTEDHUMAN RHINOVIRUS/ENTEROVIRUS DETECTED Parainfluenzavirus type 4 DETECTED (by BIOFIRE) This specimen has been tested using PCR which detects Adenovirus, Coronavirus 229E, Coronavirus HKU1, Coronavirus NL63, Coronavirus OC43, Human Metapneumovirus, Hum       </span></td></tr>\n",
       "\t<tr><td>THROAT SWABTHROAT SWAB                                                                                                                                                                                                                                                              </td><td>Coronavirus 229E DETECTEDCoronavirus OC43 DETECTED Respiratory Syncytial Virus DETECTED Adenovirus DETECTED This specimen has been tested for Influenza A, A (H1/N1), B, Rhinovirus, Coronaviruses, Parainfluenza's 1/2/3 and 4, Adenovirus, Metapneumovirus, Respiratory Syncytial </td></tr>\n",
       "\t<tr><td>NASOPHARYNGEAL ASPIRATE;Nasopharynx                                                                                                                                                                                                                                                 </td><td>Adenovirus DETECTED(by BIOFIRE) Coronavirus NL63 DETECTED (by BIOFIRE) This specimen has been tested using PCR which detects Adenovirus, Coronavirus 229E, Coronavirus HKU1, Coronavirus NL63, Coronavirus OC43, Human Metapneumovirus, Human Rhinovirus / Enterovirus, Influ       </td></tr>\n",
       "\t<tr><td>EYE SWABCONJUNCTIVAL SWAB, RIGHT                                                                                                                                                                                                                                                    </td><td>Adenovirus DETECTEDThis specimen has been tested using PCR which detects Adeno,Herpes Simplex and Varicella Zoster viruses and Chlamydia trachomatis.                                                                                                                               </td></tr>\n",
       "\t<tr><td>NASOPHARYNGEAL ASPIRATE                                                                                                                                                                                                                                                             </td><td>Adenovirus DETECTED(by BIOFIRE) HUMAN RHINOVIRUS/ENTEROVIRUS DETECTED (by BIOFIRE) Parainfluenzavirus type 2 DETECTED (by BIOFIRE) This specimen has been tested using PCR which detects Adenovirus, Coronavirus 229E, Coronavirus HKU1, Coronavirus NL63, Coronavirus OC43,        </td></tr>\n",
       "\t<tr><td>NASOPHARYNGEAL ASPIRATE;Nasopharynx L                                                                                                                                                                                                                                               </td><td>Adenovirus DETECTEDHUMAN RHINOVIRUS/ENTEROVIRUS DETECTED by PCR (by BIOFIRE) This specimen has been tested using PCR which detects Adenovirus, Coronavirus 229E, Coronavirus HKU1, Coronavirus NL63, Coronavirus OC43, Human Metapneumovirus, Human Rhinovirus / Enterovirus,       </td></tr>\n",
       "\t<tr><td>THROAT SWABTHROAT SWAB                                                                                                                                                                                                                                                              </td><td>Adenovirus DETECTED(by BIOFIRE) HUMAN RHINOVIRUS/ENTEROVIRUS DETECTED (by BIOFIRE) MYCOPLASMA PNEUMONIAE DETECTED (by BIOFIRE) THIS IS AN AMENDED REPORT ;please disregard the previous report of  Metapneumovirus DETECTED ;and note the addition of  MYCOPLASMA PNEUMONIAE        </td></tr>\n",
       "\t<tr><td><span style=white-space:pre-wrap>NOSE &amp; THROAT SWAB                   </span>                                                                                                                                                                                                                                           </td><td><span style=white-space:pre-wrap>Adenovirus DETECTED(by BIOFIRE) Coronavirus 229E DETECTED (by BIOFIRE) This specimen has been tested using PCR which detects Adenovirus, Coronavirus 229E, Coronavirus HKU1, Coronavirus NL63, Coronavirus OC43, Human Metapneumovirus, Human Rhinovirus / Enterovirus, Influ       </span></td></tr>\n",
       "\t<tr><td>BRONCHO-ALVEOLAR LAVAGE                                                                                                                                                                                                                                                             </td><td>Coronavirus 229E DETECTED(by BIOFIRE) Adenovirus DETECTED (by BIOFIRE) This specimen has been tested using PCR which detects Adenovirus, Coronavirus 229E, Coronavirus HKU1, Coronavirus NL63, Coronavirus OC43, Human Metapneumovirus, Human Rhinovirus / Enterovirus, Influenza A </td></tr>\n",
       "\t<tr><td>NASOPHARYNGEAL ASPIRATE;Nasopharynx                                                                                                                                                                                                                                                 </td><td>Adenovirus DETECTEDRespiratory Syncytial Virus DETECTED This specimen has been tested using PCR which detects Adenovirus, Coronavirus 229E, Coronavirus HKU1, Coronavirus NL63, Coronavirus OC43, Human Metapneumovirus, Human Rhinovirus / Enterovirus, Influenza A, Influen       </td></tr>\n",
       "\t<tr><td>NASO PHARYNGEAL ASPIRATENOSE SWAB                                                                                                                                                                                                                                                   </td><td>Adenovirus DETECTEDThis specimen has been tested for Influenza A, A (H1/N1), B, Rhinovirus, Coronaviruses, Parainfluenza's 1/2/3 and 4, Adenovirus, Metapneumovirus, Respiratory Syncytial virus, Enterovirus, Parechovirus, Bocavirus and Mycoplasma pneumoniae.                   </td></tr>\n",
       "\t<tr><td>NASOPHARYNGEAL ASPIRATETHROAT SWAB                                                                                                                                                                                                                                                  </td><td>Adenovirus DETECTED(by BIOFIRE) HUMAN RHINOVIRUS/ENTEROVIRUS DETECTED (by BIOFIRE) Respiratory Syncytial Virus DETECTED (by BIOFIRE) This specimen has been tested using PCR which detects Adenovirus, Coronavirus 229E, Coronavirus HKU1, Coronavirus NL63, Coronavirus OC43       </td></tr>\n",
       "\t<tr><td><span style=white-space:pre-wrap>NOSE &amp; THROAT SWAB                   </span>                                                                                                                                                                                                                                           </td><td><span style=white-space:pre-wrap>Adenovirus DETECTED(by BIOFIRE) HUMAN RHINOVIRUS/ENTEROVIRUS (by BIOFIRE) This specimen has been tested using PCR which detects Adenovirus, Coronavirus 229E, Coronavirus HKU1, Coronavirus NL63, Coronavirus OC43, Human Metapneumovirus, Human Rhinovirus / Enterovirus, In       </span></td></tr>\n",
       "\t<tr><td>NASOPHARYNGEAL ASPIRATE;Nasopharynx                                                                                                                                                                                                                                                 </td><td>Adenovirus DETECTED(by BIOFIRE) INFLUENZA A VIRUS ;H3 DETECTED (by BIOFIRE) This specimen has been tested using PCR which detects Adenovirus, Coronavirus 229E, Coronavirus HKU1, Coronavirus NL63, Coronavirus OC43, Human Metapneumovirus, Human Rhinovirus / Enterovirus,        </td></tr>\n",
       "\t<tr><td>NASO PHARYNGEAL ASPIRATENOSE SWAB                                                                                                                                                                                                                                                   </td><td>Coronavirus NL63 DETECTEDMetapneumovirus DETECTED Adenovirus DETECTED This sample has undergone a dilution step to obtain this result. This specimen has been tested for Influenza A, A (H1/N1), B, Rhinovirus, Coronaviruses, Parainfluenza's 1/2/3 and 4, Adenovirus, Metapneumov </td></tr>\n",
       "\t<tr><td>EYE SWABCONJUNCTIVAL SWAB, LEFT                                                                                                                                                                                                                                                     </td><td>Adenovirus DETECTEDBy Qiagen FTD eye This specimen has been tested using PCR which detects Adeno,Herpes Simplex and Varicella Zoster viruses and Chlamydia trachomatis.                                                                                                             </td></tr>\n",
       "\t<tr><td>THROAT SWABTHROAT SWAB                                                                                                                                                                                                                                                              </td><td>Adenovirus DETECTED(by BIOFIRE) by PCR This specimen has been tested using PCR which detects Adenovirus, Coronavirus 229E, Coronavirus HKU1, Coronavirus NL63, Coronavirus OC43, Human Metapneumovirus, Human Rhinovirus / Enterovirus, Influenza A, Influenza B, Middle East       </td></tr>\n",
       "\t<tr><td><span style=white-space:pre-wrap>NOSE &amp; THROAT SWAB                   </span>                                                                                                                                                                                                                                           </td><td><span style=white-space:pre-wrap>Adenovirus DETECTEDby PCR Coronavirus NL63 DETECTED by PCR HUMAN RHINOVIRUS/ENTEROVIRUS DETECTED by PCR (by BIOFIRE) ESCHERICHIA COLI This specimen has been tested using PCR which detects Adenovirus, Coronavirus 229E, Coronavirus HKU1, Coronavirus NL63, Coronavirus OC4       </span></td></tr>\n",
       "</tbody>\n",
       "</table>\n"
      ],
      "text/latex": [
       "\\begin{tabular}{r|ll}\n",
       " SpecimenFull & ResultFull\\\\\n",
       "\\hline\n",
       "\t NOSE \\& THROAT SWAB                                                                                                                                                                                                                                                                   & Adenovirus DETECTED(by BIOFIRE) RHINOVIRUS/ENTEROVIRUS DETECTED (by BIOFIRE) This specimen has been tested using PCR which detects Adenovirus, Coronavirus 229E, Coronavirus HKU1, Coronavirus NL63, Coronavirus OC43, Human Metapneumovirus, Human Rhinovirus / Enterovirus,         \\\\\n",
       "\t NOSE \\& THROAT SWAB                                                                                                                                                                                                                                                                   & Adenovirus DETECTEDHUMAN RHINOVIRUS/ENTEROVIRUS DETECTED (by BIOFIRE) This specimen has been tested using PCR which detects Adenovirus, Coronavirus 229E, Coronavirus HKU1, Coronavirus NL63, Coronavirus OC43, Human Metapneumovirus, Human Rhinovirus / Enterovirus, Influe         \\\\\n",
       "\t NOSE \\& THROAT SWAB                                                                                                                                                                                                                                                                   & Adenovirus DETECTED(by BIOFIRE) This specimen has been tested using PCR which detects Adenovirus, Coronavirus 229E, Coronavirus HKU1, Coronavirus NL63, Coronavirus OC43, Human Metapneumovirus, Human Rhinovirus / Enterovirus, Influenza A, Influenza B, Middle East Respir         \\\\\n",
       "\t THROAT SWABTHROAT SWAB                                                                                                                                                                                                                                                                 & Influenza B virus DETECTEDAdenovirus DETECTED This specimen has been tested for Influenza A, A (H1/N1), B, Rhinovirus, Coronaviruses, Parainfluenza's 1/2/3 and 4, Adenovirus, Metapneumovirus, Respiratory Syncytial virus, Enterovirus, Parechovirus, Bocavirus and Mycoplasma pne  \\\\\n",
       "\t BRONCHO-ALVEOLAR LAVAGE                                                                                                                                                                                                                                                                & No microorganisms detectedby PCR (by BIOFIRE) This specimen has been tested using PCR which detects Adenovirus, Coronavirus 229E, Coronavirus HKU1, Coronavirus NL63, Coronavirus OC43, Human Metapneumovirus, Human Rhinovirus / Enterovirus, Influenza A, Influenza B, Middle East  \\\\\n",
       "\t NASOPHARYNGEAL ASPIRATE;Nostril R                                                                                                                                                                                                                                                      & Adenovirus DETECTED(by BIOFIRE) RHINOVIRUS/ENTEROVIRUS DETECTED (by BIOFIRE) Influenza A virus DETECTED (by BIOFIRE) This specimen has been tested using PCR which detects Adenovirus, Coronavirus 229E, Coronavirus HKU1, Coronavirus NL63, Coronavirus OC43, Human Metapneu         \\\\\n",
       "\t THROAT SWABTHROAT SWAB                                                                                                                                                                                                                                                                 & Adenovirus DETECTEDby PCR (by BIOFIRE) This specimen has been tested using PCR which detects Adenovirus, Coronavirus 229E, Coronavirus HKU1, Coronavirus NL63, Coronavirus OC43, Human Metapneumovirus, Human Rhinovirus / Enterovirus, Influenza A, Influenza B, Middle East         \\\\\n",
       "\t EYE SWAB                                                                                                                                                                                                                                                                               & Adenovirus DETECTEDby EliTech InGenius ELITe assay This specimen has been tested using PCR which detects Adeno,Herpes Simplex and Varicella Zoster viruses and Chlamydia trachomatis. This assay has been verified by the laboratory and is awaiting accreditation under ISO1         \\\\\n",
       "\t BRONCHO-ALVEOLAR LAVAGERIGHT ;LOWER                                                                                                                                                                                                                                                    & Adenovirus DETECTEDThis specimen has been tested for Influenza A, A (H1/N1), B, Rhinovirus, Coronaviruses, Parainfluenza's 1/2/3 and 4, Adenovirus, Metapneumovirus, Respiratory Syncytial virus, Enterovirus, Parechovirus, Bocavirus and Mycoplasma pneumoniae.                     \\\\\n",
       "\t NOSE \\& THROAT SWAB                                                                                                                                                                                                                                                                   & HUMAN RHINOVIRUS/ENTEROVIRUSDETECTED (by BIOFIRE) Adenovirus DETECTED (by BIOFIRE) This specimen has been tested using PCR which detects Adenovirus, Coronavirus 229E, Coronavirus HKU1, Coronavirus NL63, Coronavirus OC43, Human Metapneumovirus, Human Rhinovirus / Enterovirus, In\\\\\n",
       "\t NOSE \\& THROAT SWAB                                                                                                                                                                                                                                                                   & Adenovirus DETECTED(by BIOFIRE) PARAINFLUENZA VIRUS type 1 DETECTED (by BIOFIRE) This specimen has been tested using PCR which detects Adenovirus, Coronavirus 229E, Coronavirus HKU1, Coronavirus NL63, Coronavirus OC43, Human Metapneumovirus, Human Rhinovirus / Enterovi         \\\\\n",
       "\t THROAT SWABTHROAT SWAB                                                                                                                                                                                                                                                                 & Adenovirus DETECTEDThis specimen has been tested using PCR which detects Adeno,Herpes Simplex and Varicella Zoster viruses and Chlamydia trachomatis.                                                                                                                                 \\\\\n",
       "\t EYE SWAB                                                                                                                                                                                                                                                                               & ADENOVIRUSIndeterminate by EliTech InGenius This specimen has been tested using PCR which detects Adeno,Herpes Simplex and Varicella Zoster viruses and Chlamydia trachomatis. This assay has been verified by the laboratory and is awaiting accreditation under IS                  \\\\\n",
       "\t NASOPHARYNGEAL ASPIRATE                                                                                                                                                                                                                                                                & HUMAN RHINOVIRUS/ENTEROVIRUSDETECTED (by BIOFIRE) Adenovirus DETECTED (by BIOFIRE) This specimen has been tested using PCR which detects Adenovirus, Coronavirus 229E, Coronavirus HKU1, Coronavirus NL63, Coronavirus OC43, Human Metapneumovirus, Human Rhinovirus / Enterovirus, In\\\\\n",
       "\t NASO PHARYNGEAL ASPIRATE                                                                                                                                                                                                                                                               & Rhinovirus DETECTEDAdenovirus DETECTED This specimen has been tested for Influenza A, A (H1/N1), B, Rhinovirus, Coronaviruses, Parainfluenza's 1/2/3 and 4, Adenovirus, Metapneumovirus, Respiratory Syncytial virus, Enterovirus, Parechovirus, Bocavirus and Mycoplasma pne         \\\\\n",
       "\t CONJUNCTIVAL SWAB, LEFT                                                                                                                                                                                                                                                                & Adenovirus DETECTEDThis sample has undergone a dilution step to obtain this result. This specimen has been tested using PCR which detects Adeno,Herpes Simplex and Varicella Zoster viruses and Chlamydia trachomatis.                                                                \\\\\n",
       "\t CONJUNCTIVAL SWAB, RIGHT                                                                                                                                                                                                                                                               & Adenovirus DETECTEDThis sample has undergone a dilution step to obtain this result. This specimen has been tested using PCR which detects Adeno,Herpes Simplex and Varicella Zoster viruses and Chlamydia trachomatis.                                                                \\\\\n",
       "\t NASO PHARYNGEAL ASPIRATE                                                                                                                                                                                                                                                               & Metapneumovirus DETECTEDAdenovirus DETECTED This specimen has been tested for Influenza A, A (H1/N1), B, Rhinovirus, Coronaviruses, Parainfluenza's 1/2/3 and 4, Adenovirus, Metapneumovirus, Respiratory Syncytial virus, Enterovirus, Parechovirus, Bocavirus and Mycoplasma pne    \\\\\n",
       "\t THROAT SWAB                                                                                                                                                                                                                                                                            & Adenovirus DETECTEDMetapneumovirus DETECTED (by BIOFIRE) This specimen has been tested using PCR which detects Adenovirus, Coronavirus 229E, Coronavirus HKU1, Coronavirus NL63, Coronavirus OC43, Human Metapneumovirus, Human Rhinovirus / Enterovirus, Influenza A, Influe         \\\\\n",
       "\t EYE SWABCONJUNCTIVAL SWAB, RIGHT                                                                                                                                                                                                                                                       & Adenovirus DETECTEDby EliTech InGenius This specimen has been tested using PCR which detects Adeno,Herpes Simplex and Varicella Zoster viruses and Chlamydia trachomatis. This assay has been verified by the laboratory and is awaiting accreditation under ISO15189 2012.           \\\\\n",
       "\t NOSE \\& THROAT SWAB                                                                                                                                                                                                                                                                   & Influenza A virus DETECTEDAdenovirus DETECTED (by BIOFIRE) This specimen has been tested using PCR which detects Adenovirus, Coronavirus 229E, Coronavirus HKU1, Coronavirus NL63, Coronavirus OC43, Human Metapneumovirus, Human Rhinovirus / Enterovirus, Influenza A, Influenza B  \\\\\n",
       "\t NASOPHARYNGEAL ASPIRATE                                                                                                                                                                                                                                                                & Adenovirus DETECTED(by BIOFIRE) This specimen has been tested using PCR which detects Adenovirus, Coronavirus 229E, Coronavirus HKU1, Coronavirus NL63, Coronavirus OC43, Human Metapneumovirus, Human Rhinovirus / Enterovirus, Influenza A, Influenza B, Middle East Respir         \\\\\n",
       "\t THROAT SWABTHROAT SWAB                                                                                                                                                                                                                                                                 & Adenovirus DETECTED(by BIOFIRE) This specimen has been tested using PCR which detects Adenovirus, Coronavirus 229E, Coronavirus HKU1, Coronavirus NL63, Coronavirus OC43, Human Metapneumovirus, Human Rhinovirus / Enterovirus, Influenza A, Influenza B, Middle East Respir         \\\\\n",
       "\t NULL                                                                                                                                                                                                                                                                                   & DETECTED                                                                                                                                                                                                                                                                              \\\\\n",
       "\t THROAT SWABTHROAT SWAB                                                                                                                                                                                                                                                                 & Adenovirus DETECTED(by BIOFIRE) Coronavirus NL63 DETECTED (by BIOFIRE) This specimen has been tested using PCR which detects Adenovirus, Coronavirus 229E, Coronavirus HKU1, Coronavirus NL63, Coronavirus OC43, Human Metapneumovirus, Human Rhinovirus / Enterovirus, Influ         \\\\\n",
       "\t NASOPHARYNGEAL ASPIRATE                                                                                                                                                                                                                                                                & Adenovirus DETECTED(by BIOFIRE) RHINOVIRUS/ENTEROVIRUS DETECTED (by BIOFIRE) This specimen has been tested using PCR which detects Adenovirus, Coronavirus 229E, Coronavirus HKU1, Coronavirus NL63, Coronavirus OC43, Human Metapneumovirus, Human Rhinovirus / Enterovirus,         \\\\\n",
       "\t NOSE \\& THROAT SWAB                                                                                                                                                                                                                                                                   & Adenovirus DETECTED(by BIOFIRE) HUMAN RHINOVIRUS/ENTEROVIRUS DETECTED (by BIOFIRE) This specimen has been tested using PCR which detects Adenovirus, Coronavirus 229E, Coronavirus HKU1, Coronavirus NL63, Coronavirus OC43, Human Metapneumovirus, Human Rhinovirus / Entero         \\\\\n",
       "\t NASOPHARYNGEAL ASPIRATETHROAT SWAB                                                                                                                                                                                                                                                     & Adenovirus DETECTED(by BIOFIRE) Metapneumovirus DETECTED (by BIOFIRE) HUMAN RHINOVIRUS/ENTEROVIRUS DETECTED (by BIOFIRE) PARAINFLUENZA VIRUS type 3 DETECTED (by BIOFIRE) This specimen has been tested using PCR which detects Adenovirus, Coronavirus 229E, Coronavirus HKU         \\\\\n",
       "\t THROAT SWAB                                                                                                                                                                                                                                                                            & Influenza B virus DETECTEDAdenovirus DETECTED This specimen has been tested for Influenza A, A (H1/N1), B, Rhinovirus, Coronaviruses, Parainfluenza's 1/2/3 and 4, Adenovirus, Metapneumovirus, Respiratory Syncytial virus, Enterovirus, Parechovirus, Bocavirus and Mycoplasma pne  \\\\\n",
       "\t THROAT SWAB                                                                                                                                                                                                                                                                            & Adenovirus DETECTEDby PCR (by BIOFIRE) This specimen has been tested using PCR which detects Adenovirus, Coronavirus 229E, Coronavirus HKU1, Coronavirus NL63, Coronavirus OC43, Human Metapneumovirus, Human Rhinovirus / Enterovirus, Influenza A, Influenza B, Middle East         \\\\\n",
       "\t ... & ...\\\\\n",
       "\t NASO PHARYNGEAL ASPIRATE;Nasopharynx                                                                                                                                                                                                                                                 & Rhinovirus DETECTEDCoronavirus 229E DETECTED Metapneumovirus DETECTED Respiratory Syncytial Virus DETECTED Adenovirus DETECTED This specimen has been tested for Influenza A, A (H1/N1), B, Rhinovirus, Coronaviruses, Parainfluenza's 1/2/3 and 4, Adenovirus, Metapneumovir       \\\\\n",
       "\t NOSE SWAB                                                                                                                                                                                                                                                                            & Adenovirus DETECTED(by BIOFIRE) HUMAN RHINOVIRUS/ENTEROVIRUS DETECTED (by BIOFIRE) This specimen has been tested using PCR which detects Adenovirus, Coronavirus 229E, Coronavirus HKU1, Coronavirus NL63, Coronavirus OC43, Human Metapneumovirus, Human Rhinovirus / Entero       \\\\\n",
       "\t THROAT SWABTHROAT SWAB                                                                                                                                                                                                                                                               & Adenovirus DETECTEDby PCR (by BIOFIRE) Respiratory Syncytial Virus DETECTED by PCR (by BIOFIRE) This specimen has been tested using PCR which detects Adenovirus, Coronavirus 229E, Coronavirus HKU1, Coronavirus NL63, Coronavirus OC43, Human Metapneumovirus, Human Rhinov       \\\\\n",
       "\t THROAT SWAB                                                                                                                                                                                                                                                                          & Adenovirus DETECTED(by BIOFIRE) MYCOPLASMA PNEUMONIAE DETECTED (by BIOFIRE) This specimen has been tested using PCR which detects Adenovirus, Coronavirus 229E, Coronavirus HKU1, Coronavirus NL63, Coronavirus OC43, Human Metapneumovirus, Human Rhinovirus / Enterovirus,        \\\\\n",
       "\t THROAT SWABTHROAT SWAB                                                                                                                                                                                                                                                               & Adenovirus DETECTED by PCRHUMAN RHINOVIRUS/ENTEROVIRUS DETECTED by PCR This specimen has been tested using PCR which detects Adenovirus, Coronavirus 229E, Coronavirus HKU1, Coronavirus NL63, Coronavirus OC43, Human Metapneumovirus, Human Rhinovirus / Enterovirus, Influenza A,\\\\\n",
       "\t EYE SWABEYE,(LEFT) SWAB                                                                                                                                                                                                                                                              & Varicella Zoster Virus DETECTEDAdenovirus DETECTED This specimen has been tested using PCR which detects Adeno,Herpes Simplex and Varicella Zoster viruses and Chlamydia trachomatis.                                                                                               \\\\\n",
       "\t THROAT SWABTHROAT SWAB                                                                                                                                                                                                                                                               & Adenovirus DETECTED(by BIOFIRE) HUMAN RHINOVIRUS/ENTEROVIRUS DETECTED (by BIOFIRE) This specimen has been tested using PCR which detects Adenovirus, Coronavirus 229E, Coronavirus HKU1, Coronavirus NL63, Coronavirus OC43, Human Metapneumovirus, Human Rhinovirus / Entero       \\\\\n",
       "\t THROAT SWABTHROAT SWAB                                                                                                                                                                                                                                                               & Adenovirus DETECTED by PCR(by BIOFIRE) This specimen has been tested using PCR which detects Adenovirus, Coronavirus 229E, Coronavirus HKU1, Coronavirus NL63, Coronavirus OC43, Human Metapneumovirus, Human Rhinovirus / Enterovirus, Influenza A, Influenza B, Middle East Respir\\\\\n",
       "\t VESICLE FLUID;Abdomen                                                                                                                                                                                                                                                                & Varicella Zoster Virus DETECTEDAdenovirus DETECTED This specimen has been tested using PCR which detects Adeno,Herpes Simplex and Varicella Zoster viruses and Chlamydia trachomatis. This sample has undergone a dilution step to obtain this result.                              \\\\\n",
       "\t BRONCHO-ALVEOLAR LAVAGE                                                                                                                                                                                                                                                              & Adenovirus DETECTED(by BIOFIRE) This specimen has been tested using PCR which detects Adenovirus, Coronavirus 229E, Coronavirus HKU1, Coronavirus NL63, Coronavirus OC43, Human Metapneumovirus, Human Rhinovirus / Enterovirus, Influenza A, Influenza B, Middle East Respir       \\\\\n",
       "\t NASO PHARYNGEAL ASPIRATE;Nasopharynx                                                                                                                                                                                                                                                 & Human Bocavirus DETECTEDAdenovirus DETECTED This specimen has been tested for Influenza A, A (H1/N1), B, Rhinovirus, Coronaviruses, Parainfluenza's 1/2/3 and 4, Adenovirus, Metapneumovirus, Respiratory Syncytial virus, Enterovirus, Parechovirus, Bocavirus and Mycoplasma pne  \\\\\n",
       "\t SWABEYE,(RIGHT) SWAB                                                                                                                                                                                                                                                                 & Adenovirus DETECTEDby EliTech InGenius This specimen has been tested using PCR which detects Adeno,Herpes Simplex and Varicella Zoster viruses and Chlamydia trachomatis. This assay has been verified by the laboratory and is awaiting accreditation under ISO15189 2012.         \\\\\n",
       "\t NOSE \\& THROAT SWAB                                                                                                                                                                                                                                                                 & Adenovirus DETECTEDHUMAN RHINOVIRUS/ENTEROVIRUS DETECTED Parainfluenzavirus type 4 DETECTED (by BIOFIRE) This specimen has been tested using PCR which detects Adenovirus, Coronavirus 229E, Coronavirus HKU1, Coronavirus NL63, Coronavirus OC43, Human Metapneumovirus, Hum       \\\\\n",
       "\t THROAT SWABTHROAT SWAB                                                                                                                                                                                                                                                               & Coronavirus 229E DETECTEDCoronavirus OC43 DETECTED Respiratory Syncytial Virus DETECTED Adenovirus DETECTED This specimen has been tested for Influenza A, A (H1/N1), B, Rhinovirus, Coronaviruses, Parainfluenza's 1/2/3 and 4, Adenovirus, Metapneumovirus, Respiratory Syncytial \\\\\n",
       "\t NASOPHARYNGEAL ASPIRATE;Nasopharynx                                                                                                                                                                                                                                                  & Adenovirus DETECTED(by BIOFIRE) Coronavirus NL63 DETECTED (by BIOFIRE) This specimen has been tested using PCR which detects Adenovirus, Coronavirus 229E, Coronavirus HKU1, Coronavirus NL63, Coronavirus OC43, Human Metapneumovirus, Human Rhinovirus / Enterovirus, Influ       \\\\\n",
       "\t EYE SWABCONJUNCTIVAL SWAB, RIGHT                                                                                                                                                                                                                                                     & Adenovirus DETECTEDThis specimen has been tested using PCR which detects Adeno,Herpes Simplex and Varicella Zoster viruses and Chlamydia trachomatis.                                                                                                                               \\\\\n",
       "\t NASOPHARYNGEAL ASPIRATE                                                                                                                                                                                                                                                              & Adenovirus DETECTED(by BIOFIRE) HUMAN RHINOVIRUS/ENTEROVIRUS DETECTED (by BIOFIRE) Parainfluenzavirus type 2 DETECTED (by BIOFIRE) This specimen has been tested using PCR which detects Adenovirus, Coronavirus 229E, Coronavirus HKU1, Coronavirus NL63, Coronavirus OC43,        \\\\\n",
       "\t NASOPHARYNGEAL ASPIRATE;Nasopharynx L                                                                                                                                                                                                                                                & Adenovirus DETECTEDHUMAN RHINOVIRUS/ENTEROVIRUS DETECTED by PCR (by BIOFIRE) This specimen has been tested using PCR which detects Adenovirus, Coronavirus 229E, Coronavirus HKU1, Coronavirus NL63, Coronavirus OC43, Human Metapneumovirus, Human Rhinovirus / Enterovirus,       \\\\\n",
       "\t THROAT SWABTHROAT SWAB                                                                                                                                                                                                                                                               & Adenovirus DETECTED(by BIOFIRE) HUMAN RHINOVIRUS/ENTEROVIRUS DETECTED (by BIOFIRE) MYCOPLASMA PNEUMONIAE DETECTED (by BIOFIRE) THIS IS AN AMENDED REPORT ;please disregard the previous report of  Metapneumovirus DETECTED ;and note the addition of  MYCOPLASMA PNEUMONIAE        \\\\\n",
       "\t NOSE \\& THROAT SWAB                                                                                                                                                                                                                                                                 & Adenovirus DETECTED(by BIOFIRE) Coronavirus 229E DETECTED (by BIOFIRE) This specimen has been tested using PCR which detects Adenovirus, Coronavirus 229E, Coronavirus HKU1, Coronavirus NL63, Coronavirus OC43, Human Metapneumovirus, Human Rhinovirus / Enterovirus, Influ       \\\\\n",
       "\t BRONCHO-ALVEOLAR LAVAGE                                                                                                                                                                                                                                                              & Coronavirus 229E DETECTED(by BIOFIRE) Adenovirus DETECTED (by BIOFIRE) This specimen has been tested using PCR which detects Adenovirus, Coronavirus 229E, Coronavirus HKU1, Coronavirus NL63, Coronavirus OC43, Human Metapneumovirus, Human Rhinovirus / Enterovirus, Influenza A \\\\\n",
       "\t NASOPHARYNGEAL ASPIRATE;Nasopharynx                                                                                                                                                                                                                                                  & Adenovirus DETECTEDRespiratory Syncytial Virus DETECTED This specimen has been tested using PCR which detects Adenovirus, Coronavirus 229E, Coronavirus HKU1, Coronavirus NL63, Coronavirus OC43, Human Metapneumovirus, Human Rhinovirus / Enterovirus, Influenza A, Influen       \\\\\n",
       "\t NASO PHARYNGEAL ASPIRATENOSE SWAB                                                                                                                                                                                                                                                    & Adenovirus DETECTEDThis specimen has been tested for Influenza A, A (H1/N1), B, Rhinovirus, Coronaviruses, Parainfluenza's 1/2/3 and 4, Adenovirus, Metapneumovirus, Respiratory Syncytial virus, Enterovirus, Parechovirus, Bocavirus and Mycoplasma pneumoniae.                   \\\\\n",
       "\t NASOPHARYNGEAL ASPIRATETHROAT SWAB                                                                                                                                                                                                                                                   & Adenovirus DETECTED(by BIOFIRE) HUMAN RHINOVIRUS/ENTEROVIRUS DETECTED (by BIOFIRE) Respiratory Syncytial Virus DETECTED (by BIOFIRE) This specimen has been tested using PCR which detects Adenovirus, Coronavirus 229E, Coronavirus HKU1, Coronavirus NL63, Coronavirus OC43       \\\\\n",
       "\t NOSE \\& THROAT SWAB                                                                                                                                                                                                                                                                 & Adenovirus DETECTED(by BIOFIRE) HUMAN RHINOVIRUS/ENTEROVIRUS (by BIOFIRE) This specimen has been tested using PCR which detects Adenovirus, Coronavirus 229E, Coronavirus HKU1, Coronavirus NL63, Coronavirus OC43, Human Metapneumovirus, Human Rhinovirus / Enterovirus, In       \\\\\n",
       "\t NASOPHARYNGEAL ASPIRATE;Nasopharynx                                                                                                                                                                                                                                                  & Adenovirus DETECTED(by BIOFIRE) INFLUENZA A VIRUS ;H3 DETECTED (by BIOFIRE) This specimen has been tested using PCR which detects Adenovirus, Coronavirus 229E, Coronavirus HKU1, Coronavirus NL63, Coronavirus OC43, Human Metapneumovirus, Human Rhinovirus / Enterovirus,        \\\\\n",
       "\t NASO PHARYNGEAL ASPIRATENOSE SWAB                                                                                                                                                                                                                                                    & Coronavirus NL63 DETECTEDMetapneumovirus DETECTED Adenovirus DETECTED This sample has undergone a dilution step to obtain this result. This specimen has been tested for Influenza A, A (H1/N1), B, Rhinovirus, Coronaviruses, Parainfluenza's 1/2/3 and 4, Adenovirus, Metapneumov \\\\\n",
       "\t EYE SWABCONJUNCTIVAL SWAB, LEFT                                                                                                                                                                                                                                                      & Adenovirus DETECTEDBy Qiagen FTD eye This specimen has been tested using PCR which detects Adeno,Herpes Simplex and Varicella Zoster viruses and Chlamydia trachomatis.                                                                                                             \\\\\n",
       "\t THROAT SWABTHROAT SWAB                                                                                                                                                                                                                                                               & Adenovirus DETECTED(by BIOFIRE) by PCR This specimen has been tested using PCR which detects Adenovirus, Coronavirus 229E, Coronavirus HKU1, Coronavirus NL63, Coronavirus OC43, Human Metapneumovirus, Human Rhinovirus / Enterovirus, Influenza A, Influenza B, Middle East       \\\\\n",
       "\t NOSE \\& THROAT SWAB                                                                                                                                                                                                                                                                 & Adenovirus DETECTEDby PCR Coronavirus NL63 DETECTED by PCR HUMAN RHINOVIRUS/ENTEROVIRUS DETECTED by PCR (by BIOFIRE) ESCHERICHIA COLI This specimen has been tested using PCR which detects Adenovirus, Coronavirus 229E, Coronavirus HKU1, Coronavirus NL63, Coronavirus OC4       \\\\\n",
       "\\end{tabular}\n"
      ],
      "text/markdown": [
       "\n",
       "| SpecimenFull | ResultFull |\n",
       "|---|---|\n",
       "| NOSE & THROAT SWAB                                                                                                                                                                                                                                                                     | Adenovirus DETECTED(by BIOFIRE) RHINOVIRUS/ENTEROVIRUS DETECTED (by BIOFIRE) This specimen has been tested using PCR which detects Adenovirus, Coronavirus 229E, Coronavirus HKU1, Coronavirus NL63, Coronavirus OC43, Human Metapneumovirus, Human Rhinovirus / Enterovirus,          |\n",
       "| NOSE & THROAT SWAB                                                                                                                                                                                                                                                                     | Adenovirus DETECTEDHUMAN RHINOVIRUS/ENTEROVIRUS DETECTED (by BIOFIRE) This specimen has been tested using PCR which detects Adenovirus, Coronavirus 229E, Coronavirus HKU1, Coronavirus NL63, Coronavirus OC43, Human Metapneumovirus, Human Rhinovirus / Enterovirus, Influe          |\n",
       "| NOSE & THROAT SWAB                                                                                                                                                                                                                                                                     | Adenovirus DETECTED(by BIOFIRE) This specimen has been tested using PCR which detects Adenovirus, Coronavirus 229E, Coronavirus HKU1, Coronavirus NL63, Coronavirus OC43, Human Metapneumovirus, Human Rhinovirus / Enterovirus, Influenza A, Influenza B, Middle East Respir          |\n",
       "| THROAT SWABTHROAT SWAB                                                                                                                                                                                                                                                                 | Influenza B virus DETECTEDAdenovirus DETECTED This specimen has been tested for Influenza A, A (H1/N1), B, Rhinovirus, Coronaviruses, Parainfluenza's 1/2/3 and 4, Adenovirus, Metapneumovirus, Respiratory Syncytial virus, Enterovirus, Parechovirus, Bocavirus and Mycoplasma pne   |\n",
       "| BRONCHO-ALVEOLAR LAVAGE                                                                                                                                                                                                                                                                | No microorganisms detectedby PCR (by BIOFIRE) This specimen has been tested using PCR which detects Adenovirus, Coronavirus 229E, Coronavirus HKU1, Coronavirus NL63, Coronavirus OC43, Human Metapneumovirus, Human Rhinovirus / Enterovirus, Influenza A, Influenza B, Middle East   |\n",
       "| NASOPHARYNGEAL ASPIRATE;Nostril R                                                                                                                                                                                                                                                      | Adenovirus DETECTED(by BIOFIRE) RHINOVIRUS/ENTEROVIRUS DETECTED (by BIOFIRE) Influenza A virus DETECTED (by BIOFIRE) This specimen has been tested using PCR which detects Adenovirus, Coronavirus 229E, Coronavirus HKU1, Coronavirus NL63, Coronavirus OC43, Human Metapneu          |\n",
       "| THROAT SWABTHROAT SWAB                                                                                                                                                                                                                                                                 | Adenovirus DETECTEDby PCR (by BIOFIRE) This specimen has been tested using PCR which detects Adenovirus, Coronavirus 229E, Coronavirus HKU1, Coronavirus NL63, Coronavirus OC43, Human Metapneumovirus, Human Rhinovirus / Enterovirus, Influenza A, Influenza B, Middle East          |\n",
       "| EYE SWAB                                                                                                                                                                                                                                                                               | Adenovirus DETECTEDby EliTech InGenius ELITe assay This specimen has been tested using PCR which detects Adeno,Herpes Simplex and Varicella Zoster viruses and Chlamydia trachomatis. This assay has been verified by the laboratory and is awaiting accreditation under ISO1          |\n",
       "| BRONCHO-ALVEOLAR LAVAGERIGHT ;LOWER                                                                                                                                                                                                                                                    | Adenovirus DETECTEDThis specimen has been tested for Influenza A, A (H1/N1), B, Rhinovirus, Coronaviruses, Parainfluenza's 1/2/3 and 4, Adenovirus, Metapneumovirus, Respiratory Syncytial virus, Enterovirus, Parechovirus, Bocavirus and Mycoplasma pneumoniae.                      |\n",
       "| NOSE & THROAT SWAB                                                                                                                                                                                                                                                                     | HUMAN RHINOVIRUS/ENTEROVIRUSDETECTED (by BIOFIRE) Adenovirus DETECTED (by BIOFIRE) This specimen has been tested using PCR which detects Adenovirus, Coronavirus 229E, Coronavirus HKU1, Coronavirus NL63, Coronavirus OC43, Human Metapneumovirus, Human Rhinovirus / Enterovirus, In |\n",
       "| NOSE & THROAT SWAB                                                                                                                                                                                                                                                                     | Adenovirus DETECTED(by BIOFIRE) PARAINFLUENZA VIRUS type 1 DETECTED (by BIOFIRE) This specimen has been tested using PCR which detects Adenovirus, Coronavirus 229E, Coronavirus HKU1, Coronavirus NL63, Coronavirus OC43, Human Metapneumovirus, Human Rhinovirus / Enterovi          |\n",
       "| THROAT SWABTHROAT SWAB                                                                                                                                                                                                                                                                 | Adenovirus DETECTEDThis specimen has been tested using PCR which detects Adeno,Herpes Simplex and Varicella Zoster viruses and Chlamydia trachomatis.                                                                                                                                  |\n",
       "| EYE SWAB                                                                                                                                                                                                                                                                               | ADENOVIRUSIndeterminate by EliTech InGenius This specimen has been tested using PCR which detects Adeno,Herpes Simplex and Varicella Zoster viruses and Chlamydia trachomatis. This assay has been verified by the laboratory and is awaiting accreditation under IS                   |\n",
       "| NASOPHARYNGEAL ASPIRATE                                                                                                                                                                                                                                                                | HUMAN RHINOVIRUS/ENTEROVIRUSDETECTED (by BIOFIRE) Adenovirus DETECTED (by BIOFIRE) This specimen has been tested using PCR which detects Adenovirus, Coronavirus 229E, Coronavirus HKU1, Coronavirus NL63, Coronavirus OC43, Human Metapneumovirus, Human Rhinovirus / Enterovirus, In |\n",
       "| NASO PHARYNGEAL ASPIRATE                                                                                                                                                                                                                                                               | Rhinovirus DETECTEDAdenovirus DETECTED This specimen has been tested for Influenza A, A (H1/N1), B, Rhinovirus, Coronaviruses, Parainfluenza's 1/2/3 and 4, Adenovirus, Metapneumovirus, Respiratory Syncytial virus, Enterovirus, Parechovirus, Bocavirus and Mycoplasma pne          |\n",
       "| CONJUNCTIVAL SWAB, LEFT                                                                                                                                                                                                                                                                | Adenovirus DETECTEDThis sample has undergone a dilution step to obtain this result. This specimen has been tested using PCR which detects Adeno,Herpes Simplex and Varicella Zoster viruses and Chlamydia trachomatis.                                                                 |\n",
       "| CONJUNCTIVAL SWAB, RIGHT                                                                                                                                                                                                                                                               | Adenovirus DETECTEDThis sample has undergone a dilution step to obtain this result. This specimen has been tested using PCR which detects Adeno,Herpes Simplex and Varicella Zoster viruses and Chlamydia trachomatis.                                                                 |\n",
       "| NASO PHARYNGEAL ASPIRATE                                                                                                                                                                                                                                                               | Metapneumovirus DETECTEDAdenovirus DETECTED This specimen has been tested for Influenza A, A (H1/N1), B, Rhinovirus, Coronaviruses, Parainfluenza's 1/2/3 and 4, Adenovirus, Metapneumovirus, Respiratory Syncytial virus, Enterovirus, Parechovirus, Bocavirus and Mycoplasma pne     |\n",
       "| THROAT SWAB                                                                                                                                                                                                                                                                            | Adenovirus DETECTEDMetapneumovirus DETECTED (by BIOFIRE) This specimen has been tested using PCR which detects Adenovirus, Coronavirus 229E, Coronavirus HKU1, Coronavirus NL63, Coronavirus OC43, Human Metapneumovirus, Human Rhinovirus / Enterovirus, Influenza A, Influe          |\n",
       "| EYE SWABCONJUNCTIVAL SWAB, RIGHT                                                                                                                                                                                                                                                       | Adenovirus DETECTEDby EliTech InGenius This specimen has been tested using PCR which detects Adeno,Herpes Simplex and Varicella Zoster viruses and Chlamydia trachomatis. This assay has been verified by the laboratory and is awaiting accreditation under ISO15189 2012.            |\n",
       "| NOSE & THROAT SWAB                                                                                                                                                                                                                                                                     | Influenza A virus DETECTEDAdenovirus DETECTED (by BIOFIRE) This specimen has been tested using PCR which detects Adenovirus, Coronavirus 229E, Coronavirus HKU1, Coronavirus NL63, Coronavirus OC43, Human Metapneumovirus, Human Rhinovirus / Enterovirus, Influenza A, Influenza B   |\n",
       "| NASOPHARYNGEAL ASPIRATE                                                                                                                                                                                                                                                                | Adenovirus DETECTED(by BIOFIRE) This specimen has been tested using PCR which detects Adenovirus, Coronavirus 229E, Coronavirus HKU1, Coronavirus NL63, Coronavirus OC43, Human Metapneumovirus, Human Rhinovirus / Enterovirus, Influenza A, Influenza B, Middle East Respir          |\n",
       "| THROAT SWABTHROAT SWAB                                                                                                                                                                                                                                                                 | Adenovirus DETECTED(by BIOFIRE) This specimen has been tested using PCR which detects Adenovirus, Coronavirus 229E, Coronavirus HKU1, Coronavirus NL63, Coronavirus OC43, Human Metapneumovirus, Human Rhinovirus / Enterovirus, Influenza A, Influenza B, Middle East Respir          |\n",
       "| NULL                                                                                                                                                                                                                                                                                   | DETECTED                                                                                                                                                                                                                                                                               |\n",
       "| THROAT SWABTHROAT SWAB                                                                                                                                                                                                                                                                 | Adenovirus DETECTED(by BIOFIRE) Coronavirus NL63 DETECTED (by BIOFIRE) This specimen has been tested using PCR which detects Adenovirus, Coronavirus 229E, Coronavirus HKU1, Coronavirus NL63, Coronavirus OC43, Human Metapneumovirus, Human Rhinovirus / Enterovirus, Influ          |\n",
       "| NASOPHARYNGEAL ASPIRATE                                                                                                                                                                                                                                                                | Adenovirus DETECTED(by BIOFIRE) RHINOVIRUS/ENTEROVIRUS DETECTED (by BIOFIRE) This specimen has been tested using PCR which detects Adenovirus, Coronavirus 229E, Coronavirus HKU1, Coronavirus NL63, Coronavirus OC43, Human Metapneumovirus, Human Rhinovirus / Enterovirus,          |\n",
       "| NOSE & THROAT SWAB                                                                                                                                                                                                                                                                     | Adenovirus DETECTED(by BIOFIRE) HUMAN RHINOVIRUS/ENTEROVIRUS DETECTED (by BIOFIRE) This specimen has been tested using PCR which detects Adenovirus, Coronavirus 229E, Coronavirus HKU1, Coronavirus NL63, Coronavirus OC43, Human Metapneumovirus, Human Rhinovirus / Entero          |\n",
       "| NASOPHARYNGEAL ASPIRATETHROAT SWAB                                                                                                                                                                                                                                                     | Adenovirus DETECTED(by BIOFIRE) Metapneumovirus DETECTED (by BIOFIRE) HUMAN RHINOVIRUS/ENTEROVIRUS DETECTED (by BIOFIRE) PARAINFLUENZA VIRUS type 3 DETECTED (by BIOFIRE) This specimen has been tested using PCR which detects Adenovirus, Coronavirus 229E, Coronavirus HKU          |\n",
       "| THROAT SWAB                                                                                                                                                                                                                                                                            | Influenza B virus DETECTEDAdenovirus DETECTED This specimen has been tested for Influenza A, A (H1/N1), B, Rhinovirus, Coronaviruses, Parainfluenza's 1/2/3 and 4, Adenovirus, Metapneumovirus, Respiratory Syncytial virus, Enterovirus, Parechovirus, Bocavirus and Mycoplasma pne   |\n",
       "| THROAT SWAB                                                                                                                                                                                                                                                                            | Adenovirus DETECTEDby PCR (by BIOFIRE) This specimen has been tested using PCR which detects Adenovirus, Coronavirus 229E, Coronavirus HKU1, Coronavirus NL63, Coronavirus OC43, Human Metapneumovirus, Human Rhinovirus / Enterovirus, Influenza A, Influenza B, Middle East          |\n",
       "| ... | ... |\n",
       "| NASO PHARYNGEAL ASPIRATE;Nasopharynx                                                                                                                                                                                                                                                 | Rhinovirus DETECTEDCoronavirus 229E DETECTED Metapneumovirus DETECTED Respiratory Syncytial Virus DETECTED Adenovirus DETECTED This specimen has been tested for Influenza A, A (H1/N1), B, Rhinovirus, Coronaviruses, Parainfluenza's 1/2/3 and 4, Adenovirus, Metapneumovir        |\n",
       "| NOSE SWAB                                                                                                                                                                                                                                                                            | Adenovirus DETECTED(by BIOFIRE) HUMAN RHINOVIRUS/ENTEROVIRUS DETECTED (by BIOFIRE) This specimen has been tested using PCR which detects Adenovirus, Coronavirus 229E, Coronavirus HKU1, Coronavirus NL63, Coronavirus OC43, Human Metapneumovirus, Human Rhinovirus / Entero        |\n",
       "| THROAT SWABTHROAT SWAB                                                                                                                                                                                                                                                               | Adenovirus DETECTEDby PCR (by BIOFIRE) Respiratory Syncytial Virus DETECTED by PCR (by BIOFIRE) This specimen has been tested using PCR which detects Adenovirus, Coronavirus 229E, Coronavirus HKU1, Coronavirus NL63, Coronavirus OC43, Human Metapneumovirus, Human Rhinov        |\n",
       "| THROAT SWAB                                                                                                                                                                                                                                                                          | Adenovirus DETECTED(by BIOFIRE) MYCOPLASMA PNEUMONIAE DETECTED (by BIOFIRE) This specimen has been tested using PCR which detects Adenovirus, Coronavirus 229E, Coronavirus HKU1, Coronavirus NL63, Coronavirus OC43, Human Metapneumovirus, Human Rhinovirus / Enterovirus,         |\n",
       "| THROAT SWABTHROAT SWAB                                                                                                                                                                                                                                                               | Adenovirus DETECTED by PCRHUMAN RHINOVIRUS/ENTEROVIRUS DETECTED by PCR This specimen has been tested using PCR which detects Adenovirus, Coronavirus 229E, Coronavirus HKU1, Coronavirus NL63, Coronavirus OC43, Human Metapneumovirus, Human Rhinovirus / Enterovirus, Influenza A, |\n",
       "| EYE SWABEYE,(LEFT) SWAB                                                                                                                                                                                                                                                              | Varicella Zoster Virus DETECTEDAdenovirus DETECTED This specimen has been tested using PCR which detects Adeno,Herpes Simplex and Varicella Zoster viruses and Chlamydia trachomatis.                                                                                                |\n",
       "| THROAT SWABTHROAT SWAB                                                                                                                                                                                                                                                               | Adenovirus DETECTED(by BIOFIRE) HUMAN RHINOVIRUS/ENTEROVIRUS DETECTED (by BIOFIRE) This specimen has been tested using PCR which detects Adenovirus, Coronavirus 229E, Coronavirus HKU1, Coronavirus NL63, Coronavirus OC43, Human Metapneumovirus, Human Rhinovirus / Entero        |\n",
       "| THROAT SWABTHROAT SWAB                                                                                                                                                                                                                                                               | Adenovirus DETECTED by PCR(by BIOFIRE) This specimen has been tested using PCR which detects Adenovirus, Coronavirus 229E, Coronavirus HKU1, Coronavirus NL63, Coronavirus OC43, Human Metapneumovirus, Human Rhinovirus / Enterovirus, Influenza A, Influenza B, Middle East Respir |\n",
       "| VESICLE FLUID;Abdomen                                                                                                                                                                                                                                                                | Varicella Zoster Virus DETECTEDAdenovirus DETECTED This specimen has been tested using PCR which detects Adeno,Herpes Simplex and Varicella Zoster viruses and Chlamydia trachomatis. This sample has undergone a dilution step to obtain this result.                               |\n",
       "| BRONCHO-ALVEOLAR LAVAGE                                                                                                                                                                                                                                                              | Adenovirus DETECTED(by BIOFIRE) This specimen has been tested using PCR which detects Adenovirus, Coronavirus 229E, Coronavirus HKU1, Coronavirus NL63, Coronavirus OC43, Human Metapneumovirus, Human Rhinovirus / Enterovirus, Influenza A, Influenza B, Middle East Respir        |\n",
       "| NASO PHARYNGEAL ASPIRATE;Nasopharynx                                                                                                                                                                                                                                                 | Human Bocavirus DETECTEDAdenovirus DETECTED This specimen has been tested for Influenza A, A (H1/N1), B, Rhinovirus, Coronaviruses, Parainfluenza's 1/2/3 and 4, Adenovirus, Metapneumovirus, Respiratory Syncytial virus, Enterovirus, Parechovirus, Bocavirus and Mycoplasma pne   |\n",
       "| SWABEYE,(RIGHT) SWAB                                                                                                                                                                                                                                                                 | Adenovirus DETECTEDby EliTech InGenius This specimen has been tested using PCR which detects Adeno,Herpes Simplex and Varicella Zoster viruses and Chlamydia trachomatis. This assay has been verified by the laboratory and is awaiting accreditation under ISO15189 2012.          |\n",
       "| NOSE & THROAT SWAB                                                                                                                                                                                                                                                                   | Adenovirus DETECTEDHUMAN RHINOVIRUS/ENTEROVIRUS DETECTED Parainfluenzavirus type 4 DETECTED (by BIOFIRE) This specimen has been tested using PCR which detects Adenovirus, Coronavirus 229E, Coronavirus HKU1, Coronavirus NL63, Coronavirus OC43, Human Metapneumovirus, Hum        |\n",
       "| THROAT SWABTHROAT SWAB                                                                                                                                                                                                                                                               | Coronavirus 229E DETECTEDCoronavirus OC43 DETECTED Respiratory Syncytial Virus DETECTED Adenovirus DETECTED This specimen has been tested for Influenza A, A (H1/N1), B, Rhinovirus, Coronaviruses, Parainfluenza's 1/2/3 and 4, Adenovirus, Metapneumovirus, Respiratory Syncytial  |\n",
       "| NASOPHARYNGEAL ASPIRATE;Nasopharynx                                                                                                                                                                                                                                                  | Adenovirus DETECTED(by BIOFIRE) Coronavirus NL63 DETECTED (by BIOFIRE) This specimen has been tested using PCR which detects Adenovirus, Coronavirus 229E, Coronavirus HKU1, Coronavirus NL63, Coronavirus OC43, Human Metapneumovirus, Human Rhinovirus / Enterovirus, Influ        |\n",
       "| EYE SWABCONJUNCTIVAL SWAB, RIGHT                                                                                                                                                                                                                                                     | Adenovirus DETECTEDThis specimen has been tested using PCR which detects Adeno,Herpes Simplex and Varicella Zoster viruses and Chlamydia trachomatis.                                                                                                                                |\n",
       "| NASOPHARYNGEAL ASPIRATE                                                                                                                                                                                                                                                              | Adenovirus DETECTED(by BIOFIRE) HUMAN RHINOVIRUS/ENTEROVIRUS DETECTED (by BIOFIRE) Parainfluenzavirus type 2 DETECTED (by BIOFIRE) This specimen has been tested using PCR which detects Adenovirus, Coronavirus 229E, Coronavirus HKU1, Coronavirus NL63, Coronavirus OC43,         |\n",
       "| NASOPHARYNGEAL ASPIRATE;Nasopharynx L                                                                                                                                                                                                                                                | Adenovirus DETECTEDHUMAN RHINOVIRUS/ENTEROVIRUS DETECTED by PCR (by BIOFIRE) This specimen has been tested using PCR which detects Adenovirus, Coronavirus 229E, Coronavirus HKU1, Coronavirus NL63, Coronavirus OC43, Human Metapneumovirus, Human Rhinovirus / Enterovirus,        |\n",
       "| THROAT SWABTHROAT SWAB                                                                                                                                                                                                                                                               | Adenovirus DETECTED(by BIOFIRE) HUMAN RHINOVIRUS/ENTEROVIRUS DETECTED (by BIOFIRE) MYCOPLASMA PNEUMONIAE DETECTED (by BIOFIRE) THIS IS AN AMENDED REPORT ;please disregard the previous report of  Metapneumovirus DETECTED ;and note the addition of  MYCOPLASMA PNEUMONIAE         |\n",
       "| NOSE & THROAT SWAB                                                                                                                                                                                                                                                                   | Adenovirus DETECTED(by BIOFIRE) Coronavirus 229E DETECTED (by BIOFIRE) This specimen has been tested using PCR which detects Adenovirus, Coronavirus 229E, Coronavirus HKU1, Coronavirus NL63, Coronavirus OC43, Human Metapneumovirus, Human Rhinovirus / Enterovirus, Influ        |\n",
       "| BRONCHO-ALVEOLAR LAVAGE                                                                                                                                                                                                                                                              | Coronavirus 229E DETECTED(by BIOFIRE) Adenovirus DETECTED (by BIOFIRE) This specimen has been tested using PCR which detects Adenovirus, Coronavirus 229E, Coronavirus HKU1, Coronavirus NL63, Coronavirus OC43, Human Metapneumovirus, Human Rhinovirus / Enterovirus, Influenza A  |\n",
       "| NASOPHARYNGEAL ASPIRATE;Nasopharynx                                                                                                                                                                                                                                                  | Adenovirus DETECTEDRespiratory Syncytial Virus DETECTED This specimen has been tested using PCR which detects Adenovirus, Coronavirus 229E, Coronavirus HKU1, Coronavirus NL63, Coronavirus OC43, Human Metapneumovirus, Human Rhinovirus / Enterovirus, Influenza A, Influen        |\n",
       "| NASO PHARYNGEAL ASPIRATENOSE SWAB                                                                                                                                                                                                                                                    | Adenovirus DETECTEDThis specimen has been tested for Influenza A, A (H1/N1), B, Rhinovirus, Coronaviruses, Parainfluenza's 1/2/3 and 4, Adenovirus, Metapneumovirus, Respiratory Syncytial virus, Enterovirus, Parechovirus, Bocavirus and Mycoplasma pneumoniae.                    |\n",
       "| NASOPHARYNGEAL ASPIRATETHROAT SWAB                                                                                                                                                                                                                                                   | Adenovirus DETECTED(by BIOFIRE) HUMAN RHINOVIRUS/ENTEROVIRUS DETECTED (by BIOFIRE) Respiratory Syncytial Virus DETECTED (by BIOFIRE) This specimen has been tested using PCR which detects Adenovirus, Coronavirus 229E, Coronavirus HKU1, Coronavirus NL63, Coronavirus OC43        |\n",
       "| NOSE & THROAT SWAB                                                                                                                                                                                                                                                                   | Adenovirus DETECTED(by BIOFIRE) HUMAN RHINOVIRUS/ENTEROVIRUS (by BIOFIRE) This specimen has been tested using PCR which detects Adenovirus, Coronavirus 229E, Coronavirus HKU1, Coronavirus NL63, Coronavirus OC43, Human Metapneumovirus, Human Rhinovirus / Enterovirus, In        |\n",
       "| NASOPHARYNGEAL ASPIRATE;Nasopharynx                                                                                                                                                                                                                                                  | Adenovirus DETECTED(by BIOFIRE) INFLUENZA A VIRUS ;H3 DETECTED (by BIOFIRE) This specimen has been tested using PCR which detects Adenovirus, Coronavirus 229E, Coronavirus HKU1, Coronavirus NL63, Coronavirus OC43, Human Metapneumovirus, Human Rhinovirus / Enterovirus,         |\n",
       "| NASO PHARYNGEAL ASPIRATENOSE SWAB                                                                                                                                                                                                                                                    | Coronavirus NL63 DETECTEDMetapneumovirus DETECTED Adenovirus DETECTED This sample has undergone a dilution step to obtain this result. This specimen has been tested for Influenza A, A (H1/N1), B, Rhinovirus, Coronaviruses, Parainfluenza's 1/2/3 and 4, Adenovirus, Metapneumov  |\n",
       "| EYE SWABCONJUNCTIVAL SWAB, LEFT                                                                                                                                                                                                                                                      | Adenovirus DETECTEDBy Qiagen FTD eye This specimen has been tested using PCR which detects Adeno,Herpes Simplex and Varicella Zoster viruses and Chlamydia trachomatis.                                                                                                              |\n",
       "| THROAT SWABTHROAT SWAB                                                                                                                                                                                                                                                               | Adenovirus DETECTED(by BIOFIRE) by PCR This specimen has been tested using PCR which detects Adenovirus, Coronavirus 229E, Coronavirus HKU1, Coronavirus NL63, Coronavirus OC43, Human Metapneumovirus, Human Rhinovirus / Enterovirus, Influenza A, Influenza B, Middle East        |\n",
       "| NOSE & THROAT SWAB                                                                                                                                                                                                                                                                   | Adenovirus DETECTEDby PCR Coronavirus NL63 DETECTED by PCR HUMAN RHINOVIRUS/ENTEROVIRUS DETECTED by PCR (by BIOFIRE) ESCHERICHIA COLI This specimen has been tested using PCR which detects Adenovirus, Coronavirus 229E, Coronavirus HKU1, Coronavirus NL63, Coronavirus OC4        |\n",
       "\n"
      ],
      "text/plain": [
       "    SpecimenFull                         \n",
       "1   NOSE & THROAT SWAB                   \n",
       "2   NOSE & THROAT SWAB                   \n",
       "3   NOSE & THROAT SWAB                   \n",
       "4   THROAT SWABTHROAT SWAB               \n",
       "5   BRONCHO-ALVEOLAR LAVAGE              \n",
       "6   NASOPHARYNGEAL ASPIRATE;Nostril R    \n",
       "7   THROAT SWABTHROAT SWAB               \n",
       "8   EYE SWAB                             \n",
       "9   BRONCHO-ALVEOLAR LAVAGERIGHT ;LOWER  \n",
       "10  NOSE & THROAT SWAB                   \n",
       "11  NOSE & THROAT SWAB                   \n",
       "12  THROAT SWABTHROAT SWAB               \n",
       "13  EYE SWAB                             \n",
       "14  NASOPHARYNGEAL ASPIRATE              \n",
       "15  NASO PHARYNGEAL ASPIRATE             \n",
       "16  CONJUNCTIVAL SWAB, LEFT              \n",
       "17  CONJUNCTIVAL SWAB, RIGHT             \n",
       "18  NASO PHARYNGEAL ASPIRATE             \n",
       "19  THROAT SWAB                          \n",
       "20  EYE SWABCONJUNCTIVAL SWAB, RIGHT     \n",
       "21  NOSE & THROAT SWAB                   \n",
       "22  NASOPHARYNGEAL ASPIRATE              \n",
       "23  THROAT SWABTHROAT SWAB               \n",
       "24  NULL                                 \n",
       "25  THROAT SWABTHROAT SWAB               \n",
       "26  NASOPHARYNGEAL ASPIRATE              \n",
       "27  NOSE & THROAT SWAB                   \n",
       "28  NASOPHARYNGEAL ASPIRATETHROAT SWAB   \n",
       "29  THROAT SWAB                          \n",
       "30  THROAT SWAB                          \n",
       "... ...                                  \n",
       "75  NASO PHARYNGEAL ASPIRATE;Nasopharynx \n",
       "76  NOSE SWAB                            \n",
       "77  THROAT SWABTHROAT SWAB               \n",
       "78  THROAT SWAB                          \n",
       "79  THROAT SWABTHROAT SWAB               \n",
       "80  EYE SWABEYE,(LEFT) SWAB              \n",
       "81  THROAT SWABTHROAT SWAB               \n",
       "82  THROAT SWABTHROAT SWAB               \n",
       "83  VESICLE FLUID;Abdomen                \n",
       "84  BRONCHO-ALVEOLAR LAVAGE              \n",
       "85  NASO PHARYNGEAL ASPIRATE;Nasopharynx \n",
       "86  SWABEYE,(RIGHT) SWAB                 \n",
       "87  NOSE & THROAT SWAB                   \n",
       "88  THROAT SWABTHROAT SWAB               \n",
       "89  NASOPHARYNGEAL ASPIRATE;Nasopharynx  \n",
       "90  EYE SWABCONJUNCTIVAL SWAB, RIGHT     \n",
       "91  NASOPHARYNGEAL ASPIRATE              \n",
       "92  NASOPHARYNGEAL ASPIRATE;Nasopharynx L\n",
       "93  THROAT SWABTHROAT SWAB               \n",
       "94  NOSE & THROAT SWAB                   \n",
       "95  BRONCHO-ALVEOLAR LAVAGE              \n",
       "96  NASOPHARYNGEAL ASPIRATE;Nasopharynx  \n",
       "97  NASO PHARYNGEAL ASPIRATENOSE SWAB    \n",
       "98  NASOPHARYNGEAL ASPIRATETHROAT SWAB   \n",
       "99  NOSE & THROAT SWAB                   \n",
       "100 NASOPHARYNGEAL ASPIRATE;Nasopharynx  \n",
       "101 NASO PHARYNGEAL ASPIRATENOSE SWAB    \n",
       "102 EYE SWABCONJUNCTIVAL SWAB, LEFT      \n",
       "103 THROAT SWABTHROAT SWAB               \n",
       "104 NOSE & THROAT SWAB                   \n",
       "    ResultFull                                                                                                                                                                                                                                                                            \n",
       "1   Adenovirus DETECTED(by BIOFIRE) RHINOVIRUS/ENTEROVIRUS DETECTED (by BIOFIRE) This specimen has been tested using PCR which detects Adenovirus, Coronavirus 229E, Coronavirus HKU1, Coronavirus NL63, Coronavirus OC43, Human Metapneumovirus, Human Rhinovirus / Enterovirus,         \n",
       "2   Adenovirus DETECTEDHUMAN RHINOVIRUS/ENTEROVIRUS DETECTED (by BIOFIRE) This specimen has been tested using PCR which detects Adenovirus, Coronavirus 229E, Coronavirus HKU1, Coronavirus NL63, Coronavirus OC43, Human Metapneumovirus, Human Rhinovirus / Enterovirus, Influe         \n",
       "3   Adenovirus DETECTED(by BIOFIRE) This specimen has been tested using PCR which detects Adenovirus, Coronavirus 229E, Coronavirus HKU1, Coronavirus NL63, Coronavirus OC43, Human Metapneumovirus, Human Rhinovirus / Enterovirus, Influenza A, Influenza B, Middle East Respir         \n",
       "4   Influenza B virus DETECTEDAdenovirus DETECTED This specimen has been tested for Influenza A, A (H1/N1), B, Rhinovirus, Coronaviruses, Parainfluenza's 1/2/3 and 4, Adenovirus, Metapneumovirus, Respiratory Syncytial virus, Enterovirus, Parechovirus, Bocavirus and Mycoplasma pne  \n",
       "5   No microorganisms detectedby PCR (by BIOFIRE) This specimen has been tested using PCR which detects Adenovirus, Coronavirus 229E, Coronavirus HKU1, Coronavirus NL63, Coronavirus OC43, Human Metapneumovirus, Human Rhinovirus / Enterovirus, Influenza A, Influenza B, Middle East  \n",
       "6   Adenovirus DETECTED(by BIOFIRE) RHINOVIRUS/ENTEROVIRUS DETECTED (by BIOFIRE) Influenza A virus DETECTED (by BIOFIRE) This specimen has been tested using PCR which detects Adenovirus, Coronavirus 229E, Coronavirus HKU1, Coronavirus NL63, Coronavirus OC43, Human Metapneu         \n",
       "7   Adenovirus DETECTEDby PCR (by BIOFIRE) This specimen has been tested using PCR which detects Adenovirus, Coronavirus 229E, Coronavirus HKU1, Coronavirus NL63, Coronavirus OC43, Human Metapneumovirus, Human Rhinovirus / Enterovirus, Influenza A, Influenza B, Middle East         \n",
       "8   Adenovirus DETECTEDby EliTech InGenius ELITe assay This specimen has been tested using PCR which detects Adeno,Herpes Simplex and Varicella Zoster viruses and Chlamydia trachomatis. This assay has been verified by the laboratory and is awaiting accreditation under ISO1         \n",
       "9   Adenovirus DETECTEDThis specimen has been tested for Influenza A, A (H1/N1), B, Rhinovirus, Coronaviruses, Parainfluenza's 1/2/3 and 4, Adenovirus, Metapneumovirus, Respiratory Syncytial virus, Enterovirus, Parechovirus, Bocavirus and Mycoplasma pneumoniae.                     \n",
       "10  HUMAN RHINOVIRUS/ENTEROVIRUSDETECTED (by BIOFIRE) Adenovirus DETECTED (by BIOFIRE) This specimen has been tested using PCR which detects Adenovirus, Coronavirus 229E, Coronavirus HKU1, Coronavirus NL63, Coronavirus OC43, Human Metapneumovirus, Human Rhinovirus / Enterovirus, In\n",
       "11  Adenovirus DETECTED(by BIOFIRE) PARAINFLUENZA VIRUS type 1 DETECTED (by BIOFIRE) This specimen has been tested using PCR which detects Adenovirus, Coronavirus 229E, Coronavirus HKU1, Coronavirus NL63, Coronavirus OC43, Human Metapneumovirus, Human Rhinovirus / Enterovi         \n",
       "12  Adenovirus DETECTEDThis specimen has been tested using PCR which detects Adeno,Herpes Simplex and Varicella Zoster viruses and Chlamydia trachomatis.                                                                                                                                 \n",
       "13  ADENOVIRUSIndeterminate by EliTech InGenius This specimen has been tested using PCR which detects Adeno,Herpes Simplex and Varicella Zoster viruses and Chlamydia trachomatis. This assay has been verified by the laboratory and is awaiting accreditation under IS                  \n",
       "14  HUMAN RHINOVIRUS/ENTEROVIRUSDETECTED (by BIOFIRE) Adenovirus DETECTED (by BIOFIRE) This specimen has been tested using PCR which detects Adenovirus, Coronavirus 229E, Coronavirus HKU1, Coronavirus NL63, Coronavirus OC43, Human Metapneumovirus, Human Rhinovirus / Enterovirus, In\n",
       "15  Rhinovirus DETECTEDAdenovirus DETECTED This specimen has been tested for Influenza A, A (H1/N1), B, Rhinovirus, Coronaviruses, Parainfluenza's 1/2/3 and 4, Adenovirus, Metapneumovirus, Respiratory Syncytial virus, Enterovirus, Parechovirus, Bocavirus and Mycoplasma pne         \n",
       "16  Adenovirus DETECTEDThis sample has undergone a dilution step to obtain this result. This specimen has been tested using PCR which detects Adeno,Herpes Simplex and Varicella Zoster viruses and Chlamydia trachomatis.                                                                \n",
       "17  Adenovirus DETECTEDThis sample has undergone a dilution step to obtain this result. This specimen has been tested using PCR which detects Adeno,Herpes Simplex and Varicella Zoster viruses and Chlamydia trachomatis.                                                                \n",
       "18  Metapneumovirus DETECTEDAdenovirus DETECTED This specimen has been tested for Influenza A, A (H1/N1), B, Rhinovirus, Coronaviruses, Parainfluenza's 1/2/3 and 4, Adenovirus, Metapneumovirus, Respiratory Syncytial virus, Enterovirus, Parechovirus, Bocavirus and Mycoplasma pne    \n",
       "19  Adenovirus DETECTEDMetapneumovirus DETECTED (by BIOFIRE) This specimen has been tested using PCR which detects Adenovirus, Coronavirus 229E, Coronavirus HKU1, Coronavirus NL63, Coronavirus OC43, Human Metapneumovirus, Human Rhinovirus / Enterovirus, Influenza A, Influe         \n",
       "20  Adenovirus DETECTEDby EliTech InGenius This specimen has been tested using PCR which detects Adeno,Herpes Simplex and Varicella Zoster viruses and Chlamydia trachomatis. This assay has been verified by the laboratory and is awaiting accreditation under ISO15189 2012.           \n",
       "21  Influenza A virus DETECTEDAdenovirus DETECTED (by BIOFIRE) This specimen has been tested using PCR which detects Adenovirus, Coronavirus 229E, Coronavirus HKU1, Coronavirus NL63, Coronavirus OC43, Human Metapneumovirus, Human Rhinovirus / Enterovirus, Influenza A, Influenza B  \n",
       "22  Adenovirus DETECTED(by BIOFIRE) This specimen has been tested using PCR which detects Adenovirus, Coronavirus 229E, Coronavirus HKU1, Coronavirus NL63, Coronavirus OC43, Human Metapneumovirus, Human Rhinovirus / Enterovirus, Influenza A, Influenza B, Middle East Respir         \n",
       "23  Adenovirus DETECTED(by BIOFIRE) This specimen has been tested using PCR which detects Adenovirus, Coronavirus 229E, Coronavirus HKU1, Coronavirus NL63, Coronavirus OC43, Human Metapneumovirus, Human Rhinovirus / Enterovirus, Influenza A, Influenza B, Middle East Respir         \n",
       "24  DETECTED                                                                                                                                                                                                                                                                              \n",
       "25  Adenovirus DETECTED(by BIOFIRE) Coronavirus NL63 DETECTED (by BIOFIRE) This specimen has been tested using PCR which detects Adenovirus, Coronavirus 229E, Coronavirus HKU1, Coronavirus NL63, Coronavirus OC43, Human Metapneumovirus, Human Rhinovirus / Enterovirus, Influ         \n",
       "26  Adenovirus DETECTED(by BIOFIRE) RHINOVIRUS/ENTEROVIRUS DETECTED (by BIOFIRE) This specimen has been tested using PCR which detects Adenovirus, Coronavirus 229E, Coronavirus HKU1, Coronavirus NL63, Coronavirus OC43, Human Metapneumovirus, Human Rhinovirus / Enterovirus,         \n",
       "27  Adenovirus DETECTED(by BIOFIRE) HUMAN RHINOVIRUS/ENTEROVIRUS DETECTED (by BIOFIRE) This specimen has been tested using PCR which detects Adenovirus, Coronavirus 229E, Coronavirus HKU1, Coronavirus NL63, Coronavirus OC43, Human Metapneumovirus, Human Rhinovirus / Entero         \n",
       "28  Adenovirus DETECTED(by BIOFIRE) Metapneumovirus DETECTED (by BIOFIRE) HUMAN RHINOVIRUS/ENTEROVIRUS DETECTED (by BIOFIRE) PARAINFLUENZA VIRUS type 3 DETECTED (by BIOFIRE) This specimen has been tested using PCR which detects Adenovirus, Coronavirus 229E, Coronavirus HKU         \n",
       "29  Influenza B virus DETECTEDAdenovirus DETECTED This specimen has been tested for Influenza A, A (H1/N1), B, Rhinovirus, Coronaviruses, Parainfluenza's 1/2/3 and 4, Adenovirus, Metapneumovirus, Respiratory Syncytial virus, Enterovirus, Parechovirus, Bocavirus and Mycoplasma pne  \n",
       "30  Adenovirus DETECTEDby PCR (by BIOFIRE) This specimen has been tested using PCR which detects Adenovirus, Coronavirus 229E, Coronavirus HKU1, Coronavirus NL63, Coronavirus OC43, Human Metapneumovirus, Human Rhinovirus / Enterovirus, Influenza A, Influenza B, Middle East         \n",
       "... ...                                                                                                                                                                                                                                                                                   \n",
       "75  Rhinovirus DETECTEDCoronavirus 229E DETECTED Metapneumovirus DETECTED Respiratory Syncytial Virus DETECTED Adenovirus DETECTED This specimen has been tested for Influenza A, A (H1/N1), B, Rhinovirus, Coronaviruses, Parainfluenza's 1/2/3 and 4, Adenovirus, Metapneumovir         \n",
       "76  Adenovirus DETECTED(by BIOFIRE) HUMAN RHINOVIRUS/ENTEROVIRUS DETECTED (by BIOFIRE) This specimen has been tested using PCR which detects Adenovirus, Coronavirus 229E, Coronavirus HKU1, Coronavirus NL63, Coronavirus OC43, Human Metapneumovirus, Human Rhinovirus / Entero         \n",
       "77  Adenovirus DETECTEDby PCR (by BIOFIRE) Respiratory Syncytial Virus DETECTED by PCR (by BIOFIRE) This specimen has been tested using PCR which detects Adenovirus, Coronavirus 229E, Coronavirus HKU1, Coronavirus NL63, Coronavirus OC43, Human Metapneumovirus, Human Rhinov         \n",
       "78  Adenovirus DETECTED(by BIOFIRE) MYCOPLASMA PNEUMONIAE DETECTED (by BIOFIRE) This specimen has been tested using PCR which detects Adenovirus, Coronavirus 229E, Coronavirus HKU1, Coronavirus NL63, Coronavirus OC43, Human Metapneumovirus, Human Rhinovirus / Enterovirus,          \n",
       "79  Adenovirus DETECTED by PCRHUMAN RHINOVIRUS/ENTEROVIRUS DETECTED by PCR This specimen has been tested using PCR which detects Adenovirus, Coronavirus 229E, Coronavirus HKU1, Coronavirus NL63, Coronavirus OC43, Human Metapneumovirus, Human Rhinovirus / Enterovirus, Influenza A,  \n",
       "80  Varicella Zoster Virus DETECTEDAdenovirus DETECTED This specimen has been tested using PCR which detects Adeno,Herpes Simplex and Varicella Zoster viruses and Chlamydia trachomatis.                                                                                                 \n",
       "81  Adenovirus DETECTED(by BIOFIRE) HUMAN RHINOVIRUS/ENTEROVIRUS DETECTED (by BIOFIRE) This specimen has been tested using PCR which detects Adenovirus, Coronavirus 229E, Coronavirus HKU1, Coronavirus NL63, Coronavirus OC43, Human Metapneumovirus, Human Rhinovirus / Entero         \n",
       "82  Adenovirus DETECTED by PCR(by BIOFIRE) This specimen has been tested using PCR which detects Adenovirus, Coronavirus 229E, Coronavirus HKU1, Coronavirus NL63, Coronavirus OC43, Human Metapneumovirus, Human Rhinovirus / Enterovirus, Influenza A, Influenza B, Middle East Respir  \n",
       "83  Varicella Zoster Virus DETECTEDAdenovirus DETECTED This specimen has been tested using PCR which detects Adeno,Herpes Simplex and Varicella Zoster viruses and Chlamydia trachomatis. This sample has undergone a dilution step to obtain this result.                                \n",
       "84  Adenovirus DETECTED(by BIOFIRE) This specimen has been tested using PCR which detects Adenovirus, Coronavirus 229E, Coronavirus HKU1, Coronavirus NL63, Coronavirus OC43, Human Metapneumovirus, Human Rhinovirus / Enterovirus, Influenza A, Influenza B, Middle East Respir         \n",
       "85  Human Bocavirus DETECTEDAdenovirus DETECTED This specimen has been tested for Influenza A, A (H1/N1), B, Rhinovirus, Coronaviruses, Parainfluenza's 1/2/3 and 4, Adenovirus, Metapneumovirus, Respiratory Syncytial virus, Enterovirus, Parechovirus, Bocavirus and Mycoplasma pne    \n",
       "86  Adenovirus DETECTEDby EliTech InGenius This specimen has been tested using PCR which detects Adeno,Herpes Simplex and Varicella Zoster viruses and Chlamydia trachomatis. This assay has been verified by the laboratory and is awaiting accreditation under ISO15189 2012.           \n",
       "87  Adenovirus DETECTEDHUMAN RHINOVIRUS/ENTEROVIRUS DETECTED Parainfluenzavirus type 4 DETECTED (by BIOFIRE) This specimen has been tested using PCR which detects Adenovirus, Coronavirus 229E, Coronavirus HKU1, Coronavirus NL63, Coronavirus OC43, Human Metapneumovirus, Hum         \n",
       "88  Coronavirus 229E DETECTEDCoronavirus OC43 DETECTED Respiratory Syncytial Virus DETECTED Adenovirus DETECTED This specimen has been tested for Influenza A, A (H1/N1), B, Rhinovirus, Coronaviruses, Parainfluenza's 1/2/3 and 4, Adenovirus, Metapneumovirus, Respiratory Syncytial   \n",
       "89  Adenovirus DETECTED(by BIOFIRE) Coronavirus NL63 DETECTED (by BIOFIRE) This specimen has been tested using PCR which detects Adenovirus, Coronavirus 229E, Coronavirus HKU1, Coronavirus NL63, Coronavirus OC43, Human Metapneumovirus, Human Rhinovirus / Enterovirus, Influ         \n",
       "90  Adenovirus DETECTEDThis specimen has been tested using PCR which detects Adeno,Herpes Simplex and Varicella Zoster viruses and Chlamydia trachomatis.                                                                                                                                 \n",
       "91  Adenovirus DETECTED(by BIOFIRE) HUMAN RHINOVIRUS/ENTEROVIRUS DETECTED (by BIOFIRE) Parainfluenzavirus type 2 DETECTED (by BIOFIRE) This specimen has been tested using PCR which detects Adenovirus, Coronavirus 229E, Coronavirus HKU1, Coronavirus NL63, Coronavirus OC43,          \n",
       "92  Adenovirus DETECTEDHUMAN RHINOVIRUS/ENTEROVIRUS DETECTED by PCR (by BIOFIRE) This specimen has been tested using PCR which detects Adenovirus, Coronavirus 229E, Coronavirus HKU1, Coronavirus NL63, Coronavirus OC43, Human Metapneumovirus, Human Rhinovirus / Enterovirus,         \n",
       "93  Adenovirus DETECTED(by BIOFIRE) HUMAN RHINOVIRUS/ENTEROVIRUS DETECTED (by BIOFIRE) MYCOPLASMA PNEUMONIAE DETECTED (by BIOFIRE) THIS IS AN AMENDED REPORT ;please disregard the previous report of  Metapneumovirus DETECTED ;and note the addition of  MYCOPLASMA PNEUMONIAE          \n",
       "94  Adenovirus DETECTED(by BIOFIRE) Coronavirus 229E DETECTED (by BIOFIRE) This specimen has been tested using PCR which detects Adenovirus, Coronavirus 229E, Coronavirus HKU1, Coronavirus NL63, Coronavirus OC43, Human Metapneumovirus, Human Rhinovirus / Enterovirus, Influ         \n",
       "95  Coronavirus 229E DETECTED(by BIOFIRE) Adenovirus DETECTED (by BIOFIRE) This specimen has been tested using PCR which detects Adenovirus, Coronavirus 229E, Coronavirus HKU1, Coronavirus NL63, Coronavirus OC43, Human Metapneumovirus, Human Rhinovirus / Enterovirus, Influenza A   \n",
       "96  Adenovirus DETECTEDRespiratory Syncytial Virus DETECTED This specimen has been tested using PCR which detects Adenovirus, Coronavirus 229E, Coronavirus HKU1, Coronavirus NL63, Coronavirus OC43, Human Metapneumovirus, Human Rhinovirus / Enterovirus, Influenza A, Influen         \n",
       "97  Adenovirus DETECTEDThis specimen has been tested for Influenza A, A (H1/N1), B, Rhinovirus, Coronaviruses, Parainfluenza's 1/2/3 and 4, Adenovirus, Metapneumovirus, Respiratory Syncytial virus, Enterovirus, Parechovirus, Bocavirus and Mycoplasma pneumoniae.                     \n",
       "98  Adenovirus DETECTED(by BIOFIRE) HUMAN RHINOVIRUS/ENTEROVIRUS DETECTED (by BIOFIRE) Respiratory Syncytial Virus DETECTED (by BIOFIRE) This specimen has been tested using PCR which detects Adenovirus, Coronavirus 229E, Coronavirus HKU1, Coronavirus NL63, Coronavirus OC43         \n",
       "99  Adenovirus DETECTED(by BIOFIRE) HUMAN RHINOVIRUS/ENTEROVIRUS (by BIOFIRE) This specimen has been tested using PCR which detects Adenovirus, Coronavirus 229E, Coronavirus HKU1, Coronavirus NL63, Coronavirus OC43, Human Metapneumovirus, Human Rhinovirus / Enterovirus, In         \n",
       "100 Adenovirus DETECTED(by BIOFIRE) INFLUENZA A VIRUS ;H3 DETECTED (by BIOFIRE) This specimen has been tested using PCR which detects Adenovirus, Coronavirus 229E, Coronavirus HKU1, Coronavirus NL63, Coronavirus OC43, Human Metapneumovirus, Human Rhinovirus / Enterovirus,          \n",
       "101 Coronavirus NL63 DETECTEDMetapneumovirus DETECTED Adenovirus DETECTED This sample has undergone a dilution step to obtain this result. This specimen has been tested for Influenza A, A (H1/N1), B, Rhinovirus, Coronaviruses, Parainfluenza's 1/2/3 and 4, Adenovirus, Metapneumov   \n",
       "102 Adenovirus DETECTEDBy Qiagen FTD eye This specimen has been tested using PCR which detects Adeno,Herpes Simplex and Varicella Zoster viruses and Chlamydia trachomatis.                                                                                                               \n",
       "103 Adenovirus DETECTED(by BIOFIRE) by PCR This specimen has been tested using PCR which detects Adenovirus, Coronavirus 229E, Coronavirus HKU1, Coronavirus NL63, Coronavirus OC43, Human Metapneumovirus, Human Rhinovirus / Enterovirus, Influenza A, Influenza B, Middle East         \n",
       "104 Adenovirus DETECTEDby PCR Coronavirus NL63 DETECTED by PCR HUMAN RHINOVIRUS/ENTEROVIRUS DETECTED by PCR (by BIOFIRE) ESCHERICHIA COLI This specimen has been tested using PCR which detects Adenovirus, Coronavirus 229E, Coronavirus HKU1, Coronavirus NL63, Coronavirus OC4         "
      ]
     },
     "metadata": {},
     "output_type": "display_data"
    }
   ],
   "source": [
    "micro_df %>%\n",
    "#     filter(MicroTestName == \"ADENOVIRUS DNA\") %>%\n",
    "#     filter(AttendanceStartDate > as.Date(\"2020-04-01\")) %>%\n",
    "    filter(BugName == \"Adenovirus\") %>%\n",
    "    distinct(SpecimenFull, ResultFull)"
   ]
  },
  {
   "cell_type": "code",
   "execution_count": 3,
   "id": "1cd3c317",
   "metadata": {
    "scrolled": true
   },
   "outputs": [],
   "source": [
    "## For building viral hep regex\n",
    "# micro_df %>%\n",
    "#     filter(grepl(\"Hepatitis|Hep|HBV\", MicroTestName, ignore.case = T)) %>%\n",
    "# #     distinct(MicroTestName, ResultFull) %>%\n",
    "#     mutate(ResultFull = str_trim(ResultFull)) %>%\n",
    "#     filter(MicroTestName != \"HEPATITIS C GENOTYPE\") %>%\n",
    "#     filter(!grepl(\"potential identifiers|see result|sent to reference lab|see comment|Not detected|sorry|insufficient|do not report|EQUIVOCAL|UNSUITABLE|UNCONFIRMED|Not tested|(CDR)|further testing required\", ResultFull, ignore.case = T)) %>%\n",
    "#     filter(!(ResultFull %in% c(\"\", \" \"))) %>%\n",
    "#     mutate(is_viral_hep = T) %>%\n",
    "#     distinct(ClusterID, AttendanceStartDate, is_viral_hep)\n"
   ]
  },
  {
   "cell_type": "code",
   "execution_count": 6,
   "id": "33d1df39",
   "metadata": {},
   "outputs": [
    {
     "name": "stderr",
     "output_type": "stream",
     "text": [
      "Joining, by = c(\"ClusterID\", \"AttendanceStartDate\")\n"
     ]
    },
    {
     "data": {
      "text/html": [
       "<table>\n",
       "<thead><tr><th scope=col>prop_test</th><th scope=col>prop_ALT</th><th scope=col>prop_AST</th></tr></thead>\n",
       "<tbody>\n",
       "\t<tr><td>0.5880912  </td><td>0.5313377  </td><td>0.006910308</td></tr>\n",
       "</tbody>\n",
       "</table>\n"
      ],
      "text/latex": [
       "\\begin{tabular}{r|lll}\n",
       " prop\\_test & prop\\_ALT & prop\\_AST\\\\\n",
       "\\hline\n",
       "\t 0.5880912   & 0.5313377   & 0.006910308\\\\\n",
       "\\end{tabular}\n"
      ],
      "text/markdown": [
       "\n",
       "| prop_test | prop_ALT | prop_AST |\n",
       "|---|---|---|\n",
       "| 0.5880912   | 0.5313377   | 0.006910308 |\n",
       "\n"
      ],
      "text/plain": [
       "  prop_test prop_ALT  prop_AST   \n",
       "1 0.5880912 0.5313377 0.006910308"
      ]
     },
     "metadata": {},
     "output_type": "display_data"
    }
   ],
   "source": [
    "age_df %>%\n",
    "    distinct(ClusterID, AttendanceStartDate) %>%\n",
    "    left_join(test_df %>%\n",
    "        distinct(ClusterID, AttendanceStartDate, TestName, .keep_all = T)) %>%\n",
    "    group_by(ClusterID, AttendanceStartDate) %>%\n",
    "    summarise(n_ALT = sum(TestName == \"ALT\", na.rm = T),\n",
    "              n_AST = sum(TestName == \"AST\", na.rm = T),\n",
    "              n_tests = n_distinct(TestName, na.rm = T)) %>%\n",
    "    mutate(test = ifelse(n_tests > 0, T, F),\n",
    "           ALT_test = ifelse(n_ALT > 0, T, F),\n",
    "           AST_test = ifelse(n_AST > 0, T, F)) %>%\n",
    "    ungroup() %>%\n",
    "    summarise(prop_test = sum(test) / n(),\n",
    "              prop_ALT = sum(ALT_test) / n(),\n",
    "              prop_AST = sum(AST_test) / n())\n"
   ]
  },
  {
   "cell_type": "markdown",
   "id": "0327b040",
   "metadata": {},
   "source": [
    "### Filter data"
   ]
  },
  {
   "cell_type": "code",
   "execution_count": 7,
   "id": "f3e39eef",
   "metadata": {
    "scrolled": true
   },
   "outputs": [],
   "source": [
    "# Group ICD10 codes with unspecified agent\n",
    "unspecified <- c(\"K720\", \"K759\", \"K716\", \"K752\", \n",
    "                 \"B199\", \"B179\", \"B178\")\n",
    "\n",
    "diag_filt <- diag_df %>% \n",
    "    mutate(unknown = ifelse(DiagCode %in% unspecified, 1, 0),\n",
    "           known = ifelse(!(DiagCode %in% unspecified), 1, 0)) %>%\n",
    "    group_by(ClusterID, AttendanceStartDate) %>%\n",
    "    summarise(n_unknown = sum(unknown),\n",
    "              n_known = sum(known)) %>%\n",
    "    mutate(only_unknown = n_unknown > 0 & n_known == 0) %>%\n",
    "    select(-n_unknown, -n_known) %>%\n",
    "    ungroup()\n",
    "\n",
    "test_filt <- test_parsed %>%\n",
    "    filter(TestName == \"ALT\") %>%\n",
    "    mutate(is_acute_hep = ifelse(Value > 2 * ULN, T, F)) %>%\n",
    "    select(ClusterID, AttendanceStartDate, is_acute_hep)\n",
    "\n",
    "micro_filt <- micro_df %>%\n",
    "    group_by(ClusterID, AttendanceStartDate) %>%\n",
    "    summarise(n_bug = sum(BugName != \"NULL\")) %>%\n",
    "    mutate(micro_pos = ifelse(n_bug > 0, T, F)) %>%\n",
    "    ungroup()\n",
    "\n",
    "adeno_tests <- micro_df %>%\n",
    "    filter(grepl(\"adeno\", BugName, ignore.case = T)) %>%\n",
    "    distinct(BatTestCode)\n",
    "adeno_tests <- c(\"QADN\", adeno_tests$BatTestCode)\n",
    "\n",
    "adeno_filt <- micro_df %>%\n",
    "    filter(BatTestCode %in% adeno_tests) %>%\n",
    "    group_by(ClusterID, AttendanceStartDate) %>%\n",
    "    summarise(n_adeno = sum(grepl(\"adenovirus\", BugName, ignore.case = T))) %>%\n",
    "    mutate(adeno_pos = ifelse(n_adeno > 0, T, F)) %>%\n",
    "    ungroup()\n",
    "\n",
    "viral_hep_filt <- micro_df %>%\n",
    "    filter(grepl(\"Hepatitis|Hep|HBV\", MicroTestName, ignore.case = T)) %>%\n",
    "    mutate(ResultFull = str_trim(ResultFull)) %>%\n",
    "    filter(MicroTestName != \"HEPATITIS C GENOTYPE\") %>%\n",
    "    filter(!grepl(\"potential identifiers|see result|sent to reference lab|see comment|Not detected|sorry|insufficient|do not report|EQUIVOCAL|UNSUITABLE|UNCONFIRMED|Not tested|(CDR)|further testing required\", ResultFull, ignore.case = T)) %>%\n",
    "    filter(!(ResultFull %in% c(\"\", \" \"))) %>%\n",
    "    mutate(is_viral_hep = T) %>%\n",
    "    distinct(ClusterID, AttendanceStartDate, is_viral_hep)\n",
    "\n",
    "death_filt <- age_df %>%\n",
    "    distinct(ClusterID, AttendanceStartDate, .keep_all = T) %>%\n",
    "    mutate(LinkedDeathdate = ifelse(LinkedDeathdate == \"NULL\", \"3000-01-01 00:00:00.000\", LinkedDeathdate)) %>%\n",
    "    mutate(death = ifelse(as.Date(LinkedDeathdate) <=  as.Date(AttendanceEndDate) &\n",
    "                              as.Date(LinkedDeathdate) >=  as.Date(AttendanceStartDate),\n",
    "                          T, F)) %>%\n",
    "    select(ClusterID, AttendanceStartDate, death, age_group)\n",
    "\n",
    "spell_filt <- spell_df %>%\n",
    "    group_by(ClusterID, AttendanceStartDate) %>%\n",
    "    summarise(n = sum(SpellIncludesCriticalCareAdmission)) %>%\n",
    "    mutate(is_icu = ifelse(n > 0, T, F))\n",
    "\n",
    "admit_filt <- spell_df %>%\n",
    "    distinct(AttendanceStartDate, ClusterID, .keep_all = T) %>%\n",
    "    filter(DischargeDate != \"NULL\") %>%\n",
    "    mutate(duration = difftime(DischargeDate, AdmissionDate, units = \"hours\"))"
   ]
  },
  {
   "cell_type": "code",
   "execution_count": 32,
   "id": "15219f97",
   "metadata": {},
   "outputs": [
    {
     "name": "stderr",
     "output_type": "stream",
     "text": [
      "Joining, by = c(\"ClusterID\", \"AttendanceStartDate\")\n"
     ]
    }
   ],
   "source": [
    "test <- age_df %>%\n",
    "    distinct(ClusterID, AttendanceStartDate) %>%\n",
    "    left_join(diag_df %>% \n",
    "             mutate(unknown = ifelse(DiagCode %in% unspecified, 1, 0),\n",
    "                    known = ifelse(!(DiagCode %in% unspecified), 1, 0)) %>%\n",
    "             select(ClusterID, AttendanceStartDate, known, unknown)) %>%\n",
    "    group_by(ClusterID, AttendanceStartDate) %>%\n",
    "    summarise(n_known = sum(known),\n",
    "              n_unknown = sum(unknown)) %>%\n",
    "    filter(!is.na(n_known), !is.na(n_unknown))\n"
   ]
  },
  {
   "cell_type": "code",
   "execution_count": 36,
   "id": "c76fc0ed",
   "metadata": {},
   "outputs": [
    {
     "data": {
      "text/html": [
       "0.0432793577387587"
      ],
      "text/latex": [
       "0.0432793577387587"
      ],
      "text/markdown": [
       "0.0432793577387587"
      ],
      "text/plain": [
       "[1] 0.04327936"
      ]
     },
     "metadata": {},
     "output_type": "display_data"
    }
   ],
   "source": [
    "391 / 903433 * 100 "
   ]
  },
  {
   "cell_type": "code",
   "execution_count": 45,
   "id": "8b3dc3fb",
   "metadata": {
    "scrolled": true
   },
   "outputs": [
    {
     "data": {
      "text/html": [
       "<ol class=list-inline>\n",
       "\t<li>'K720'</li>\n",
       "\t<li>'K759'</li>\n",
       "\t<li>'K716'</li>\n",
       "\t<li>'K752'</li>\n",
       "\t<li>'B199'</li>\n",
       "\t<li>'B179'</li>\n",
       "\t<li>'B178'</li>\n",
       "</ol>\n"
      ],
      "text/latex": [
       "\\begin{enumerate*}\n",
       "\\item 'K720'\n",
       "\\item 'K759'\n",
       "\\item 'K716'\n",
       "\\item 'K752'\n",
       "\\item 'B199'\n",
       "\\item 'B179'\n",
       "\\item 'B178'\n",
       "\\end{enumerate*}\n"
      ],
      "text/markdown": [
       "1. 'K720'\n",
       "2. 'K759'\n",
       "3. 'K716'\n",
       "4. 'K752'\n",
       "5. 'B199'\n",
       "6. 'B179'\n",
       "7. 'B178'\n",
       "\n",
       "\n"
      ],
      "text/plain": [
       "[1] \"K720\" \"K759\" \"K716\" \"K752\" \"B199\" \"B179\" \"B178\""
      ]
     },
     "metadata": {},
     "output_type": "display_data"
    }
   ],
   "source": [
    "unspecified"
   ]
  },
  {
   "cell_type": "code",
   "execution_count": 46,
   "id": "3fd56d63",
   "metadata": {},
   "outputs": [
    {
     "data": {
      "text/html": [
       "<table>\n",
       "<thead><tr><th scope=col>ClusterID</th><th scope=col>SpellID</th><th scope=col>EpisodeID</th><th scope=col>DiagNumber</th><th scope=col>DiagCode</th><th scope=col>AttendanceStartDate</th><th scope=col>AdmissionDate</th><th scope=col>DischargeDate</th><th scope=col>DischargeDestinationCode</th><th scope=col>SpellIncludesCriticalCareAdmission</th><th scope=col>...</th><th scope=col>EthnicGroupCode</th><th scope=col>LinkedSex</th><th scope=col>LinkedBirthmonth</th><th scope=col>LinkedDeathdate</th><th scope=col>SpineCheckDate</th><th scope=col>LinkageWarningFlag</th><th scope=col>age_upon_presentation</th><th scope=col>age_group</th><th scope=col>AttendanceMonth</th><th scope=col>AttendanceTwoMonth</th></tr></thead>\n",
       "<tbody>\n",
       "\t<tr><td><span style=white-space:pre-wrap>  184489</span>                 </td><td><span style=white-space:pre-wrap>3781648   </span>               </td><td><span style=white-space:pre-wrap>BRTH00379158620          </span></td><td>4                                                                </td><td>K759                                                             </td><td>2016-03-20                                                       </td><td>2016-03-20 16:12:00.000                                          </td><td>2016-04-05 15:51:00.000                                          </td><td>19                                                               </td><td>0                                                                </td><td>...                                                              </td><td>A                                                                </td><td>M                                                                </td><td>1956-09-01                                                       </td><td><span style=white-space:pre-wrap>NULL                   </span>  </td><td>2023-01-14 17:00:07.630                                          </td><td>0                                                                </td><td>59                                                               </td><td>&gt;15                                                           </td><td>2016-03-01                                                       </td><td>2016-03-01                                                       </td></tr>\n",
       "\t<tr><td><span style=white-space:pre-wrap>  184489</span>                 </td><td><span style=white-space:pre-wrap>3781648   </span>               </td><td><span style=white-space:pre-wrap>BRTH00379267882          </span></td><td>4                                                                </td><td>K759                                                             </td><td>2016-03-20                                                       </td><td>2016-03-20 16:12:00.000                                          </td><td>2016-04-05 15:51:00.000                                          </td><td>19                                                               </td><td>0                                                                </td><td>...                                                              </td><td>A                                                                </td><td>M                                                                </td><td>1956-09-01                                                       </td><td><span style=white-space:pre-wrap>NULL                   </span>  </td><td>2023-01-14 17:00:07.630                                          </td><td>0                                                                </td><td>59                                                               </td><td>&gt;15                                                           </td><td>2016-03-01                                                       </td><td>2016-03-01                                                       </td></tr>\n",
       "\t<tr><td><span style=white-space:pre-wrap>  184489</span>                 </td><td><span style=white-space:pre-wrap>3781648   </span>               </td><td><span style=white-space:pre-wrap>BRTH00379580686          </span></td><td>5                                                                </td><td>K759                                                             </td><td>2016-03-20                                                       </td><td>2016-03-20 16:12:00.000                                          </td><td>2016-04-05 15:51:00.000                                          </td><td>19                                                               </td><td>0                                                                </td><td>...                                                              </td><td>A                                                                </td><td>M                                                                </td><td>1956-09-01                                                       </td><td><span style=white-space:pre-wrap>NULL                   </span>  </td><td>2023-01-14 17:00:07.630                                          </td><td>0                                                                </td><td>59                                                               </td><td>&gt;15                                                           </td><td>2016-03-01                                                       </td><td>2016-03-01                                                       </td></tr>\n",
       "\t<tr><td><span style=white-space:pre-wrap>  184489</span>                 </td><td><span style=white-space:pre-wrap>3781648   </span>               </td><td><span style=white-space:pre-wrap>BRTH00379996322          </span></td><td>4                                                                </td><td>K759                                                             </td><td>2016-03-20                                                       </td><td>2016-03-20 16:12:00.000                                          </td><td>2016-04-05 15:51:00.000                                          </td><td>19                                                               </td><td>0                                                                </td><td>...                                                              </td><td>A                                                                </td><td>M                                                                </td><td>1956-09-01                                                       </td><td><span style=white-space:pre-wrap>NULL                   </span>  </td><td>2023-01-14 17:00:07.630                                          </td><td>0                                                                </td><td>59                                                               </td><td>&gt;15                                                           </td><td>2016-03-01                                                       </td><td>2016-03-01                                                       </td></tr>\n",
       "\t<tr><td><span style=white-space:pre-wrap>  186891</span>                 </td><td><span style=white-space:pre-wrap>3790152   </span>               </td><td><span style=white-space:pre-wrap>BRTH00379375492          </span></td><td>5                                                                </td><td>B169                                                             </td><td>2016-03-23                                                       </td><td>2016-03-23 18:33:00.000                                          </td><td>2016-03-23 21:21:00.000                                          </td><td>19                                                               </td><td>0                                                                </td><td>...                                                              </td><td>R                                                                </td><td>F                                                                </td><td>1969-03-01                                                       </td><td><span style=white-space:pre-wrap>NULL                   </span>  </td><td>2023-01-11 11:00:10.257                                          </td><td>0                                                                </td><td>47                                                               </td><td>&gt;15                                                           </td><td>2016-03-01                                                       </td><td>2016-03-01                                                       </td></tr>\n",
       "\t<tr><td><span style=white-space:pre-wrap>  359571</span>                 </td><td><span style=white-space:pre-wrap>3788482   </span>               </td><td><span style=white-space:pre-wrap>BRTH00379572622          </span></td><td>7                                                                </td><td>K759                                                             </td><td>2016-03-22                                                       </td><td>2016-03-23 02:45:00.000                                          </td><td>2016-04-02 13:15:00.000                                          </td><td>79                                                               </td><td>0                                                                </td><td>...                                                              </td><td>A                                                                </td><td>M                                                                </td><td>1929-10-01                                                       </td><td>2016-04-02 00:00:00.000                                          </td><td>2021-12-11 14:00:06.420                                          </td><td>0                                                                </td><td>86                                                               </td><td>&gt;15                                                           </td><td>2016-03-01                                                       </td><td>2016-03-01                                                       </td></tr>\n",
       "\t<tr><td><span style=white-space:pre-wrap>  361457</span>                 </td><td><span style=white-space:pre-wrap>3742805   </span>               </td><td><span style=white-space:pre-wrap>BRTH00378041221          </span></td><td>8                                                                </td><td>B182                                                             </td><td>2016-03-04                                                       </td><td>2016-03-04 10:24:00.000                                          </td><td>2016-03-07 15:43:00.000                                          </td><td>19                                                               </td><td>0                                                                </td><td>...                                                              </td><td>A                                                                </td><td>M                                                                </td><td>1965-12-01                                                       </td><td><span style=white-space:pre-wrap>NULL                   </span>  </td><td>2023-01-14 17:00:07.630                                          </td><td>0                                                                </td><td>50                                                               </td><td>&gt;15                                                           </td><td>2016-03-01                                                       </td><td>2016-03-01                                                       </td></tr>\n",
       "\t<tr><td><span style=white-space:pre-wrap>  389191</span>                 </td><td><span style=white-space:pre-wrap>3756517   </span>               </td><td><span style=white-space:pre-wrap>BRTH00378389946          </span></td><td>3                                                                </td><td>B179                                                             </td><td>2016-03-09                                                       </td><td>2016-03-09 23:25:00.000                                          </td><td>2016-04-20 18:55:00.000                                          </td><td>19                                                               </td><td>1                                                                </td><td>...                                                              </td><td>A                                                                </td><td>M                                                                </td><td>1941-10-01                                                       </td><td>2016-08-09 00:00:00.000                                          </td><td>2021-12-11 11:00:06.790                                          </td><td>0                                                                </td><td>74                                                               </td><td>&gt;15                                                           </td><td>2016-03-01                                                       </td><td>2016-03-01                                                       </td></tr>\n",
       "\t<tr><td><span style=white-space:pre-wrap>  389191</span>                 </td><td><span style=white-space:pre-wrap>3756517   </span>               </td><td><span style=white-space:pre-wrap>BRTH00378690799          </span></td><td>3                                                                </td><td>B179                                                             </td><td>2016-03-09                                                       </td><td>2016-03-09 23:25:00.000                                          </td><td>2016-04-20 18:55:00.000                                          </td><td>19                                                               </td><td>1                                                                </td><td>...                                                              </td><td>A                                                                </td><td>M                                                                </td><td>1941-10-01                                                       </td><td>2016-08-09 00:00:00.000                                          </td><td>2021-12-11 11:00:06.790                                          </td><td>0                                                                </td><td>74                                                               </td><td>&gt;15                                                           </td><td>2016-03-01                                                       </td><td>2016-03-01                                                       </td></tr>\n",
       "\t<tr><td><span style=white-space:pre-wrap>  389191</span>                 </td><td><span style=white-space:pre-wrap>3756517   </span>               </td><td><span style=white-space:pre-wrap>BRTH00380292323          </span></td><td>3                                                                </td><td>B179                                                             </td><td>2016-03-09                                                       </td><td>2016-03-09 23:25:00.000                                          </td><td>2016-04-20 18:55:00.000                                          </td><td>19                                                               </td><td>1                                                                </td><td>...                                                              </td><td>A                                                                </td><td>M                                                                </td><td>1941-10-01                                                       </td><td>2016-08-09 00:00:00.000                                          </td><td>2021-12-11 11:00:06.790                                          </td><td>0                                                                </td><td>74                                                               </td><td>&gt;15                                                           </td><td>2016-03-01                                                       </td><td>2016-03-01                                                       </td></tr>\n",
       "\t<tr><td><span style=white-space:pre-wrap>  460510</span>                 </td><td><span style=white-space:pre-wrap>3734032   </span>               </td><td><span style=white-space:pre-wrap>BRTH00377639658          </span></td><td>6                                                                </td><td>B169                                                             </td><td>2016-03-01                                                       </td><td>2016-03-01 10:50:00.000                                          </td><td>2016-03-07 17:30:00.000                                          </td><td>19                                                               </td><td>0                                                                </td><td>...                                                              </td><td>C                                                                </td><td>M                                                                </td><td>1970-02-01                                                       </td><td><span style=white-space:pre-wrap>NULL                   </span>  </td><td>2023-01-07 17:00:09.063                                          </td><td>0                                                                </td><td>46                                                               </td><td>&gt;15                                                           </td><td>2016-03-01                                                       </td><td>2016-03-01                                                       </td></tr>\n",
       "\t<tr><td><span style=white-space:pre-wrap>  767428</span>                 </td><td><span style=white-space:pre-wrap>3737509   </span>               </td><td><span style=white-space:pre-wrap>BRTH00377789957          </span></td><td>8                                                                </td><td>B182                                                             </td><td>2016-03-02                                                       </td><td>2016-03-02 13:05:00.000                                          </td><td>2016-03-03 15:00:00.000                                          </td><td>19                                                               </td><td>0                                                                </td><td>...                                                              </td><td>A                                                                </td><td>M                                                                </td><td>1961-01-01                                                       </td><td><span style=white-space:pre-wrap>NULL                   </span>  </td><td>2023-01-10 11:00:08.633                                          </td><td>0                                                                </td><td>55                                                               </td><td>&gt;15                                                           </td><td>2016-03-01                                                       </td><td>2016-03-01                                                       </td></tr>\n",
       "\t<tr><td> 1686591                                                         </td><td><span style=white-space:pre-wrap>3781686   </span>               </td><td><span style=white-space:pre-wrap>BRTH00379179963          </span></td><td>3                                                                </td><td>B182                                                             </td><td>2016-03-20                                                       </td><td>2016-03-21 08:11:00.000                                          </td><td>2016-03-29 17:00:00.000                                          </td><td>19                                                               </td><td>0                                                                </td><td>...                                                              </td><td>A                                                                </td><td>M                                                                </td><td>1981-08-01                                                       </td><td>2020-08-20 00:00:00.000                                          </td><td>2021-12-11 14:00:06.420                                          </td><td>0                                                                </td><td>34                                                               </td><td>&gt;15                                                           </td><td>2016-03-01                                                       </td><td>2016-03-01                                                       </td></tr>\n",
       "\t<tr><td> 1686591                                                         </td><td><span style=white-space:pre-wrap>3781686   </span>               </td><td><span style=white-space:pre-wrap>BRTH00379603084          </span></td><td>3                                                                </td><td>B182                                                             </td><td>2016-03-20                                                       </td><td>2016-03-21 08:11:00.000                                          </td><td>2016-03-29 17:00:00.000                                          </td><td>19                                                               </td><td>0                                                                </td><td>...                                                              </td><td>A                                                                </td><td>M                                                                </td><td>1981-08-01                                                       </td><td>2020-08-20 00:00:00.000                                          </td><td>2021-12-11 14:00:06.420                                          </td><td>0                                                                </td><td>34                                                               </td><td>&gt;15                                                           </td><td>2016-03-01                                                       </td><td>2016-03-01                                                       </td></tr>\n",
       "\t<tr><td> 2038389                                                         </td><td><span style=white-space:pre-wrap>3734697   </span>               </td><td><span style=white-space:pre-wrap>BRTH00377639936          </span></td><td>4                                                                </td><td>B182                                                             </td><td>2016-03-01                                                       </td><td>2016-03-01 15:44:00.000                                          </td><td>2016-03-04 20:18:00.000                                          </td><td>19                                                               </td><td>0                                                                </td><td>...                                                              </td><td>A                                                                </td><td>M                                                                </td><td>1950-05-01                                                       </td><td>2022-03-02 00:00:00.000                                          </td><td>2022-06-12 10:00:06.207                                          </td><td>0                                                                </td><td>65                                                               </td><td>&gt;15                                                           </td><td>2016-03-01                                                       </td><td>2016-03-01                                                       </td></tr>\n",
       "\t<tr><td> 2077289                                                         </td><td><span style=white-space:pre-wrap>3734500   </span>               </td><td><span style=white-space:pre-wrap>BRTH00377639853          </span></td><td>1                                                                </td><td>B179                                                             </td><td>2016-03-01                                                       </td><td>2016-03-01 13:54:00.000                                          </td><td>2016-03-07 15:10:00.000                                          </td><td>19                                                               </td><td>0                                                                </td><td>...                                                              </td><td>A                                                                </td><td>M                                                                </td><td>1946-03-01                                                       </td><td><span style=white-space:pre-wrap>NULL                   </span>  </td><td>2023-01-11 14:00:09.793                                          </td><td>0                                                                </td><td>70                                                               </td><td>&gt;15                                                           </td><td>2016-03-01                                                       </td><td>2016-03-01                                                       </td></tr>\n",
       "\t<tr><td> 2077289                                                         </td><td><span style=white-space:pre-wrap>3734500   </span>               </td><td><span style=white-space:pre-wrap>BRTH00378136968          </span></td><td>1                                                                </td><td>B179                                                             </td><td>2016-03-01                                                       </td><td>2016-03-01 13:54:00.000                                          </td><td>2016-03-07 15:10:00.000                                          </td><td>19                                                               </td><td>0                                                                </td><td>...                                                              </td><td>A                                                                </td><td>M                                                                </td><td>1946-03-01                                                       </td><td><span style=white-space:pre-wrap>NULL                   </span>  </td><td>2023-01-11 14:00:09.793                                          </td><td>0                                                                </td><td>70                                                               </td><td>&gt;15                                                           </td><td>2016-03-01                                                       </td><td>2016-03-01                                                       </td></tr>\n",
       "\t<tr><td> 2508322                                                         </td><td><span style=white-space:pre-wrap>3800785   </span>               </td><td><span style=white-space:pre-wrap>BRTH00379687572          </span></td><td>7                                                                </td><td>K720                                                             </td><td>2016-03-29                                                       </td><td>2016-03-30 07:40:00.000                                          </td><td>2016-04-07 15:47:00.000                                          </td><td>19                                                               </td><td>0                                                                </td><td>...                                                              </td><td>Z                                                                </td><td>F                                                                </td><td>1943-10-01                                                       </td><td>2016-04-13 00:00:00.000                                          </td><td>2021-12-11 11:00:06.790                                          </td><td>0                                                                </td><td>72                                                               </td><td>&gt;15                                                           </td><td>2016-03-01                                                       </td><td>2016-03-01                                                       </td></tr>\n",
       "\t<tr><td> 2508322                                                         </td><td><span style=white-space:pre-wrap>3800785   </span>               </td><td><span style=white-space:pre-wrap>BRTH00379996508          </span></td><td>4                                                                </td><td>K720                                                             </td><td>2016-03-29                                                       </td><td>2016-03-30 07:40:00.000                                          </td><td>2016-04-07 15:47:00.000                                          </td><td>19                                                               </td><td>0                                                                </td><td>...                                                              </td><td>Z                                                                </td><td>F                                                                </td><td>1943-10-01                                                       </td><td>2016-04-13 00:00:00.000                                          </td><td>2021-12-11 11:00:06.790                                          </td><td>0                                                                </td><td>72                                                               </td><td>&gt;15                                                           </td><td>2016-03-01                                                       </td><td>2016-03-01                                                       </td></tr>\n",
       "\t<tr><td> 2789430                                                         </td><td><span style=white-space:pre-wrap>3781281   </span>               </td><td><span style=white-space:pre-wrap>BRTH00379158545          </span></td><td>6                                                                </td><td>B182                                                             </td><td>2016-03-20                                                       </td><td>2016-03-20 12:22:00.000                                          </td><td>2016-03-22 18:00:00.000                                          </td><td>19                                                               </td><td>0                                                                </td><td>...                                                              </td><td>A                                                                </td><td>M                                                                </td><td>1965-10-01                                                       </td><td>2016-04-10 00:00:00.000                                          </td><td>2021-12-11 11:00:06.790                                          </td><td>0                                                                </td><td>50                                                               </td><td>&gt;15                                                           </td><td>2016-03-01                                                       </td><td>2016-03-01                                                       </td></tr>\n",
       "\t<tr><td> 2789430                                                         </td><td><span style=white-space:pre-wrap>3781281   </span>               </td><td><span style=white-space:pre-wrap>BRTH00379158647          </span></td><td>6                                                                </td><td>B182                                                             </td><td>2016-03-20                                                       </td><td>2016-03-20 12:22:00.000                                          </td><td>2016-03-22 18:00:00.000                                          </td><td>19                                                               </td><td>0                                                                </td><td>...                                                              </td><td>A                                                                </td><td>M                                                                </td><td>1965-10-01                                                       </td><td>2016-04-10 00:00:00.000                                          </td><td>2021-12-11 11:00:06.790                                          </td><td>0                                                                </td><td>50                                                               </td><td>&gt;15                                                           </td><td>2016-03-01                                                       </td><td>2016-03-01                                                       </td></tr>\n",
       "\t<tr><td> 2920378                                                         </td><td><span style=white-space:pre-wrap>3767773   </span>               </td><td><span style=white-space:pre-wrap>BRTH00378690965          </span></td><td>2                                                                </td><td>B182                                                             </td><td>2016-03-14                                                       </td><td>2016-03-14 18:35:00.000                                          </td><td>2016-03-19 12:30:00.000                                          </td><td>38                                                               </td><td>0                                                                </td><td>...                                                              </td><td>A                                                                </td><td>M                                                                </td><td>1980-10-01                                                       </td><td><span style=white-space:pre-wrap>NULL                   </span>  </td><td>2023-01-13 11:00:10.767                                          </td><td>0                                                                </td><td>35                                                               </td><td>&gt;15                                                           </td><td>2016-03-01                                                       </td><td>2016-03-01                                                       </td></tr>\n",
       "\t<tr><td> 2920378                                                         </td><td><span style=white-space:pre-wrap>3767773   </span>               </td><td><span style=white-space:pre-wrap>BRTH00378779068          </span></td><td>2                                                                </td><td>B182                                                             </td><td>2016-03-14                                                       </td><td>2016-03-14 18:35:00.000                                          </td><td>2016-03-19 12:30:00.000                                          </td><td>38                                                               </td><td>0                                                                </td><td>...                                                              </td><td>A                                                                </td><td>M                                                                </td><td>1980-10-01                                                       </td><td><span style=white-space:pre-wrap>NULL                   </span>  </td><td>2023-01-13 11:00:10.767                                          </td><td>0                                                                </td><td>35                                                               </td><td>&gt;15                                                           </td><td>2016-03-01                                                       </td><td>2016-03-01                                                       </td></tr>\n",
       "\t<tr><td> 2920378                                                         </td><td><span style=white-space:pre-wrap>3767773   </span>               </td><td><span style=white-space:pre-wrap>BRTH00378973542          </span></td><td>2                                                                </td><td>B182                                                             </td><td>2016-03-14                                                       </td><td>2016-03-14 18:35:00.000                                          </td><td>2016-03-19 12:30:00.000                                          </td><td>38                                                               </td><td>0                                                                </td><td>...                                                              </td><td>A                                                                </td><td>M                                                                </td><td>1980-10-01                                                       </td><td><span style=white-space:pre-wrap>NULL                   </span>  </td><td>2023-01-13 11:00:10.767                                          </td><td>0                                                                </td><td>35                                                               </td><td>&gt;15                                                           </td><td>2016-03-01                                                       </td><td>2016-03-01                                                       </td></tr>\n",
       "\t<tr><td> 6768605                                                         </td><td><span style=white-space:pre-wrap>3777304   </span>               </td><td><span style=white-space:pre-wrap>BRTH00379063318          </span></td><td>9                                                                </td><td>B182                                                             </td><td>2016-03-18                                                       </td><td>2016-03-18 03:43:00.000                                          </td><td>2016-03-19 05:30:00.000                                          </td><td>19                                                               </td><td>0                                                                </td><td>...                                                              </td><td>A                                                                </td><td>F                                                                </td><td>1976-04-01                                                       </td><td><span style=white-space:pre-wrap>NULL                   </span>  </td><td>2023-01-10 14:00:11.503                                          </td><td>0                                                                </td><td>39                                                               </td><td>&gt;15                                                           </td><td>2016-03-01                                                       </td><td>2016-03-01                                                       </td></tr>\n",
       "\t<tr><td>10724497                                                         </td><td><span style=white-space:pre-wrap>3761292   </span>               </td><td><span style=white-space:pre-wrap>BRTH00378578958          </span></td><td>4                                                                </td><td>B182                                                             </td><td>2016-03-10                                                       </td><td>2016-03-11 18:23:00.000                                          </td><td>2016-03-23 10:00:00.000                                          </td><td>19                                                               </td><td>0                                                                </td><td>...                                                              </td><td>A                                                                </td><td>F                                                                </td><td>1959-11-01                                                       </td><td><span style=white-space:pre-wrap>NULL                   </span>  </td><td>2023-01-11 11:00:10.257                                          </td><td>0                                                                </td><td>56                                                               </td><td>&gt;15                                                           </td><td>2016-03-01                                                       </td><td>2016-03-01                                                       </td></tr>\n",
       "\t<tr><td>10724497                                                         </td><td><span style=white-space:pre-wrap>3761292   </span>               </td><td><span style=white-space:pre-wrap>BRTH00378578958          </span></td><td>4                                                                </td><td>B182                                                             </td><td>2016-03-11                                                       </td><td>2016-03-11 18:23:00.000                                          </td><td>2016-03-23 10:00:00.000                                          </td><td>19                                                               </td><td>0                                                                </td><td>...                                                              </td><td>A                                                                </td><td>F                                                                </td><td>1959-11-01                                                       </td><td><span style=white-space:pre-wrap>NULL                   </span>  </td><td>2023-01-11 11:00:10.257                                          </td><td>0                                                                </td><td>56                                                               </td><td>&gt;15                                                           </td><td>2016-03-01                                                       </td><td>2016-03-01                                                       </td></tr>\n",
       "\t<tr><td>10724497                                                         </td><td><span style=white-space:pre-wrap>3761292   </span>               </td><td><span style=white-space:pre-wrap>BRTH00378578958          </span></td><td>4                                                                </td><td>B182                                                             </td><td>2016-03-10                                                       </td><td>2016-03-11 18:23:00.000                                          </td><td>2016-03-23 10:00:00.000                                          </td><td>19                                                               </td><td>0                                                                </td><td>...                                                              </td><td>A                                                                </td><td>F                                                                </td><td>1959-11-01                                                       </td><td><span style=white-space:pre-wrap>NULL                   </span>  </td><td>2023-01-11 11:00:10.257                                          </td><td>0                                                                </td><td>56                                                               </td><td>&gt;15                                                           </td><td>2016-03-01                                                       </td><td>2016-03-01                                                       </td></tr>\n",
       "\t<tr><td>10724497                                                         </td><td><span style=white-space:pre-wrap>3761292   </span>               </td><td><span style=white-space:pre-wrap>BRTH00378578958          </span></td><td>4                                                                </td><td>B182                                                             </td><td>2016-03-11                                                       </td><td>2016-03-11 18:23:00.000                                          </td><td>2016-03-23 10:00:00.000                                          </td><td>19                                                               </td><td>0                                                                </td><td>...                                                              </td><td>A                                                                </td><td>F                                                                </td><td>1959-11-01                                                       </td><td><span style=white-space:pre-wrap>NULL                   </span>  </td><td>2023-01-11 11:00:10.257                                          </td><td>0                                                                </td><td>56                                                               </td><td>&gt;15                                                           </td><td>2016-03-01                                                       </td><td>2016-03-01                                                       </td></tr>\n",
       "\t<tr><td>10724922                                                         </td><td><span style=white-space:pre-wrap>3746539   </span>               </td><td><span style=white-space:pre-wrap>BRTH00378137011          </span></td><td>4                                                                </td><td>B182                                                             </td><td>2016-03-06                                                       </td><td>2016-03-06 13:17:00.000                                          </td><td>2016-03-06 21:10:00.000                                          </td><td>19                                                               </td><td>0                                                                </td><td>...                                                              </td><td>A                                                                </td><td>M                                                                </td><td>1985-09-01                                                       </td><td>2021-12-04 00:00:00.000                                          </td><td>2022-03-10 10:47:31.467                                          </td><td>0                                                                </td><td>30                                                               </td><td>&gt;15                                                           </td><td>2016-03-01                                                       </td><td>2016-03-01                                                       </td></tr>\n",
       "\t<tr><td>...</td><td>...</td><td>...</td><td>...</td><td>...</td><td>...</td><td>...</td><td>...</td><td>...</td><td>...</td><td>   </td><td>...</td><td>...</td><td>...</td><td>...</td><td>...</td><td>...</td><td>...</td><td>...</td><td>...</td><td>...</td></tr>\n",
       "\t<tr><td> 743484                                                          </td><td><span style=white-space:pre-wrap>9830631   </span>               </td><td><span style=white-space:pre-wrap>BRTH00850297304          </span></td><td>10                                                               </td><td>B181                                                             </td><td>2022-12-29                                                       </td><td>2022-12-29 15:18:58.000                                          </td><td>2022-12-30 12:45:00.000                                          </td><td>19                                                               </td><td>0                                                                </td><td>...                                                              </td><td>A                                                                </td><td>M                                                                </td><td>1950-03-01                                                       </td><td><span style=white-space:pre-wrap>NULL                   </span>  </td><td>2023-01-17 17:00:09.563                                          </td><td>0                                                                </td><td>72                                                               </td><td>&gt;15                                                           </td><td>2022-12-01                                                       </td><td>2022-11-01                                                       </td></tr>\n",
       "\t<tr><td>1082145                                                          </td><td><span style=white-space:pre-wrap>9771634   </span>               </td><td><span style=white-space:pre-wrap>BRTH00845122356          </span></td><td> 4                                                               </td><td>B181                                                             </td><td>2022-12-04                                                       </td><td>2022-12-04 14:07:55.000                                          </td><td>2022-12-06 17:14:00.000                                          </td><td>19                                                               </td><td>0                                                                </td><td>...                                                              </td><td>Z                                                                </td><td>F                                                                </td><td>1963-12-01                                                       </td><td><span style=white-space:pre-wrap>NULL                   </span>  </td><td>2023-01-09 11:00:08.583                                          </td><td>0                                                                </td><td>59                                                               </td><td>&gt;15                                                           </td><td>2022-12-01                                                       </td><td>2022-11-01                                                       </td></tr>\n",
       "\t<tr><td>1082145                                                          </td><td><span style=white-space:pre-wrap>9771634   </span>               </td><td><span style=white-space:pre-wrap>BRTH00845540600          </span></td><td> 4                                                               </td><td>B181                                                             </td><td>2022-12-04                                                       </td><td>2022-12-04 14:07:55.000                                          </td><td>2022-12-06 17:14:00.000                                          </td><td>19                                                               </td><td>0                                                                </td><td>...                                                              </td><td>Z                                                                </td><td>F                                                                </td><td>1963-12-01                                                       </td><td><span style=white-space:pre-wrap>NULL                   </span>  </td><td>2023-01-09 11:00:08.583                                          </td><td>0                                                                </td><td>59                                                               </td><td>&gt;15                                                           </td><td>2022-12-01                                                       </td><td>2022-11-01                                                       </td></tr>\n",
       "\t<tr><td>1085572                                                          </td><td><span style=white-space:pre-wrap>9790239   </span>               </td><td><span style=white-space:pre-wrap>BRTH00846785390          </span></td><td> 1                                                               </td><td>K720                                                             </td><td>2022-12-11                                                       </td><td>2022-12-12 01:47:54.000                                          </td><td>2022-12-21 19:30:00.000                                          </td><td>19                                                               </td><td>0                                                                </td><td>...                                                              </td><td>A                                                                </td><td>M                                                                </td><td>1958-05-01                                                       </td><td><span style=white-space:pre-wrap>NULL                   </span>  </td><td>2023-01-08 14:00:07.847                                          </td><td>0                                                                </td><td>64                                                               </td><td>&gt;15                                                           </td><td>2022-12-01                                                       </td><td>2022-11-01                                                       </td></tr>\n",
       "\t<tr><td>1085572                                                          </td><td><span style=white-space:pre-wrap>9790239   </span>               </td><td><span style=white-space:pre-wrap>BRTH00846786065          </span></td><td> 1                                                               </td><td>K720                                                             </td><td>2022-12-11                                                       </td><td>2022-12-12 01:47:54.000                                          </td><td>2022-12-21 19:30:00.000                                          </td><td>19                                                               </td><td>0                                                                </td><td>...                                                              </td><td>A                                                                </td><td>M                                                                </td><td>1958-05-01                                                       </td><td><span style=white-space:pre-wrap>NULL                   </span>  </td><td>2023-01-08 14:00:07.847                                          </td><td>0                                                                </td><td>64                                                               </td><td>&gt;15                                                           </td><td>2022-12-01                                                       </td><td>2022-11-01                                                       </td></tr>\n",
       "\t<tr><td>1085572                                                          </td><td><span style=white-space:pre-wrap>9790239   </span>               </td><td><span style=white-space:pre-wrap>BRTH00848311637          </span></td><td> 1                                                               </td><td>K720                                                             </td><td>2022-12-11                                                       </td><td>2022-12-12 01:47:54.000                                          </td><td>2022-12-21 19:30:00.000                                          </td><td>19                                                               </td><td>0                                                                </td><td>...                                                              </td><td>A                                                                </td><td>M                                                                </td><td>1958-05-01                                                       </td><td><span style=white-space:pre-wrap>NULL                   </span>  </td><td>2023-01-08 14:00:07.847                                          </td><td>0                                                                </td><td>64                                                               </td><td>&gt;15                                                           </td><td>2022-12-01                                                       </td><td>2022-11-01                                                       </td></tr>\n",
       "\t<tr><td>1396480                                                          </td><td><span style=white-space:pre-wrap>9782229   </span>               </td><td><span style=white-space:pre-wrap>BRTH00845810280          </span></td><td> 3                                                               </td><td>K759                                                             </td><td>2022-12-07                                                       </td><td>2022-12-07 21:12:00.000                                          </td><td>2022-12-10 15:52:00.000                                          </td><td>19                                                               </td><td>0                                                                </td><td>...                                                              </td><td>A                                                                </td><td>F                                                                </td><td>2005-04-01                                                       </td><td><span style=white-space:pre-wrap>NULL                   </span>  </td><td>2023-01-13 17:00:08.443                                          </td><td>0                                                                </td><td>17                                                               </td><td>&gt;15                                                           </td><td>2022-12-01                                                       </td><td>2022-11-01                                                       </td></tr>\n",
       "\t<tr><td>2478088                                                          </td><td><span style=white-space:pre-wrap>9799551   </span>               </td><td><span style=white-space:pre-wrap>BRTH00847341781          </span></td><td> 2                                                               </td><td>B182                                                             </td><td>2022-12-14                                                       </td><td>2022-12-14 15:32:00.000                                          </td><td>2022-12-16 19:26:00.000                                          </td><td>19                                                               </td><td>0                                                                </td><td>...                                                              </td><td>A                                                                </td><td>M                                                                </td><td>1966-09-01                                                       </td><td><span style=white-space:pre-wrap>NULL                   </span>  </td><td>2023-01-08 17:00:08.560                                          </td><td>0                                                                </td><td>56                                                               </td><td>&gt;15                                                           </td><td>2022-12-01                                                       </td><td>2022-11-01                                                       </td></tr>\n",
       "\t<tr><td>3022093                                                          </td><td><span style=white-space:pre-wrap>9830480   </span>               </td><td><span style=white-space:pre-wrap>BRTH00850296785          </span></td><td> 2                                                               </td><td>B179                                                             </td><td>2022-12-28                                                       </td><td>2022-12-29 05:23:39.000                                          </td><td>2023-01-13 16:30:00.000                                          </td><td>19                                                               </td><td>1                                                                </td><td>...                                                              </td><td>A                                                                </td><td>M                                                                </td><td>1950-03-01                                                       </td><td><span style=white-space:pre-wrap>NULL                   </span>  </td><td>2023-01-12 11:00:11.067                                          </td><td>0                                                                </td><td>72                                                               </td><td>&gt;15                                                           </td><td>2022-12-01                                                       </td><td>2022-11-01                                                       </td></tr>\n",
       "\t<tr><td>3022093                                                          </td><td><span style=white-space:pre-wrap>9830480   </span>               </td><td><span style=white-space:pre-wrap>BRTH00850297232          </span></td><td> 2                                                               </td><td>B179                                                             </td><td>2022-12-28                                                       </td><td>2022-12-29 05:23:39.000                                          </td><td>2023-01-13 16:30:00.000                                          </td><td>19                                                               </td><td>1                                                                </td><td>...                                                              </td><td>A                                                                </td><td>M                                                                </td><td>1950-03-01                                                       </td><td><span style=white-space:pre-wrap>NULL                   </span>  </td><td>2023-01-12 11:00:11.067                                          </td><td>0                                                                </td><td>72                                                               </td><td>&gt;15                                                           </td><td>2022-12-01                                                       </td><td>2022-11-01                                                       </td></tr>\n",
       "\t<tr><td>3022093                                                          </td><td><span style=white-space:pre-wrap>9830480   </span>               </td><td><span style=white-space:pre-wrap>BRTH00850548060          </span></td><td> 2                                                               </td><td>B179                                                             </td><td>2022-12-28                                                       </td><td>2022-12-29 05:23:39.000                                          </td><td>2023-01-13 16:30:00.000                                          </td><td>19                                                               </td><td>1                                                                </td><td>...                                                              </td><td>A                                                                </td><td>M                                                                </td><td>1950-03-01                                                       </td><td><span style=white-space:pre-wrap>NULL                   </span>  </td><td>2023-01-12 11:00:11.067                                          </td><td>0                                                                </td><td>72                                                               </td><td>&gt;15                                                           </td><td>2022-12-01                                                       </td><td>2022-11-01                                                       </td></tr>\n",
       "\t<tr><td>3022093                                                          </td><td><span style=white-space:pre-wrap>9830480   </span>               </td><td><span style=white-space:pre-wrap>BRTH00851078787          </span></td><td> 2                                                               </td><td>B179                                                             </td><td>2022-12-28                                                       </td><td>2022-12-29 05:23:39.000                                          </td><td>2023-01-13 16:30:00.000                                          </td><td>19                                                               </td><td>1                                                                </td><td>...                                                              </td><td>A                                                                </td><td>M                                                                </td><td>1950-03-01                                                       </td><td><span style=white-space:pre-wrap>NULL                   </span>  </td><td>2023-01-12 11:00:11.067                                          </td><td>0                                                                </td><td>72                                                               </td><td>&gt;15                                                           </td><td>2022-12-01                                                       </td><td>2022-11-01                                                       </td></tr>\n",
       "\t<tr><td>3022093                                                          </td><td><span style=white-space:pre-wrap>9830480   </span>               </td><td><span style=white-space:pre-wrap>BRTH00851332830          </span></td><td> 2                                                               </td><td>B172                                                             </td><td>2022-12-28                                                       </td><td>2022-12-29 05:23:39.000                                          </td><td>2023-01-13 16:30:00.000                                          </td><td>19                                                               </td><td>1                                                                </td><td>...                                                              </td><td>A                                                                </td><td>M                                                                </td><td>1950-03-01                                                       </td><td><span style=white-space:pre-wrap>NULL                   </span>  </td><td>2023-01-12 11:00:11.067                                          </td><td>0                                                                </td><td>72                                                               </td><td>&gt;15                                                           </td><td>2022-12-01                                                       </td><td>2022-11-01                                                       </td></tr>\n",
       "\t<tr><td>3271618                                                          </td><td><span style=white-space:pre-wrap>9788786   </span>               </td><td><span style=white-space:pre-wrap>BRTH00846557911          </span></td><td> 5                                                               </td><td>B181                                                             </td><td>2022-12-10                                                       </td><td>2022-12-10 10:35:48.000                                          </td><td>2022-12-10 18:15:00.000                                          </td><td>19                                                               </td><td>0                                                                </td><td>...                                                              </td><td>C                                                                </td><td>F                                                                </td><td>1962-03-01                                                       </td><td><span style=white-space:pre-wrap>NULL                   </span>  </td><td>2023-01-19 11:00:09.643                                          </td><td>0                                                                </td><td>60                                                               </td><td>&gt;15                                                           </td><td>2022-12-01                                                       </td><td>2022-11-01                                                       </td></tr>\n",
       "\t<tr><td>3444731                                                          </td><td><span style=white-space:pre-wrap>9794265   </span>               </td><td><span style=white-space:pre-wrap>BRTH00847064131          </span></td><td> 1                                                               </td><td>B159                                                             </td><td>2022-12-13                                                       </td><td>2022-12-13 09:28:00.000                                          </td><td>2022-12-15 18:00:00.000                                          </td><td>19                                                               </td><td>0                                                                </td><td>...                                                              </td><td>A                                                                </td><td>F                                                                </td><td>2005-05-01                                                       </td><td><span style=white-space:pre-wrap>NULL                   </span>  </td><td>2023-01-14 14:00:08.433                                          </td><td>0                                                                </td><td>17                                                               </td><td>&gt;15                                                           </td><td>2022-12-01                                                       </td><td>2022-11-01                                                       </td></tr>\n",
       "\t<tr><td>3444731                                                          </td><td><span style=white-space:pre-wrap>9794265   </span>               </td><td><span style=white-space:pre-wrap>BRTH00847064131          </span></td><td> 1                                                               </td><td>B159                                                             </td><td>2022-12-12                                                       </td><td>2022-12-13 09:28:00.000                                          </td><td>2022-12-15 18:00:00.000                                          </td><td>19                                                               </td><td>0                                                                </td><td>...                                                              </td><td>A                                                                </td><td>F                                                                </td><td>2005-05-01                                                       </td><td><span style=white-space:pre-wrap>NULL                   </span>  </td><td>2023-01-14 14:00:08.433                                          </td><td>0                                                                </td><td>17                                                               </td><td>&gt;15                                                           </td><td>2022-12-01                                                       </td><td>2022-11-01                                                       </td></tr>\n",
       "\t<tr><td>3444731                                                          </td><td><span style=white-space:pre-wrap>9794265   </span>               </td><td><span style=white-space:pre-wrap>BRTH00847064131          </span></td><td> 1                                                               </td><td>B159                                                             </td><td>2022-12-13                                                       </td><td>2022-12-13 09:28:00.000                                          </td><td>2022-12-15 18:00:00.000                                          </td><td>19                                                               </td><td>0                                                                </td><td>...                                                              </td><td>A                                                                </td><td>F                                                                </td><td>2005-05-01                                                       </td><td><span style=white-space:pre-wrap>NULL                   </span>  </td><td>2023-01-14 14:00:08.433                                          </td><td>0                                                                </td><td>17                                                               </td><td>&gt;15                                                           </td><td>2022-12-01                                                       </td><td>2022-11-01                                                       </td></tr>\n",
       "\t<tr><td>3444731                                                          </td><td><span style=white-space:pre-wrap>9794265   </span>               </td><td><span style=white-space:pre-wrap>BRTH00847064131          </span></td><td> 1                                                               </td><td>B159                                                             </td><td>2022-12-12                                                       </td><td>2022-12-13 09:28:00.000                                          </td><td>2022-12-15 18:00:00.000                                          </td><td>19                                                               </td><td>0                                                                </td><td>...                                                              </td><td>A                                                                </td><td>F                                                                </td><td>2005-05-01                                                       </td><td><span style=white-space:pre-wrap>NULL                   </span>  </td><td>2023-01-14 14:00:08.433                                          </td><td>0                                                                </td><td>17                                                               </td><td>&gt;15                                                           </td><td>2022-12-01                                                       </td><td>2022-11-01                                                       </td></tr>\n",
       "\t<tr><td>4219958                                                          </td><td><span style=white-space:pre-wrap>9830411   </span>               </td><td><span style=white-space:pre-wrap>BRTH00850296695          </span></td><td> 2                                                               </td><td>B181                                                             </td><td>2022-12-28                                                       </td><td>2022-12-29 04:32:05.000                                          </td><td>2022-12-30 16:00:00.000                                          </td><td>19                                                               </td><td>0                                                                </td><td>...                                                              </td><td>S                                                                </td><td>M                                                                </td><td>2006-11-01                                                       </td><td><span style=white-space:pre-wrap>NULL                   </span>  </td><td><span style=white-space:pre-wrap>NULL                   </span>  </td><td>0                                                                </td><td>16                                                               </td><td>&gt;15                                                           </td><td>2022-12-01                                                       </td><td>2022-11-01                                                       </td></tr>\n",
       "\t<tr><td>4219958                                                          </td><td><span style=white-space:pre-wrap>9830411   </span>               </td><td><span style=white-space:pre-wrap>BRTH00850297464          </span></td><td> 2                                                               </td><td>B181                                                             </td><td>2022-12-28                                                       </td><td>2022-12-29 04:32:05.000                                          </td><td>2022-12-30 16:00:00.000                                          </td><td>19                                                               </td><td>0                                                                </td><td>...                                                              </td><td>S                                                                </td><td>M                                                                </td><td>2006-11-01                                                       </td><td><span style=white-space:pre-wrap>NULL                   </span>  </td><td><span style=white-space:pre-wrap>NULL                   </span>  </td><td>0                                                                </td><td>16                                                               </td><td>&gt;15                                                           </td><td>2022-12-01                                                       </td><td>2022-11-01                                                       </td></tr>\n",
       "\t<tr><td>4443067                                                          </td><td><span style=white-space:pre-wrap>9833824   </span>               </td><td><span style=white-space:pre-wrap>BRTH00850547969          </span></td><td> 5                                                               </td><td>B171                                                             </td><td>2022-12-30                                                       </td><td>2022-12-30 12:01:27.000                                          </td><td>2023-01-02 15:35:00.000                                          </td><td>19                                                               </td><td>0                                                                </td><td>...                                                              </td><td>Z                                                                </td><td>M                                                                </td><td>1984-10-01                                                       </td><td><span style=white-space:pre-wrap>NULL                   </span>  </td><td>2023-01-17 11:00:10.573                                          </td><td>0                                                                </td><td>38                                                               </td><td>&gt;15                                                           </td><td>2022-12-01                                                       </td><td>2022-11-01                                                       </td></tr>\n",
       "\t<tr><td>4921683                                                          </td><td><span style=white-space:pre-wrap>9787554   </span>               </td><td><span style=white-space:pre-wrap>BRTH00846786007          </span></td><td>10                                                               </td><td>K720                                                             </td><td>2022-12-09                                                       </td><td>2022-12-09 13:50:00.000                                          </td><td>2022-12-18 12:12:00.000                                          </td><td>79                                                               </td><td>0                                                                </td><td>...                                                              </td><td>A                                                                </td><td>M                                                                </td><td>1934-12-01                                                       </td><td>2022-12-18 00:00:00.000                                          </td><td>2023-01-17 11:00:10.573                                          </td><td>0                                                                </td><td>88                                                               </td><td>&gt;15                                                           </td><td>2022-12-01                                                       </td><td>2022-11-01                                                       </td></tr>\n",
       "\t<tr><td>6642904                                                          </td><td><span style=white-space:pre-wrap>9808984   </span>               </td><td><span style=white-space:pre-wrap>BRTH00848311488          </span></td><td> 1                                                               </td><td>K720                                                             </td><td>2022-12-19                                                       </td><td>2022-12-19 09:34:00.000                                          </td><td>2022-12-23 18:45:00.000                                          </td><td>19                                                               </td><td>0                                                                </td><td>...                                                              </td><td>A                                                                </td><td>F                                                                </td><td>2003-07-01                                                       </td><td><span style=white-space:pre-wrap>NULL                   </span>  </td><td>2023-01-12 14:00:11.137                                          </td><td>0                                                                </td><td>19                                                               </td><td>&gt;15                                                           </td><td>2022-12-01                                                       </td><td>2022-11-01                                                       </td></tr>\n",
       "\t<tr><td>6642904                                                          </td><td><span style=white-space:pre-wrap>9808984   </span>               </td><td><span style=white-space:pre-wrap>BRTH00848311488          </span></td><td> 1                                                               </td><td>K720                                                             </td><td>2022-12-18                                                       </td><td>2022-12-19 09:34:00.000                                          </td><td>2022-12-23 18:45:00.000                                          </td><td>19                                                               </td><td>0                                                                </td><td>...                                                              </td><td>A                                                                </td><td>F                                                                </td><td>2003-07-01                                                       </td><td><span style=white-space:pre-wrap>NULL                   </span>  </td><td>2023-01-12 14:00:11.137                                          </td><td>0                                                                </td><td>19                                                               </td><td>&gt;15                                                           </td><td>2022-12-01                                                       </td><td>2022-11-01                                                       </td></tr>\n",
       "\t<tr><td>6642904                                                          </td><td><span style=white-space:pre-wrap>9808984   </span>               </td><td><span style=white-space:pre-wrap>BRTH00848311488          </span></td><td> 1                                                               </td><td>K720                                                             </td><td>2022-12-19                                                       </td><td>2022-12-19 09:34:00.000                                          </td><td>2022-12-23 18:45:00.000                                          </td><td>19                                                               </td><td>0                                                                </td><td>...                                                              </td><td>A                                                                </td><td>F                                                                </td><td>2003-07-01                                                       </td><td><span style=white-space:pre-wrap>NULL                   </span>  </td><td>2023-01-12 14:00:11.137                                          </td><td>0                                                                </td><td>19                                                               </td><td>&gt;15                                                           </td><td>2022-12-01                                                       </td><td>2022-11-01                                                       </td></tr>\n",
       "\t<tr><td>6642904                                                          </td><td><span style=white-space:pre-wrap>9808984   </span>               </td><td><span style=white-space:pre-wrap>BRTH00848311488          </span></td><td> 1                                                               </td><td>K720                                                             </td><td>2022-12-18                                                       </td><td>2022-12-19 09:34:00.000                                          </td><td>2022-12-23 18:45:00.000                                          </td><td>19                                                               </td><td>0                                                                </td><td>...                                                              </td><td>A                                                                </td><td>F                                                                </td><td>2003-07-01                                                       </td><td><span style=white-space:pre-wrap>NULL                   </span>  </td><td>2023-01-12 14:00:11.137                                          </td><td>0                                                                </td><td>19                                                               </td><td>&gt;15                                                           </td><td>2022-12-01                                                       </td><td>2022-11-01                                                       </td></tr>\n",
       "\t<tr><td>6642904                                                          </td><td><span style=white-space:pre-wrap>9808984   </span>               </td><td><span style=white-space:pre-wrap>BRTH00848311882          </span></td><td> 1                                                               </td><td>K720                                                             </td><td>2022-12-19                                                       </td><td>2022-12-19 09:34:00.000                                          </td><td>2022-12-23 18:45:00.000                                          </td><td>19                                                               </td><td>0                                                                </td><td>...                                                              </td><td>A                                                                </td><td>F                                                                </td><td>2003-07-01                                                       </td><td><span style=white-space:pre-wrap>NULL                   </span>  </td><td>2023-01-12 14:00:11.137                                          </td><td>0                                                                </td><td>19                                                               </td><td>&gt;15                                                           </td><td>2022-12-01                                                       </td><td>2022-11-01                                                       </td></tr>\n",
       "\t<tr><td>6642904                                                          </td><td><span style=white-space:pre-wrap>9808984   </span>               </td><td><span style=white-space:pre-wrap>BRTH00848311882          </span></td><td> 1                                                               </td><td>K720                                                             </td><td>2022-12-18                                                       </td><td>2022-12-19 09:34:00.000                                          </td><td>2022-12-23 18:45:00.000                                          </td><td>19                                                               </td><td>0                                                                </td><td>...                                                              </td><td>A                                                                </td><td>F                                                                </td><td>2003-07-01                                                       </td><td><span style=white-space:pre-wrap>NULL                   </span>  </td><td>2023-01-12 14:00:11.137                                          </td><td>0                                                                </td><td>19                                                               </td><td>&gt;15                                                           </td><td>2022-12-01                                                       </td><td>2022-11-01                                                       </td></tr>\n",
       "\t<tr><td>6642904                                                          </td><td><span style=white-space:pre-wrap>9808984   </span>               </td><td><span style=white-space:pre-wrap>BRTH00848311882          </span></td><td> 1                                                               </td><td>K720                                                             </td><td>2022-12-19                                                       </td><td>2022-12-19 09:34:00.000                                          </td><td>2022-12-23 18:45:00.000                                          </td><td>19                                                               </td><td>0                                                                </td><td>...                                                              </td><td>A                                                                </td><td>F                                                                </td><td>2003-07-01                                                       </td><td><span style=white-space:pre-wrap>NULL                   </span>  </td><td>2023-01-12 14:00:11.137                                          </td><td>0                                                                </td><td>19                                                               </td><td>&gt;15                                                           </td><td>2022-12-01                                                       </td><td>2022-11-01                                                       </td></tr>\n",
       "\t<tr><td>6642904                                                          </td><td><span style=white-space:pre-wrap>9808984   </span>               </td><td><span style=white-space:pre-wrap>BRTH00848311882          </span></td><td> 1                                                               </td><td>K720                                                             </td><td>2022-12-18                                                       </td><td>2022-12-19 09:34:00.000                                          </td><td>2022-12-23 18:45:00.000                                          </td><td>19                                                               </td><td>0                                                                </td><td>...                                                              </td><td>A                                                                </td><td>F                                                                </td><td>2003-07-01                                                       </td><td><span style=white-space:pre-wrap>NULL                   </span>  </td><td>2023-01-12 14:00:11.137                                          </td><td>0                                                                </td><td>19                                                               </td><td>&gt;15                                                           </td><td>2022-12-01                                                       </td><td>2022-11-01                                                       </td></tr>\n",
       "</tbody>\n",
       "</table>\n"
      ],
      "text/latex": [
       "\\begin{tabular}{r|lllllllllllllllllllllll}\n",
       " ClusterID & SpellID & EpisodeID & DiagNumber & DiagCode & AttendanceStartDate & AdmissionDate & DischargeDate & DischargeDestinationCode & SpellIncludesCriticalCareAdmission & ... & EthnicGroupCode & LinkedSex & LinkedBirthmonth & LinkedDeathdate & SpineCheckDate & LinkageWarningFlag & age\\_upon\\_presentation & age\\_group & AttendanceMonth & AttendanceTwoMonth\\\\\n",
       "\\hline\n",
       "\t   184489                  & 3781648                   & BRTH00379158620           & 4                         & K759                      & 2016-03-20                & 2016-03-20 16:12:00.000   & 2016-04-05 15:51:00.000   & 19                        & 0                         & ...                       & A                         & M                         & 1956-09-01                & NULL                      & 2023-01-14 17:00:07.630   & 0                         & 59                        & >15                       & 2016-03-01                & 2016-03-01               \\\\\n",
       "\t   184489                  & 3781648                   & BRTH00379267882           & 4                         & K759                      & 2016-03-20                & 2016-03-20 16:12:00.000   & 2016-04-05 15:51:00.000   & 19                        & 0                         & ...                       & A                         & M                         & 1956-09-01                & NULL                      & 2023-01-14 17:00:07.630   & 0                         & 59                        & >15                       & 2016-03-01                & 2016-03-01               \\\\\n",
       "\t   184489                  & 3781648                   & BRTH00379580686           & 5                         & K759                      & 2016-03-20                & 2016-03-20 16:12:00.000   & 2016-04-05 15:51:00.000   & 19                        & 0                         & ...                       & A                         & M                         & 1956-09-01                & NULL                      & 2023-01-14 17:00:07.630   & 0                         & 59                        & >15                       & 2016-03-01                & 2016-03-01               \\\\\n",
       "\t   184489                  & 3781648                   & BRTH00379996322           & 4                         & K759                      & 2016-03-20                & 2016-03-20 16:12:00.000   & 2016-04-05 15:51:00.000   & 19                        & 0                         & ...                       & A                         & M                         & 1956-09-01                & NULL                      & 2023-01-14 17:00:07.630   & 0                         & 59                        & >15                       & 2016-03-01                & 2016-03-01               \\\\\n",
       "\t   186891                  & 3790152                   & BRTH00379375492           & 5                         & B169                      & 2016-03-23                & 2016-03-23 18:33:00.000   & 2016-03-23 21:21:00.000   & 19                        & 0                         & ...                       & R                         & F                         & 1969-03-01                & NULL                      & 2023-01-11 11:00:10.257   & 0                         & 47                        & >15                       & 2016-03-01                & 2016-03-01               \\\\\n",
       "\t   359571                  & 3788482                   & BRTH00379572622           & 7                         & K759                      & 2016-03-22                & 2016-03-23 02:45:00.000   & 2016-04-02 13:15:00.000   & 79                        & 0                         & ...                       & A                         & M                         & 1929-10-01                & 2016-04-02 00:00:00.000   & 2021-12-11 14:00:06.420   & 0                         & 86                        & >15                       & 2016-03-01                & 2016-03-01               \\\\\n",
       "\t   361457                  & 3742805                   & BRTH00378041221           & 8                         & B182                      & 2016-03-04                & 2016-03-04 10:24:00.000   & 2016-03-07 15:43:00.000   & 19                        & 0                         & ...                       & A                         & M                         & 1965-12-01                & NULL                      & 2023-01-14 17:00:07.630   & 0                         & 50                        & >15                       & 2016-03-01                & 2016-03-01               \\\\\n",
       "\t   389191                  & 3756517                   & BRTH00378389946           & 3                         & B179                      & 2016-03-09                & 2016-03-09 23:25:00.000   & 2016-04-20 18:55:00.000   & 19                        & 1                         & ...                       & A                         & M                         & 1941-10-01                & 2016-08-09 00:00:00.000   & 2021-12-11 11:00:06.790   & 0                         & 74                        & >15                       & 2016-03-01                & 2016-03-01               \\\\\n",
       "\t   389191                  & 3756517                   & BRTH00378690799           & 3                         & B179                      & 2016-03-09                & 2016-03-09 23:25:00.000   & 2016-04-20 18:55:00.000   & 19                        & 1                         & ...                       & A                         & M                         & 1941-10-01                & 2016-08-09 00:00:00.000   & 2021-12-11 11:00:06.790   & 0                         & 74                        & >15                       & 2016-03-01                & 2016-03-01               \\\\\n",
       "\t   389191                  & 3756517                   & BRTH00380292323           & 3                         & B179                      & 2016-03-09                & 2016-03-09 23:25:00.000   & 2016-04-20 18:55:00.000   & 19                        & 1                         & ...                       & A                         & M                         & 1941-10-01                & 2016-08-09 00:00:00.000   & 2021-12-11 11:00:06.790   & 0                         & 74                        & >15                       & 2016-03-01                & 2016-03-01               \\\\\n",
       "\t   460510                  & 3734032                   & BRTH00377639658           & 6                         & B169                      & 2016-03-01                & 2016-03-01 10:50:00.000   & 2016-03-07 17:30:00.000   & 19                        & 0                         & ...                       & C                         & M                         & 1970-02-01                & NULL                      & 2023-01-07 17:00:09.063   & 0                         & 46                        & >15                       & 2016-03-01                & 2016-03-01               \\\\\n",
       "\t   767428                  & 3737509                   & BRTH00377789957           & 8                         & B182                      & 2016-03-02                & 2016-03-02 13:05:00.000   & 2016-03-03 15:00:00.000   & 19                        & 0                         & ...                       & A                         & M                         & 1961-01-01                & NULL                      & 2023-01-10 11:00:08.633   & 0                         & 55                        & >15                       & 2016-03-01                & 2016-03-01               \\\\\n",
       "\t  1686591                  & 3781686                   & BRTH00379179963           & 3                         & B182                      & 2016-03-20                & 2016-03-21 08:11:00.000   & 2016-03-29 17:00:00.000   & 19                        & 0                         & ...                       & A                         & M                         & 1981-08-01                & 2020-08-20 00:00:00.000   & 2021-12-11 14:00:06.420   & 0                         & 34                        & >15                       & 2016-03-01                & 2016-03-01               \\\\\n",
       "\t  1686591                  & 3781686                   & BRTH00379603084           & 3                         & B182                      & 2016-03-20                & 2016-03-21 08:11:00.000   & 2016-03-29 17:00:00.000   & 19                        & 0                         & ...                       & A                         & M                         & 1981-08-01                & 2020-08-20 00:00:00.000   & 2021-12-11 14:00:06.420   & 0                         & 34                        & >15                       & 2016-03-01                & 2016-03-01               \\\\\n",
       "\t  2038389                  & 3734697                   & BRTH00377639936           & 4                         & B182                      & 2016-03-01                & 2016-03-01 15:44:00.000   & 2016-03-04 20:18:00.000   & 19                        & 0                         & ...                       & A                         & M                         & 1950-05-01                & 2022-03-02 00:00:00.000   & 2022-06-12 10:00:06.207   & 0                         & 65                        & >15                       & 2016-03-01                & 2016-03-01               \\\\\n",
       "\t  2077289                  & 3734500                   & BRTH00377639853           & 1                         & B179                      & 2016-03-01                & 2016-03-01 13:54:00.000   & 2016-03-07 15:10:00.000   & 19                        & 0                         & ...                       & A                         & M                         & 1946-03-01                & NULL                      & 2023-01-11 14:00:09.793   & 0                         & 70                        & >15                       & 2016-03-01                & 2016-03-01               \\\\\n",
       "\t  2077289                  & 3734500                   & BRTH00378136968           & 1                         & B179                      & 2016-03-01                & 2016-03-01 13:54:00.000   & 2016-03-07 15:10:00.000   & 19                        & 0                         & ...                       & A                         & M                         & 1946-03-01                & NULL                      & 2023-01-11 14:00:09.793   & 0                         & 70                        & >15                       & 2016-03-01                & 2016-03-01               \\\\\n",
       "\t  2508322                  & 3800785                   & BRTH00379687572           & 7                         & K720                      & 2016-03-29                & 2016-03-30 07:40:00.000   & 2016-04-07 15:47:00.000   & 19                        & 0                         & ...                       & Z                         & F                         & 1943-10-01                & 2016-04-13 00:00:00.000   & 2021-12-11 11:00:06.790   & 0                         & 72                        & >15                       & 2016-03-01                & 2016-03-01               \\\\\n",
       "\t  2508322                  & 3800785                   & BRTH00379996508           & 4                         & K720                      & 2016-03-29                & 2016-03-30 07:40:00.000   & 2016-04-07 15:47:00.000   & 19                        & 0                         & ...                       & Z                         & F                         & 1943-10-01                & 2016-04-13 00:00:00.000   & 2021-12-11 11:00:06.790   & 0                         & 72                        & >15                       & 2016-03-01                & 2016-03-01               \\\\\n",
       "\t  2789430                  & 3781281                   & BRTH00379158545           & 6                         & B182                      & 2016-03-20                & 2016-03-20 12:22:00.000   & 2016-03-22 18:00:00.000   & 19                        & 0                         & ...                       & A                         & M                         & 1965-10-01                & 2016-04-10 00:00:00.000   & 2021-12-11 11:00:06.790   & 0                         & 50                        & >15                       & 2016-03-01                & 2016-03-01               \\\\\n",
       "\t  2789430                  & 3781281                   & BRTH00379158647           & 6                         & B182                      & 2016-03-20                & 2016-03-20 12:22:00.000   & 2016-03-22 18:00:00.000   & 19                        & 0                         & ...                       & A                         & M                         & 1965-10-01                & 2016-04-10 00:00:00.000   & 2021-12-11 11:00:06.790   & 0                         & 50                        & >15                       & 2016-03-01                & 2016-03-01               \\\\\n",
       "\t  2920378                  & 3767773                   & BRTH00378690965           & 2                         & B182                      & 2016-03-14                & 2016-03-14 18:35:00.000   & 2016-03-19 12:30:00.000   & 38                        & 0                         & ...                       & A                         & M                         & 1980-10-01                & NULL                      & 2023-01-13 11:00:10.767   & 0                         & 35                        & >15                       & 2016-03-01                & 2016-03-01               \\\\\n",
       "\t  2920378                  & 3767773                   & BRTH00378779068           & 2                         & B182                      & 2016-03-14                & 2016-03-14 18:35:00.000   & 2016-03-19 12:30:00.000   & 38                        & 0                         & ...                       & A                         & M                         & 1980-10-01                & NULL                      & 2023-01-13 11:00:10.767   & 0                         & 35                        & >15                       & 2016-03-01                & 2016-03-01               \\\\\n",
       "\t  2920378                  & 3767773                   & BRTH00378973542           & 2                         & B182                      & 2016-03-14                & 2016-03-14 18:35:00.000   & 2016-03-19 12:30:00.000   & 38                        & 0                         & ...                       & A                         & M                         & 1980-10-01                & NULL                      & 2023-01-13 11:00:10.767   & 0                         & 35                        & >15                       & 2016-03-01                & 2016-03-01               \\\\\n",
       "\t  6768605                  & 3777304                   & BRTH00379063318           & 9                         & B182                      & 2016-03-18                & 2016-03-18 03:43:00.000   & 2016-03-19 05:30:00.000   & 19                        & 0                         & ...                       & A                         & F                         & 1976-04-01                & NULL                      & 2023-01-10 14:00:11.503   & 0                         & 39                        & >15                       & 2016-03-01                & 2016-03-01               \\\\\n",
       "\t 10724497                  & 3761292                   & BRTH00378578958           & 4                         & B182                      & 2016-03-10                & 2016-03-11 18:23:00.000   & 2016-03-23 10:00:00.000   & 19                        & 0                         & ...                       & A                         & F                         & 1959-11-01                & NULL                      & 2023-01-11 11:00:10.257   & 0                         & 56                        & >15                       & 2016-03-01                & 2016-03-01               \\\\\n",
       "\t 10724497                  & 3761292                   & BRTH00378578958           & 4                         & B182                      & 2016-03-11                & 2016-03-11 18:23:00.000   & 2016-03-23 10:00:00.000   & 19                        & 0                         & ...                       & A                         & F                         & 1959-11-01                & NULL                      & 2023-01-11 11:00:10.257   & 0                         & 56                        & >15                       & 2016-03-01                & 2016-03-01               \\\\\n",
       "\t 10724497                  & 3761292                   & BRTH00378578958           & 4                         & B182                      & 2016-03-10                & 2016-03-11 18:23:00.000   & 2016-03-23 10:00:00.000   & 19                        & 0                         & ...                       & A                         & F                         & 1959-11-01                & NULL                      & 2023-01-11 11:00:10.257   & 0                         & 56                        & >15                       & 2016-03-01                & 2016-03-01               \\\\\n",
       "\t 10724497                  & 3761292                   & BRTH00378578958           & 4                         & B182                      & 2016-03-11                & 2016-03-11 18:23:00.000   & 2016-03-23 10:00:00.000   & 19                        & 0                         & ...                       & A                         & F                         & 1959-11-01                & NULL                      & 2023-01-11 11:00:10.257   & 0                         & 56                        & >15                       & 2016-03-01                & 2016-03-01               \\\\\n",
       "\t 10724922                  & 3746539                   & BRTH00378137011           & 4                         & B182                      & 2016-03-06                & 2016-03-06 13:17:00.000   & 2016-03-06 21:10:00.000   & 19                        & 0                         & ...                       & A                         & M                         & 1985-09-01                & 2021-12-04 00:00:00.000   & 2022-03-10 10:47:31.467   & 0                         & 30                        & >15                       & 2016-03-01                & 2016-03-01               \\\\\n",
       "\t ... & ... & ... & ... & ... & ... & ... & ... & ... & ... &     & ... & ... & ... & ... & ... & ... & ... & ... & ... & ...\\\\\n",
       "\t  743484                   & 9830631                   & BRTH00850297304           & 10                        & B181                      & 2022-12-29                & 2022-12-29 15:18:58.000   & 2022-12-30 12:45:00.000   & 19                        & 0                         & ...                       & A                         & M                         & 1950-03-01                & NULL                      & 2023-01-17 17:00:09.563   & 0                         & 72                        & >15                       & 2022-12-01                & 2022-11-01               \\\\\n",
       "\t 1082145                   & 9771634                   & BRTH00845122356           &  4                        & B181                      & 2022-12-04                & 2022-12-04 14:07:55.000   & 2022-12-06 17:14:00.000   & 19                        & 0                         & ...                       & Z                         & F                         & 1963-12-01                & NULL                      & 2023-01-09 11:00:08.583   & 0                         & 59                        & >15                       & 2022-12-01                & 2022-11-01               \\\\\n",
       "\t 1082145                   & 9771634                   & BRTH00845540600           &  4                        & B181                      & 2022-12-04                & 2022-12-04 14:07:55.000   & 2022-12-06 17:14:00.000   & 19                        & 0                         & ...                       & Z                         & F                         & 1963-12-01                & NULL                      & 2023-01-09 11:00:08.583   & 0                         & 59                        & >15                       & 2022-12-01                & 2022-11-01               \\\\\n",
       "\t 1085572                   & 9790239                   & BRTH00846785390           &  1                        & K720                      & 2022-12-11                & 2022-12-12 01:47:54.000   & 2022-12-21 19:30:00.000   & 19                        & 0                         & ...                       & A                         & M                         & 1958-05-01                & NULL                      & 2023-01-08 14:00:07.847   & 0                         & 64                        & >15                       & 2022-12-01                & 2022-11-01               \\\\\n",
       "\t 1085572                   & 9790239                   & BRTH00846786065           &  1                        & K720                      & 2022-12-11                & 2022-12-12 01:47:54.000   & 2022-12-21 19:30:00.000   & 19                        & 0                         & ...                       & A                         & M                         & 1958-05-01                & NULL                      & 2023-01-08 14:00:07.847   & 0                         & 64                        & >15                       & 2022-12-01                & 2022-11-01               \\\\\n",
       "\t 1085572                   & 9790239                   & BRTH00848311637           &  1                        & K720                      & 2022-12-11                & 2022-12-12 01:47:54.000   & 2022-12-21 19:30:00.000   & 19                        & 0                         & ...                       & A                         & M                         & 1958-05-01                & NULL                      & 2023-01-08 14:00:07.847   & 0                         & 64                        & >15                       & 2022-12-01                & 2022-11-01               \\\\\n",
       "\t 1396480                   & 9782229                   & BRTH00845810280           &  3                        & K759                      & 2022-12-07                & 2022-12-07 21:12:00.000   & 2022-12-10 15:52:00.000   & 19                        & 0                         & ...                       & A                         & F                         & 2005-04-01                & NULL                      & 2023-01-13 17:00:08.443   & 0                         & 17                        & >15                       & 2022-12-01                & 2022-11-01               \\\\\n",
       "\t 2478088                   & 9799551                   & BRTH00847341781           &  2                        & B182                      & 2022-12-14                & 2022-12-14 15:32:00.000   & 2022-12-16 19:26:00.000   & 19                        & 0                         & ...                       & A                         & M                         & 1966-09-01                & NULL                      & 2023-01-08 17:00:08.560   & 0                         & 56                        & >15                       & 2022-12-01                & 2022-11-01               \\\\\n",
       "\t 3022093                   & 9830480                   & BRTH00850296785           &  2                        & B179                      & 2022-12-28                & 2022-12-29 05:23:39.000   & 2023-01-13 16:30:00.000   & 19                        & 1                         & ...                       & A                         & M                         & 1950-03-01                & NULL                      & 2023-01-12 11:00:11.067   & 0                         & 72                        & >15                       & 2022-12-01                & 2022-11-01               \\\\\n",
       "\t 3022093                   & 9830480                   & BRTH00850297232           &  2                        & B179                      & 2022-12-28                & 2022-12-29 05:23:39.000   & 2023-01-13 16:30:00.000   & 19                        & 1                         & ...                       & A                         & M                         & 1950-03-01                & NULL                      & 2023-01-12 11:00:11.067   & 0                         & 72                        & >15                       & 2022-12-01                & 2022-11-01               \\\\\n",
       "\t 3022093                   & 9830480                   & BRTH00850548060           &  2                        & B179                      & 2022-12-28                & 2022-12-29 05:23:39.000   & 2023-01-13 16:30:00.000   & 19                        & 1                         & ...                       & A                         & M                         & 1950-03-01                & NULL                      & 2023-01-12 11:00:11.067   & 0                         & 72                        & >15                       & 2022-12-01                & 2022-11-01               \\\\\n",
       "\t 3022093                   & 9830480                   & BRTH00851078787           &  2                        & B179                      & 2022-12-28                & 2022-12-29 05:23:39.000   & 2023-01-13 16:30:00.000   & 19                        & 1                         & ...                       & A                         & M                         & 1950-03-01                & NULL                      & 2023-01-12 11:00:11.067   & 0                         & 72                        & >15                       & 2022-12-01                & 2022-11-01               \\\\\n",
       "\t 3022093                   & 9830480                   & BRTH00851332830           &  2                        & B172                      & 2022-12-28                & 2022-12-29 05:23:39.000   & 2023-01-13 16:30:00.000   & 19                        & 1                         & ...                       & A                         & M                         & 1950-03-01                & NULL                      & 2023-01-12 11:00:11.067   & 0                         & 72                        & >15                       & 2022-12-01                & 2022-11-01               \\\\\n",
       "\t 3271618                   & 9788786                   & BRTH00846557911           &  5                        & B181                      & 2022-12-10                & 2022-12-10 10:35:48.000   & 2022-12-10 18:15:00.000   & 19                        & 0                         & ...                       & C                         & F                         & 1962-03-01                & NULL                      & 2023-01-19 11:00:09.643   & 0                         & 60                        & >15                       & 2022-12-01                & 2022-11-01               \\\\\n",
       "\t 3444731                   & 9794265                   & BRTH00847064131           &  1                        & B159                      & 2022-12-13                & 2022-12-13 09:28:00.000   & 2022-12-15 18:00:00.000   & 19                        & 0                         & ...                       & A                         & F                         & 2005-05-01                & NULL                      & 2023-01-14 14:00:08.433   & 0                         & 17                        & >15                       & 2022-12-01                & 2022-11-01               \\\\\n",
       "\t 3444731                   & 9794265                   & BRTH00847064131           &  1                        & B159                      & 2022-12-12                & 2022-12-13 09:28:00.000   & 2022-12-15 18:00:00.000   & 19                        & 0                         & ...                       & A                         & F                         & 2005-05-01                & NULL                      & 2023-01-14 14:00:08.433   & 0                         & 17                        & >15                       & 2022-12-01                & 2022-11-01               \\\\\n",
       "\t 3444731                   & 9794265                   & BRTH00847064131           &  1                        & B159                      & 2022-12-13                & 2022-12-13 09:28:00.000   & 2022-12-15 18:00:00.000   & 19                        & 0                         & ...                       & A                         & F                         & 2005-05-01                & NULL                      & 2023-01-14 14:00:08.433   & 0                         & 17                        & >15                       & 2022-12-01                & 2022-11-01               \\\\\n",
       "\t 3444731                   & 9794265                   & BRTH00847064131           &  1                        & B159                      & 2022-12-12                & 2022-12-13 09:28:00.000   & 2022-12-15 18:00:00.000   & 19                        & 0                         & ...                       & A                         & F                         & 2005-05-01                & NULL                      & 2023-01-14 14:00:08.433   & 0                         & 17                        & >15                       & 2022-12-01                & 2022-11-01               \\\\\n",
       "\t 4219958                   & 9830411                   & BRTH00850296695           &  2                        & B181                      & 2022-12-28                & 2022-12-29 04:32:05.000   & 2022-12-30 16:00:00.000   & 19                        & 0                         & ...                       & S                         & M                         & 2006-11-01                & NULL                      & NULL                      & 0                         & 16                        & >15                       & 2022-12-01                & 2022-11-01               \\\\\n",
       "\t 4219958                   & 9830411                   & BRTH00850297464           &  2                        & B181                      & 2022-12-28                & 2022-12-29 04:32:05.000   & 2022-12-30 16:00:00.000   & 19                        & 0                         & ...                       & S                         & M                         & 2006-11-01                & NULL                      & NULL                      & 0                         & 16                        & >15                       & 2022-12-01                & 2022-11-01               \\\\\n",
       "\t 4443067                   & 9833824                   & BRTH00850547969           &  5                        & B171                      & 2022-12-30                & 2022-12-30 12:01:27.000   & 2023-01-02 15:35:00.000   & 19                        & 0                         & ...                       & Z                         & M                         & 1984-10-01                & NULL                      & 2023-01-17 11:00:10.573   & 0                         & 38                        & >15                       & 2022-12-01                & 2022-11-01               \\\\\n",
       "\t 4921683                   & 9787554                   & BRTH00846786007           & 10                        & K720                      & 2022-12-09                & 2022-12-09 13:50:00.000   & 2022-12-18 12:12:00.000   & 79                        & 0                         & ...                       & A                         & M                         & 1934-12-01                & 2022-12-18 00:00:00.000   & 2023-01-17 11:00:10.573   & 0                         & 88                        & >15                       & 2022-12-01                & 2022-11-01               \\\\\n",
       "\t 6642904                   & 9808984                   & BRTH00848311488           &  1                        & K720                      & 2022-12-19                & 2022-12-19 09:34:00.000   & 2022-12-23 18:45:00.000   & 19                        & 0                         & ...                       & A                         & F                         & 2003-07-01                & NULL                      & 2023-01-12 14:00:11.137   & 0                         & 19                        & >15                       & 2022-12-01                & 2022-11-01               \\\\\n",
       "\t 6642904                   & 9808984                   & BRTH00848311488           &  1                        & K720                      & 2022-12-18                & 2022-12-19 09:34:00.000   & 2022-12-23 18:45:00.000   & 19                        & 0                         & ...                       & A                         & F                         & 2003-07-01                & NULL                      & 2023-01-12 14:00:11.137   & 0                         & 19                        & >15                       & 2022-12-01                & 2022-11-01               \\\\\n",
       "\t 6642904                   & 9808984                   & BRTH00848311488           &  1                        & K720                      & 2022-12-19                & 2022-12-19 09:34:00.000   & 2022-12-23 18:45:00.000   & 19                        & 0                         & ...                       & A                         & F                         & 2003-07-01                & NULL                      & 2023-01-12 14:00:11.137   & 0                         & 19                        & >15                       & 2022-12-01                & 2022-11-01               \\\\\n",
       "\t 6642904                   & 9808984                   & BRTH00848311488           &  1                        & K720                      & 2022-12-18                & 2022-12-19 09:34:00.000   & 2022-12-23 18:45:00.000   & 19                        & 0                         & ...                       & A                         & F                         & 2003-07-01                & NULL                      & 2023-01-12 14:00:11.137   & 0                         & 19                        & >15                       & 2022-12-01                & 2022-11-01               \\\\\n",
       "\t 6642904                   & 9808984                   & BRTH00848311882           &  1                        & K720                      & 2022-12-19                & 2022-12-19 09:34:00.000   & 2022-12-23 18:45:00.000   & 19                        & 0                         & ...                       & A                         & F                         & 2003-07-01                & NULL                      & 2023-01-12 14:00:11.137   & 0                         & 19                        & >15                       & 2022-12-01                & 2022-11-01               \\\\\n",
       "\t 6642904                   & 9808984                   & BRTH00848311882           &  1                        & K720                      & 2022-12-18                & 2022-12-19 09:34:00.000   & 2022-12-23 18:45:00.000   & 19                        & 0                         & ...                       & A                         & F                         & 2003-07-01                & NULL                      & 2023-01-12 14:00:11.137   & 0                         & 19                        & >15                       & 2022-12-01                & 2022-11-01               \\\\\n",
       "\t 6642904                   & 9808984                   & BRTH00848311882           &  1                        & K720                      & 2022-12-19                & 2022-12-19 09:34:00.000   & 2022-12-23 18:45:00.000   & 19                        & 0                         & ...                       & A                         & F                         & 2003-07-01                & NULL                      & 2023-01-12 14:00:11.137   & 0                         & 19                        & >15                       & 2022-12-01                & 2022-11-01               \\\\\n",
       "\t 6642904                   & 9808984                   & BRTH00848311882           &  1                        & K720                      & 2022-12-18                & 2022-12-19 09:34:00.000   & 2022-12-23 18:45:00.000   & 19                        & 0                         & ...                       & A                         & F                         & 2003-07-01                & NULL                      & 2023-01-12 14:00:11.137   & 0                         & 19                        & >15                       & 2022-12-01                & 2022-11-01               \\\\\n",
       "\\end{tabular}\n"
      ],
      "text/markdown": [
       "\n",
       "| ClusterID | SpellID | EpisodeID | DiagNumber | DiagCode | AttendanceStartDate | AdmissionDate | DischargeDate | DischargeDestinationCode | SpellIncludesCriticalCareAdmission | ... | EthnicGroupCode | LinkedSex | LinkedBirthmonth | LinkedDeathdate | SpineCheckDate | LinkageWarningFlag | age_upon_presentation | age_group | AttendanceMonth | AttendanceTwoMonth |\n",
       "|---|---|---|---|---|---|---|---|---|---|---|---|---|---|---|---|---|---|---|---|---|\n",
       "|   184489                  | 3781648                   | BRTH00379158620           | 4                         | K759                      | 2016-03-20                | 2016-03-20 16:12:00.000   | 2016-04-05 15:51:00.000   | 19                        | 0                         | ...                       | A                         | M                         | 1956-09-01                | NULL                      | 2023-01-14 17:00:07.630   | 0                         | 59                        | >15                       | 2016-03-01                | 2016-03-01                |\n",
       "|   184489                  | 3781648                   | BRTH00379267882           | 4                         | K759                      | 2016-03-20                | 2016-03-20 16:12:00.000   | 2016-04-05 15:51:00.000   | 19                        | 0                         | ...                       | A                         | M                         | 1956-09-01                | NULL                      | 2023-01-14 17:00:07.630   | 0                         | 59                        | >15                       | 2016-03-01                | 2016-03-01                |\n",
       "|   184489                  | 3781648                   | BRTH00379580686           | 5                         | K759                      | 2016-03-20                | 2016-03-20 16:12:00.000   | 2016-04-05 15:51:00.000   | 19                        | 0                         | ...                       | A                         | M                         | 1956-09-01                | NULL                      | 2023-01-14 17:00:07.630   | 0                         | 59                        | >15                       | 2016-03-01                | 2016-03-01                |\n",
       "|   184489                  | 3781648                   | BRTH00379996322           | 4                         | K759                      | 2016-03-20                | 2016-03-20 16:12:00.000   | 2016-04-05 15:51:00.000   | 19                        | 0                         | ...                       | A                         | M                         | 1956-09-01                | NULL                      | 2023-01-14 17:00:07.630   | 0                         | 59                        | >15                       | 2016-03-01                | 2016-03-01                |\n",
       "|   186891                  | 3790152                   | BRTH00379375492           | 5                         | B169                      | 2016-03-23                | 2016-03-23 18:33:00.000   | 2016-03-23 21:21:00.000   | 19                        | 0                         | ...                       | R                         | F                         | 1969-03-01                | NULL                      | 2023-01-11 11:00:10.257   | 0                         | 47                        | >15                       | 2016-03-01                | 2016-03-01                |\n",
       "|   359571                  | 3788482                   | BRTH00379572622           | 7                         | K759                      | 2016-03-22                | 2016-03-23 02:45:00.000   | 2016-04-02 13:15:00.000   | 79                        | 0                         | ...                       | A                         | M                         | 1929-10-01                | 2016-04-02 00:00:00.000   | 2021-12-11 14:00:06.420   | 0                         | 86                        | >15                       | 2016-03-01                | 2016-03-01                |\n",
       "|   361457                  | 3742805                   | BRTH00378041221           | 8                         | B182                      | 2016-03-04                | 2016-03-04 10:24:00.000   | 2016-03-07 15:43:00.000   | 19                        | 0                         | ...                       | A                         | M                         | 1965-12-01                | NULL                      | 2023-01-14 17:00:07.630   | 0                         | 50                        | >15                       | 2016-03-01                | 2016-03-01                |\n",
       "|   389191                  | 3756517                   | BRTH00378389946           | 3                         | B179                      | 2016-03-09                | 2016-03-09 23:25:00.000   | 2016-04-20 18:55:00.000   | 19                        | 1                         | ...                       | A                         | M                         | 1941-10-01                | 2016-08-09 00:00:00.000   | 2021-12-11 11:00:06.790   | 0                         | 74                        | >15                       | 2016-03-01                | 2016-03-01                |\n",
       "|   389191                  | 3756517                   | BRTH00378690799           | 3                         | B179                      | 2016-03-09                | 2016-03-09 23:25:00.000   | 2016-04-20 18:55:00.000   | 19                        | 1                         | ...                       | A                         | M                         | 1941-10-01                | 2016-08-09 00:00:00.000   | 2021-12-11 11:00:06.790   | 0                         | 74                        | >15                       | 2016-03-01                | 2016-03-01                |\n",
       "|   389191                  | 3756517                   | BRTH00380292323           | 3                         | B179                      | 2016-03-09                | 2016-03-09 23:25:00.000   | 2016-04-20 18:55:00.000   | 19                        | 1                         | ...                       | A                         | M                         | 1941-10-01                | 2016-08-09 00:00:00.000   | 2021-12-11 11:00:06.790   | 0                         | 74                        | >15                       | 2016-03-01                | 2016-03-01                |\n",
       "|   460510                  | 3734032                   | BRTH00377639658           | 6                         | B169                      | 2016-03-01                | 2016-03-01 10:50:00.000   | 2016-03-07 17:30:00.000   | 19                        | 0                         | ...                       | C                         | M                         | 1970-02-01                | NULL                      | 2023-01-07 17:00:09.063   | 0                         | 46                        | >15                       | 2016-03-01                | 2016-03-01                |\n",
       "|   767428                  | 3737509                   | BRTH00377789957           | 8                         | B182                      | 2016-03-02                | 2016-03-02 13:05:00.000   | 2016-03-03 15:00:00.000   | 19                        | 0                         | ...                       | A                         | M                         | 1961-01-01                | NULL                      | 2023-01-10 11:00:08.633   | 0                         | 55                        | >15                       | 2016-03-01                | 2016-03-01                |\n",
       "|  1686591                  | 3781686                   | BRTH00379179963           | 3                         | B182                      | 2016-03-20                | 2016-03-21 08:11:00.000   | 2016-03-29 17:00:00.000   | 19                        | 0                         | ...                       | A                         | M                         | 1981-08-01                | 2020-08-20 00:00:00.000   | 2021-12-11 14:00:06.420   | 0                         | 34                        | >15                       | 2016-03-01                | 2016-03-01                |\n",
       "|  1686591                  | 3781686                   | BRTH00379603084           | 3                         | B182                      | 2016-03-20                | 2016-03-21 08:11:00.000   | 2016-03-29 17:00:00.000   | 19                        | 0                         | ...                       | A                         | M                         | 1981-08-01                | 2020-08-20 00:00:00.000   | 2021-12-11 14:00:06.420   | 0                         | 34                        | >15                       | 2016-03-01                | 2016-03-01                |\n",
       "|  2038389                  | 3734697                   | BRTH00377639936           | 4                         | B182                      | 2016-03-01                | 2016-03-01 15:44:00.000   | 2016-03-04 20:18:00.000   | 19                        | 0                         | ...                       | A                         | M                         | 1950-05-01                | 2022-03-02 00:00:00.000   | 2022-06-12 10:00:06.207   | 0                         | 65                        | >15                       | 2016-03-01                | 2016-03-01                |\n",
       "|  2077289                  | 3734500                   | BRTH00377639853           | 1                         | B179                      | 2016-03-01                | 2016-03-01 13:54:00.000   | 2016-03-07 15:10:00.000   | 19                        | 0                         | ...                       | A                         | M                         | 1946-03-01                | NULL                      | 2023-01-11 14:00:09.793   | 0                         | 70                        | >15                       | 2016-03-01                | 2016-03-01                |\n",
       "|  2077289                  | 3734500                   | BRTH00378136968           | 1                         | B179                      | 2016-03-01                | 2016-03-01 13:54:00.000   | 2016-03-07 15:10:00.000   | 19                        | 0                         | ...                       | A                         | M                         | 1946-03-01                | NULL                      | 2023-01-11 14:00:09.793   | 0                         | 70                        | >15                       | 2016-03-01                | 2016-03-01                |\n",
       "|  2508322                  | 3800785                   | BRTH00379687572           | 7                         | K720                      | 2016-03-29                | 2016-03-30 07:40:00.000   | 2016-04-07 15:47:00.000   | 19                        | 0                         | ...                       | Z                         | F                         | 1943-10-01                | 2016-04-13 00:00:00.000   | 2021-12-11 11:00:06.790   | 0                         | 72                        | >15                       | 2016-03-01                | 2016-03-01                |\n",
       "|  2508322                  | 3800785                   | BRTH00379996508           | 4                         | K720                      | 2016-03-29                | 2016-03-30 07:40:00.000   | 2016-04-07 15:47:00.000   | 19                        | 0                         | ...                       | Z                         | F                         | 1943-10-01                | 2016-04-13 00:00:00.000   | 2021-12-11 11:00:06.790   | 0                         | 72                        | >15                       | 2016-03-01                | 2016-03-01                |\n",
       "|  2789430                  | 3781281                   | BRTH00379158545           | 6                         | B182                      | 2016-03-20                | 2016-03-20 12:22:00.000   | 2016-03-22 18:00:00.000   | 19                        | 0                         | ...                       | A                         | M                         | 1965-10-01                | 2016-04-10 00:00:00.000   | 2021-12-11 11:00:06.790   | 0                         | 50                        | >15                       | 2016-03-01                | 2016-03-01                |\n",
       "|  2789430                  | 3781281                   | BRTH00379158647           | 6                         | B182                      | 2016-03-20                | 2016-03-20 12:22:00.000   | 2016-03-22 18:00:00.000   | 19                        | 0                         | ...                       | A                         | M                         | 1965-10-01                | 2016-04-10 00:00:00.000   | 2021-12-11 11:00:06.790   | 0                         | 50                        | >15                       | 2016-03-01                | 2016-03-01                |\n",
       "|  2920378                  | 3767773                   | BRTH00378690965           | 2                         | B182                      | 2016-03-14                | 2016-03-14 18:35:00.000   | 2016-03-19 12:30:00.000   | 38                        | 0                         | ...                       | A                         | M                         | 1980-10-01                | NULL                      | 2023-01-13 11:00:10.767   | 0                         | 35                        | >15                       | 2016-03-01                | 2016-03-01                |\n",
       "|  2920378                  | 3767773                   | BRTH00378779068           | 2                         | B182                      | 2016-03-14                | 2016-03-14 18:35:00.000   | 2016-03-19 12:30:00.000   | 38                        | 0                         | ...                       | A                         | M                         | 1980-10-01                | NULL                      | 2023-01-13 11:00:10.767   | 0                         | 35                        | >15                       | 2016-03-01                | 2016-03-01                |\n",
       "|  2920378                  | 3767773                   | BRTH00378973542           | 2                         | B182                      | 2016-03-14                | 2016-03-14 18:35:00.000   | 2016-03-19 12:30:00.000   | 38                        | 0                         | ...                       | A                         | M                         | 1980-10-01                | NULL                      | 2023-01-13 11:00:10.767   | 0                         | 35                        | >15                       | 2016-03-01                | 2016-03-01                |\n",
       "|  6768605                  | 3777304                   | BRTH00379063318           | 9                         | B182                      | 2016-03-18                | 2016-03-18 03:43:00.000   | 2016-03-19 05:30:00.000   | 19                        | 0                         | ...                       | A                         | F                         | 1976-04-01                | NULL                      | 2023-01-10 14:00:11.503   | 0                         | 39                        | >15                       | 2016-03-01                | 2016-03-01                |\n",
       "| 10724497                  | 3761292                   | BRTH00378578958           | 4                         | B182                      | 2016-03-10                | 2016-03-11 18:23:00.000   | 2016-03-23 10:00:00.000   | 19                        | 0                         | ...                       | A                         | F                         | 1959-11-01                | NULL                      | 2023-01-11 11:00:10.257   | 0                         | 56                        | >15                       | 2016-03-01                | 2016-03-01                |\n",
       "| 10724497                  | 3761292                   | BRTH00378578958           | 4                         | B182                      | 2016-03-11                | 2016-03-11 18:23:00.000   | 2016-03-23 10:00:00.000   | 19                        | 0                         | ...                       | A                         | F                         | 1959-11-01                | NULL                      | 2023-01-11 11:00:10.257   | 0                         | 56                        | >15                       | 2016-03-01                | 2016-03-01                |\n",
       "| 10724497                  | 3761292                   | BRTH00378578958           | 4                         | B182                      | 2016-03-10                | 2016-03-11 18:23:00.000   | 2016-03-23 10:00:00.000   | 19                        | 0                         | ...                       | A                         | F                         | 1959-11-01                | NULL                      | 2023-01-11 11:00:10.257   | 0                         | 56                        | >15                       | 2016-03-01                | 2016-03-01                |\n",
       "| 10724497                  | 3761292                   | BRTH00378578958           | 4                         | B182                      | 2016-03-11                | 2016-03-11 18:23:00.000   | 2016-03-23 10:00:00.000   | 19                        | 0                         | ...                       | A                         | F                         | 1959-11-01                | NULL                      | 2023-01-11 11:00:10.257   | 0                         | 56                        | >15                       | 2016-03-01                | 2016-03-01                |\n",
       "| 10724922                  | 3746539                   | BRTH00378137011           | 4                         | B182                      | 2016-03-06                | 2016-03-06 13:17:00.000   | 2016-03-06 21:10:00.000   | 19                        | 0                         | ...                       | A                         | M                         | 1985-09-01                | 2021-12-04 00:00:00.000   | 2022-03-10 10:47:31.467   | 0                         | 30                        | >15                       | 2016-03-01                | 2016-03-01                |\n",
       "| ... | ... | ... | ... | ... | ... | ... | ... | ... | ... |     | ... | ... | ... | ... | ... | ... | ... | ... | ... | ... |\n",
       "|  743484                   | 9830631                   | BRTH00850297304           | 10                        | B181                      | 2022-12-29                | 2022-12-29 15:18:58.000   | 2022-12-30 12:45:00.000   | 19                        | 0                         | ...                       | A                         | M                         | 1950-03-01                | NULL                      | 2023-01-17 17:00:09.563   | 0                         | 72                        | >15                       | 2022-12-01                | 2022-11-01                |\n",
       "| 1082145                   | 9771634                   | BRTH00845122356           |  4                        | B181                      | 2022-12-04                | 2022-12-04 14:07:55.000   | 2022-12-06 17:14:00.000   | 19                        | 0                         | ...                       | Z                         | F                         | 1963-12-01                | NULL                      | 2023-01-09 11:00:08.583   | 0                         | 59                        | >15                       | 2022-12-01                | 2022-11-01                |\n",
       "| 1082145                   | 9771634                   | BRTH00845540600           |  4                        | B181                      | 2022-12-04                | 2022-12-04 14:07:55.000   | 2022-12-06 17:14:00.000   | 19                        | 0                         | ...                       | Z                         | F                         | 1963-12-01                | NULL                      | 2023-01-09 11:00:08.583   | 0                         | 59                        | >15                       | 2022-12-01                | 2022-11-01                |\n",
       "| 1085572                   | 9790239                   | BRTH00846785390           |  1                        | K720                      | 2022-12-11                | 2022-12-12 01:47:54.000   | 2022-12-21 19:30:00.000   | 19                        | 0                         | ...                       | A                         | M                         | 1958-05-01                | NULL                      | 2023-01-08 14:00:07.847   | 0                         | 64                        | >15                       | 2022-12-01                | 2022-11-01                |\n",
       "| 1085572                   | 9790239                   | BRTH00846786065           |  1                        | K720                      | 2022-12-11                | 2022-12-12 01:47:54.000   | 2022-12-21 19:30:00.000   | 19                        | 0                         | ...                       | A                         | M                         | 1958-05-01                | NULL                      | 2023-01-08 14:00:07.847   | 0                         | 64                        | >15                       | 2022-12-01                | 2022-11-01                |\n",
       "| 1085572                   | 9790239                   | BRTH00848311637           |  1                        | K720                      | 2022-12-11                | 2022-12-12 01:47:54.000   | 2022-12-21 19:30:00.000   | 19                        | 0                         | ...                       | A                         | M                         | 1958-05-01                | NULL                      | 2023-01-08 14:00:07.847   | 0                         | 64                        | >15                       | 2022-12-01                | 2022-11-01                |\n",
       "| 1396480                   | 9782229                   | BRTH00845810280           |  3                        | K759                      | 2022-12-07                | 2022-12-07 21:12:00.000   | 2022-12-10 15:52:00.000   | 19                        | 0                         | ...                       | A                         | F                         | 2005-04-01                | NULL                      | 2023-01-13 17:00:08.443   | 0                         | 17                        | >15                       | 2022-12-01                | 2022-11-01                |\n",
       "| 2478088                   | 9799551                   | BRTH00847341781           |  2                        | B182                      | 2022-12-14                | 2022-12-14 15:32:00.000   | 2022-12-16 19:26:00.000   | 19                        | 0                         | ...                       | A                         | M                         | 1966-09-01                | NULL                      | 2023-01-08 17:00:08.560   | 0                         | 56                        | >15                       | 2022-12-01                | 2022-11-01                |\n",
       "| 3022093                   | 9830480                   | BRTH00850296785           |  2                        | B179                      | 2022-12-28                | 2022-12-29 05:23:39.000   | 2023-01-13 16:30:00.000   | 19                        | 1                         | ...                       | A                         | M                         | 1950-03-01                | NULL                      | 2023-01-12 11:00:11.067   | 0                         | 72                        | >15                       | 2022-12-01                | 2022-11-01                |\n",
       "| 3022093                   | 9830480                   | BRTH00850297232           |  2                        | B179                      | 2022-12-28                | 2022-12-29 05:23:39.000   | 2023-01-13 16:30:00.000   | 19                        | 1                         | ...                       | A                         | M                         | 1950-03-01                | NULL                      | 2023-01-12 11:00:11.067   | 0                         | 72                        | >15                       | 2022-12-01                | 2022-11-01                |\n",
       "| 3022093                   | 9830480                   | BRTH00850548060           |  2                        | B179                      | 2022-12-28                | 2022-12-29 05:23:39.000   | 2023-01-13 16:30:00.000   | 19                        | 1                         | ...                       | A                         | M                         | 1950-03-01                | NULL                      | 2023-01-12 11:00:11.067   | 0                         | 72                        | >15                       | 2022-12-01                | 2022-11-01                |\n",
       "| 3022093                   | 9830480                   | BRTH00851078787           |  2                        | B179                      | 2022-12-28                | 2022-12-29 05:23:39.000   | 2023-01-13 16:30:00.000   | 19                        | 1                         | ...                       | A                         | M                         | 1950-03-01                | NULL                      | 2023-01-12 11:00:11.067   | 0                         | 72                        | >15                       | 2022-12-01                | 2022-11-01                |\n",
       "| 3022093                   | 9830480                   | BRTH00851332830           |  2                        | B172                      | 2022-12-28                | 2022-12-29 05:23:39.000   | 2023-01-13 16:30:00.000   | 19                        | 1                         | ...                       | A                         | M                         | 1950-03-01                | NULL                      | 2023-01-12 11:00:11.067   | 0                         | 72                        | >15                       | 2022-12-01                | 2022-11-01                |\n",
       "| 3271618                   | 9788786                   | BRTH00846557911           |  5                        | B181                      | 2022-12-10                | 2022-12-10 10:35:48.000   | 2022-12-10 18:15:00.000   | 19                        | 0                         | ...                       | C                         | F                         | 1962-03-01                | NULL                      | 2023-01-19 11:00:09.643   | 0                         | 60                        | >15                       | 2022-12-01                | 2022-11-01                |\n",
       "| 3444731                   | 9794265                   | BRTH00847064131           |  1                        | B159                      | 2022-12-13                | 2022-12-13 09:28:00.000   | 2022-12-15 18:00:00.000   | 19                        | 0                         | ...                       | A                         | F                         | 2005-05-01                | NULL                      | 2023-01-14 14:00:08.433   | 0                         | 17                        | >15                       | 2022-12-01                | 2022-11-01                |\n",
       "| 3444731                   | 9794265                   | BRTH00847064131           |  1                        | B159                      | 2022-12-12                | 2022-12-13 09:28:00.000   | 2022-12-15 18:00:00.000   | 19                        | 0                         | ...                       | A                         | F                         | 2005-05-01                | NULL                      | 2023-01-14 14:00:08.433   | 0                         | 17                        | >15                       | 2022-12-01                | 2022-11-01                |\n",
       "| 3444731                   | 9794265                   | BRTH00847064131           |  1                        | B159                      | 2022-12-13                | 2022-12-13 09:28:00.000   | 2022-12-15 18:00:00.000   | 19                        | 0                         | ...                       | A                         | F                         | 2005-05-01                | NULL                      | 2023-01-14 14:00:08.433   | 0                         | 17                        | >15                       | 2022-12-01                | 2022-11-01                |\n",
       "| 3444731                   | 9794265                   | BRTH00847064131           |  1                        | B159                      | 2022-12-12                | 2022-12-13 09:28:00.000   | 2022-12-15 18:00:00.000   | 19                        | 0                         | ...                       | A                         | F                         | 2005-05-01                | NULL                      | 2023-01-14 14:00:08.433   | 0                         | 17                        | >15                       | 2022-12-01                | 2022-11-01                |\n",
       "| 4219958                   | 9830411                   | BRTH00850296695           |  2                        | B181                      | 2022-12-28                | 2022-12-29 04:32:05.000   | 2022-12-30 16:00:00.000   | 19                        | 0                         | ...                       | S                         | M                         | 2006-11-01                | NULL                      | NULL                      | 0                         | 16                        | >15                       | 2022-12-01                | 2022-11-01                |\n",
       "| 4219958                   | 9830411                   | BRTH00850297464           |  2                        | B181                      | 2022-12-28                | 2022-12-29 04:32:05.000   | 2022-12-30 16:00:00.000   | 19                        | 0                         | ...                       | S                         | M                         | 2006-11-01                | NULL                      | NULL                      | 0                         | 16                        | >15                       | 2022-12-01                | 2022-11-01                |\n",
       "| 4443067                   | 9833824                   | BRTH00850547969           |  5                        | B171                      | 2022-12-30                | 2022-12-30 12:01:27.000   | 2023-01-02 15:35:00.000   | 19                        | 0                         | ...                       | Z                         | M                         | 1984-10-01                | NULL                      | 2023-01-17 11:00:10.573   | 0                         | 38                        | >15                       | 2022-12-01                | 2022-11-01                |\n",
       "| 4921683                   | 9787554                   | BRTH00846786007           | 10                        | K720                      | 2022-12-09                | 2022-12-09 13:50:00.000   | 2022-12-18 12:12:00.000   | 79                        | 0                         | ...                       | A                         | M                         | 1934-12-01                | 2022-12-18 00:00:00.000   | 2023-01-17 11:00:10.573   | 0                         | 88                        | >15                       | 2022-12-01                | 2022-11-01                |\n",
       "| 6642904                   | 9808984                   | BRTH00848311488           |  1                        | K720                      | 2022-12-19                | 2022-12-19 09:34:00.000   | 2022-12-23 18:45:00.000   | 19                        | 0                         | ...                       | A                         | F                         | 2003-07-01                | NULL                      | 2023-01-12 14:00:11.137   | 0                         | 19                        | >15                       | 2022-12-01                | 2022-11-01                |\n",
       "| 6642904                   | 9808984                   | BRTH00848311488           |  1                        | K720                      | 2022-12-18                | 2022-12-19 09:34:00.000   | 2022-12-23 18:45:00.000   | 19                        | 0                         | ...                       | A                         | F                         | 2003-07-01                | NULL                      | 2023-01-12 14:00:11.137   | 0                         | 19                        | >15                       | 2022-12-01                | 2022-11-01                |\n",
       "| 6642904                   | 9808984                   | BRTH00848311488           |  1                        | K720                      | 2022-12-19                | 2022-12-19 09:34:00.000   | 2022-12-23 18:45:00.000   | 19                        | 0                         | ...                       | A                         | F                         | 2003-07-01                | NULL                      | 2023-01-12 14:00:11.137   | 0                         | 19                        | >15                       | 2022-12-01                | 2022-11-01                |\n",
       "| 6642904                   | 9808984                   | BRTH00848311488           |  1                        | K720                      | 2022-12-18                | 2022-12-19 09:34:00.000   | 2022-12-23 18:45:00.000   | 19                        | 0                         | ...                       | A                         | F                         | 2003-07-01                | NULL                      | 2023-01-12 14:00:11.137   | 0                         | 19                        | >15                       | 2022-12-01                | 2022-11-01                |\n",
       "| 6642904                   | 9808984                   | BRTH00848311882           |  1                        | K720                      | 2022-12-19                | 2022-12-19 09:34:00.000   | 2022-12-23 18:45:00.000   | 19                        | 0                         | ...                       | A                         | F                         | 2003-07-01                | NULL                      | 2023-01-12 14:00:11.137   | 0                         | 19                        | >15                       | 2022-12-01                | 2022-11-01                |\n",
       "| 6642904                   | 9808984                   | BRTH00848311882           |  1                        | K720                      | 2022-12-18                | 2022-12-19 09:34:00.000   | 2022-12-23 18:45:00.000   | 19                        | 0                         | ...                       | A                         | F                         | 2003-07-01                | NULL                      | 2023-01-12 14:00:11.137   | 0                         | 19                        | >15                       | 2022-12-01                | 2022-11-01                |\n",
       "| 6642904                   | 9808984                   | BRTH00848311882           |  1                        | K720                      | 2022-12-19                | 2022-12-19 09:34:00.000   | 2022-12-23 18:45:00.000   | 19                        | 0                         | ...                       | A                         | F                         | 2003-07-01                | NULL                      | 2023-01-12 14:00:11.137   | 0                         | 19                        | >15                       | 2022-12-01                | 2022-11-01                |\n",
       "| 6642904                   | 9808984                   | BRTH00848311882           |  1                        | K720                      | 2022-12-18                | 2022-12-19 09:34:00.000   | 2022-12-23 18:45:00.000   | 19                        | 0                         | ...                       | A                         | F                         | 2003-07-01                | NULL                      | 2023-01-12 14:00:11.137   | 0                         | 19                        | >15                       | 2022-12-01                | 2022-11-01                |\n",
       "\n"
      ],
      "text/plain": [
       "     ClusterID SpellID    EpisodeID                 DiagNumber DiagCode\n",
       "1      184489  3781648    BRTH00379158620           4          K759    \n",
       "2      184489  3781648    BRTH00379267882           4          K759    \n",
       "3      184489  3781648    BRTH00379580686           5          K759    \n",
       "4      184489  3781648    BRTH00379996322           4          K759    \n",
       "5      186891  3790152    BRTH00379375492           5          B169    \n",
       "6      359571  3788482    BRTH00379572622           7          K759    \n",
       "7      361457  3742805    BRTH00378041221           8          B182    \n",
       "8      389191  3756517    BRTH00378389946           3          B179    \n",
       "9      389191  3756517    BRTH00378690799           3          B179    \n",
       "10     389191  3756517    BRTH00380292323           3          B179    \n",
       "11     460510  3734032    BRTH00377639658           6          B169    \n",
       "12     767428  3737509    BRTH00377789957           8          B182    \n",
       "13    1686591  3781686    BRTH00379179963           3          B182    \n",
       "14    1686591  3781686    BRTH00379603084           3          B182    \n",
       "15    2038389  3734697    BRTH00377639936           4          B182    \n",
       "16    2077289  3734500    BRTH00377639853           1          B179    \n",
       "17    2077289  3734500    BRTH00378136968           1          B179    \n",
       "18    2508322  3800785    BRTH00379687572           7          K720    \n",
       "19    2508322  3800785    BRTH00379996508           4          K720    \n",
       "20    2789430  3781281    BRTH00379158545           6          B182    \n",
       "21    2789430  3781281    BRTH00379158647           6          B182    \n",
       "22    2920378  3767773    BRTH00378690965           2          B182    \n",
       "23    2920378  3767773    BRTH00378779068           2          B182    \n",
       "24    2920378  3767773    BRTH00378973542           2          B182    \n",
       "25    6768605  3777304    BRTH00379063318           9          B182    \n",
       "26   10724497  3761292    BRTH00378578958           4          B182    \n",
       "27   10724497  3761292    BRTH00378578958           4          B182    \n",
       "28   10724497  3761292    BRTH00378578958           4          B182    \n",
       "29   10724497  3761292    BRTH00378578958           4          B182    \n",
       "30   10724922  3746539    BRTH00378137011           4          B182    \n",
       "...  ...       ...        ...                       ...        ...     \n",
       "3700  743484   9830631    BRTH00850297304           10         B181    \n",
       "3701 1082145   9771634    BRTH00845122356            4         B181    \n",
       "3702 1082145   9771634    BRTH00845540600            4         B181    \n",
       "3703 1085572   9790239    BRTH00846785390            1         K720    \n",
       "3704 1085572   9790239    BRTH00846786065            1         K720    \n",
       "3705 1085572   9790239    BRTH00848311637            1         K720    \n",
       "3706 1396480   9782229    BRTH00845810280            3         K759    \n",
       "3707 2478088   9799551    BRTH00847341781            2         B182    \n",
       "3708 3022093   9830480    BRTH00850296785            2         B179    \n",
       "3709 3022093   9830480    BRTH00850297232            2         B179    \n",
       "3710 3022093   9830480    BRTH00850548060            2         B179    \n",
       "3711 3022093   9830480    BRTH00851078787            2         B179    \n",
       "3712 3022093   9830480    BRTH00851332830            2         B172    \n",
       "3713 3271618   9788786    BRTH00846557911            5         B181    \n",
       "3714 3444731   9794265    BRTH00847064131            1         B159    \n",
       "3715 3444731   9794265    BRTH00847064131            1         B159    \n",
       "3716 3444731   9794265    BRTH00847064131            1         B159    \n",
       "3717 3444731   9794265    BRTH00847064131            1         B159    \n",
       "3718 4219958   9830411    BRTH00850296695            2         B181    \n",
       "3719 4219958   9830411    BRTH00850297464            2         B181    \n",
       "3720 4443067   9833824    BRTH00850547969            5         B171    \n",
       "3721 4921683   9787554    BRTH00846786007           10         K720    \n",
       "3722 6642904   9808984    BRTH00848311488            1         K720    \n",
       "3723 6642904   9808984    BRTH00848311488            1         K720    \n",
       "3724 6642904   9808984    BRTH00848311488            1         K720    \n",
       "3725 6642904   9808984    BRTH00848311488            1         K720    \n",
       "3726 6642904   9808984    BRTH00848311882            1         K720    \n",
       "3727 6642904   9808984    BRTH00848311882            1         K720    \n",
       "3728 6642904   9808984    BRTH00848311882            1         K720    \n",
       "3729 6642904   9808984    BRTH00848311882            1         K720    \n",
       "     AttendanceStartDate AdmissionDate           DischargeDate          \n",
       "1    2016-03-20          2016-03-20 16:12:00.000 2016-04-05 15:51:00.000\n",
       "2    2016-03-20          2016-03-20 16:12:00.000 2016-04-05 15:51:00.000\n",
       "3    2016-03-20          2016-03-20 16:12:00.000 2016-04-05 15:51:00.000\n",
       "4    2016-03-20          2016-03-20 16:12:00.000 2016-04-05 15:51:00.000\n",
       "5    2016-03-23          2016-03-23 18:33:00.000 2016-03-23 21:21:00.000\n",
       "6    2016-03-22          2016-03-23 02:45:00.000 2016-04-02 13:15:00.000\n",
       "7    2016-03-04          2016-03-04 10:24:00.000 2016-03-07 15:43:00.000\n",
       "8    2016-03-09          2016-03-09 23:25:00.000 2016-04-20 18:55:00.000\n",
       "9    2016-03-09          2016-03-09 23:25:00.000 2016-04-20 18:55:00.000\n",
       "10   2016-03-09          2016-03-09 23:25:00.000 2016-04-20 18:55:00.000\n",
       "11   2016-03-01          2016-03-01 10:50:00.000 2016-03-07 17:30:00.000\n",
       "12   2016-03-02          2016-03-02 13:05:00.000 2016-03-03 15:00:00.000\n",
       "13   2016-03-20          2016-03-21 08:11:00.000 2016-03-29 17:00:00.000\n",
       "14   2016-03-20          2016-03-21 08:11:00.000 2016-03-29 17:00:00.000\n",
       "15   2016-03-01          2016-03-01 15:44:00.000 2016-03-04 20:18:00.000\n",
       "16   2016-03-01          2016-03-01 13:54:00.000 2016-03-07 15:10:00.000\n",
       "17   2016-03-01          2016-03-01 13:54:00.000 2016-03-07 15:10:00.000\n",
       "18   2016-03-29          2016-03-30 07:40:00.000 2016-04-07 15:47:00.000\n",
       "19   2016-03-29          2016-03-30 07:40:00.000 2016-04-07 15:47:00.000\n",
       "20   2016-03-20          2016-03-20 12:22:00.000 2016-03-22 18:00:00.000\n",
       "21   2016-03-20          2016-03-20 12:22:00.000 2016-03-22 18:00:00.000\n",
       "22   2016-03-14          2016-03-14 18:35:00.000 2016-03-19 12:30:00.000\n",
       "23   2016-03-14          2016-03-14 18:35:00.000 2016-03-19 12:30:00.000\n",
       "24   2016-03-14          2016-03-14 18:35:00.000 2016-03-19 12:30:00.000\n",
       "25   2016-03-18          2016-03-18 03:43:00.000 2016-03-19 05:30:00.000\n",
       "26   2016-03-10          2016-03-11 18:23:00.000 2016-03-23 10:00:00.000\n",
       "27   2016-03-11          2016-03-11 18:23:00.000 2016-03-23 10:00:00.000\n",
       "28   2016-03-10          2016-03-11 18:23:00.000 2016-03-23 10:00:00.000\n",
       "29   2016-03-11          2016-03-11 18:23:00.000 2016-03-23 10:00:00.000\n",
       "30   2016-03-06          2016-03-06 13:17:00.000 2016-03-06 21:10:00.000\n",
       "...  ...                 ...                     ...                    \n",
       "3700 2022-12-29          2022-12-29 15:18:58.000 2022-12-30 12:45:00.000\n",
       "3701 2022-12-04          2022-12-04 14:07:55.000 2022-12-06 17:14:00.000\n",
       "3702 2022-12-04          2022-12-04 14:07:55.000 2022-12-06 17:14:00.000\n",
       "3703 2022-12-11          2022-12-12 01:47:54.000 2022-12-21 19:30:00.000\n",
       "3704 2022-12-11          2022-12-12 01:47:54.000 2022-12-21 19:30:00.000\n",
       "3705 2022-12-11          2022-12-12 01:47:54.000 2022-12-21 19:30:00.000\n",
       "3706 2022-12-07          2022-12-07 21:12:00.000 2022-12-10 15:52:00.000\n",
       "3707 2022-12-14          2022-12-14 15:32:00.000 2022-12-16 19:26:00.000\n",
       "3708 2022-12-28          2022-12-29 05:23:39.000 2023-01-13 16:30:00.000\n",
       "3709 2022-12-28          2022-12-29 05:23:39.000 2023-01-13 16:30:00.000\n",
       "3710 2022-12-28          2022-12-29 05:23:39.000 2023-01-13 16:30:00.000\n",
       "3711 2022-12-28          2022-12-29 05:23:39.000 2023-01-13 16:30:00.000\n",
       "3712 2022-12-28          2022-12-29 05:23:39.000 2023-01-13 16:30:00.000\n",
       "3713 2022-12-10          2022-12-10 10:35:48.000 2022-12-10 18:15:00.000\n",
       "3714 2022-12-13          2022-12-13 09:28:00.000 2022-12-15 18:00:00.000\n",
       "3715 2022-12-12          2022-12-13 09:28:00.000 2022-12-15 18:00:00.000\n",
       "3716 2022-12-13          2022-12-13 09:28:00.000 2022-12-15 18:00:00.000\n",
       "3717 2022-12-12          2022-12-13 09:28:00.000 2022-12-15 18:00:00.000\n",
       "3718 2022-12-28          2022-12-29 04:32:05.000 2022-12-30 16:00:00.000\n",
       "3719 2022-12-28          2022-12-29 04:32:05.000 2022-12-30 16:00:00.000\n",
       "3720 2022-12-30          2022-12-30 12:01:27.000 2023-01-02 15:35:00.000\n",
       "3721 2022-12-09          2022-12-09 13:50:00.000 2022-12-18 12:12:00.000\n",
       "3722 2022-12-19          2022-12-19 09:34:00.000 2022-12-23 18:45:00.000\n",
       "3723 2022-12-18          2022-12-19 09:34:00.000 2022-12-23 18:45:00.000\n",
       "3724 2022-12-19          2022-12-19 09:34:00.000 2022-12-23 18:45:00.000\n",
       "3725 2022-12-18          2022-12-19 09:34:00.000 2022-12-23 18:45:00.000\n",
       "3726 2022-12-19          2022-12-19 09:34:00.000 2022-12-23 18:45:00.000\n",
       "3727 2022-12-18          2022-12-19 09:34:00.000 2022-12-23 18:45:00.000\n",
       "3728 2022-12-19          2022-12-19 09:34:00.000 2022-12-23 18:45:00.000\n",
       "3729 2022-12-18          2022-12-19 09:34:00.000 2022-12-23 18:45:00.000\n",
       "     DischargeDestinationCode SpellIncludesCriticalCareAdmission ...\n",
       "1    19                       0                                  ...\n",
       "2    19                       0                                  ...\n",
       "3    19                       0                                  ...\n",
       "4    19                       0                                  ...\n",
       "5    19                       0                                  ...\n",
       "6    79                       0                                  ...\n",
       "7    19                       0                                  ...\n",
       "8    19                       1                                  ...\n",
       "9    19                       1                                  ...\n",
       "10   19                       1                                  ...\n",
       "11   19                       0                                  ...\n",
       "12   19                       0                                  ...\n",
       "13   19                       0                                  ...\n",
       "14   19                       0                                  ...\n",
       "15   19                       0                                  ...\n",
       "16   19                       0                                  ...\n",
       "17   19                       0                                  ...\n",
       "18   19                       0                                  ...\n",
       "19   19                       0                                  ...\n",
       "20   19                       0                                  ...\n",
       "21   19                       0                                  ...\n",
       "22   38                       0                                  ...\n",
       "23   38                       0                                  ...\n",
       "24   38                       0                                  ...\n",
       "25   19                       0                                  ...\n",
       "26   19                       0                                  ...\n",
       "27   19                       0                                  ...\n",
       "28   19                       0                                  ...\n",
       "29   19                       0                                  ...\n",
       "30   19                       0                                  ...\n",
       "...  ...                      ...                                   \n",
       "3700 19                       0                                  ...\n",
       "3701 19                       0                                  ...\n",
       "3702 19                       0                                  ...\n",
       "3703 19                       0                                  ...\n",
       "3704 19                       0                                  ...\n",
       "3705 19                       0                                  ...\n",
       "3706 19                       0                                  ...\n",
       "3707 19                       0                                  ...\n",
       "3708 19                       1                                  ...\n",
       "3709 19                       1                                  ...\n",
       "3710 19                       1                                  ...\n",
       "3711 19                       1                                  ...\n",
       "3712 19                       1                                  ...\n",
       "3713 19                       0                                  ...\n",
       "3714 19                       0                                  ...\n",
       "3715 19                       0                                  ...\n",
       "3716 19                       0                                  ...\n",
       "3717 19                       0                                  ...\n",
       "3718 19                       0                                  ...\n",
       "3719 19                       0                                  ...\n",
       "3720 19                       0                                  ...\n",
       "3721 79                       0                                  ...\n",
       "3722 19                       0                                  ...\n",
       "3723 19                       0                                  ...\n",
       "3724 19                       0                                  ...\n",
       "3725 19                       0                                  ...\n",
       "3726 19                       0                                  ...\n",
       "3727 19                       0                                  ...\n",
       "3728 19                       0                                  ...\n",
       "3729 19                       0                                  ...\n",
       "     EthnicGroupCode LinkedSex LinkedBirthmonth LinkedDeathdate        \n",
       "1    A               M         1956-09-01       NULL                   \n",
       "2    A               M         1956-09-01       NULL                   \n",
       "3    A               M         1956-09-01       NULL                   \n",
       "4    A               M         1956-09-01       NULL                   \n",
       "5    R               F         1969-03-01       NULL                   \n",
       "6    A               M         1929-10-01       2016-04-02 00:00:00.000\n",
       "7    A               M         1965-12-01       NULL                   \n",
       "8    A               M         1941-10-01       2016-08-09 00:00:00.000\n",
       "9    A               M         1941-10-01       2016-08-09 00:00:00.000\n",
       "10   A               M         1941-10-01       2016-08-09 00:00:00.000\n",
       "11   C               M         1970-02-01       NULL                   \n",
       "12   A               M         1961-01-01       NULL                   \n",
       "13   A               M         1981-08-01       2020-08-20 00:00:00.000\n",
       "14   A               M         1981-08-01       2020-08-20 00:00:00.000\n",
       "15   A               M         1950-05-01       2022-03-02 00:00:00.000\n",
       "16   A               M         1946-03-01       NULL                   \n",
       "17   A               M         1946-03-01       NULL                   \n",
       "18   Z               F         1943-10-01       2016-04-13 00:00:00.000\n",
       "19   Z               F         1943-10-01       2016-04-13 00:00:00.000\n",
       "20   A               M         1965-10-01       2016-04-10 00:00:00.000\n",
       "21   A               M         1965-10-01       2016-04-10 00:00:00.000\n",
       "22   A               M         1980-10-01       NULL                   \n",
       "23   A               M         1980-10-01       NULL                   \n",
       "24   A               M         1980-10-01       NULL                   \n",
       "25   A               F         1976-04-01       NULL                   \n",
       "26   A               F         1959-11-01       NULL                   \n",
       "27   A               F         1959-11-01       NULL                   \n",
       "28   A               F         1959-11-01       NULL                   \n",
       "29   A               F         1959-11-01       NULL                   \n",
       "30   A               M         1985-09-01       2021-12-04 00:00:00.000\n",
       "...  ...             ...       ...              ...                    \n",
       "3700 A               M         1950-03-01       NULL                   \n",
       "3701 Z               F         1963-12-01       NULL                   \n",
       "3702 Z               F         1963-12-01       NULL                   \n",
       "3703 A               M         1958-05-01       NULL                   \n",
       "3704 A               M         1958-05-01       NULL                   \n",
       "3705 A               M         1958-05-01       NULL                   \n",
       "3706 A               F         2005-04-01       NULL                   \n",
       "3707 A               M         1966-09-01       NULL                   \n",
       "3708 A               M         1950-03-01       NULL                   \n",
       "3709 A               M         1950-03-01       NULL                   \n",
       "3710 A               M         1950-03-01       NULL                   \n",
       "3711 A               M         1950-03-01       NULL                   \n",
       "3712 A               M         1950-03-01       NULL                   \n",
       "3713 C               F         1962-03-01       NULL                   \n",
       "3714 A               F         2005-05-01       NULL                   \n",
       "3715 A               F         2005-05-01       NULL                   \n",
       "3716 A               F         2005-05-01       NULL                   \n",
       "3717 A               F         2005-05-01       NULL                   \n",
       "3718 S               M         2006-11-01       NULL                   \n",
       "3719 S               M         2006-11-01       NULL                   \n",
       "3720 Z               M         1984-10-01       NULL                   \n",
       "3721 A               M         1934-12-01       2022-12-18 00:00:00.000\n",
       "3722 A               F         2003-07-01       NULL                   \n",
       "3723 A               F         2003-07-01       NULL                   \n",
       "3724 A               F         2003-07-01       NULL                   \n",
       "3725 A               F         2003-07-01       NULL                   \n",
       "3726 A               F         2003-07-01       NULL                   \n",
       "3727 A               F         2003-07-01       NULL                   \n",
       "3728 A               F         2003-07-01       NULL                   \n",
       "3729 A               F         2003-07-01       NULL                   \n",
       "     SpineCheckDate          LinkageWarningFlag age_upon_presentation age_group\n",
       "1    2023-01-14 17:00:07.630 0                  59                    >15      \n",
       "2    2023-01-14 17:00:07.630 0                  59                    >15      \n",
       "3    2023-01-14 17:00:07.630 0                  59                    >15      \n",
       "4    2023-01-14 17:00:07.630 0                  59                    >15      \n",
       "5    2023-01-11 11:00:10.257 0                  47                    >15      \n",
       "6    2021-12-11 14:00:06.420 0                  86                    >15      \n",
       "7    2023-01-14 17:00:07.630 0                  50                    >15      \n",
       "8    2021-12-11 11:00:06.790 0                  74                    >15      \n",
       "9    2021-12-11 11:00:06.790 0                  74                    >15      \n",
       "10   2021-12-11 11:00:06.790 0                  74                    >15      \n",
       "11   2023-01-07 17:00:09.063 0                  46                    >15      \n",
       "12   2023-01-10 11:00:08.633 0                  55                    >15      \n",
       "13   2021-12-11 14:00:06.420 0                  34                    >15      \n",
       "14   2021-12-11 14:00:06.420 0                  34                    >15      \n",
       "15   2022-06-12 10:00:06.207 0                  65                    >15      \n",
       "16   2023-01-11 14:00:09.793 0                  70                    >15      \n",
       "17   2023-01-11 14:00:09.793 0                  70                    >15      \n",
       "18   2021-12-11 11:00:06.790 0                  72                    >15      \n",
       "19   2021-12-11 11:00:06.790 0                  72                    >15      \n",
       "20   2021-12-11 11:00:06.790 0                  50                    >15      \n",
       "21   2021-12-11 11:00:06.790 0                  50                    >15      \n",
       "22   2023-01-13 11:00:10.767 0                  35                    >15      \n",
       "23   2023-01-13 11:00:10.767 0                  35                    >15      \n",
       "24   2023-01-13 11:00:10.767 0                  35                    >15      \n",
       "25   2023-01-10 14:00:11.503 0                  39                    >15      \n",
       "26   2023-01-11 11:00:10.257 0                  56                    >15      \n",
       "27   2023-01-11 11:00:10.257 0                  56                    >15      \n",
       "28   2023-01-11 11:00:10.257 0                  56                    >15      \n",
       "29   2023-01-11 11:00:10.257 0                  56                    >15      \n",
       "30   2022-03-10 10:47:31.467 0                  30                    >15      \n",
       "...  ...                     ...                ...                   ...      \n",
       "3700 2023-01-17 17:00:09.563 0                  72                    >15      \n",
       "3701 2023-01-09 11:00:08.583 0                  59                    >15      \n",
       "3702 2023-01-09 11:00:08.583 0                  59                    >15      \n",
       "3703 2023-01-08 14:00:07.847 0                  64                    >15      \n",
       "3704 2023-01-08 14:00:07.847 0                  64                    >15      \n",
       "3705 2023-01-08 14:00:07.847 0                  64                    >15      \n",
       "3706 2023-01-13 17:00:08.443 0                  17                    >15      \n",
       "3707 2023-01-08 17:00:08.560 0                  56                    >15      \n",
       "3708 2023-01-12 11:00:11.067 0                  72                    >15      \n",
       "3709 2023-01-12 11:00:11.067 0                  72                    >15      \n",
       "3710 2023-01-12 11:00:11.067 0                  72                    >15      \n",
       "3711 2023-01-12 11:00:11.067 0                  72                    >15      \n",
       "3712 2023-01-12 11:00:11.067 0                  72                    >15      \n",
       "3713 2023-01-19 11:00:09.643 0                  60                    >15      \n",
       "3714 2023-01-14 14:00:08.433 0                  17                    >15      \n",
       "3715 2023-01-14 14:00:08.433 0                  17                    >15      \n",
       "3716 2023-01-14 14:00:08.433 0                  17                    >15      \n",
       "3717 2023-01-14 14:00:08.433 0                  17                    >15      \n",
       "3718 NULL                    0                  16                    >15      \n",
       "3719 NULL                    0                  16                    >15      \n",
       "3720 2023-01-17 11:00:10.573 0                  38                    >15      \n",
       "3721 2023-01-17 11:00:10.573 0                  88                    >15      \n",
       "3722 2023-01-12 14:00:11.137 0                  19                    >15      \n",
       "3723 2023-01-12 14:00:11.137 0                  19                    >15      \n",
       "3724 2023-01-12 14:00:11.137 0                  19                    >15      \n",
       "3725 2023-01-12 14:00:11.137 0                  19                    >15      \n",
       "3726 2023-01-12 14:00:11.137 0                  19                    >15      \n",
       "3727 2023-01-12 14:00:11.137 0                  19                    >15      \n",
       "3728 2023-01-12 14:00:11.137 0                  19                    >15      \n",
       "3729 2023-01-12 14:00:11.137 0                  19                    >15      \n",
       "     AttendanceMonth AttendanceTwoMonth\n",
       "1    2016-03-01      2016-03-01        \n",
       "2    2016-03-01      2016-03-01        \n",
       "3    2016-03-01      2016-03-01        \n",
       "4    2016-03-01      2016-03-01        \n",
       "5    2016-03-01      2016-03-01        \n",
       "6    2016-03-01      2016-03-01        \n",
       "7    2016-03-01      2016-03-01        \n",
       "8    2016-03-01      2016-03-01        \n",
       "9    2016-03-01      2016-03-01        \n",
       "10   2016-03-01      2016-03-01        \n",
       "11   2016-03-01      2016-03-01        \n",
       "12   2016-03-01      2016-03-01        \n",
       "13   2016-03-01      2016-03-01        \n",
       "14   2016-03-01      2016-03-01        \n",
       "15   2016-03-01      2016-03-01        \n",
       "16   2016-03-01      2016-03-01        \n",
       "17   2016-03-01      2016-03-01        \n",
       "18   2016-03-01      2016-03-01        \n",
       "19   2016-03-01      2016-03-01        \n",
       "20   2016-03-01      2016-03-01        \n",
       "21   2016-03-01      2016-03-01        \n",
       "22   2016-03-01      2016-03-01        \n",
       "23   2016-03-01      2016-03-01        \n",
       "24   2016-03-01      2016-03-01        \n",
       "25   2016-03-01      2016-03-01        \n",
       "26   2016-03-01      2016-03-01        \n",
       "27   2016-03-01      2016-03-01        \n",
       "28   2016-03-01      2016-03-01        \n",
       "29   2016-03-01      2016-03-01        \n",
       "30   2016-03-01      2016-03-01        \n",
       "...  ...             ...               \n",
       "3700 2022-12-01      2022-11-01        \n",
       "3701 2022-12-01      2022-11-01        \n",
       "3702 2022-12-01      2022-11-01        \n",
       "3703 2022-12-01      2022-11-01        \n",
       "3704 2022-12-01      2022-11-01        \n",
       "3705 2022-12-01      2022-11-01        \n",
       "3706 2022-12-01      2022-11-01        \n",
       "3707 2022-12-01      2022-11-01        \n",
       "3708 2022-12-01      2022-11-01        \n",
       "3709 2022-12-01      2022-11-01        \n",
       "3710 2022-12-01      2022-11-01        \n",
       "3711 2022-12-01      2022-11-01        \n",
       "3712 2022-12-01      2022-11-01        \n",
       "3713 2022-12-01      2022-11-01        \n",
       "3714 2022-12-01      2022-11-01        \n",
       "3715 2022-12-01      2022-11-01        \n",
       "3716 2022-12-01      2022-11-01        \n",
       "3717 2022-12-01      2022-11-01        \n",
       "3718 2022-12-01      2022-11-01        \n",
       "3719 2022-12-01      2022-11-01        \n",
       "3720 2022-12-01      2022-11-01        \n",
       "3721 2022-12-01      2022-11-01        \n",
       "3722 2022-12-01      2022-11-01        \n",
       "3723 2022-12-01      2022-11-01        \n",
       "3724 2022-12-01      2022-11-01        \n",
       "3725 2022-12-01      2022-11-01        \n",
       "3726 2022-12-01      2022-11-01        \n",
       "3727 2022-12-01      2022-11-01        \n",
       "3728 2022-12-01      2022-11-01        \n",
       "3729 2022-12-01      2022-11-01        "
      ]
     },
     "metadata": {},
     "output_type": "display_data"
    }
   ],
   "source": [
    "diag_df"
   ]
  },
  {
   "cell_type": "code",
   "execution_count": 67,
   "id": "bba1d5fb",
   "metadata": {},
   "outputs": [
    {
     "data": {
      "text/html": [
       "<table>\n",
       "<thead><tr><th scope=col>age_group</th><th scope=col>n</th></tr></thead>\n",
       "<tbody>\n",
       "\t<tr><td><span style=white-space:pre-wrap>&lt;7  </span></td><td><span style=white-space:pre-wrap>  15</span>   </td></tr>\n",
       "\t<tr><td>&gt;15 </td><td>3702   </td></tr>\n",
       "\t<tr><td>7-15</td><td>  12</td></tr>\n",
       "</tbody>\n",
       "</table>\n"
      ],
      "text/latex": [
       "\\begin{tabular}{r|ll}\n",
       " age\\_group & n\\\\\n",
       "\\hline\n",
       "\t <7   &   15\\\\\n",
       "\t >15  & 3702\\\\\n",
       "\t 7-15 &   12\\\\\n",
       "\\end{tabular}\n"
      ],
      "text/markdown": [
       "\n",
       "| age_group | n |\n",
       "|---|---|\n",
       "| <7   |   15 |\n",
       "| >15  | 3702 |\n",
       "| 7-15 |   12 |\n",
       "\n"
      ],
      "text/plain": [
       "  age_group n   \n",
       "1 <7          15\n",
       "2 >15       3702\n",
       "3 7-15        12"
      ]
     },
     "metadata": {},
     "output_type": "display_data"
    }
   ],
   "source": [
    "diag_df %>%\n",
    "    group_by(age_group) %>%\n",
    "    summarise(n = n())"
   ]
  },
  {
   "cell_type": "code",
   "execution_count": 65,
   "id": "f880ab3a",
   "metadata": {},
   "outputs": [
    {
     "data": {
      "text/html": [
       "<table>\n",
       "<thead><tr><th scope=col>age_group</th><th scope=col>n</th></tr></thead>\n",
       "<tbody>\n",
       "\t<tr><td>&gt;15</td><td>2057  </td></tr>\n",
       "</tbody>\n",
       "</table>\n"
      ],
      "text/latex": [
       "\\begin{tabular}{r|ll}\n",
       " age\\_group & n\\\\\n",
       "\\hline\n",
       "\t >15  & 2057\\\\\n",
       "\\end{tabular}\n"
      ],
      "text/markdown": [
       "\n",
       "| age_group | n |\n",
       "|---|---|\n",
       "| >15  | 2057 |\n",
       "\n"
      ],
      "text/plain": [
       "  age_group n   \n",
       "1 >15       2057"
      ]
     },
     "metadata": {},
     "output_type": "display_data"
    }
   ],
   "source": [
    "diag_df %>% \n",
    "    mutate(is_unknown = ifelse(DiagCode %in% unspecified, T, F)) %>%\n",
    "#     filter(DiagCode %in% c(\"B162\", \"B169\", \"B180\", \"B181\")) %>%\n",
    "    filter(DiagCode %in% c(\"B171\", \"B182\")) %>%\n",
    "    mutate(age_group = factor(age_group, c(\"<7\", \"7-15\", \">15\"))) %>%\n",
    "    group_by(age_group) %>%\n",
    "    summarise(n = n())\n"
   ]
  },
  {
   "cell_type": "code",
   "execution_count": 44,
   "id": "2271b11e",
   "metadata": {},
   "outputs": [
    {
     "data": {
      "text/html": [
       "<table>\n",
       "<thead><tr><th scope=col>only_unknown</th><th scope=col>n</th></tr></thead>\n",
       "<tbody>\n",
       "\t<tr><td>FALSE</td><td>1140 </td></tr>\n",
       "\t<tr><td> TRUE</td><td> 391 </td></tr>\n",
       "</tbody>\n",
       "</table>\n"
      ],
      "text/latex": [
       "\\begin{tabular}{r|ll}\n",
       " only\\_unknown & n\\\\\n",
       "\\hline\n",
       "\t FALSE & 1140 \\\\\n",
       "\t  TRUE &  391 \\\\\n",
       "\\end{tabular}\n"
      ],
      "text/markdown": [
       "\n",
       "| only_unknown | n |\n",
       "|---|---|\n",
       "| FALSE | 1140  |\n",
       "|  TRUE |  391  |\n",
       "\n"
      ],
      "text/plain": [
       "  only_unknown n   \n",
       "1 FALSE        1140\n",
       "2  TRUE         391"
      ]
     },
     "metadata": {},
     "output_type": "display_data"
    }
   ],
   "source": [
    "diag %>% \n",
    "    group_by(age_group, \n",
    "             only_unknown) %>%\n",
    "    summarise(n = n())"
   ]
  },
  {
   "cell_type": "code",
   "execution_count": 23,
   "id": "f0a85cc9",
   "metadata": {},
   "outputs": [
    {
     "data": {
      "text/html": [
       "<table>\n",
       "<thead><tr><th scope=col>n_known</th><th scope=col>n_unknown</th></tr></thead>\n",
       "<tbody>\n",
       "\t<tr><td>2724</td><td>1005</td></tr>\n",
       "</tbody>\n",
       "</table>\n"
      ],
      "text/latex": [
       "\\begin{tabular}{r|ll}\n",
       " n\\_known & n\\_unknown\\\\\n",
       "\\hline\n",
       "\t 2724 & 1005\\\\\n",
       "\\end{tabular}\n"
      ],
      "text/markdown": [
       "\n",
       "| n_known | n_unknown |\n",
       "|---|---|\n",
       "| 2724 | 1005 |\n",
       "\n"
      ],
      "text/plain": [
       "  n_known n_unknown\n",
       "1 2724    1005     "
      ]
     },
     "metadata": {},
     "output_type": "display_data"
    }
   ],
   "source": [
    "diag_df %>% \n",
    "    mutate(unknown = ifelse(DiagCode %in% unspecified, 1, 0),\n",
    "           known = ifelse(!(DiagCode %in% unspecified), 1, 0)) %>%\n",
    "\n",
    "    summarise(n_known = sum(known),\n",
    "              n_unknown = sum(unknown))\n",
    "\n",
    "diag_df %>% \n",
    "    mutate(unknown = ifelse(DiagCode %in% unspecified, 1, 0),\n",
    "           known = ifelse(!(DiagCode %in% unspecified), 1, 0)) %>%\n",
    "    group_by\n",
    "    summarise(n_known = sum(known),\n",
    "              n_unknown = sum(unknown))"
   ]
  },
  {
   "cell_type": "code",
   "execution_count": 32,
   "id": "c9bc3950",
   "metadata": {},
   "outputs": [
    {
     "data": {
      "text/plain": [
       "\n",
       "FALSE  TRUE \n",
       " 3528   179 "
      ]
     },
     "metadata": {},
     "output_type": "display_data"
    }
   ],
   "source": [
    "table(adeno_filt$adeno_pos)"
   ]
  },
  {
   "cell_type": "code",
   "execution_count": 6,
   "id": "bad6241f",
   "metadata": {},
   "outputs": [],
   "source": [
    "test_names <- unique(micro_df$MicroTestName)\n",
    "HBV_tests <- test_names[grepl(\"HB\", test_names, ignore.case = T)]"
   ]
  },
  {
   "cell_type": "code",
   "execution_count": 7,
   "id": "67ee4a84",
   "metadata": {},
   "outputs": [
    {
     "name": "stderr",
     "output_type": "stream",
     "text": [
      "\u001b[1m\u001b[22mJoining with `by = join_by(ClusterID, AttendanceStartDate)`\n",
      "\u001b[1m\u001b[22m`summarise()` has grouped output by 'only_unknown'. You can override using the `.groups` argument.\n"
     ]
    },
    {
     "data": {
      "image/png": "[encoded data removed]",
      "text/plain": [
       "plot without title"
      ]
     },
     "metadata": {
      "image/png": {
       "height": 420,
       "width": 420
      }
     },
     "output_type": "display_data"
    }
   ],
   "source": [
    "diag_filt %>%\n",
    "    left_join(test_filt) %>%\n",
    "#     filter(only_unknown) %>%\n",
    "    group_by(only_unknown, is_acute_hep) %>%\n",
    "    summarise(n = n()) %>%\n",
    "    ggplot(aes(x = only_unknown, y = n, fill = is_acute_hep)) +\n",
    "    geom_bar(stat = \"identity\", position = \"dodge\")"
   ]
  },
  {
   "cell_type": "code",
   "execution_count": 8,
   "id": "f2b1d7c0",
   "metadata": {
    "scrolled": true
   },
   "outputs": [],
   "source": [
    "# diag_filt %>%\n",
    "#     left_join(micro_df) %>%\n",
    "#     select(ClusterID, AttendanceStartDate, only_unknown, BatTestCode, MicroTestName, ResultFull, BugName) %>%\n",
    "#     filter(!is.na(MicroTestName)) %>%\n",
    "#     filter(!grepl(\"not detected|no microorganisms detected|no viruses detected|DO NOT REPORT\", ResultFull, ignore.case = T) &\n",
    "#               grepl(\"detected\", ResultFull, ignore.case = T)) %>%\n",
    "#     distinct(MicroTestName, BatTestCode) %>%\n",
    "#     arrange(BatTestCode)"
   ]
  },
  {
   "cell_type": "code",
   "execution_count": 9,
   "id": "36100fdb",
   "metadata": {},
   "outputs": [
    {
     "data": {
      "text/html": [
       "<style>\n",
       ".list-inline {list-style: none; margin:0; padding: 0}\n",
       ".list-inline>li {display: inline-block}\n",
       ".list-inline>li:not(:last-child)::after {content: \"\\00b7\"; padding: 0 .5ex}\n",
       "</style>\n",
       "<ol class=list-inline><li>'QADN'</li><li>'RPCR'</li><li>'EPCR'</li><li>'OPCR'</li><li>'QADN'</li><li>'RGAS'</li><li>'LRTP'</li></ol>\n"
      ],
      "text/latex": [
       "\\begin{enumerate*}\n",
       "\\item 'QADN'\n",
       "\\item 'RPCR'\n",
       "\\item 'EPCR'\n",
       "\\item 'OPCR'\n",
       "\\item 'QADN'\n",
       "\\item 'RGAS'\n",
       "\\item 'LRTP'\n",
       "\\end{enumerate*}\n"
      ],
      "text/markdown": [
       "1. 'QADN'\n",
       "2. 'RPCR'\n",
       "3. 'EPCR'\n",
       "4. 'OPCR'\n",
       "5. 'QADN'\n",
       "6. 'RGAS'\n",
       "7. 'LRTP'\n",
       "\n",
       "\n"
      ],
      "text/plain": [
       "[1] \"QADN\" \"RPCR\" \"EPCR\" \"OPCR\" \"QADN\" \"RGAS\" \"LRTP\""
      ]
     },
     "metadata": {},
     "output_type": "display_data"
    }
   ],
   "source": [
    "adeno_tests"
   ]
  },
  {
   "cell_type": "code",
   "execution_count": 10,
   "id": "e0ad6116",
   "metadata": {},
   "outputs": [],
   "source": [
    "# diag_filt %>%\n",
    "#     left_join(micro_df) %>%\n",
    "#     select(ClusterID, AttendanceStartDate, only_unknown, BatTestCode, MicroTestName, ResultFull, BugName) %>%\n",
    "#     filter(!is.na(MicroTestName)) %>%\n",
    "#     filter(!(BatTestCode %in% c(\"EBNA\"))) %>%\n",
    "#     mutate(ResultFull = ifelse(BatTestCode %in% c('CV2G', 'CV2G2', 'CV2P', 'CV2Q', 'CV2V', 'RCV2Q', 'RCV2V') &\n",
    "#                                    !grepl(\"not detected| |NONE|indeterminate\", ResultFull, ignore.case = T),\n",
    "#                                \"detected\", ResultFull)) %>%\n",
    "#     filter(!grepl(\"not detected|no microorganisms detected|no viruses detected|DO NOT REPORT|NO BACTERIA OR VIRUSES DETECTED\", ResultFull, ignore.case = T) &\n",
    "#               grepl(\"detected\", ResultFull, ignore.case = T)) %>%\n",
    "#     mutate(parsed_results = case_when(grepl(\"CMV|HSV|EBV|HGPC|VZV\", BatTestCode, ignore.case = T)|\n",
    "#                                           (BatTestCode %in% c(\"VPCR\", \"OPCR\") & \n",
    "#                                               grepl(\"Herpes Simplex Virus type 1 DETECTED\", ResultFull, ignore.case = T))~ \"Herpesvirus\",\n",
    "#                                       BatTestCode %in% c('CV2G', 'CV2G2', 'CV2P', 'CV2Q', 'CV2V', 'RCV2Q', 'RCV2V')|\n",
    "#                                           grepl(\"Cov-2\", MicroTestName, ignore.case = T) ~ \"SARS-CoV-2\",\n",
    "#                                       grepl(\"HAV\", BatTestCode) ~ \"HAV\",\n",
    "#                                       grepl(\"HEV\", BatTestCode) ~ \"HEV\",\n",
    "#                                       grepl(\"HCV|HCAD\", BatTestCode) ~ \"HCV\",\n",
    "#                                       grepl(\"HBE|HBS|HBV|HBC\", BatTestCode, ignore.case = T) ~ \"HBV\",\n",
    "#                                       grepl(\"QADN\", BatTestCode, ignore.case = T)|\n",
    "#                                           (BatTestCode %in% adeno_tests$BatTestCode & \n",
    "#                                               grepl(\"adenovirus detected\", ResultFull, ignore.case = T)) ~ \"adenovirus\"\n",
    "#                                       )) %>%\n",
    "#     mutate(parsed_results = ifelse(BugName == \"adenovirus\", \"adenovirus\", parsed_results)) %>%\n",
    "#     filter(!is.na(parsed_results)) %>%\n",
    "#     group_by(ClusterID, AttendanceStartDate, only_unknown) %>%\n",
    "#     summarise(n_hepAtoE = sum(grepl(\"HAV|HBV|HCV|HEV\", parsed_results)),\n",
    "#               n_helper = sum(grepl(\"adenovirus|Herpesvirus\", parsed_results)),\n",
    "#               n_adeno = sum(grepl(\"adenovirus\", parsed_results))) %>%\n",
    "#     filter(n_helper > 0,\n",
    "#            n_hepAtoE == 0,\n",
    "#            only_unknown)"
   ]
  },
  {
   "cell_type": "code",
   "execution_count": 11,
   "id": "37ba8a26",
   "metadata": {
    "scrolled": true
   },
   "outputs": [
    {
     "name": "stderr",
     "output_type": "stream",
     "text": [
      "\u001b[1m\u001b[22mJoining with `by = join_by(ClusterID, AttendanceStartDate)`\n",
      "\u001b[1m\u001b[22mJoining with `by = join_by(ClusterID, AttendanceStartDate)`\n",
      "\u001b[1m\u001b[22mJoining with `by = join_by(ClusterID, AttendanceStartDate)`\n",
      "\u001b[1m\u001b[22mJoining with `by = join_by(ClusterID, AttendanceStartDate)`\n",
      "\u001b[1m\u001b[22mJoining with `by = join_by(ClusterID, AttendanceStartDate)`\n",
      "\u001b[1m\u001b[22mJoining with `by = join_by(ClusterID, AttendanceStartDate)`\n",
      "\u001b[1m\u001b[22mJoining with `by = join_by(ClusterID, AttendanceStartDate)`\n",
      "\u001b[1m\u001b[22mJoining with `by = join_by(ClusterID, AttendanceStartDate, age_group)`\n",
      "\u001b[1m\u001b[22mJoining with `by = join_by(ClusterID, AttendanceStartDate)`\n",
      "\u001b[1m\u001b[22mJoining with `by = join_by(ClusterID, AttendanceStartDate)`\n",
      "\u001b[1m\u001b[22mJoining with `by = join_by(ClusterID, AttendanceStartDate)`\n",
      "\u001b[1m\u001b[22mJoining with `by = join_by(ClusterID, AttendanceStartDate)`\n",
      "\u001b[1m\u001b[22mJoining with `by = join_by(ClusterID, AttendanceStartDate)`\n",
      "\u001b[1m\u001b[22mJoining with `by = join_by(ClusterID, AttendanceStartDate, only_unknown)`\n"
     ]
    }
   ],
   "source": [
    "# Tested for adenovirus\n",
    "merged_df <- adeno_filt %>%\n",
    "    left_join(diag_filt) %>%\n",
    "    left_join(test_filt) %>%\n",
    "    left_join(death_filt) %>%\n",
    "    left_join(spell_filt) %>%\n",
    "    left_join(admit_filt) %>%\n",
    "    mutate(aHep_or_unknDiag = is_acute_hep | only_unknown,\n",
    "           age_group = factor(age_group, c(\"<7\", \"7-15\", \">15\")),\n",
    "           is_outbreak = ifelse(AttendanceStartDate <= as.Date(\"2022-08-31\") & AttendanceStartDate >= as.Date(\"2021-10-01\"),\n",
    "                                T, F),\n",
    "           is_admitted = ifelse(is.na(AdmissionDate), F, T),\n",
    "           only_unknown = ifelse(is.na(only_unknown), F, only_unknown),\n",
    "           is_icu = ifelse(is.na(is_icu), F, is_icu),\n",
    "           death = ifelse(is.na(death), F, death))\n",
    "\n",
    "# Whole population\n",
    "merged_df2 <- age_df %>%\n",
    "    distinct(ClusterID, AttendanceStartDate, .keep_all = T) %>%\n",
    "    left_join(adeno_filt) %>%\n",
    "    left_join(spell_filt) %>%\n",
    "    left_join(death_filt) %>%\n",
    "    left_join(admit_filt) %>%\n",
    "    left_join(diag_filt) %>%\n",
    "    mutate(age_group = factor(age_group, c(\"<7\", \"7-15\", \">15\")),\n",
    "           is_outbreak = ifelse(AttendanceStartDate <= as.Date(\"2022-08-31\") & AttendanceStartDate >= as.Date(\"2021-10-01\"),\n",
    "                                T, F),\n",
    "           only_unknown = ifelse(is.na(only_unknown), F, only_unknown),\n",
    "           is_admitted = ifelse(is.na(AdmissionDate), F, T),\n",
    "           is_icu = ifelse(is.na(is_icu), F, is_icu),\n",
    "           death = ifelse(is.na(death), F, death)) %>%\n",
    "    select(ClusterID, AttendanceStartDate, age_group, \n",
    "           is_outbreak, only_unknown, is_admitted, \n",
    "           is_icu, death, duration,\n",
    "           adeno_pos)\n",
    "\n",
    "# Diagnosed only\n",
    "merged_df3 <- diag_filt %>%\n",
    "    left_join(spell_filt) %>%\n",
    "    left_join(death_filt) %>%\n",
    "    left_join(admit_filt) %>%\n",
    "    left_join(diag_filt) %>%\n",
    "    mutate(age_group = factor(age_group, c(\"<7\", \"7-15\", \">15\")),\n",
    "           is_outbreak = ifelse(AttendanceStartDate <= as.Date(\"2022-08-31\") & AttendanceStartDate >= as.Date(\"2021-10-01\"),\n",
    "                                T, F),\n",
    "           only_unknown = ifelse(is.na(only_unknown), F, only_unknown),\n",
    "           is_admitted = ifelse(is.na(AdmissionDate), F, T),\n",
    "           is_icu = ifelse(is.na(is_icu), F, is_icu),\n",
    "           death = ifelse(is.na(death), F, death)) %>%\n",
    "    select(ClusterID, AttendanceStartDate, age_group, is_outbreak, only_unknown, is_admitted, is_icu, death, duration)"
   ]
  },
  {
   "cell_type": "markdown",
   "id": "1ad9ba55",
   "metadata": {},
   "source": [
    "### Summary statistics"
   ]
  },
  {
   "cell_type": "code",
   "execution_count": 12,
   "id": "559f3427",
   "metadata": {},
   "outputs": [
    {
     "name": "stderr",
     "output_type": "stream",
     "text": [
      "Warning message:\n",
      "“\u001b[1m\u001b[22mThere were 3 warnings in `mutate()`.\n",
      "The first warning was:\n",
      "\u001b[1m\u001b[22m\u001b[36mℹ\u001b[39m In argument: `IMDScore = as.numeric(IMDScore)`.\n",
      "\u001b[36mℹ\u001b[39m In group 1: `age_group = \"7-15\"`.\n",
      "Caused by warning:\n",
      "\u001b[33m!\u001b[39m NAs introduced by coercion\n",
      "\u001b[1m\u001b[22m\u001b[36mℹ\u001b[39m Run `dplyr::last_dplyr_warnings()` to see the 2 remaining warnings.”\n"
     ]
    },
    {
     "data": {
      "text/html": [
       "<table class=\"dataframe\">\n",
       "<caption>A tibble: 3 × 2</caption>\n",
       "<thead>\n",
       "\t<tr><th scope=col>age_group</th><th scope=col>median_IMD</th></tr>\n",
       "\t<tr><th scope=col>&lt;chr&gt;</th><th scope=col>&lt;dbl&gt;</th></tr>\n",
       "</thead>\n",
       "<tbody>\n",
       "\t<tr><td>7-15</td><td>11.101</td></tr>\n",
       "\t<tr><td><span style=white-space:pre-wrap>&lt;7  </span></td><td>11.469</td></tr>\n",
       "\t<tr><td>&gt;15 </td><td>11.511</td></tr>\n",
       "</tbody>\n",
       "</table>\n"
      ],
      "text/latex": [
       "A tibble: 3 × 2\n",
       "\\begin{tabular}{ll}\n",
       " age\\_group & median\\_IMD\\\\\n",
       " <chr> & <dbl>\\\\\n",
       "\\hline\n",
       "\t 7-15 & 11.101\\\\\n",
       "\t <7   & 11.469\\\\\n",
       "\t >15  & 11.511\\\\\n",
       "\\end{tabular}\n"
      ],
      "text/markdown": [
       "\n",
       "A tibble: 3 × 2\n",
       "\n",
       "| age_group &lt;chr&gt; | median_IMD &lt;dbl&gt; |\n",
       "|---|---|\n",
       "| 7-15 | 11.101 |\n",
       "| &lt;7   | 11.469 |\n",
       "| &gt;15  | 11.511 |\n",
       "\n"
      ],
      "text/plain": [
       "  age_group median_IMD\n",
       "1 7-15      11.101    \n",
       "2 <7        11.469    \n",
       "3 >15       11.511    "
      ]
     },
     "metadata": {},
     "output_type": "display_data"
    }
   ],
   "source": [
    "# IMD score for entire population\n",
    "age_df %>%\n",
    "    distinct(ClusterID, AttendanceStartDate, .keep_all = T) %>%\n",
    "    group_by(age_group) %>%\n",
    "    mutate(IMDScore = as.numeric(IMDScore)) %>%\n",
    "    filter(!is.na(IMDScore)) %>%\n",
    "    summarise(median_IMD = median(IMDScore))"
   ]
  },
  {
   "cell_type": "code",
   "execution_count": 13,
   "id": "5dad9c36",
   "metadata": {},
   "outputs": [
    {
     "data": {
      "text/html": [
       "903433"
      ],
      "text/latex": [
       "903433"
      ],
      "text/markdown": [
       "903433"
      ],
      "text/plain": [
       "[1] 903433"
      ]
     },
     "metadata": {},
     "output_type": "display_data"
    },
    {
     "data": {
      "text/html": [
       "<table class=\"dataframe\">\n",
       "<caption>A tibble: 3 × 8</caption>\n",
       "<thead>\n",
       "\t<tr><th scope=col>age_group</th><th scope=col>prop_death</th><th scope=col>prop_icu</th><th scope=col>prop_admitted</th><th scope=col>median_duration</th><th scope=col>low_duration</th><th scope=col>high_duration</th><th scope=col>total</th></tr>\n",
       "\t<tr><th scope=col>&lt;fct&gt;</th><th scope=col>&lt;dbl&gt;</th><th scope=col>&lt;dbl&gt;</th><th scope=col>&lt;dbl&gt;</th><th scope=col>&lt;drtn&gt;</th><th scope=col>&lt;drtn&gt;</th><th scope=col>&lt;drtn&gt;</th><th scope=col>&lt;int&gt;</th></tr>\n",
       "</thead>\n",
       "<tbody>\n",
       "\t<tr><td><span style=white-space:pre-wrap>&lt;7  </span></td><td>0.01</td><td>0.4</td><td>17.0</td><td>20 hours</td><td>12 hours</td><td> 42 hours</td><td> 70962</td></tr>\n",
       "\t<tr><td>7-15</td><td>0.01</td><td>0.3</td><td>13.2</td><td>24 hours</td><td>14 hours</td><td> 49 hours</td><td> 86217</td></tr>\n",
       "\t<tr><td>&gt;15 </td><td>0.41</td><td>1.5</td><td>34.3</td><td>56 hours</td><td>22 hours</td><td>160 hours</td><td>746254</td></tr>\n",
       "</tbody>\n",
       "</table>\n"
      ],
      "text/latex": [
       "A tibble: 3 × 8\n",
       "\\begin{tabular}{llllllll}\n",
       " age\\_group & prop\\_death & prop\\_icu & prop\\_admitted & median\\_duration & low\\_duration & high\\_duration & total\\\\\n",
       " <fct> & <dbl> & <dbl> & <dbl> & <drtn> & <drtn> & <drtn> & <int>\\\\\n",
       "\\hline\n",
       "\t <7   & 0.01 & 0.4 & 17.0 & 20 hours & 12 hours &  42 hours &  70962\\\\\n",
       "\t 7-15 & 0.01 & 0.3 & 13.2 & 24 hours & 14 hours &  49 hours &  86217\\\\\n",
       "\t >15  & 0.41 & 1.5 & 34.3 & 56 hours & 22 hours & 160 hours & 746254\\\\\n",
       "\\end{tabular}\n"
      ],
      "text/markdown": [
       "\n",
       "A tibble: 3 × 8\n",
       "\n",
       "| age_group &lt;fct&gt; | prop_death &lt;dbl&gt; | prop_icu &lt;dbl&gt; | prop_admitted &lt;dbl&gt; | median_duration &lt;drtn&gt; | low_duration &lt;drtn&gt; | high_duration &lt;drtn&gt; | total &lt;int&gt; |\n",
       "|---|---|---|---|---|---|---|---|\n",
       "| &lt;7   | 0.01 | 0.4 | 17.0 | 20 hours | 12 hours |  42 hours |  70962 |\n",
       "| 7-15 | 0.01 | 0.3 | 13.2 | 24 hours | 14 hours |  49 hours |  86217 |\n",
       "| &gt;15  | 0.41 | 1.5 | 34.3 | 56 hours | 22 hours | 160 hours | 746254 |\n",
       "\n"
      ],
      "text/plain": [
       "  age_group prop_death prop_icu prop_admitted median_duration low_duration\n",
       "1 <7        0.01       0.4      17.0          20 hours        12 hours    \n",
       "2 7-15      0.01       0.3      13.2          24 hours        14 hours    \n",
       "3 >15       0.41       1.5      34.3          56 hours        22 hours    \n",
       "  high_duration total \n",
       "1  42 hours      70962\n",
       "2  49 hours      86217\n",
       "3 160 hours     746254"
      ]
     },
     "metadata": {},
     "output_type": "display_data"
    }
   ],
   "source": [
    "# Admission stats for entire population\n",
    "merged_df2 %>% nrow()\n",
    "merged_df2 %>%\n",
    "    group_by(age_group) %>%\n",
    "    summarise(\n",
    "#               n_death = sum(death),\n",
    "              prop_death = round(sum(death) / n() * 100, 2),\n",
    "#               n_icu = sum(is_icu),\n",
    "              prop_icu = round(sum(is_icu) / n() * 100, 1),\n",
    "#               n_admitted = sum(is_admitted),\n",
    "              prop_admitted = round(sum(is_admitted) / n() * 100, 1),\n",
    "              median_duration = round(median(duration, na.rm = T), 0),\n",
    "              low_duration = round(quantile(duration, c(0.25), na.rm = T), 0),\n",
    "              high_duration = round(quantile(duration, c(0.75), na.rm = T), 0),\n",
    "              total = n())"
   ]
  },
  {
   "cell_type": "code",
   "execution_count": 14,
   "id": "d9aa46e7",
   "metadata": {},
   "outputs": [
    {
     "data": {
      "text/html": [
       "3707"
      ],
      "text/latex": [
       "3707"
      ],
      "text/markdown": [
       "3707"
      ],
      "text/plain": [
       "[1] 3707"
      ]
     },
     "metadata": {},
     "output_type": "display_data"
    },
    {
     "data": {
      "text/html": [
       "<table class=\"dataframe\">\n",
       "<caption>A tibble: 1 × 7</caption>\n",
       "<thead>\n",
       "\t<tr><th scope=col>prop_death</th><th scope=col>prop_icu</th><th scope=col>prop_admitted</th><th scope=col>median_duration</th><th scope=col>low_duration</th><th scope=col>high_duration</th><th scope=col>total</th></tr>\n",
       "\t<tr><th scope=col>&lt;dbl&gt;</th><th scope=col>&lt;dbl&gt;</th><th scope=col>&lt;dbl&gt;</th><th scope=col>&lt;drtn&gt;</th><th scope=col>&lt;drtn&gt;</th><th scope=col>&lt;drtn&gt;</th><th scope=col>&lt;int&gt;</th></tr>\n",
       "</thead>\n",
       "<tbody>\n",
       "\t<tr><td>0.59</td><td>18.2</td><td>78.5</td><td>101 hours</td><td>45 hours</td><td>221 hours</td><td>3707</td></tr>\n",
       "</tbody>\n",
       "</table>\n"
      ],
      "text/latex": [
       "A tibble: 1 × 7\n",
       "\\begin{tabular}{lllllll}\n",
       " prop\\_death & prop\\_icu & prop\\_admitted & median\\_duration & low\\_duration & high\\_duration & total\\\\\n",
       " <dbl> & <dbl> & <dbl> & <drtn> & <drtn> & <drtn> & <int>\\\\\n",
       "\\hline\n",
       "\t 0.59 & 18.2 & 78.5 & 101 hours & 45 hours & 221 hours & 3707\\\\\n",
       "\\end{tabular}\n"
      ],
      "text/markdown": [
       "\n",
       "A tibble: 1 × 7\n",
       "\n",
       "| prop_death &lt;dbl&gt; | prop_icu &lt;dbl&gt; | prop_admitted &lt;dbl&gt; | median_duration &lt;drtn&gt; | low_duration &lt;drtn&gt; | high_duration &lt;drtn&gt; | total &lt;int&gt; |\n",
       "|---|---|---|---|---|---|---|\n",
       "| 0.59 | 18.2 | 78.5 | 101 hours | 45 hours | 221 hours | 3707 |\n",
       "\n"
      ],
      "text/plain": [
       "  prop_death prop_icu prop_admitted median_duration low_duration high_duration\n",
       "1 0.59       18.2     78.5          101 hours       45 hours     221 hours    \n",
       "  total\n",
       "1 3707 "
      ]
     },
     "metadata": {},
     "output_type": "display_data"
    }
   ],
   "source": [
    "# Admission stats for patients tested for adenovirus\n",
    "merged_df %>% nrow()\n",
    "merged_df %>%\n",
    "    summarise(\n",
    "#               n_death = sum(death),\n",
    "              prop_death = round(sum(death) / n() * 100, 2),\n",
    "#               n_icu = sum(is_icu),\n",
    "              prop_icu = round(sum(is_icu) / n() * 100, 1),\n",
    "#               n_admitted = sum(is_admitted),\n",
    "              prop_admitted = round(sum(is_admitted) / n() * 100, 1),\n",
    "              median_duration = round(median(duration, na.rm = T), 0),\n",
    "              low_duration = round(quantile(duration, c(0.25), na.rm = T), 0),\n",
    "              high_duration = round(quantile(duration, c(0.75), na.rm = T), 0),\n",
    "              total = n())"
   ]
  },
  {
   "cell_type": "code",
   "execution_count": 15,
   "id": "0554c8b7",
   "metadata": {},
   "outputs": [
    {
     "data": {
      "text/html": [
       "899726"
      ],
      "text/latex": [
       "899726"
      ],
      "text/markdown": [
       "899726"
      ],
      "text/plain": [
       "[1] 899726"
      ]
     },
     "metadata": {},
     "output_type": "display_data"
    },
    {
     "data": {
      "text/html": [
       "<table class=\"dataframe\">\n",
       "<caption>A data.frame: 1 × 7</caption>\n",
       "<thead>\n",
       "\t<tr><th scope=col>prop_death</th><th scope=col>prop_icu</th><th scope=col>prop_admitted</th><th scope=col>median_duration</th><th scope=col>low_duration</th><th scope=col>high_duration</th><th scope=col>total</th></tr>\n",
       "\t<tr><th scope=col>&lt;dbl&gt;</th><th scope=col>&lt;dbl&gt;</th><th scope=col>&lt;dbl&gt;</th><th scope=col>&lt;drtn&gt;</th><th scope=col>&lt;drtn&gt;</th><th scope=col>&lt;drtn&gt;</th><th scope=col>&lt;int&gt;</th></tr>\n",
       "</thead>\n",
       "<tbody>\n",
       "\t<tr><td>0.34</td><td>1.2</td><td>30.7</td><td>50 hours</td><td>21 hours</td><td>145 hours</td><td>899726</td></tr>\n",
       "</tbody>\n",
       "</table>\n"
      ],
      "text/latex": [
       "A data.frame: 1 × 7\n",
       "\\begin{tabular}{lllllll}\n",
       " prop\\_death & prop\\_icu & prop\\_admitted & median\\_duration & low\\_duration & high\\_duration & total\\\\\n",
       " <dbl> & <dbl> & <dbl> & <drtn> & <drtn> & <drtn> & <int>\\\\\n",
       "\\hline\n",
       "\t 0.34 & 1.2 & 30.7 & 50 hours & 21 hours & 145 hours & 899726\\\\\n",
       "\\end{tabular}\n"
      ],
      "text/markdown": [
       "\n",
       "A data.frame: 1 × 7\n",
       "\n",
       "| prop_death &lt;dbl&gt; | prop_icu &lt;dbl&gt; | prop_admitted &lt;dbl&gt; | median_duration &lt;drtn&gt; | low_duration &lt;drtn&gt; | high_duration &lt;drtn&gt; | total &lt;int&gt; |\n",
       "|---|---|---|---|---|---|---|\n",
       "| 0.34 | 1.2 | 30.7 | 50 hours | 21 hours | 145 hours | 899726 |\n",
       "\n"
      ],
      "text/plain": [
       "  prop_death prop_icu prop_admitted median_duration low_duration high_duration\n",
       "1 0.34       1.2      30.7          50 hours        21 hours     145 hours    \n",
       "  total \n",
       "1 899726"
      ]
     },
     "metadata": {},
     "output_type": "display_data"
    }
   ],
   "source": [
    "# Admission stats for patients untested for adenovirus\n",
    "merged_df2 %>% \n",
    "    filter(is.na(adeno_pos)) %>%\n",
    "           nrow()\n",
    "merged_df2 %>%\n",
    "    filter(is.na(adeno_pos)) %>%\n",
    "    summarise(\n",
    "#               n_death = sum(death),\n",
    "              prop_death = round(sum(death) / n() * 100, 2),\n",
    "#               n_icu = sum(is_icu),\n",
    "              prop_icu = round(sum(is_icu) / n() * 100, 1),\n",
    "#               n_admitted = sum(is_admitted),\n",
    "              prop_admitted = round(sum(is_admitted) / n() * 100, 1),\n",
    "              median_duration = round(median(duration, na.rm = T), 0),\n",
    "              low_duration = round(quantile(duration, c(0.25), na.rm = T), 0),\n",
    "              high_duration = round(quantile(duration, c(0.75), na.rm = T), 0),\n",
    "              total = n())"
   ]
  },
  {
   "cell_type": "code",
   "execution_count": 16,
   "id": "4eb2e035",
   "metadata": {},
   "outputs": [
    {
     "data": {
      "text/html": [
       "179"
      ],
      "text/latex": [
       "179"
      ],
      "text/markdown": [
       "179"
      ],
      "text/plain": [
       "[1] 179"
      ]
     },
     "metadata": {},
     "output_type": "display_data"
    },
    {
     "data": {
      "text/html": [
       "<table class=\"dataframe\">\n",
       "<caption>A tibble: 1 × 10</caption>\n",
       "<thead>\n",
       "\t<tr><th scope=col>n_death</th><th scope=col>prop_death</th><th scope=col>n_icu</th><th scope=col>prop_icu</th><th scope=col>n_admitted</th><th scope=col>prop_admitted</th><th scope=col>median_duration</th><th scope=col>low_duration</th><th scope=col>high_duration</th><th scope=col>total</th></tr>\n",
       "\t<tr><th scope=col>&lt;int&gt;</th><th scope=col>&lt;dbl&gt;</th><th scope=col>&lt;int&gt;</th><th scope=col>&lt;dbl&gt;</th><th scope=col>&lt;int&gt;</th><th scope=col>&lt;dbl&gt;</th><th scope=col>&lt;drtn&gt;</th><th scope=col>&lt;drtn&gt;</th><th scope=col>&lt;drtn&gt;</th><th scope=col>&lt;int&gt;</th></tr>\n",
       "</thead>\n",
       "<tbody>\n",
       "\t<tr><td>0</td><td>0</td><td>21</td><td>11.7</td><td>109</td><td>60.9</td><td>65 hours</td><td>31 hours</td><td>139 hours</td><td>179</td></tr>\n",
       "</tbody>\n",
       "</table>\n"
      ],
      "text/latex": [
       "A tibble: 1 × 10\n",
       "\\begin{tabular}{llllllllll}\n",
       " n\\_death & prop\\_death & n\\_icu & prop\\_icu & n\\_admitted & prop\\_admitted & median\\_duration & low\\_duration & high\\_duration & total\\\\\n",
       " <int> & <dbl> & <int> & <dbl> & <int> & <dbl> & <drtn> & <drtn> & <drtn> & <int>\\\\\n",
       "\\hline\n",
       "\t 0 & 0 & 21 & 11.7 & 109 & 60.9 & 65 hours & 31 hours & 139 hours & 179\\\\\n",
       "\\end{tabular}\n"
      ],
      "text/markdown": [
       "\n",
       "A tibble: 1 × 10\n",
       "\n",
       "| n_death &lt;int&gt; | prop_death &lt;dbl&gt; | n_icu &lt;int&gt; | prop_icu &lt;dbl&gt; | n_admitted &lt;int&gt; | prop_admitted &lt;dbl&gt; | median_duration &lt;drtn&gt; | low_duration &lt;drtn&gt; | high_duration &lt;drtn&gt; | total &lt;int&gt; |\n",
       "|---|---|---|---|---|---|---|---|---|---|\n",
       "| 0 | 0 | 21 | 11.7 | 109 | 60.9 | 65 hours | 31 hours | 139 hours | 179 |\n",
       "\n"
      ],
      "text/plain": [
       "  n_death prop_death n_icu prop_icu n_admitted prop_admitted median_duration\n",
       "1 0       0          21    11.7     109        60.9          65 hours       \n",
       "  low_duration high_duration total\n",
       "1 31 hours     139 hours     179  "
      ]
     },
     "metadata": {},
     "output_type": "display_data"
    }
   ],
   "source": [
    "# Admission stats for adeno-pos patients\n",
    "merged_df %>% \n",
    "    filter(adeno_pos) %>%\n",
    "    nrow()\n",
    "merged_df %>%\n",
    "    filter(adeno_pos) %>%\n",
    "    summarise(\n",
    "              n_death = sum(death),\n",
    "              prop_death = round(sum(death) / n() * 100, 2),\n",
    "              n_icu = sum(is_icu),\n",
    "              prop_icu = round(sum(is_icu) / n() * 100, 1),\n",
    "              n_admitted = sum(is_admitted),\n",
    "              prop_admitted = round(sum(is_admitted) / n() * 100, 1),\n",
    "              median_duration = round(median(duration, na.rm = T), 0),\n",
    "              low_duration = round(quantile(duration, c(0.25), na.rm = T), 0),\n",
    "              high_duration = round(quantile(duration, c(0.75), na.rm = T), 0),\n",
    "              total = n())"
   ]
  },
  {
   "cell_type": "code",
   "execution_count": 17,
   "id": "cb51bef0",
   "metadata": {},
   "outputs": [
    {
     "name": "stderr",
     "output_type": "stream",
     "text": [
      "\u001b[1m\u001b[22mJoining with `by = join_by(ClusterID, AttendanceStartDate)`\n",
      "\u001b[1m\u001b[22mJoining with `by = join_by(ClusterID, AttendanceStartDate)`\n",
      "Warning message in left_join(., vital_df):\n",
      "“\u001b[1m\u001b[22mEach row in `x` is expected to match at most 1 row in `y`.\n",
      "\u001b[36mℹ\u001b[39m Row 1 of `x` matches multiple rows.\n",
      "\u001b[36mℹ\u001b[39m If multiple matches are expected, set `multiple = \"all\"` to silence this warning.”\n",
      "\u001b[1m\u001b[22m`summarise()` has grouped output by 'EventName'. You can override using the `.groups` argument.\n"
     ]
    },
    {
     "data": {
      "text/html": [
       "<table class=\"dataframe\">\n",
       "<caption>A grouped_df: 18 × 5</caption>\n",
       "<thead>\n",
       "\t<tr><th scope=col>EventName</th><th scope=col>age_group</th><th scope=col>median_value</th><th scope=col>low_IQR</th><th scope=col>high_IQR</th></tr>\n",
       "\t<tr><th scope=col>&lt;chr&gt;</th><th scope=col>&lt;fct&gt;</th><th scope=col>&lt;dbl&gt;</th><th scope=col>&lt;dbl&gt;</th><th scope=col>&lt;dbl&gt;</th></tr>\n",
       "</thead>\n",
       "<tbody>\n",
       "\t<tr><td>Diastolic Blood Pressure</td><td><span style=white-space:pre-wrap>&lt;7  </span></td><td> 61.0</td><td> 54.000</td><td> 71.500</td></tr>\n",
       "\t<tr><td>Diastolic Blood Pressure</td><td>7-15</td><td> 81.5</td><td> 74.000</td><td> 86.250</td></tr>\n",
       "\t<tr><td>Diastolic Blood Pressure</td><td>&gt;15 </td><td> 73.0</td><td> 61.250</td><td> 82.000</td></tr>\n",
       "\t<tr><td><span style=white-space:pre-wrap>Heart Rate              </span></td><td><span style=white-space:pre-wrap>&lt;7  </span></td><td>134.0</td><td>112.000</td><td>145.000</td></tr>\n",
       "\t<tr><td>Heart Rate              </td><td>7-15</td><td>111.0</td><td>109.000</td><td>123.000</td></tr>\n",
       "\t<tr><td><span style=white-space:pre-wrap>Heart Rate              </span></td><td>&gt;15 </td><td> 92.0</td><td> 84.000</td><td>105.500</td></tr>\n",
       "\t<tr><td><span style=white-space:pre-wrap>Oxygen Saturation       </span></td><td><span style=white-space:pre-wrap>&lt;7  </span></td><td> 98.0</td><td> 96.250</td><td> 99.750</td></tr>\n",
       "\t<tr><td>Oxygen Saturation       </td><td>7-15</td><td> 98.0</td><td> 98.000</td><td>100.000</td></tr>\n",
       "\t<tr><td><span style=white-space:pre-wrap>Oxygen Saturation       </span></td><td>&gt;15 </td><td> 96.0</td><td> 95.000</td><td> 98.000</td></tr>\n",
       "\t<tr><td><span style=white-space:pre-wrap>Respiratory Rate        </span></td><td><span style=white-space:pre-wrap>&lt;7  </span></td><td> 28.0</td><td> 24.000</td><td> 35.000</td></tr>\n",
       "\t<tr><td>Respiratory Rate        </td><td>7-15</td><td> 27.5</td><td> 22.500</td><td> 30.500</td></tr>\n",
       "\t<tr><td><span style=white-space:pre-wrap>Respiratory Rate        </span></td><td>&gt;15 </td><td> 19.0</td><td> 17.000</td><td> 21.000</td></tr>\n",
       "\t<tr><td>Systolic Blood Pressure </td><td><span style=white-space:pre-wrap>&lt;7  </span></td><td>104.0</td><td> 94.500</td><td>110.000</td></tr>\n",
       "\t<tr><td>Systolic Blood Pressure </td><td>7-15</td><td>109.0</td><td>105.000</td><td>116.750</td></tr>\n",
       "\t<tr><td>Systolic Blood Pressure </td><td>&gt;15 </td><td>123.5</td><td>113.500</td><td>135.750</td></tr>\n",
       "\t<tr><td><span style=white-space:pre-wrap>Temperature Tympanic    </span></td><td><span style=white-space:pre-wrap>&lt;7  </span></td><td> 37.5</td><td> 36.700</td><td> 38.100</td></tr>\n",
       "\t<tr><td>Temperature Tympanic    </td><td>7-15</td><td> 37.3</td><td> 36.875</td><td> 37.850</td></tr>\n",
       "\t<tr><td><span style=white-space:pre-wrap>Temperature Tympanic    </span></td><td>&gt;15 </td><td> 36.9</td><td> 36.400</td><td> 37.575</td></tr>\n",
       "</tbody>\n",
       "</table>\n"
      ],
      "text/latex": [
       "A grouped\\_df: 18 × 5\n",
       "\\begin{tabular}{lllll}\n",
       " EventName & age\\_group & median\\_value & low\\_IQR & high\\_IQR\\\\\n",
       " <chr> & <fct> & <dbl> & <dbl> & <dbl>\\\\\n",
       "\\hline\n",
       "\t Diastolic Blood Pressure & <7   &  61.0 &  54.000 &  71.500\\\\\n",
       "\t Diastolic Blood Pressure & 7-15 &  81.5 &  74.000 &  86.250\\\\\n",
       "\t Diastolic Blood Pressure & >15  &  73.0 &  61.250 &  82.000\\\\\n",
       "\t Heart Rate               & <7   & 134.0 & 112.000 & 145.000\\\\\n",
       "\t Heart Rate               & 7-15 & 111.0 & 109.000 & 123.000\\\\\n",
       "\t Heart Rate               & >15  &  92.0 &  84.000 & 105.500\\\\\n",
       "\t Oxygen Saturation        & <7   &  98.0 &  96.250 &  99.750\\\\\n",
       "\t Oxygen Saturation        & 7-15 &  98.0 &  98.000 & 100.000\\\\\n",
       "\t Oxygen Saturation        & >15  &  96.0 &  95.000 &  98.000\\\\\n",
       "\t Respiratory Rate         & <7   &  28.0 &  24.000 &  35.000\\\\\n",
       "\t Respiratory Rate         & 7-15 &  27.5 &  22.500 &  30.500\\\\\n",
       "\t Respiratory Rate         & >15  &  19.0 &  17.000 &  21.000\\\\\n",
       "\t Systolic Blood Pressure  & <7   & 104.0 &  94.500 & 110.000\\\\\n",
       "\t Systolic Blood Pressure  & 7-15 & 109.0 & 105.000 & 116.750\\\\\n",
       "\t Systolic Blood Pressure  & >15  & 123.5 & 113.500 & 135.750\\\\\n",
       "\t Temperature Tympanic     & <7   &  37.5 &  36.700 &  38.100\\\\\n",
       "\t Temperature Tympanic     & 7-15 &  37.3 &  36.875 &  37.850\\\\\n",
       "\t Temperature Tympanic     & >15  &  36.9 &  36.400 &  37.575\\\\\n",
       "\\end{tabular}\n"
      ],
      "text/markdown": [
       "\n",
       "A grouped_df: 18 × 5\n",
       "\n",
       "| EventName &lt;chr&gt; | age_group &lt;fct&gt; | median_value &lt;dbl&gt; | low_IQR &lt;dbl&gt; | high_IQR &lt;dbl&gt; |\n",
       "|---|---|---|---|---|\n",
       "| Diastolic Blood Pressure | &lt;7   |  61.0 |  54.000 |  71.500 |\n",
       "| Diastolic Blood Pressure | 7-15 |  81.5 |  74.000 |  86.250 |\n",
       "| Diastolic Blood Pressure | &gt;15  |  73.0 |  61.250 |  82.000 |\n",
       "| Heart Rate               | &lt;7   | 134.0 | 112.000 | 145.000 |\n",
       "| Heart Rate               | 7-15 | 111.0 | 109.000 | 123.000 |\n",
       "| Heart Rate               | &gt;15  |  92.0 |  84.000 | 105.500 |\n",
       "| Oxygen Saturation        | &lt;7   |  98.0 |  96.250 |  99.750 |\n",
       "| Oxygen Saturation        | 7-15 |  98.0 |  98.000 | 100.000 |\n",
       "| Oxygen Saturation        | &gt;15  |  96.0 |  95.000 |  98.000 |\n",
       "| Respiratory Rate         | &lt;7   |  28.0 |  24.000 |  35.000 |\n",
       "| Respiratory Rate         | 7-15 |  27.5 |  22.500 |  30.500 |\n",
       "| Respiratory Rate         | &gt;15  |  19.0 |  17.000 |  21.000 |\n",
       "| Systolic Blood Pressure  | &lt;7   | 104.0 |  94.500 | 110.000 |\n",
       "| Systolic Blood Pressure  | 7-15 | 109.0 | 105.000 | 116.750 |\n",
       "| Systolic Blood Pressure  | &gt;15  | 123.5 | 113.500 | 135.750 |\n",
       "| Temperature Tympanic     | &lt;7   |  37.5 |  36.700 |  38.100 |\n",
       "| Temperature Tympanic     | 7-15 |  37.3 |  36.875 |  37.850 |\n",
       "| Temperature Tympanic     | &gt;15  |  36.9 |  36.400 |  37.575 |\n",
       "\n"
      ],
      "text/plain": [
       "   EventName                age_group median_value low_IQR high_IQR\n",
       "1  Diastolic Blood Pressure <7         61.0         54.000  71.500 \n",
       "2  Diastolic Blood Pressure 7-15       81.5         74.000  86.250 \n",
       "3  Diastolic Blood Pressure >15        73.0         61.250  82.000 \n",
       "4  Heart Rate               <7        134.0        112.000 145.000 \n",
       "5  Heart Rate               7-15      111.0        109.000 123.000 \n",
       "6  Heart Rate               >15        92.0         84.000 105.500 \n",
       "7  Oxygen Saturation        <7         98.0         96.250  99.750 \n",
       "8  Oxygen Saturation        7-15       98.0         98.000 100.000 \n",
       "9  Oxygen Saturation        >15        96.0         95.000  98.000 \n",
       "10 Respiratory Rate         <7         28.0         24.000  35.000 \n",
       "11 Respiratory Rate         7-15       27.5         22.500  30.500 \n",
       "12 Respiratory Rate         >15        19.0         17.000  21.000 \n",
       "13 Systolic Blood Pressure  <7        104.0         94.500 110.000 \n",
       "14 Systolic Blood Pressure  7-15      109.0        105.000 116.750 \n",
       "15 Systolic Blood Pressure  >15       123.5        113.500 135.750 \n",
       "16 Temperature Tympanic     <7         37.5         36.700  38.100 \n",
       "17 Temperature Tympanic     7-15       37.3         36.875  37.850 \n",
       "18 Temperature Tympanic     >15        36.9         36.400  37.575 "
      ]
     },
     "metadata": {},
     "output_type": "display_data"
    }
   ],
   "source": [
    "# Vital signs for adeno-pos patients\n",
    "adeno_filt %>%\n",
    "    left_join(death_filt) %>%\n",
    "    filter(adeno_pos) %>%\n",
    "    left_join(vital_df) %>%\n",
    "    mutate(EventResult = as.numeric(EventResult),\n",
    "           age_group = factor(age_group, c(\"<7\", \"7-15\", \">15\"))) %>%\n",
    "    filter(!is.na(EventResult)) %>%\n",
    "    group_by(EventName, age_group) %>%\n",
    "    summarise(median_value = median(EventResult),\n",
    "              low_IQR = quantile(EventResult, prob = c(0.25)),\n",
    "              high_IQR = quantile(EventResult, prob = c(0.75)))\n",
    "    "
   ]
  },
  {
   "cell_type": "code",
   "execution_count": 18,
   "id": "294acb8a",
   "metadata": {},
   "outputs": [
    {
     "data": {
      "text/html": [
       "3528"
      ],
      "text/latex": [
       "3528"
      ],
      "text/markdown": [
       "3528"
      ],
      "text/plain": [
       "[1] 3528"
      ]
     },
     "metadata": {},
     "output_type": "display_data"
    },
    {
     "data": {
      "text/html": [
       "<table class=\"dataframe\">\n",
       "<caption>A tibble: 1 × 10</caption>\n",
       "<thead>\n",
       "\t<tr><th scope=col>n_death</th><th scope=col>prop_death</th><th scope=col>n_icu</th><th scope=col>prop_icu</th><th scope=col>n_admitted</th><th scope=col>prop_admitted</th><th scope=col>median_duration</th><th scope=col>low_duration</th><th scope=col>high_duration</th><th scope=col>total</th></tr>\n",
       "\t<tr><th scope=col>&lt;int&gt;</th><th scope=col>&lt;dbl&gt;</th><th scope=col>&lt;int&gt;</th><th scope=col>&lt;dbl&gt;</th><th scope=col>&lt;int&gt;</th><th scope=col>&lt;dbl&gt;</th><th scope=col>&lt;drtn&gt;</th><th scope=col>&lt;drtn&gt;</th><th scope=col>&lt;drtn&gt;</th><th scope=col>&lt;int&gt;</th></tr>\n",
       "</thead>\n",
       "<tbody>\n",
       "\t<tr><td>22</td><td>0.62</td><td>654</td><td>18.5</td><td>2802</td><td>79.4</td><td>102 hours</td><td>46 hours</td><td>224 hours</td><td>3528</td></tr>\n",
       "</tbody>\n",
       "</table>\n"
      ],
      "text/latex": [
       "A tibble: 1 × 10\n",
       "\\begin{tabular}{llllllllll}\n",
       " n\\_death & prop\\_death & n\\_icu & prop\\_icu & n\\_admitted & prop\\_admitted & median\\_duration & low\\_duration & high\\_duration & total\\\\\n",
       " <int> & <dbl> & <int> & <dbl> & <int> & <dbl> & <drtn> & <drtn> & <drtn> & <int>\\\\\n",
       "\\hline\n",
       "\t 22 & 0.62 & 654 & 18.5 & 2802 & 79.4 & 102 hours & 46 hours & 224 hours & 3528\\\\\n",
       "\\end{tabular}\n"
      ],
      "text/markdown": [
       "\n",
       "A tibble: 1 × 10\n",
       "\n",
       "| n_death &lt;int&gt; | prop_death &lt;dbl&gt; | n_icu &lt;int&gt; | prop_icu &lt;dbl&gt; | n_admitted &lt;int&gt; | prop_admitted &lt;dbl&gt; | median_duration &lt;drtn&gt; | low_duration &lt;drtn&gt; | high_duration &lt;drtn&gt; | total &lt;int&gt; |\n",
       "|---|---|---|---|---|---|---|---|---|---|\n",
       "| 22 | 0.62 | 654 | 18.5 | 2802 | 79.4 | 102 hours | 46 hours | 224 hours | 3528 |\n",
       "\n"
      ],
      "text/plain": [
       "  n_death prop_death n_icu prop_icu n_admitted prop_admitted median_duration\n",
       "1 22      0.62       654   18.5     2802       79.4          102 hours      \n",
       "  low_duration high_duration total\n",
       "1 46 hours     224 hours     3528 "
      ]
     },
     "metadata": {},
     "output_type": "display_data"
    }
   ],
   "source": [
    "# Admission stats for adeno-neg patients\n",
    "merged_df %>% \n",
    "    filter(!adeno_pos) %>%\n",
    "    nrow()\n",
    "merged_df %>%\n",
    "    filter(!adeno_pos) %>%\n",
    "    summarise(\n",
    "              n_death = sum(death),\n",
    "              prop_death = round(sum(death) / n() * 100, 2),\n",
    "              n_icu = sum(is_icu),\n",
    "              prop_icu = round(sum(is_icu) / n() * 100, 1),\n",
    "              n_admitted = sum(is_admitted),\n",
    "              prop_admitted = round(sum(is_admitted) / n() * 100, 1),\n",
    "              median_duration = round(median(duration, na.rm = T), 0),\n",
    "              low_duration = round(quantile(duration, c(0.25), na.rm = T), 0),\n",
    "              high_duration = round(quantile(duration, c(0.75), na.rm = T), 0),\n",
    "              total = n())"
   ]
  },
  {
   "cell_type": "code",
   "execution_count": 19,
   "id": "31d9943e",
   "metadata": {},
   "outputs": [
    {
     "data": {
      "text/html": [
       "1531"
      ],
      "text/latex": [
       "1531"
      ],
      "text/markdown": [
       "1531"
      ],
      "text/plain": [
       "[1] 1531"
      ]
     },
     "metadata": {},
     "output_type": "display_data"
    },
    {
     "data": {
      "text/html": [
       "<table class=\"dataframe\">\n",
       "<caption>A tibble: 1 × 10</caption>\n",
       "<thead>\n",
       "\t<tr><th scope=col>n_death</th><th scope=col>prop_death</th><th scope=col>n_icu</th><th scope=col>prop_icu</th><th scope=col>n_admitted</th><th scope=col>prop_admitted</th><th scope=col>median_duration</th><th scope=col>low_duration</th><th scope=col>high_duration</th><th scope=col>total</th></tr>\n",
       "\t<tr><th scope=col>&lt;int&gt;</th><th scope=col>&lt;dbl&gt;</th><th scope=col>&lt;int&gt;</th><th scope=col>&lt;dbl&gt;</th><th scope=col>&lt;int&gt;</th><th scope=col>&lt;dbl&gt;</th><th scope=col>&lt;drtn&gt;</th><th scope=col>&lt;drtn&gt;</th><th scope=col>&lt;drtn&gt;</th><th scope=col>&lt;int&gt;</th></tr>\n",
       "</thead>\n",
       "<tbody>\n",
       "\t<tr><td>17</td><td>1.11</td><td>188</td><td>12.3</td><td>1531</td><td>100</td><td>93 hours</td><td>35 hours</td><td>234 hours</td><td>1531</td></tr>\n",
       "</tbody>\n",
       "</table>\n"
      ],
      "text/latex": [
       "A tibble: 1 × 10\n",
       "\\begin{tabular}{llllllllll}\n",
       " n\\_death & prop\\_death & n\\_icu & prop\\_icu & n\\_admitted & prop\\_admitted & median\\_duration & low\\_duration & high\\_duration & total\\\\\n",
       " <int> & <dbl> & <int> & <dbl> & <int> & <dbl> & <drtn> & <drtn> & <drtn> & <int>\\\\\n",
       "\\hline\n",
       "\t 17 & 1.11 & 188 & 12.3 & 1531 & 100 & 93 hours & 35 hours & 234 hours & 1531\\\\\n",
       "\\end{tabular}\n"
      ],
      "text/markdown": [
       "\n",
       "A tibble: 1 × 10\n",
       "\n",
       "| n_death &lt;int&gt; | prop_death &lt;dbl&gt; | n_icu &lt;int&gt; | prop_icu &lt;dbl&gt; | n_admitted &lt;int&gt; | prop_admitted &lt;dbl&gt; | median_duration &lt;drtn&gt; | low_duration &lt;drtn&gt; | high_duration &lt;drtn&gt; | total &lt;int&gt; |\n",
       "|---|---|---|---|---|---|---|---|---|---|\n",
       "| 17 | 1.11 | 188 | 12.3 | 1531 | 100 | 93 hours | 35 hours | 234 hours | 1531 |\n",
       "\n"
      ],
      "text/plain": [
       "  n_death prop_death n_icu prop_icu n_admitted prop_admitted median_duration\n",
       "1 17      1.11       188   12.3     1531       100           93 hours       \n",
       "  low_duration high_duration total\n",
       "1 35 hours     234 hours     1531 "
      ]
     },
     "metadata": {},
     "output_type": "display_data"
    }
   ],
   "source": [
    "# Admission stats for all diagnosed patients\n",
    "merged_df3 %>% \n",
    "    nrow()\n",
    "merged_df3 %>%\n",
    "    summarise(\n",
    "              n_death = sum(death),\n",
    "              prop_death = round(sum(death) / n() * 100, 2),\n",
    "              n_icu = sum(is_icu),\n",
    "              prop_icu = round(sum(is_icu) / n() * 100, 1),\n",
    "              n_admitted = sum(is_admitted),\n",
    "              prop_admitted = round(sum(is_admitted) / n() * 100, 1),\n",
    "              median_duration = round(median(duration, na.rm = T), 0),\n",
    "              low_duration = round(quantile(duration, c(0.25), na.rm = T), 0),\n",
    "              high_duration = round(quantile(duration, c(0.75), na.rm = T), 0),\n",
    "              total = n())"
   ]
  },
  {
   "cell_type": "code",
   "execution_count": 20,
   "id": "ec4d8881",
   "metadata": {},
   "outputs": [
    {
     "data": {
      "text/html": [
       "391"
      ],
      "text/latex": [
       "391"
      ],
      "text/markdown": [
       "391"
      ],
      "text/plain": [
       "[1] 391"
      ]
     },
     "metadata": {},
     "output_type": "display_data"
    },
    {
     "data": {
      "text/html": [
       "<table class=\"dataframe\">\n",
       "<caption>A data.frame: 1 × 10</caption>\n",
       "<thead>\n",
       "\t<tr><th scope=col>n_death</th><th scope=col>prop_death</th><th scope=col>n_icu</th><th scope=col>prop_icu</th><th scope=col>n_admitted</th><th scope=col>prop_admitted</th><th scope=col>median_duration</th><th scope=col>low_duration</th><th scope=col>high_duration</th><th scope=col>total</th></tr>\n",
       "\t<tr><th scope=col>&lt;int&gt;</th><th scope=col>&lt;dbl&gt;</th><th scope=col>&lt;int&gt;</th><th scope=col>&lt;dbl&gt;</th><th scope=col>&lt;int&gt;</th><th scope=col>&lt;dbl&gt;</th><th scope=col>&lt;drtn&gt;</th><th scope=col>&lt;drtn&gt;</th><th scope=col>&lt;drtn&gt;</th><th scope=col>&lt;int&gt;</th></tr>\n",
       "</thead>\n",
       "<tbody>\n",
       "\t<tr><td>13</td><td>3.32</td><td>102</td><td>26.1</td><td>391</td><td>100</td><td>146 hours</td><td>57 hours</td><td>333 hours</td><td>391</td></tr>\n",
       "</tbody>\n",
       "</table>\n"
      ],
      "text/latex": [
       "A data.frame: 1 × 10\n",
       "\\begin{tabular}{llllllllll}\n",
       " n\\_death & prop\\_death & n\\_icu & prop\\_icu & n\\_admitted & prop\\_admitted & median\\_duration & low\\_duration & high\\_duration & total\\\\\n",
       " <int> & <dbl> & <int> & <dbl> & <int> & <dbl> & <drtn> & <drtn> & <drtn> & <int>\\\\\n",
       "\\hline\n",
       "\t 13 & 3.32 & 102 & 26.1 & 391 & 100 & 146 hours & 57 hours & 333 hours & 391\\\\\n",
       "\\end{tabular}\n"
      ],
      "text/markdown": [
       "\n",
       "A data.frame: 1 × 10\n",
       "\n",
       "| n_death &lt;int&gt; | prop_death &lt;dbl&gt; | n_icu &lt;int&gt; | prop_icu &lt;dbl&gt; | n_admitted &lt;int&gt; | prop_admitted &lt;dbl&gt; | median_duration &lt;drtn&gt; | low_duration &lt;drtn&gt; | high_duration &lt;drtn&gt; | total &lt;int&gt; |\n",
       "|---|---|---|---|---|---|---|---|---|---|\n",
       "| 13 | 3.32 | 102 | 26.1 | 391 | 100 | 146 hours | 57 hours | 333 hours | 391 |\n",
       "\n"
      ],
      "text/plain": [
       "  n_death prop_death n_icu prop_icu n_admitted prop_admitted median_duration\n",
       "1 13      3.32       102   26.1     391        100           146 hours      \n",
       "  low_duration high_duration total\n",
       "1 57 hours     333 hours     391  "
      ]
     },
     "metadata": {},
     "output_type": "display_data"
    }
   ],
   "source": [
    "# Admission stats for AHUA patients\n",
    "merged_df2 %>% \n",
    "    filter(only_unknown) %>%\n",
    "    nrow()\n",
    "merged_df2 %>%\n",
    "    filter(only_unknown) %>%\n",
    "    summarise(\n",
    "              n_death = sum(death),\n",
    "              prop_death = round(sum(death) / n() * 100, 2),\n",
    "              n_icu = sum(is_icu),\n",
    "              prop_icu = round(sum(is_icu) / n() * 100, 1),\n",
    "              n_admitted = sum(is_admitted),\n",
    "              prop_admitted = round(sum(is_admitted) / n() * 100, 1),\n",
    "              median_duration = round(median(duration, na.rm = T), 0),\n",
    "              low_duration = round(quantile(duration, c(0.25), na.rm = T), 0),\n",
    "              high_duration = round(quantile(duration, c(0.75), na.rm = T), 0),\n",
    "              total = n())"
   ]
  },
  {
   "cell_type": "code",
   "execution_count": 21,
   "id": "c5ebc06d",
   "metadata": {},
   "outputs": [
    {
     "data": {
      "text/html": [
       "903042"
      ],
      "text/latex": [
       "903042"
      ],
      "text/markdown": [
       "903042"
      ],
      "text/plain": [
       "[1] 903042"
      ]
     },
     "metadata": {},
     "output_type": "display_data"
    },
    {
     "data": {
      "text/html": [
       "<table class=\"dataframe\">\n",
       "<caption>A data.frame: 1 × 7</caption>\n",
       "<thead>\n",
       "\t<tr><th scope=col>prop_death</th><th scope=col>prop_icu</th><th scope=col>prop_admitted</th><th scope=col>median_duration</th><th scope=col>low_duration</th><th scope=col>high_duration</th><th scope=col>total</th></tr>\n",
       "\t<tr><th scope=col>&lt;dbl&gt;</th><th scope=col>&lt;dbl&gt;</th><th scope=col>&lt;dbl&gt;</th><th scope=col>&lt;drtn&gt;</th><th scope=col>&lt;drtn&gt;</th><th scope=col>&lt;drtn&gt;</th><th scope=col>&lt;int&gt;</th></tr>\n",
       "</thead>\n",
       "<tbody>\n",
       "\t<tr><td>0.34</td><td>1.3</td><td>30.9</td><td>50 hours</td><td>21 hours</td><td>145 hours</td><td>903042</td></tr>\n",
       "</tbody>\n",
       "</table>\n"
      ],
      "text/latex": [
       "A data.frame: 1 × 7\n",
       "\\begin{tabular}{lllllll}\n",
       " prop\\_death & prop\\_icu & prop\\_admitted & median\\_duration & low\\_duration & high\\_duration & total\\\\\n",
       " <dbl> & <dbl> & <dbl> & <drtn> & <drtn> & <drtn> & <int>\\\\\n",
       "\\hline\n",
       "\t 0.34 & 1.3 & 30.9 & 50 hours & 21 hours & 145 hours & 903042\\\\\n",
       "\\end{tabular}\n"
      ],
      "text/markdown": [
       "\n",
       "A data.frame: 1 × 7\n",
       "\n",
       "| prop_death &lt;dbl&gt; | prop_icu &lt;dbl&gt; | prop_admitted &lt;dbl&gt; | median_duration &lt;drtn&gt; | low_duration &lt;drtn&gt; | high_duration &lt;drtn&gt; | total &lt;int&gt; |\n",
       "|---|---|---|---|---|---|---|\n",
       "| 0.34 | 1.3 | 30.9 | 50 hours | 21 hours | 145 hours | 903042 |\n",
       "\n"
      ],
      "text/plain": [
       "  prop_death prop_icu prop_admitted median_duration low_duration high_duration\n",
       "1 0.34       1.3      30.9          50 hours        21 hours     145 hours    \n",
       "  total \n",
       "1 903042"
      ]
     },
     "metadata": {},
     "output_type": "display_data"
    }
   ],
   "source": [
    "# Admission stats for non-AHUA patients\n",
    "merged_df2 %>% \n",
    "    filter(!only_unknown) %>%\n",
    "    nrow()\n",
    "merged_df2 %>%\n",
    "    filter(!only_unknown) %>%\n",
    "    summarise(\n",
    "#               n_death = sum(death),\n",
    "              prop_death = round(sum(death) / n() * 100, 2),\n",
    "#               n_icu = sum(is_icu),\n",
    "              prop_icu = round(sum(is_icu) / n() * 100, 1),\n",
    "#               n_admitted = sum(is_admitted),\n",
    "              prop_admitted = round(sum(is_admitted) / n() * 100, 1),\n",
    "              median_duration = round(median(duration, na.rm = T), 0),\n",
    "              low_duration = round(quantile(duration, c(0.25), na.rm = T), 0),\n",
    "              high_duration = round(quantile(duration, c(0.75), na.rm = T), 0),\n",
    "              total = n())"
   ]
  },
  {
   "cell_type": "code",
   "execution_count": 22,
   "id": "b911da45",
   "metadata": {},
   "outputs": [
    {
     "data": {
      "text/html": [
       "1140"
      ],
      "text/latex": [
       "1140"
      ],
      "text/markdown": [
       "1140"
      ],
      "text/plain": [
       "[1] 1140"
      ]
     },
     "metadata": {},
     "output_type": "display_data"
    },
    {
     "data": {
      "text/html": [
       "<table class=\"dataframe\">\n",
       "<caption>A tibble: 1 × 7</caption>\n",
       "<thead>\n",
       "\t<tr><th scope=col>prop_death</th><th scope=col>prop_icu</th><th scope=col>prop_admitted</th><th scope=col>median_duration</th><th scope=col>low_duration</th><th scope=col>high_duration</th><th scope=col>total</th></tr>\n",
       "\t<tr><th scope=col>&lt;dbl&gt;</th><th scope=col>&lt;dbl&gt;</th><th scope=col>&lt;dbl&gt;</th><th scope=col>&lt;drtn&gt;</th><th scope=col>&lt;drtn&gt;</th><th scope=col>&lt;drtn&gt;</th><th scope=col>&lt;int&gt;</th></tr>\n",
       "</thead>\n",
       "<tbody>\n",
       "\t<tr><td>0.35</td><td>7.5</td><td>100</td><td>79 hours</td><td>29 hours</td><td>199 hours</td><td>1140</td></tr>\n",
       "</tbody>\n",
       "</table>\n"
      ],
      "text/latex": [
       "A tibble: 1 × 7\n",
       "\\begin{tabular}{lllllll}\n",
       " prop\\_death & prop\\_icu & prop\\_admitted & median\\_duration & low\\_duration & high\\_duration & total\\\\\n",
       " <dbl> & <dbl> & <dbl> & <drtn> & <drtn> & <drtn> & <int>\\\\\n",
       "\\hline\n",
       "\t 0.35 & 7.5 & 100 & 79 hours & 29 hours & 199 hours & 1140\\\\\n",
       "\\end{tabular}\n"
      ],
      "text/markdown": [
       "\n",
       "A tibble: 1 × 7\n",
       "\n",
       "| prop_death &lt;dbl&gt; | prop_icu &lt;dbl&gt; | prop_admitted &lt;dbl&gt; | median_duration &lt;drtn&gt; | low_duration &lt;drtn&gt; | high_duration &lt;drtn&gt; | total &lt;int&gt; |\n",
       "|---|---|---|---|---|---|---|\n",
       "| 0.35 | 7.5 | 100 | 79 hours | 29 hours | 199 hours | 1140 |\n",
       "\n"
      ],
      "text/plain": [
       "  prop_death prop_icu prop_admitted median_duration low_duration high_duration\n",
       "1 0.35       7.5      100           79 hours        29 hours     199 hours    \n",
       "  total\n",
       "1 1140 "
      ]
     },
     "metadata": {},
     "output_type": "display_data"
    }
   ],
   "source": [
    "# Admission stats for viral hep A-E patients\n",
    "merged_df3 %>% \n",
    "    filter(!only_unknown) %>%\n",
    "    nrow()\n",
    "merged_df3 %>%\n",
    "    filter(!only_unknown) %>%\n",
    "    summarise(\n",
    "#               n_death = sum(death),\n",
    "              prop_death = round(sum(death) / n() * 100, 2),\n",
    "#               n_icu = sum(is_icu),\n",
    "              prop_icu = round(sum(is_icu) / n() * 100, 1),\n",
    "#               n_admitted = sum(is_admitted),\n",
    "              prop_admitted = round(sum(is_admitted) / n() * 100, 1),\n",
    "              median_duration = round(median(duration, na.rm = T), 0),\n",
    "              low_duration = round(quantile(duration, c(0.25), na.rm = T), 0),\n",
    "              high_duration = round(quantile(duration, c(0.75), na.rm = T), 0),\n",
    "              total = n())"
   ]
  },
  {
   "cell_type": "code",
   "execution_count": 23,
   "id": "7bb3e67d",
   "metadata": {},
   "outputs": [
    {
     "data": {
      "text/html": [
       "<table class=\"dataframe\">\n",
       "<caption>A tibble: 3 × 11</caption>\n",
       "<thead>\n",
       "\t<tr><th scope=col>age_group</th><th scope=col>n_death</th><th scope=col>prop_death</th><th scope=col>n_icu</th><th scope=col>prop_icu</th><th scope=col>n_admitted</th><th scope=col>prop_admitted</th><th scope=col>median_duration</th><th scope=col>low_duration</th><th scope=col>high_duration</th><th scope=col>total</th></tr>\n",
       "\t<tr><th scope=col>&lt;fct&gt;</th><th scope=col>&lt;int&gt;</th><th scope=col>&lt;dbl&gt;</th><th scope=col>&lt;int&gt;</th><th scope=col>&lt;dbl&gt;</th><th scope=col>&lt;int&gt;</th><th scope=col>&lt;dbl&gt;</th><th scope=col>&lt;drtn&gt;</th><th scope=col>&lt;drtn&gt;</th><th scope=col>&lt;drtn&gt;</th><th scope=col>&lt;int&gt;</th></tr>\n",
       "</thead>\n",
       "<tbody>\n",
       "\t<tr><td><span style=white-space:pre-wrap>&lt;7  </span></td><td>0</td><td>0</td><td> 9</td><td>0.07258065</td><td>74</td><td>0.5967742</td><td> 56.30347 hours</td><td>25.58139 hours</td><td> 95.42354 hours</td><td>124</td></tr>\n",
       "\t<tr><td>7-15</td><td>0</td><td>0</td><td> 0</td><td>0.00000000</td><td> 5</td><td>0.5555556</td><td>117.76667 hours</td><td>33.03417 hours</td><td>308.59972 hours</td><td>  9</td></tr>\n",
       "\t<tr><td>&gt;15 </td><td>0</td><td>0</td><td>12</td><td>0.26086957</td><td>30</td><td>0.6521739</td><td>125.05833 hours</td><td>48.81667 hours</td><td>450.31451 hours</td><td> 46</td></tr>\n",
       "</tbody>\n",
       "</table>\n"
      ],
      "text/latex": [
       "A tibble: 3 × 11\n",
       "\\begin{tabular}{lllllllllll}\n",
       " age\\_group & n\\_death & prop\\_death & n\\_icu & prop\\_icu & n\\_admitted & prop\\_admitted & median\\_duration & low\\_duration & high\\_duration & total\\\\\n",
       " <fct> & <int> & <dbl> & <int> & <dbl> & <int> & <dbl> & <drtn> & <drtn> & <drtn> & <int>\\\\\n",
       "\\hline\n",
       "\t <7   & 0 & 0 &  9 & 0.07258065 & 74 & 0.5967742 &  56.30347 hours & 25.58139 hours &  95.42354 hours & 124\\\\\n",
       "\t 7-15 & 0 & 0 &  0 & 0.00000000 &  5 & 0.5555556 & 117.76667 hours & 33.03417 hours & 308.59972 hours &   9\\\\\n",
       "\t >15  & 0 & 0 & 12 & 0.26086957 & 30 & 0.6521739 & 125.05833 hours & 48.81667 hours & 450.31451 hours &  46\\\\\n",
       "\\end{tabular}\n"
      ],
      "text/markdown": [
       "\n",
       "A tibble: 3 × 11\n",
       "\n",
       "| age_group &lt;fct&gt; | n_death &lt;int&gt; | prop_death &lt;dbl&gt; | n_icu &lt;int&gt; | prop_icu &lt;dbl&gt; | n_admitted &lt;int&gt; | prop_admitted &lt;dbl&gt; | median_duration &lt;drtn&gt; | low_duration &lt;drtn&gt; | high_duration &lt;drtn&gt; | total &lt;int&gt; |\n",
       "|---|---|---|---|---|---|---|---|---|---|---|\n",
       "| &lt;7   | 0 | 0 |  9 | 0.07258065 | 74 | 0.5967742 |  56.30347 hours | 25.58139 hours |  95.42354 hours | 124 |\n",
       "| 7-15 | 0 | 0 |  0 | 0.00000000 |  5 | 0.5555556 | 117.76667 hours | 33.03417 hours | 308.59972 hours |   9 |\n",
       "| &gt;15  | 0 | 0 | 12 | 0.26086957 | 30 | 0.6521739 | 125.05833 hours | 48.81667 hours | 450.31451 hours |  46 |\n",
       "\n"
      ],
      "text/plain": [
       "  age_group n_death prop_death n_icu prop_icu   n_admitted prop_admitted\n",
       "1 <7        0       0           9    0.07258065 74         0.5967742    \n",
       "2 7-15      0       0           0    0.00000000  5         0.5555556    \n",
       "3 >15       0       0          12    0.26086957 30         0.6521739    \n",
       "  median_duration low_duration   high_duration   total\n",
       "1  56.30347 hours 25.58139 hours  95.42354 hours 124  \n",
       "2 117.76667 hours 33.03417 hours 308.59972 hours   9  \n",
       "3 125.05833 hours 48.81667 hours 450.31451 hours  46  "
      ]
     },
     "metadata": {},
     "output_type": "display_data"
    }
   ],
   "source": [
    "# Adenovirus infections\n",
    "merged_df %>%\n",
    "    filter(adeno_pos) %>%\n",
    "    group_by(age_group) %>%\n",
    "    summarise(n_death = sum(death),\n",
    "              prop_death = sum(death) / n(),\n",
    "              n_icu = sum(is_icu),\n",
    "              prop_icu = sum(is_icu / n()),\n",
    "              n_admitted = sum(is_admitted),\n",
    "              prop_admitted = sum(is_admitted / n()),\n",
    "              median_duration = median(duration, na.rm = T),\n",
    "              low_duration = quantile(duration, c(0.25), na.rm = T),\n",
    "              high_duration = quantile(duration, c(0.75), na.rm = T),\n",
    "              total = n())"
   ]
  },
  {
   "cell_type": "markdown",
   "id": "ac5b6931",
   "metadata": {},
   "source": [
    "### AHUA versus population"
   ]
  },
  {
   "cell_type": "code",
   "execution_count": 24,
   "id": "1a208692",
   "metadata": {},
   "outputs": [
    {
     "data": {
      "text/plain": [
       "\n",
       "\tFisher's Exact Test for Count Data\n",
       "\n",
       "data:  cont\n",
       "p-value < 2.2e-16\n",
       "alternative hypothesis: true odds ratio is not equal to 1\n",
       "95 percent confidence interval:\n",
       " 26.33765 65.03387\n",
       "sample estimates:\n",
       "odds ratio \n",
       "  41.73853 \n"
      ]
     },
     "metadata": {},
     "output_type": "display_data"
    },
    {
     "data": {
      "text/plain": [
       "\n",
       "\tFisher's Exact Test for Count Data\n",
       "\n",
       "data:  cont\n",
       "p-value < 2.2e-16\n",
       "alternative hypothesis: true odds ratio is not equal to 1\n",
       "95 percent confidence interval:\n",
       " 17.83642 31.17072\n",
       "sample estimates:\n",
       "odds ratio \n",
       "  23.71221 \n"
      ]
     },
     "metadata": {},
     "output_type": "display_data"
    },
    {
     "data": {
      "text/plain": [
       "\n",
       "\tFisher's Exact Test for Count Data\n",
       "\n",
       "data:  cont\n",
       "p-value = 0.03502\n",
       "alternative hypothesis: true odds ratio is not equal to 1\n",
       "95 percent confidence interval:\n",
       "  0.8312358 26.1138750\n",
       "sample estimates:\n",
       "odds ratio \n",
       "   6.98903 \n"
      ]
     },
     "metadata": {},
     "output_type": "display_data"
    },
    {
     "data": {
      "text/plain": [
       "\n",
       "\tFisher's Exact Test for Count Data\n",
       "\n",
       "data:  cont\n",
       "p-value = 9.789e-09\n",
       "alternative hypothesis: true odds ratio is not equal to 1\n",
       "95 percent confidence interval:\n",
       "  5.553269 20.494328\n",
       "sample estimates:\n",
       "odds ratio \n",
       "  11.26462 \n"
      ]
     },
     "metadata": {},
     "output_type": "display_data"
    }
   ],
   "source": [
    "# ICU\n",
    "merged_df2_within <- merged_df2 %>% filter(is_outbreak)\n",
    "merged_df2_outside <- merged_df2 %>% filter(!is_outbreak)\n",
    "\n",
    "cont <- table(merged_df2_within$only_unknown, merged_df2_within$is_icu)\n",
    "fisher.test(cont)\n",
    "\n",
    "cont <- table(merged_df2_outside$only_unknown, merged_df2_outside$is_icu)\n",
    "fisher.test(cont)\n",
    "\n",
    "## Admission\n",
    "# cont <- table(merged_df2_within$only_unknown, merged_df2_within$is_admitted)\n",
    "# fisher.test(cont)\n",
    "\n",
    "# cont <- table(merged_df2_outside$only_unknown, merged_df2_outside$is_admitted)\n",
    "# fisher.test(cont)\n",
    "\n",
    "# Death\n",
    "cont <- table(merged_df2_within$only_unknown, merged_df2_within$death)\n",
    "fisher.test(cont)\n",
    "\n",
    "cont <- table(merged_df2_outside$only_unknown, merged_df2_outside$death)\n",
    "fisher.test(cont)"
   ]
  },
  {
   "cell_type": "code",
   "execution_count": 25,
   "id": "141a658a",
   "metadata": {},
   "outputs": [
    {
     "name": "stderr",
     "output_type": "stream",
     "text": [
      "\u001b[1m\u001b[22mDon't know how to automatically pick scale for object of type \u001b[34m<difftime>\u001b[39m. Defaulting to continuous.\n",
      "\u001b[1m\u001b[22mDon't know how to automatically pick scale for object of type \u001b[34m<difftime>\u001b[39m. Defaulting to continuous.\n"
     ]
    },
    {
     "data": {
      "image/png": "[encoded data removed]",
      "text/plain": [
       "plot without title"
      ]
     },
     "metadata": {
      "image/png": {
       "height": 420,
       "width": 420
      }
     },
     "output_type": "display_data"
    },
    {
     "data": {
      "image/png": "[encoded data removed]",
      "text/plain": [
       "plot without title"
      ]
     },
     "metadata": {
      "image/png": {
       "height": 420,
       "width": 420
      }
     },
     "output_type": "display_data"
    }
   ],
   "source": [
    "merged_filt2_within <- merged_df2 %>%\n",
    "    filter(!is.na(duration)) %>%\n",
    "    filter(is_outbreak)\n",
    "\n",
    "merged_filt2_outside <- merged_df2 %>%\n",
    "    filter(!is.na(duration)) %>%\n",
    "    filter(!is_outbreak)\n",
    "\n",
    "\n",
    "merged_filt2_within %>%\n",
    "    ggplot(aes(x = only_unknown, y = duration, fill = only_unknown)) +\n",
    "    geom_boxplot() +\n",
    "    stat_compare_means()\n",
    "\n",
    "merged_filt2_outside %>%\n",
    "    ggplot(aes(x = only_unknown, y = duration, fill = only_unknown)) +\n",
    "    geom_boxplot() +\n",
    "    stat_compare_means()"
   ]
  },
  {
   "cell_type": "markdown",
   "id": "c235de79",
   "metadata": {},
   "source": [
    "## AHUA versus viral hep A-E"
   ]
  },
  {
   "cell_type": "code",
   "execution_count": 26,
   "id": "5522fbcf",
   "metadata": {
    "scrolled": true
   },
   "outputs": [
    {
     "data": {
      "text/plain": [
       "\n",
       "\tFisher's Exact Test for Count Data\n",
       "\n",
       "data:  cont\n",
       "p-value = 2.076e-05\n",
       "alternative hypothesis: true odds ratio is not equal to 1\n",
       "95 percent confidence interval:\n",
       "  2.218353 12.242694\n",
       "sample estimates:\n",
       "odds ratio \n",
       "  5.009855 \n"
      ]
     },
     "metadata": {},
     "output_type": "display_data"
    },
    {
     "data": {
      "text/plain": [
       "\n",
       "\tFisher's Exact Test for Count Data\n",
       "\n",
       "data:  cont\n",
       "p-value = 4.069e-13\n",
       "alternative hypothesis: true odds ratio is not equal to 1\n",
       "95 percent confidence interval:\n",
       " 2.685407 5.649673\n",
       "sample estimates:\n",
       "odds ratio \n",
       "  3.896024 \n"
      ]
     },
     "metadata": {},
     "output_type": "display_data"
    },
    {
     "data": {
      "text/plain": [
       "\n",
       "\tFisher's Exact Test for Count Data\n",
       "\n",
       "data:  cont\n",
       "p-value = 1\n",
       "alternative hypothesis: true odds ratio is not equal to 1\n",
       "95 percent confidence interval:\n",
       "  0.08253852 16.26788691\n",
       "sample estimates:\n",
       "odds ratio \n",
       "  1.158741 \n"
      ]
     },
     "metadata": {},
     "output_type": "display_data"
    },
    {
     "data": {
      "text/plain": [
       "\n",
       "\tFisher's Exact Test for Count Data\n",
       "\n",
       "data:  cont\n",
       "p-value = 2.909e-06\n",
       "alternative hypothesis: true odds ratio is not equal to 1\n",
       "95 percent confidence interval:\n",
       "   4.292504 184.819621\n",
       "sample estimates:\n",
       "odds ratio \n",
       "  19.82578 \n"
      ]
     },
     "metadata": {},
     "output_type": "display_data"
    }
   ],
   "source": [
    "# ICU\n",
    "merged_df3_within <- merged_df3 %>% filter(is_outbreak)\n",
    "merged_df3_outside <- merged_df3 %>% filter(!is_outbreak)\n",
    "\n",
    "cont <- table(merged_df3_within$only_unknown, merged_df3_within$is_icu)\n",
    "fisher.test(cont)\n",
    "\n",
    "cont <- table(merged_df3_outside$only_unknown, merged_df3_outside$is_icu)\n",
    "fisher.test(cont)\n",
    "\n",
    "## Admission\n",
    "# cont <- table(merged_df2_within$only_unknown, merged_df2_within$is_admitted)\n",
    "# fisher.test(cont)\n",
    "\n",
    "# cont <- table(merged_df2_outside$only_unknown, merged_df2_outside$is_admitted)\n",
    "# fisher.test(cont)\n",
    "\n",
    "# Death\n",
    "cont <- table(merged_df3_within$only_unknown, merged_df3_within$death)\n",
    "fisher.test(cont)\n",
    "\n",
    "cont <- table(merged_df3_outside$only_unknown, merged_df3_outside$death)\n",
    "fisher.test(cont)"
   ]
  },
  {
   "cell_type": "markdown",
   "id": "004847fe",
   "metadata": {},
   "source": [
    "### Adenovirus infections"
   ]
  },
  {
   "cell_type": "code",
   "execution_count": 28,
   "id": "7b38a6d1",
   "metadata": {},
   "outputs": [
    {
     "name": "stderr",
     "output_type": "stream",
     "text": [
      "\u001b[1m\u001b[22m`summarise()` has grouped output by 'adeno_pos'. You can override using the `.groups` argument.\n"
     ]
    },
    {
     "data": {
      "text/html": [
       "<table class=\"dataframe\">\n",
       "<caption>A grouped_df: 4 × 6</caption>\n",
       "<thead>\n",
       "\t<tr><th scope=col>adeno_pos</th><th scope=col>is_outbreak</th><th scope=col>prop_icu</th><th scope=col>prop_death</th><th scope=col>prop_admit</th><th scope=col>median_duration</th></tr>\n",
       "\t<tr><th scope=col>&lt;lgl&gt;</th><th scope=col>&lt;lgl&gt;</th><th scope=col>&lt;dbl&gt;</th><th scope=col>&lt;dbl&gt;</th><th scope=col>&lt;dbl&gt;</th><th scope=col>&lt;drtn&gt;</th></tr>\n",
       "</thead>\n",
       "<tbody>\n",
       "\t<tr><td>FALSE</td><td>FALSE</td><td>0.20589305</td><td>0.006184067</td><td>0.7930156</td><td>101.38861 hours</td></tr>\n",
       "\t<tr><td>FALSE</td><td> TRUE</td><td>0.11296534</td><td>0.006418485</td><td>0.7984596</td><td>105.56944 hours</td></tr>\n",
       "\t<tr><td> TRUE</td><td>FALSE</td><td>0.16806723</td><td>0.000000000</td><td>0.6302521</td><td> 72.00000 hours</td></tr>\n",
       "\t<tr><td> TRUE</td><td> TRUE</td><td>0.01666667</td><td>0.000000000</td><td>0.5666667</td><td> 57.68278 hours</td></tr>\n",
       "</tbody>\n",
       "</table>\n"
      ],
      "text/latex": [
       "A grouped\\_df: 4 × 6\n",
       "\\begin{tabular}{llllll}\n",
       " adeno\\_pos & is\\_outbreak & prop\\_icu & prop\\_death & prop\\_admit & median\\_duration\\\\\n",
       " <lgl> & <lgl> & <dbl> & <dbl> & <dbl> & <drtn>\\\\\n",
       "\\hline\n",
       "\t FALSE & FALSE & 0.20589305 & 0.006184067 & 0.7930156 & 101.38861 hours\\\\\n",
       "\t FALSE &  TRUE & 0.11296534 & 0.006418485 & 0.7984596 & 105.56944 hours\\\\\n",
       "\t  TRUE & FALSE & 0.16806723 & 0.000000000 & 0.6302521 &  72.00000 hours\\\\\n",
       "\t  TRUE &  TRUE & 0.01666667 & 0.000000000 & 0.5666667 &  57.68278 hours\\\\\n",
       "\\end{tabular}\n"
      ],
      "text/markdown": [
       "\n",
       "A grouped_df: 4 × 6\n",
       "\n",
       "| adeno_pos &lt;lgl&gt; | is_outbreak &lt;lgl&gt; | prop_icu &lt;dbl&gt; | prop_death &lt;dbl&gt; | prop_admit &lt;dbl&gt; | median_duration &lt;drtn&gt; |\n",
       "|---|---|---|---|---|---|\n",
       "| FALSE | FALSE | 0.20589305 | 0.006184067 | 0.7930156 | 101.38861 hours |\n",
       "| FALSE |  TRUE | 0.11296534 | 0.006418485 | 0.7984596 | 105.56944 hours |\n",
       "|  TRUE | FALSE | 0.16806723 | 0.000000000 | 0.6302521 |  72.00000 hours |\n",
       "|  TRUE |  TRUE | 0.01666667 | 0.000000000 | 0.5666667 |  57.68278 hours |\n",
       "\n"
      ],
      "text/plain": [
       "  adeno_pos is_outbreak prop_icu   prop_death  prop_admit median_duration\n",
       "1 FALSE     FALSE       0.20589305 0.006184067 0.7930156  101.38861 hours\n",
       "2 FALSE      TRUE       0.11296534 0.006418485 0.7984596  105.56944 hours\n",
       "3  TRUE     FALSE       0.16806723 0.000000000 0.6302521   72.00000 hours\n",
       "4  TRUE      TRUE       0.01666667 0.000000000 0.5666667   57.68278 hours"
      ]
     },
     "metadata": {},
     "output_type": "display_data"
    },
    {
     "data": {
      "image/png": "[encoded data removed]",
      "text/plain": [
       "plot without title"
      ]
     },
     "metadata": {
      "image/png": {
       "height": 420,
       "width": 420
      }
     },
     "output_type": "display_data"
    }
   ],
   "source": [
    "merged_stats <- merged_df %>%\n",
    "    group_by(adeno_pos, is_outbreak) %>%\n",
    "    summarise(prop_icu = sum(is_icu, na.rm = T) / n_distinct(ClusterID, AttendanceStartDate),\n",
    "              prop_death = sum(death, na.rm = T) / n_distinct(ClusterID, AttendanceStartDate),\n",
    "              prop_admit = sum(is_admitted) / n_distinct(ClusterID, AttendanceStartDate),\n",
    "              median_duration = median(duration, na.rm = T))\n",
    "merged_stats\n",
    "\n",
    "merged_stats %>%\n",
    "    select(-median_duration) %>%\n",
    "    pivot_longer(!c(\"adeno_pos\", \"is_outbreak\"), names_to = \"stat\", values_to = \"value\") %>%\n",
    "    ggplot(aes(x = stat, y = value, fill = adeno_pos)) +\n",
    "    geom_bar(stat = \"identity\", position = \"dodge\") +\n",
    "    facet_grid(rows = vars(is_outbreak))"
   ]
  },
  {
   "cell_type": "code",
   "execution_count": 29,
   "id": "6d996108",
   "metadata": {
    "scrolled": true
   },
   "outputs": [
    {
     "name": "stdout",
     "output_type": "stream",
     "text": [
      "[1] \"ADMISSIONS\"\n"
     ]
    },
    {
     "data": {
      "text/plain": [
       "           adeno_pos\n",
       "is_admitted FALSE TRUE\n",
       "      FALSE   569   44\n",
       "      TRUE   2180   75"
      ]
     },
     "metadata": {},
     "output_type": "display_data"
    },
    {
     "data": {
      "text/plain": [
       "\n",
       "\tFisher's Exact Test for Count Data\n",
       "\n",
       "data:  table(test)\n",
       "p-value = 8.067e-05\n",
       "alternative hypothesis: true odds ratio is not equal to 1\n",
       "95 percent confidence interval:\n",
       " 0.2989955 0.6691295\n",
       "sample estimates:\n",
       "odds ratio \n",
       " 0.4450509 \n"
      ]
     },
     "metadata": {},
     "output_type": "display_data"
    },
    {
     "data": {
      "text/plain": [
       "           adeno_pos\n",
       "is_admitted FALSE TRUE\n",
       "      FALSE   157   26\n",
       "      TRUE    622   34"
      ]
     },
     "metadata": {},
     "output_type": "display_data"
    },
    {
     "data": {
      "text/plain": [
       "\n",
       "\tFisher's Exact Test for Count Data\n",
       "\n",
       "data:  table(test)\n",
       "p-value = 0.0001231\n",
       "alternative hypothesis: true odds ratio is not equal to 1\n",
       "95 percent confidence interval:\n",
       " 0.1863954 0.5919480\n",
       "sample estimates:\n",
       "odds ratio \n",
       " 0.3306348 \n"
      ]
     },
     "metadata": {},
     "output_type": "display_data"
    },
    {
     "name": "stdout",
     "output_type": "stream",
     "text": [
      "[1] \"ICU\"\n"
     ]
    },
    {
     "data": {
      "text/plain": [
       "       adeno_pos\n",
       "is_icu  FALSE TRUE\n",
       "  FALSE  2183   99\n",
       "  TRUE    566   20"
      ]
     },
     "metadata": {},
     "output_type": "display_data"
    },
    {
     "data": {
      "text/plain": [
       "\n",
       "\tFisher's Exact Test for Count Data\n",
       "\n",
       "data:  table(test)\n",
       "p-value = 0.3542\n",
       "alternative hypothesis: true odds ratio is not equal to 1\n",
       "95 percent confidence interval:\n",
       " 0.4522408 1.2825318\n",
       "sample estimates:\n",
       "odds ratio \n",
       " 0.7792373 \n"
      ]
     },
     "metadata": {},
     "output_type": "display_data"
    },
    {
     "data": {
      "text/plain": [
       "       adeno_pos\n",
       "is_icu  FALSE TRUE\n",
       "  FALSE   691   59\n",
       "  TRUE     88    1"
      ]
     },
     "metadata": {},
     "output_type": "display_data"
    },
    {
     "data": {
      "text/plain": [
       "\n",
       "\tFisher's Exact Test for Count Data\n",
       "\n",
       "data:  table(test)\n",
       "p-value = 0.01496\n",
       "alternative hypothesis: true odds ratio is not equal to 1\n",
       "95 percent confidence interval:\n",
       " 0.003281108 0.793416781\n",
       "sample estimates:\n",
       "odds ratio \n",
       " 0.1332514 \n"
      ]
     },
     "metadata": {},
     "output_type": "display_data"
    },
    {
     "name": "stdout",
     "output_type": "stream",
     "text": [
      "[1] \"Death\"\n"
     ]
    },
    {
     "data": {
      "text/plain": [
       "       adeno_pos\n",
       "death   FALSE TRUE\n",
       "  FALSE  2732  119\n",
       "  TRUE     17    0"
      ]
     },
     "metadata": {},
     "output_type": "display_data"
    },
    {
     "data": {
      "text/html": [
       "1"
      ],
      "text/latex": [
       "1"
      ],
      "text/markdown": [
       "1"
      ],
      "text/plain": [
       "[1] 1"
      ]
     },
     "metadata": {},
     "output_type": "display_data"
    },
    {
     "data": {
      "text/plain": [
       "       adeno_pos\n",
       "death   FALSE TRUE\n",
       "  FALSE   774   60\n",
       "  TRUE      5    0"
      ]
     },
     "metadata": {},
     "output_type": "display_data"
    },
    {
     "data": {
      "text/html": [
       "1"
      ],
      "text/latex": [
       "1"
      ],
      "text/markdown": [
       "1"
      ],
      "text/plain": [
       "[1] 1"
      ]
     },
     "metadata": {},
     "output_type": "display_data"
    }
   ],
   "source": [
    "# Fisher exact test for admissions\n",
    "print(\"ADMISSIONS\")\n",
    "test <- merged_df %>%\n",
    "    filter(!is.na(is_admitted)) %>%\n",
    "    filter(!is_outbreak) %>%\n",
    "    select(is_admitted, adeno_pos)\n",
    "table(test)\n",
    "fisher.test(table(test))\n",
    "\n",
    "test <- merged_df %>%\n",
    "    filter(!is.na(is_admitted)) %>%\n",
    "    filter(is_outbreak) %>%\n",
    "    select(is_admitted, adeno_pos)\n",
    "table(test)\n",
    "fisher.test(table(test))\n",
    "\n",
    "# ICU\n",
    "print(\"ICU\")\n",
    "test <- merged_df %>%\n",
    "    filter(!is.na(is_icu)) %>%\n",
    "    filter(!is_outbreak) %>%\n",
    "    select(is_icu, adeno_pos)\n",
    "table(test)\n",
    "fisher.test(table(test))\n",
    "\n",
    "test <- merged_df %>%\n",
    "    filter(!is.na(is_icu)) %>%\n",
    "    filter(is_outbreak) %>%\n",
    "    select(is_icu, adeno_pos)\n",
    "table(test)\n",
    "fisher.test(table(test))\n",
    "\n",
    "# Death\n",
    "print(\"Death\")\n",
    "test <- merged_df %>%\n",
    "    filter(!is.na(death)) %>%\n",
    "    filter(!is_outbreak) %>%\n",
    "    select(death, adeno_pos)\n",
    "table(test)\n",
    "fisher.test(table(test))$p.value\n",
    "            \n",
    "test <- merged_df %>%\n",
    "    filter(!is.na(death)) %>%\n",
    "    filter(is_outbreak) %>%\n",
    "    select(death, adeno_pos)\n",
    "table(test)\n",
    "fisher.test(table(test))$p.value"
   ]
  },
  {
   "cell_type": "code",
   "execution_count": 30,
   "id": "460a5f64",
   "metadata": {},
   "outputs": [
    {
     "name": "stderr",
     "output_type": "stream",
     "text": [
      "\u001b[1m\u001b[22mDon't know how to automatically pick scale for object of type \u001b[34m<difftime>\u001b[39m. Defaulting to continuous.\n"
     ]
    },
    {
     "data": {
      "image/png": "[encoded data removed]",
      "text/plain": [
       "plot without title"
      ]
     },
     "metadata": {
      "image/png": {
       "height": 420,
       "width": 420
      }
     },
     "output_type": "display_data"
    }
   ],
   "source": [
    "merged_df %>%\n",
    "    filter(!is.na(duration)) %>%\n",
    "    filter(is_outbreak) %>%\n",
    "    ggplot(aes(x = adeno_pos, y = duration, fill = adeno_pos)) +\n",
    "#     geom_density(alpha = 0.5) +\n",
    "    geom_boxplot() +\n",
    "    stat_compare_means()"
   ]
  },
  {
   "cell_type": "markdown",
   "id": "32ec332d",
   "metadata": {},
   "source": [
    "### Diagnostic codes"
   ]
  },
  {
   "cell_type": "code",
   "execution_count": null,
   "id": "c9536252",
   "metadata": {},
   "outputs": [],
   "source": [
    "diag_merged <- diag_filt %>%\n",
    "    left_join(test_filt) %>%\n",
    "    left_join(death_filt) %>%\n",
    "    left_join(spell_filt) %>%\n",
    "    left_join(admit_filt) %>%\n",
    "    mutate(aHep_or_unknDiag = is_acute_hep | only_unknown,\n",
    "           age_group = factor(age_group, c(\"<7\", \"7-15\", \">15\")),\n",
    "           is_outbreak = ifelse(AttendanceStartDate <= as.Date(\"2022-08-31\") & AttendanceStartDate >= as.Date(\"2021-10-01\"),\n",
    "                                T, F),\n",
    "           is_admitted = ifelse(is.na(AdmissionDate), F, T))\n",
    "\n",
    "diag_merged %>%\n",
    "    filter(only_unknown) %>%\n",
    "    group_by(age_group) %>%\n",
    "    summarise(n_outbreak = sum(is_outbreak),\n",
    "              n_total =  n(), \n",
    "              perc = sum(is_outbreak) / n())\n"
   ]
  },
  {
   "cell_type": "code",
   "execution_count": null,
   "id": "9bd4f448",
   "metadata": {},
   "outputs": [],
   "source": [
    "diag_stats <- diag_merged %>%\n",
    "    filter(!is.na(only_unknown)) %>%\n",
    "    group_by(is_outbreak, only_unknown) %>%\n",
    "    summarise(prop_icu = sum(is_icu, na.rm = T) / n_distinct(ClusterID, AttendanceStartDate),\n",
    "              prop_death = sum(death, na.rm = T) / n_distinct(ClusterID, AttendanceStartDate),\n",
    "              median_duration = median(duration, na.rm = T)) \n",
    "\n",
    "diag_stats %>%\n",
    "    select(-median_duration) %>%\n",
    "    pivot_longer(!c(\"only_unknown\", \"is_outbreak\"), names_to = \"stat\", values_to = \"value\") %>%\n",
    "    ggplot(aes(x = stat, y = value, fill = is_outbreak)) +\n",
    "    geom_bar(stat = \"identity\", position = \"dodge\") +\n",
    "    facet_grid(rows = vars(only_unknown)) +\n",
    "    scale_y_continuous(sec.axis = sec_axis(trans = ~., name=\"Liver-related disease unknown cause\"))\n"
   ]
  },
  {
   "cell_type": "code",
   "execution_count": null,
   "id": "ebd7c84f",
   "metadata": {},
   "outputs": [],
   "source": [
    "diag_merged\n"
   ]
  },
  {
   "cell_type": "code",
   "execution_count": null,
   "id": "e81c7138",
   "metadata": {},
   "outputs": [],
   "source": [
    "# ICU\n",
    "print(\"ICU\")\n",
    "test <- diag_merged %>%\n",
    "    filter(!is.na(is_icu)) %>%\n",
    "    filter(is_outbreak) %>%\n",
    "    select(is_icu, only_unknown)\n",
    "table(test)\n",
    "fisher.test(table(test))\n",
    "\n",
    "test <- diag_merged %>%\n",
    "    filter(!is.na(is_icu)) %>%\n",
    "    filter(!is_outbreak) %>%\n",
    "    select(is_icu, only_unknown)\n",
    "table(test)\n",
    "fisher.test(table(test))\n",
    "\n",
    "# Death\n",
    "print(\"Death\")\n",
    "test <- diag_merged %>%\n",
    "    filter(!is.na(death)) %>%\n",
    "    filter(is_outbreak) %>%\n",
    "    select(death, only_unknown)\n",
    "table(test)\n",
    "fisher.test(table(test))\n",
    "            \n",
    "test <- diag_merged %>%\n",
    "    filter(!is.na(death)) %>%\n",
    "    filter(!is_outbreak) %>%\n",
    "    select(death, only_unknown)\n",
    "table(test)\n",
    "fisher.test(table(test))"
   ]
  },
  {
   "cell_type": "code",
   "execution_count": null,
   "id": "570ba039",
   "metadata": {},
   "outputs": [],
   "source": [
    "# ICU\n",
    "print(\"ICU\")\n",
    "test <- merged_df %>%\n",
    "    filter(!is.na(only_unknown)) %>%\n",
    "    filter(!is_outbreak) %>%\n",
    "    select(is_icu, only_unknown)\n",
    "table(test)\n",
    "fisher.test(table(test))\n",
    "\n",
    "test <- merged_df %>%\n",
    "    filter(!is.na(only_unknown)) %>%\n",
    "    filter(is_outbreak) %>%\n",
    "    select(is_icu, only_unknown)\n",
    "table(test)\n",
    "fisher.test(table(test))\n",
    "\n",
    "\n",
    "# Death\n",
    "print(\"DEATH\")\n",
    "test <- merged_df %>%\n",
    "    filter(!is.na(death)) %>%\n",
    "    filter(!is_outbreak) %>%\n",
    "    select(death, only_unknown)\n",
    "table(test)\n",
    "fisher.test(table(test))\n",
    "\n",
    "test <- merged_df %>%\n",
    "    filter(!is.na(death)) %>%\n",
    "    filter(is_outbreak) %>%\n",
    "    select(death, only_unknown)\n",
    "table(test)\n",
    "fisher.test(table(test))"
   ]
  },
  {
   "cell_type": "code",
   "execution_count": null,
   "id": "5c6db0b7",
   "metadata": {},
   "outputs": [],
   "source": [
    "diag_merged %>%\n",
    "    filter(!is.na(duration)) %>%\n",
    "    filter(is_outbreak) %>%\n",
    "    ggplot(aes(x = only_unknown, y = duration, fill = only_unknown)) +\n",
    "#     geom_density(alpha = 0.5) +\n",
    "    geom_boxplot() +\n",
    "    stat_compare_means()\n",
    "\n",
    "diag_merged %>%\n",
    "    filter(!is.na(duration)) %>%\n",
    "    filter(!is_outbreak) %>%\n",
    "    ggplot(aes(x = only_unknown, y = duration, fill = only_unknown)) +\n",
    "#     geom_density(alpha = 0.5) +\n",
    "    geom_boxplot() +\n",
    "    stat_compare_means()"
   ]
  },
  {
   "cell_type": "code",
   "execution_count": null,
   "id": "0e074cac",
   "metadata": {},
   "outputs": [],
   "source": [
    "# Vital signs\n",
    "adeno_filt %>%\n",
    "    left_join(death_filt) %>%\n",
    "    filter(adeno_pos) %>%\n",
    "    left_join(vital_df) %>%\n",
    "    mutate(EventResult = as.numeric(EventResult),\n",
    "           age_group = factor(age_group, c(\"<7\", \"7-15\", \">15\"))) %>%\n",
    "    filter(!is.na(EventResult)) %>%\n",
    "    group_by(EventName, age_group) %>%\n",
    "    summarise(median_value = median(EventResult),\n",
    "              low_IQR = quantile(EventResult, prob = c(0.25)),\n",
    "              high_IQR = quantile(EventResult, prob = c(0.75)))\n",
    "    "
   ]
  },
  {
   "cell_type": "markdown",
   "id": "62e3f826",
   "metadata": {},
   "source": [
    "# SCRATCH"
   ]
  },
  {
   "cell_type": "code",
   "execution_count": null,
   "id": "c4526b58",
   "metadata": {},
   "outputs": [],
   "source": [
    "# death_filt %>% \n",
    "#     right_join(test_df) %>%\n",
    "#     left_join(micro_df %>% select(ClusterID, AttendanceStartDate, BatTestCode, ResultFull, BugName)) %>% \n",
    "#     filter(TestName %in% c(\"ALT\", \"AST\")) %>%\n",
    "#     mutate(Value = as.numeric(Value)) %>%\n",
    "#     filter(!is.na(Value)) %>%\n",
    "#     filter(Value > 500) %>%\n",
    "#     filter(AttendanceStartDate >= as.Date(\"2021-10-01\")) %>%\n",
    "#     filter(age_group != \">15\") %>%\n",
    "#     arrange(AttendanceStartDate) %>%\n",
    "#     filter(BugName == \"NULL\") %>%\n",
    "#     distinct(ResultFull)"
   ]
  },
  {
   "cell_type": "code",
   "execution_count": null,
   "id": "bde75498",
   "metadata": {},
   "outputs": [],
   "source": [
    "# death_filt %>% \n",
    "#     right_join(test_df) %>%\n",
    "#     left_join(micro_df %>% select(ClusterID, AttendanceStartDate, BatTestCode, ResultFull, BugName)) %>% \n",
    "#     filter(TestName %in% c(\"ALT\", \"AST\")) %>%\n",
    "#     mutate(Value = as.numeric(Value)) %>%\n",
    "#     filter(!is.na(Value)) %>%\n",
    "#     filter(Value > 500) %>%\n",
    "#     filter(AttendanceStartDate >= as.Date(\"2021-10-01\")) %>%\n",
    "#     filter(age_group != \">15\") %>%\n",
    "#     arrange(AttendanceStartDate) %>%\n",
    "#     filter(!grepl(\"Not detected|no significant|no growth|No microorganisms|none|NA|no serological|do not report|NO METHICILLIN RESISTANT|not seen\", ResultFull, ignore.case = T)) %>%\n",
    "#     distinct(ResultFull)"
   ]
  },
  {
   "cell_type": "code",
   "execution_count": null,
   "id": "d6b39cbe",
   "metadata": {},
   "outputs": [],
   "source": [
    "# death_filt %>% \n",
    "#     right_join(test_df) %>%\n",
    "#     left_join(micro_df %>% select(ClusterID, AttendanceStartDate, BatTestCode, ResultFull, BugName)) %>% \n",
    "#     filter(TestName %in% c(\"ALT\", \"AST\")) %>%\n",
    "#     mutate(Value = as.numeric(Value)) %>%\n",
    "#     filter(!is.na(Value)) %>%\n",
    "#     filter(Value > 500) %>%\n",
    "# #     filter(AttendanceStartDate >= as.Date(\"2021-10-01\")) %>%\n",
    "#     filter(age_group != \">15\") %>%\n",
    "#     mutate(has_bug = ifelse(grepl(\"NOT TESTED|test declined|unsuitable sample|Sample does not meet the criteria|Not detected|no significant|no growth|No microorganisms|none|NA|no serological|do not report|NO METHICILLIN RESISTANT|not seen\", \n",
    "#                                   ResultFull, \n",
    "#                                   ignore.case = T),\n",
    "#                             F, T))\n",
    "# #     distinct(ClusterID, AttendanceStartDate)\n",
    "#     group_by(AttendanceStartDate, ClusterID) %>%\n",
    "#     summarise(n_bugs = sum(has_bug)) %>%\n",
    "#     filter()"
   ]
  },
  {
   "cell_type": "code",
   "execution_count": null,
   "id": "fca824c2",
   "metadata": {
    "scrolled": true
   },
   "outputs": [],
   "source": [
    "covid_filt <- micro_df %>%\n",
    "  filter(BatTestCode %in% c('CV2G', 'CV2G2', 'CV2P', 'CV2Q', 'CV2V', 'RCV2Q', 'RCV2V')) %>%\n",
    "  mutate(is_covid = ifelse(grepl(\"not detected| |NONE|indeterminate\", ResultFull, ignore.case = T), F, T)) %>%\n",
    "    group_by(ClusterID, AttendanceStartDate) %>%\n",
    "    summarise(n_pos = sum(is_covid)) %>%\n",
    "    mutate(is_covid = n_pos > 0) %>%\n",
    "    select(-n_pos) %>%\n",
    "    mutate(AttendanceMonth = cut(AttendanceStartDate, breaks = \"month\"),\n",
    "           AttendanceTwoMonth = cut(AttendanceStartDate, breaks = \"2 months\")) %>%\n",
    "    mutate(AttendanceMonth = as.Date(AttendanceMonth))\n",
    "\n",
    "covid_filt"
   ]
  },
  {
   "cell_type": "markdown",
   "id": "df897a14",
   "metadata": {},
   "source": [
    "### AHUA cases after accounting for COVID"
   ]
  },
  {
   "cell_type": "code",
   "execution_count": null,
   "id": "72ce98d5",
   "metadata": {
    "scrolled": true
   },
   "outputs": [],
   "source": [
    "# test_filt %>% \n",
    "#     left_join(viral_hep_filt) %>%\n",
    "#     left_join(diag_filt) %>%\n",
    "#     filter(!is.na(only_unknown))"
   ]
  },
  {
   "cell_type": "code",
   "execution_count": null,
   "id": "fe65416a",
   "metadata": {},
   "outputs": [],
   "source": [
    "test_filt %>% \n",
    "    left_join(viral_hep_filt) %>%\n",
    "    left_join(diag_filt) %>%\n",
    "    filter(!is.na(only_unknown)) %>%\n",
    "    mutate(is_viral_hep = ifelse(is.na(is_viral_hep), F, is_viral_hep)) %>%\n",
    "#     filter(is_acute_hep) %>%\n",
    "    distinct(ClusterID, AttendanceStartDate, .keep_all = T) %>%\n",
    "    mutate(AttendanceMonth = cut(AttendanceStartDate, breaks = \"month\"),\n",
    "           AttendanceTwoMonth = cut(AttendanceStartDate, breaks = \"2 months\")) %>%\n",
    "    mutate(AttendanceMonth = as.Date(AttendanceMonth)) %>%\n",
    "    group_by(AttendanceMonth) %>%\n",
    "    summarise(n = sum(!is_viral_hep & is_acute_hep) / n()) %>%\n",
    "    ggplot(aes(x = AttendanceMonth, y = n)) +\n",
    "    geom_point() + geom_line()"
   ]
  },
  {
   "cell_type": "code",
   "execution_count": null,
   "id": "c74dddfd",
   "metadata": {},
   "outputs": [],
   "source": [
    "viral_hep <- test_filt %>% \n",
    "    left_join(viral_hep_filt) %>%\n",
    "    left_join(diag_filt) %>%\n",
    "    filter(is.na(only_unknown)) %>%\n",
    "    mutate(is_viral_hep = ifelse(is.na(is_viral_hep), F, is_viral_hep)) %>%\n",
    "    filter(is_acute_hep, is_viral_hep) %>%\n",
    "    distinct(ClusterID, AttendanceStartDate, .keep_all = T) %>%\n",
    "    mutate(AttendanceMonth = cut(AttendanceStartDate, breaks = \"month\"),\n",
    "           AttendanceTwoMonth = cut(AttendanceStartDate, breaks = \"2 months\")) %>%\n",
    "    mutate(AttendanceMonth = as.Date(AttendanceMonth)) %>%\n",
    "    group_by(AttendanceMonth) %>%\n",
    "    summarise(n_viral = n())\n",
    "\n",
    "unknown_hep <- test_filt %>% \n",
    "    left_join(viral_hep_filt) %>%\n",
    "    left_join(diag_filt) %>%\n",
    "    filter(is.na(only_unknown)) %>%\n",
    "    mutate(is_viral_hep = ifelse(is.na(is_viral_hep), F, is_viral_hep)) %>%\n",
    "    filter(is_acute_hep, !is_viral_hep) %>%\n",
    "    distinct(ClusterID, AttendanceStartDate, .keep_all = T) %>%\n",
    "    mutate(AttendanceMonth = cut(AttendanceStartDate, breaks = \"month\"),\n",
    "           AttendanceTwoMonth = cut(AttendanceStartDate, breaks = \"2 months\")) %>%\n",
    "    mutate(AttendanceMonth = as.Date(AttendanceMonth)) %>%\n",
    "    group_by(AttendanceMonth) %>%\n",
    "    summarise(n_unknown = n())\n",
    "\n",
    "unknown_hep %>%\n",
    "    left_join(viral_hep) %>%\n",
    "    mutate(n_viral = ifelse(n_viral =))\n",
    "    mutate(ratio = n_unknown / n_viral)"
   ]
  },
  {
   "cell_type": "code",
   "execution_count": null,
   "id": "5ab9cede",
   "metadata": {},
   "outputs": [],
   "source": [
    "covid_plt <- covid_filt %>%\n",
    "    group_by(AttendanceMonth) %>%\n",
    "    summarise(prop = sum(is_covid) / n()) %>%\n",
    "     ggplot(aes(x = AttendanceMonth, y = prop)) +\n",
    "        geom_point() +\n",
    "        geom_line() +\n",
    "            annotate(\"rect\",\n",
    "             xmin = as.Date(-Inf), xmax = as.Date(\"2020-03-01\"), \n",
    "             ymin = -Inf, ymax = Inf,\n",
    "             fill = \"grey83\",\n",
    "             alpha = 0.3) +\n",
    "            annotate(\"rect\",\n",
    "                     xmin = as.Date(\"2020-03-01\"), xmax = as.Date(Inf), \n",
    "                     ymin = -Inf, ymax = Inf,\n",
    "                     fill = \"lightgoldenrod1\",\n",
    "                     alpha = 0.3) +\n",
    "            annotate(\"rect\",\n",
    "                 xmin = as.Date(\"2021-10-01\"), xmax = as.Date(\"2022-08-01\"), \n",
    "                 ymin = -Inf, ymax = Inf,\n",
    "                 fill = NA,\n",
    "                 color = \"black\",\n",
    "                 lty = \"dashed\",\n",
    "                 alpha = 0.3) +\n",
    "        scale_x_date(date_labels=\"%b-%y\", date_breaks  = \"2 month\", limits = c(as.Date(\"2016-02-01\"), \n",
    "                                                                               as.Date(\"2023-01-01\"))) +\n",
    "            theme_bw() +\n",
    "        theme(axis.text.x = element_text(angle = 90, vjust = 0.5))\n",
    "\n",
    "hep_plt <- test_filt %>% \n",
    "    left_join(viral_hep_filt) %>%\n",
    "    left_join(diag_filt) %>%\n",
    "    left_join(covid_filt) %>%\n",
    "    filter(is.na(only_unknown)) %>%\n",
    "    mutate(is_viral_hep = ifelse(is.na(is_viral_hep), F, is_viral_hep),\n",
    "           is_covid = ifelse(is.na(is_covid), F, is_covid)) %>%\n",
    "    filter(is_acute_hep) %>%\n",
    "    distinct(ClusterID, AttendanceStartDate, .keep_all = T) %>%\n",
    "    mutate(AttendanceMonth = cut(AttendanceStartDate, breaks = \"month\"),\n",
    "           AttendanceTwoMonth = cut(AttendanceStartDate, breaks = \"2 months\")) %>%\n",
    "    mutate(AttendanceMonth = as.Date(AttendanceMonth)) %>%\n",
    "    group_by(AttendanceMonth, is_viral_hep) %>%\n",
    "    summarise(n = n()) %>%\n",
    "    ggplot(aes(x = AttendanceMonth, y = n)) +\n",
    "    geom_point() +\n",
    "    geom_line() +\n",
    "    facet_grid(rows = vars(is_viral_hep), scales = \"free\") +\n",
    "        annotate(\"rect\",\n",
    "         xmin = as.Date(-Inf), xmax = as.Date(\"2020-03-01\"), \n",
    "         ymin = -Inf, ymax = Inf,\n",
    "         fill = \"grey83\",\n",
    "         alpha = 0.3) +\n",
    "        annotate(\"rect\",\n",
    "                 xmin = as.Date(\"2020-03-01\"), xmax = as.Date(Inf), \n",
    "                 ymin = -Inf, ymax = Inf,\n",
    "                 fill = \"lightgoldenrod1\",\n",
    "                 alpha = 0.3) +\n",
    "        annotate(\"rect\",\n",
    "             xmin = as.Date(\"2021-10-01\"), xmax = as.Date(\"2022-08-01\"), \n",
    "             ymin = -Inf, ymax = Inf,\n",
    "             fill = NA,\n",
    "             color = \"black\",\n",
    "             lty = \"dashed\",\n",
    "             alpha = 0.3) +\n",
    "        scale_x_date(date_labels=\"%b-%y\", date_breaks  = \"2 month\", limits = c(as.Date(\"2016-02-01\"), \n",
    "                                                                               as.Date(\"2023-01-01\"))) +\n",
    "        theme_bw()\n",
    "\n",
    "ggarrange(covid_plt, hep_plt, nrow = 2)"
   ]
  },
  {
   "cell_type": "code",
   "execution_count": null,
   "id": "34c118bf",
   "metadata": {},
   "outputs": [],
   "source": [
    "adeno_filt %>%\n",
    "    left_join(death_filt) %>%\n",
    "    group_by(age_group) %>%\n",
    "    summarise(n = n())\n",
    "\n",
    "diag_filt %>%\n",
    "    left_join(death_filt) %>%\n",
    "    group_by(age_group) %>%\n",
    "    summarise(n = n())"
   ]
  }
 ],
 "metadata": {
  "kernelspec": {
   "display_name": "R",
   "language": "R",
   "name": "ir"
  },
  "language_info": {
   "codemirror_mode": "r",
   "file_extension": ".r",
   "mimetype": "text/x-r-source",
   "name": "R",
   "pygments_lexer": "r",
   "version": "3.6.1"
  }
 },
 "nbformat": 4,
 "nbformat_minor": 5
}
